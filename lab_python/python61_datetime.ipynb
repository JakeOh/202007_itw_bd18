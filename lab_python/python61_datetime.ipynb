{
  "nbformat": 4,
  "nbformat_minor": 0,
  "metadata": {
    "colab": {
      "name": "python61_datetime.ipynb",
      "provenance": [],
      "collapsed_sections": [],
      "authorship_tag": "ABX9TyNgoqZjiprc/Gy8C8cxrXeI",
      "include_colab_link": true
    },
    "kernelspec": {
      "name": "python3",
      "display_name": "Python 3"
    }
  },
  "cells": [
    {
      "cell_type": "markdown",
      "metadata": {
        "id": "view-in-github",
        "colab_type": "text"
      },
      "source": [
        "<a href=\"https://colab.research.google.com/github/JakeOh/202007_itw_bd18/blob/master/lab_python/python61_datetime.ipynb\" target=\"_parent\"><img src=\"https://colab.research.google.com/assets/colab-badge.svg\" alt=\"Open In Colab\"/></a>"
      ]
    },
    {
      "cell_type": "markdown",
      "metadata": {
        "id": "Z8dW0q4yb2k6"
      },
      "source": [
        "* Python datetime 모듈(datetime.py 파일)\n",
        "  * datetime 클래스: 날짜(date), 시간(time)과 관련된 정보들을 저장, 메서드를 포함."
      ]
    },
    {
      "cell_type": "code",
      "metadata": {
        "id": "MUun-jBVaPef",
        "outputId": "8269caac-bdbb-482b-e680-d51a47dde2c1",
        "colab": {
          "base_uri": "https://localhost:8080/",
          "height": 38
        }
      },
      "source": [
        "# import module_name\n",
        "# module_name.class_name[function_name, variable_name, ...]\n",
        "\n",
        "# from module_name import class_name[function_name, variable, ...]\n",
        "# class_name[function_name, ...]\n",
        "\n",
        "from math import sqrt\n",
        "sqrt(2)"
      ],
      "execution_count": 2,
      "outputs": [
        {
          "output_type": "execute_result",
          "data": {
            "text/plain": [
              "1.4142135623730951"
            ]
          },
          "metadata": {
            "tags": []
          },
          "execution_count": 2
        }
      ]
    },
    {
      "cell_type": "code",
      "metadata": {
        "id": "ZJBsSLJ7dSCg",
        "outputId": "49b0bbb4-d9e8-4e2d-8d01-b0dcbeb31978",
        "colab": {
          "base_uri": "https://localhost:8080/",
          "height": 38
        }
      },
      "source": [
        "import datetime  # datetime 모듈을 임포트(메모리 로드)\n",
        "\n",
        "datetime.datetime.now()  # datetime 모듈의 datetime 클래스의 now() 메서드를 호출"
      ],
      "execution_count": 3,
      "outputs": [
        {
          "output_type": "execute_result",
          "data": {
            "text/plain": [
              "datetime.datetime(2020, 10, 13, 0, 57, 13, 820884)"
            ]
          },
          "metadata": {
            "tags": []
          },
          "execution_count": 3
        }
      ]
    },
    {
      "cell_type": "code",
      "metadata": {
        "id": "eDbKuajYdvgg",
        "outputId": "6b917e33-a44e-4194-efd7-011c0e96e7b9",
        "colab": {
          "base_uri": "https://localhost:8080/",
          "height": 38
        }
      },
      "source": [
        "from datetime import datetime  # datetime 모듈의 datetime 클래스만 임포트(메모리 로드)\n",
        "\n",
        "datetime.now()  # datetime 클래스의 now() 메서드를 호출."
      ],
      "execution_count": 4,
      "outputs": [
        {
          "output_type": "execute_result",
          "data": {
            "text/plain": [
              "datetime.datetime(2020, 10, 13, 0, 59, 21, 855196)"
            ]
          },
          "metadata": {
            "tags": []
          },
          "execution_count": 4
        }
      ]
    },
    {
      "cell_type": "code",
      "metadata": {
        "id": "_3iZlVVwfCsI",
        "outputId": "b007bce6-dc39-4cf5-d658-6a64ee04a8ce",
        "colab": {
          "base_uri": "https://localhost:8080/",
          "height": 38
        }
      },
      "source": [
        "# datetime.now(): OS의 시간대(time zone)에서의 현재 시간을 리턴.\n",
        "now = datetime.now()\n",
        "print(now)  #> Google Colab 환경에서 설정된 시간대의 현재 날짜/시간 정보를 리턴 -> UTC+00:00\n",
        "# UTC: Coordinate Universal Timezone\n",
        "# KST: Korean Standard Timezone, 한국 표준시(UTC+09:00)"
      ],
      "execution_count": 7,
      "outputs": [
        {
          "output_type": "stream",
          "text": [
            "2020-10-13 01:11:16.859857\n"
          ],
          "name": "stdout"
        }
      ]
    },
    {
      "cell_type": "code",
      "metadata": {
        "id": "r2R34MwAhWXW",
        "outputId": "a31649d1-a855-4b04-84e4-46009be27129",
        "colab": {
          "base_uri": "https://localhost:8080/",
          "height": 38
        }
      },
      "source": [
        "# datetime 생성자 함수(constructor function): 특정 날짜/시간으로 datetime 객체를 생성\n",
        "date1 = datetime(year=2020, month=10, day=13)\n",
        "print(date1)"
      ],
      "execution_count": 8,
      "outputs": [
        {
          "output_type": "stream",
          "text": [
            "2020-10-13 00:00:00\n"
          ],
          "name": "stdout"
        }
      ]
    },
    {
      "cell_type": "code",
      "metadata": {
        "id": "URAFno3mh7O1",
        "outputId": "8240a96e-861a-4b3d-998b-ea418b228abd",
        "colab": {
          "base_uri": "https://localhost:8080/",
          "height": 38
        }
      },
      "source": [
        "date2 = datetime(year=2020, month=10, day=14, hour=10, minute=17)\n",
        "print(date2)"
      ],
      "execution_count": 12,
      "outputs": [
        {
          "output_type": "stream",
          "text": [
            "2020-10-14 10:17:00\n"
          ],
          "name": "stdout"
        }
      ]
    },
    {
      "cell_type": "code",
      "metadata": {
        "id": "m6Z6fasNiT7F",
        "outputId": "ac6886a0-f020-44f5-c9ea-f9736ccfe183",
        "colab": {
          "base_uri": "https://localhost:8080/",
          "height": 38
        }
      },
      "source": [
        "print(date2 - date1)"
      ],
      "execution_count": 13,
      "outputs": [
        {
          "output_type": "stream",
          "text": [
            "1 day, 10:17:00\n"
          ],
          "name": "stdout"
        }
      ]
    }
  ]
}