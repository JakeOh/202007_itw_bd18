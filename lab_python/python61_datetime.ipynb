{
  "nbformat": 4,
  "nbformat_minor": 0,
  "metadata": {
    "colab": {
      "name": "python61_datetime.ipynb",
      "provenance": [],
      "collapsed_sections": [],
      "authorship_tag": "ABX9TyO6/c+/Kh3v7skA73Kc8pud",
      "include_colab_link": true
    },
    "kernelspec": {
      "name": "python3",
      "display_name": "Python 3"
    }
  },
  "cells": [
    {
      "cell_type": "markdown",
      "metadata": {
        "id": "view-in-github",
        "colab_type": "text"
      },
      "source": [
        "<a href=\"https://colab.research.google.com/github/JakeOh/202007_itw_bd18/blob/master/lab_python/python61_datetime.ipynb\" target=\"_parent\"><img src=\"https://colab.research.google.com/assets/colab-badge.svg\" alt=\"Open In Colab\"/></a>"
      ]
    },
    {
      "cell_type": "markdown",
      "metadata": {
        "id": "Z8dW0q4yb2k6"
      },
      "source": [
        "* Python datetime 모듈(datetime.py 파일)\n",
        "  * datetime 클래스: 날짜(date), 시간(time)과 관련된 정보들을 저장, 메서드를 포함."
      ]
    },
    {
      "cell_type": "code",
      "metadata": {
        "id": "MUun-jBVaPef",
        "outputId": "8269caac-bdbb-482b-e680-d51a47dde2c1",
        "colab": {
          "base_uri": "https://localhost:8080/",
          "height": 38
        }
      },
      "source": [
        "# import module_name\n",
        "# module_name.class_name[function_name, variable_name, ...]\n",
        "\n",
        "# from module_name import class_name[function_name, variable, ...]\n",
        "# class_name[function_name, ...]\n",
        "\n",
        "from math import sqrt\n",
        "sqrt(2)"
      ],
      "execution_count": 2,
      "outputs": [
        {
          "output_type": "execute_result",
          "data": {
            "text/plain": [
              "1.4142135623730951"
            ]
          },
          "metadata": {
            "tags": []
          },
          "execution_count": 2
        }
      ]
    },
    {
      "cell_type": "code",
      "metadata": {
        "id": "ZJBsSLJ7dSCg",
        "outputId": "49b0bbb4-d9e8-4e2d-8d01-b0dcbeb31978",
        "colab": {
          "base_uri": "https://localhost:8080/",
          "height": 38
        }
      },
      "source": [
        "import datetime  # datetime 모듈을 임포트(메모리 로드)\n",
        "\n",
        "datetime.datetime.now()  # datetime 모듈의 datetime 클래스의 now() 메서드를 호출"
      ],
      "execution_count": 3,
      "outputs": [
        {
          "output_type": "execute_result",
          "data": {
            "text/plain": [
              "datetime.datetime(2020, 10, 13, 0, 57, 13, 820884)"
            ]
          },
          "metadata": {
            "tags": []
          },
          "execution_count": 3
        }
      ]
    },
    {
      "cell_type": "code",
      "metadata": {
        "id": "eDbKuajYdvgg",
        "outputId": "6b917e33-a44e-4194-efd7-011c0e96e7b9",
        "colab": {
          "base_uri": "https://localhost:8080/",
          "height": 38
        }
      },
      "source": [
        "from datetime import datetime  # datetime 모듈의 datetime 클래스만 임포트(메모리 로드)\n",
        "\n",
        "datetime.now()  # datetime 클래스의 now() 메서드를 호출."
      ],
      "execution_count": 4,
      "outputs": [
        {
          "output_type": "execute_result",
          "data": {
            "text/plain": [
              "datetime.datetime(2020, 10, 13, 0, 59, 21, 855196)"
            ]
          },
          "metadata": {
            "tags": []
          },
          "execution_count": 4
        }
      ]
    },
    {
      "cell_type": "code",
      "metadata": {
        "id": "_3iZlVVwfCsI",
        "outputId": "b007bce6-dc39-4cf5-d658-6a64ee04a8ce",
        "colab": {
          "base_uri": "https://localhost:8080/",
          "height": 38
        }
      },
      "source": [
        "# datetime.now(): OS의 시간대(time zone)에서의 현재 시간을 리턴.\n",
        "now = datetime.now()\n",
        "print(now)  #> Google Colab 환경에서 설정된 시간대의 현재 날짜/시간 정보를 리턴 -> UTC+00:00\n",
        "# UTC: Coordinate Universal Timezone\n",
        "# KST: Korean Standard Timezone, 한국 표준시(UTC+09:00)"
      ],
      "execution_count": 7,
      "outputs": [
        {
          "output_type": "stream",
          "text": [
            "2020-10-13 01:11:16.859857\n"
          ],
          "name": "stdout"
        }
      ]
    },
    {
      "cell_type": "code",
      "metadata": {
        "id": "r2R34MwAhWXW",
        "outputId": "a31649d1-a855-4b04-84e4-46009be27129",
        "colab": {
          "base_uri": "https://localhost:8080/",
          "height": 38
        }
      },
      "source": [
        "# datetime 생성자 함수(constructor function): 특정 날짜/시간으로 datetime 객체를 생성\n",
        "date1 = datetime(year=2020, month=10, day=13)\n",
        "print(date1)"
      ],
      "execution_count": 8,
      "outputs": [
        {
          "output_type": "stream",
          "text": [
            "2020-10-13 00:00:00\n"
          ],
          "name": "stdout"
        }
      ]
    },
    {
      "cell_type": "code",
      "metadata": {
        "id": "URAFno3mh7O1",
        "outputId": "8240a96e-861a-4b3d-998b-ea418b228abd",
        "colab": {
          "base_uri": "https://localhost:8080/",
          "height": 38
        }
      },
      "source": [
        "date2 = datetime(year=2020, month=10, day=14, hour=10, minute=17)\n",
        "print(date2)"
      ],
      "execution_count": 12,
      "outputs": [
        {
          "output_type": "stream",
          "text": [
            "2020-10-14 10:17:00\n"
          ],
          "name": "stdout"
        }
      ]
    },
    {
      "cell_type": "code",
      "metadata": {
        "id": "m6Z6fasNiT7F",
        "outputId": "ac6886a0-f020-44f5-c9ea-f9736ccfe183",
        "colab": {
          "base_uri": "https://localhost:8080/",
          "height": 38
        }
      },
      "source": [
        "print(date2 - date1)"
      ],
      "execution_count": 13,
      "outputs": [
        {
          "output_type": "stream",
          "text": [
            "1 day, 10:17:00\n"
          ],
          "name": "stdout"
        }
      ]
    },
    {
      "cell_type": "markdown",
      "metadata": {
        "id": "g2HuR9eMmomO"
      },
      "source": [
        "* datetime(날짜/시간) 객체 <--> str(문자열) 변환\n",
        "  * `datetime.strptime(문자열, 포맷문자열)`: 문자열을 datetime 객체로 변환(parsing).\n",
        "  * `datetime.strftime(포맷문자열)`: datetime 객체를 문자열로 변환(formatting)\n"
      ]
    },
    {
      "cell_type": "code",
      "metadata": {
        "id": "L6ucEkO9oFTQ",
        "outputId": "71552984-46ab-4288-ccfb-49e7917743d0",
        "colab": {
          "base_uri": "https://localhost:8080/",
          "height": 121
        }
      },
      "source": [
        "now = datetime.now()\n",
        "print(now)\n",
        "print(now.strftime('%Y/%m/%d'))\n",
        "print(now.strftime('%y/%m/%d'))\n",
        "print(now.strftime('%b. %d, %y'))\n",
        "print(now.strftime('%B %d, %y'))\n",
        "# %Y: 4자리 연도(year), %y: 2자리 연도\n",
        "# %m: 2자리 월(month), %b: 월 이름 약자, %B: 월 이름\n",
        "# %d: 2자리 일(day)"
      ],
      "execution_count": 19,
      "outputs": [
        {
          "output_type": "stream",
          "text": [
            "2020-10-13 01:50:17.023345\n",
            "2020/10/13\n",
            "20/10/13\n",
            "Oct. 13, 20\n",
            "October 13, 20\n"
          ],
          "name": "stdout"
        }
      ]
    },
    {
      "cell_type": "code",
      "metadata": {
        "id": "rzZGdTK6rLwz",
        "outputId": "864e7a10-ffa2-47e9-f31b-f0466786ac7d",
        "colab": {
          "base_uri": "https://localhost:8080/",
          "height": 79
        }
      },
      "source": [
        "date3 = datetime(2020, 10, 13, 14, 30, 0)\n",
        "print(date3)\n",
        "print(date3.strftime('%H:%M:%S'))\n",
        "print(date3.strftime('%I:%M:%S %p'))\n",
        "# %H: 24시간 형식 시간(hour), 00 ~ 23\n",
        "# %I: 12시간 형식 시간(hour), 1 ~ 12\n",
        "# %M: 2자리 분(minute), 00 ~ 59\n",
        "# %S: 2자리 초(second), 00 ~ 59"
      ],
      "execution_count": 26,
      "outputs": [
        {
          "output_type": "stream",
          "text": [
            "2020-10-13 14:30:00\n",
            "14:30:00\n",
            "02:30:00 PM\n"
          ],
          "name": "stdout"
        }
      ]
    },
    {
      "cell_type": "code",
      "metadata": {
        "id": "IRoNhi8kte4L",
        "outputId": "ab61aa0a-9785-46d8-9d34-3d719bd59fce",
        "colab": {
          "base_uri": "https://localhost:8080/",
          "height": 79
        }
      },
      "source": [
        "print(datetime.strptime('2020-10-13', '%Y-%m-%d'))\n",
        "print(datetime.strptime('20-10-13', '%y-%m-%d'))\n",
        "print(datetime.strptime('20-10-13', '%d-%m-%y'))"
      ],
      "execution_count": 29,
      "outputs": [
        {
          "output_type": "stream",
          "text": [
            "2020-10-13 00:00:00\n",
            "2020-10-13 00:00:00\n",
            "2013-10-20 00:00:00\n"
          ],
          "name": "stdout"
        }
      ]
    },
    {
      "cell_type": "markdown",
      "metadata": {
        "id": "0YVRn8iBviQt"
      },
      "source": [
        "* timestamp(UNIX time, POSIX time, epoch time, ...):\n",
        "  1970년 1월 1일 0시 0분 0초를 시작으로 해서 1초마다 1씩 증가하는 숫자.\n",
        "* `datetime.timestamp()`: datetime 객체 -> timestamp(숫자)\n",
        "* `datetime.fromtimestamp(숫자)`: timestamp(숫자) -> datetime 객체."
      ]
    },
    {
      "cell_type": "code",
      "metadata": {
        "id": "cJiXplJ-wau4",
        "outputId": "2e98c9a5-3a1e-4e7c-83ec-b5bb71b5caa6",
        "colab": {
          "base_uri": "https://localhost:8080/",
          "height": 79
        }
      },
      "source": [
        "now = datetime.now()\n",
        "print(now)\n",
        "print(now.timestamp())\n",
        "print(datetime.fromtimestamp(1602556762))"
      ],
      "execution_count": 36,
      "outputs": [
        {
          "output_type": "stream",
          "text": [
            "2020-10-13 02:40:31.926031\n",
            "1602556831.926031\n",
            "2020-10-13 02:39:22\n"
          ],
          "name": "stdout"
        }
      ]
    },
    {
      "cell_type": "markdown",
      "metadata": {
        "id": "eT_4q4a62Bti"
      },
      "source": [
        "* https://github.com/wesm/pydata-book/tree/2nd-edition/datasets/movielens/\n",
        "의 데이터 파일 중 ratings.dat 파일을 읽어서 데이터 프레임을 생성.\n",
        "* 데이터 프레임에 dt 컬럼을 추가 - timestamp 컬럼의 숫자들을 datetime 객체로 변환한 값을 저장."
      ]
    },
    {
      "cell_type": "code",
      "metadata": {
        "id": "Gb6--a3e3D48",
        "outputId": "dc76d3fd-16ff-417e-8ec3-1555f5834450",
        "colab": {
          "base_uri": "https://localhost:8080/",
          "height": 78
        }
      },
      "source": [
        "import pandas as pd\n",
        "\n",
        "data_file = 'https://github.com/wesm/pydata-book/blob/2nd-edition/datasets/movielens/ratings.dat?raw=true'\n",
        "ratings = pd.read_csv(data_file,\n",
        "                      sep='::',\n",
        "                      header=None,\n",
        "                      names=['user_id', 'movie_id', 'rating', 'timestamp'])"
      ],
      "execution_count": 39,
      "outputs": [
        {
          "output_type": "stream",
          "text": [
            "/usr/local/lib/python3.6/dist-packages/ipykernel_launcher.py:7: ParserWarning: Falling back to the 'python' engine because the 'c' engine does not support regex separators (separators > 1 char and different from '\\s+' are interpreted as regex); you can avoid this warning by specifying engine='python'.\n",
            "  import sys\n"
          ],
          "name": "stderr"
        }
      ]
    },
    {
      "cell_type": "code",
      "metadata": {
        "id": "1uu8dF-l30Ly",
        "outputId": "6d919b22-d401-4125-8450-c814df7112d8",
        "colab": {
          "base_uri": "https://localhost:8080/",
          "height": 210
        }
      },
      "source": [
        "ratings.head()"
      ],
      "execution_count": 40,
      "outputs": [
        {
          "output_type": "execute_result",
          "data": {
            "text/html": [
              "<div>\n",
              "<style scoped>\n",
              "    .dataframe tbody tr th:only-of-type {\n",
              "        vertical-align: middle;\n",
              "    }\n",
              "\n",
              "    .dataframe tbody tr th {\n",
              "        vertical-align: top;\n",
              "    }\n",
              "\n",
              "    .dataframe thead th {\n",
              "        text-align: right;\n",
              "    }\n",
              "</style>\n",
              "<table border=\"1\" class=\"dataframe\">\n",
              "  <thead>\n",
              "    <tr style=\"text-align: right;\">\n",
              "      <th></th>\n",
              "      <th>user_id</th>\n",
              "      <th>movie_id</th>\n",
              "      <th>rating</th>\n",
              "      <th>timestamp</th>\n",
              "    </tr>\n",
              "  </thead>\n",
              "  <tbody>\n",
              "    <tr>\n",
              "      <th>0</th>\n",
              "      <td>1</td>\n",
              "      <td>1193</td>\n",
              "      <td>5</td>\n",
              "      <td>978300760</td>\n",
              "    </tr>\n",
              "    <tr>\n",
              "      <th>1</th>\n",
              "      <td>1</td>\n",
              "      <td>661</td>\n",
              "      <td>3</td>\n",
              "      <td>978302109</td>\n",
              "    </tr>\n",
              "    <tr>\n",
              "      <th>2</th>\n",
              "      <td>1</td>\n",
              "      <td>914</td>\n",
              "      <td>3</td>\n",
              "      <td>978301968</td>\n",
              "    </tr>\n",
              "    <tr>\n",
              "      <th>3</th>\n",
              "      <td>1</td>\n",
              "      <td>3408</td>\n",
              "      <td>4</td>\n",
              "      <td>978300275</td>\n",
              "    </tr>\n",
              "    <tr>\n",
              "      <th>4</th>\n",
              "      <td>1</td>\n",
              "      <td>2355</td>\n",
              "      <td>5</td>\n",
              "      <td>978824291</td>\n",
              "    </tr>\n",
              "  </tbody>\n",
              "</table>\n",
              "</div>"
            ],
            "text/plain": [
              "   user_id  movie_id  rating  timestamp\n",
              "0        1      1193       5  978300760\n",
              "1        1       661       3  978302109\n",
              "2        1       914       3  978301968\n",
              "3        1      3408       4  978300275\n",
              "4        1      2355       5  978824291"
            ]
          },
          "metadata": {
            "tags": []
          },
          "execution_count": 40
        }
      ]
    },
    {
      "cell_type": "code",
      "metadata": {
        "id": "hKzZEIbe31fF",
        "outputId": "bbd3d55d-3e27-48b6-d26a-66338db9d14e",
        "colab": {
          "base_uri": "https://localhost:8080/",
          "height": 38
        }
      },
      "source": [
        "print(datetime.fromtimestamp(978300760))"
      ],
      "execution_count": 41,
      "outputs": [
        {
          "output_type": "stream",
          "text": [
            "2000-12-31 22:12:40\n"
          ],
          "name": "stdout"
        }
      ]
    },
    {
      "cell_type": "code",
      "metadata": {
        "id": "pZEQTL1s5Sgp",
        "outputId": "20c37c7d-1783-43cd-fdbb-1a3fc1fab004",
        "colab": {
          "base_uri": "https://localhost:8080/",
          "height": 210
        }
      },
      "source": [
        "ratings.tail()"
      ],
      "execution_count": 42,
      "outputs": [
        {
          "output_type": "execute_result",
          "data": {
            "text/html": [
              "<div>\n",
              "<style scoped>\n",
              "    .dataframe tbody tr th:only-of-type {\n",
              "        vertical-align: middle;\n",
              "    }\n",
              "\n",
              "    .dataframe tbody tr th {\n",
              "        vertical-align: top;\n",
              "    }\n",
              "\n",
              "    .dataframe thead th {\n",
              "        text-align: right;\n",
              "    }\n",
              "</style>\n",
              "<table border=\"1\" class=\"dataframe\">\n",
              "  <thead>\n",
              "    <tr style=\"text-align: right;\">\n",
              "      <th></th>\n",
              "      <th>user_id</th>\n",
              "      <th>movie_id</th>\n",
              "      <th>rating</th>\n",
              "      <th>timestamp</th>\n",
              "    </tr>\n",
              "  </thead>\n",
              "  <tbody>\n",
              "    <tr>\n",
              "      <th>1000204</th>\n",
              "      <td>6040</td>\n",
              "      <td>1091</td>\n",
              "      <td>1</td>\n",
              "      <td>956716541</td>\n",
              "    </tr>\n",
              "    <tr>\n",
              "      <th>1000205</th>\n",
              "      <td>6040</td>\n",
              "      <td>1094</td>\n",
              "      <td>5</td>\n",
              "      <td>956704887</td>\n",
              "    </tr>\n",
              "    <tr>\n",
              "      <th>1000206</th>\n",
              "      <td>6040</td>\n",
              "      <td>562</td>\n",
              "      <td>5</td>\n",
              "      <td>956704746</td>\n",
              "    </tr>\n",
              "    <tr>\n",
              "      <th>1000207</th>\n",
              "      <td>6040</td>\n",
              "      <td>1096</td>\n",
              "      <td>4</td>\n",
              "      <td>956715648</td>\n",
              "    </tr>\n",
              "    <tr>\n",
              "      <th>1000208</th>\n",
              "      <td>6040</td>\n",
              "      <td>1097</td>\n",
              "      <td>4</td>\n",
              "      <td>956715569</td>\n",
              "    </tr>\n",
              "  </tbody>\n",
              "</table>\n",
              "</div>"
            ],
            "text/plain": [
              "         user_id  movie_id  rating  timestamp\n",
              "1000204     6040      1091       1  956716541\n",
              "1000205     6040      1094       5  956704887\n",
              "1000206     6040       562       5  956704746\n",
              "1000207     6040      1096       4  956715648\n",
              "1000208     6040      1097       4  956715569"
            ]
          },
          "metadata": {
            "tags": []
          },
          "execution_count": 42
        }
      ]
    },
    {
      "cell_type": "code",
      "metadata": {
        "id": "ONCk3bVp5YlE",
        "outputId": "7adb938d-78a4-41b2-9072-d44d61b333ad",
        "colab": {
          "base_uri": "https://localhost:8080/",
          "height": 38
        }
      },
      "source": [
        "print(datetime.fromtimestamp(956715569))"
      ],
      "execution_count": 43,
      "outputs": [
        {
          "output_type": "stream",
          "text": [
            "2000-04-26 02:19:29\n"
          ],
          "name": "stdout"
        }
      ]
    },
    {
      "cell_type": "code",
      "metadata": {
        "id": "uDmqFaqx59F9"
      },
      "source": [
        "dates = []  # timestamp를 datetime 객체로 변환한 값들을 저장할 리스트\n",
        "for ts in ratings['timestamp']:  # timestamp 컬럼의 값들을 반복하면서\n",
        "    dt = datetime.fromtimestamp(ts)  # timestamp(숫자)를 datetime 객체로 변환.\n",
        "    dates.append(dt)  # 변환된 datetime 객체를 리스트에 추가.\n",
        "\n",
        "# dates 리스트를 pd.Series로 변환 후, 데이터 프레임의 새로운 컬럼으로 추가.\n",
        "ratings['dt'] = pd.Series(dates)"
      ],
      "execution_count": 47,
      "outputs": []
    },
    {
      "cell_type": "code",
      "metadata": {
        "id": "6dhe1uRw64Mr",
        "outputId": "a203355b-bd1d-4ba4-bee5-284920bee4ce",
        "colab": {
          "base_uri": "https://localhost:8080/",
          "height": 210
        }
      },
      "source": [
        "ratings.head()"
      ],
      "execution_count": 48,
      "outputs": [
        {
          "output_type": "execute_result",
          "data": {
            "text/html": [
              "<div>\n",
              "<style scoped>\n",
              "    .dataframe tbody tr th:only-of-type {\n",
              "        vertical-align: middle;\n",
              "    }\n",
              "\n",
              "    .dataframe tbody tr th {\n",
              "        vertical-align: top;\n",
              "    }\n",
              "\n",
              "    .dataframe thead th {\n",
              "        text-align: right;\n",
              "    }\n",
              "</style>\n",
              "<table border=\"1\" class=\"dataframe\">\n",
              "  <thead>\n",
              "    <tr style=\"text-align: right;\">\n",
              "      <th></th>\n",
              "      <th>user_id</th>\n",
              "      <th>movie_id</th>\n",
              "      <th>rating</th>\n",
              "      <th>timestamp</th>\n",
              "      <th>dt</th>\n",
              "    </tr>\n",
              "  </thead>\n",
              "  <tbody>\n",
              "    <tr>\n",
              "      <th>0</th>\n",
              "      <td>1</td>\n",
              "      <td>1193</td>\n",
              "      <td>5</td>\n",
              "      <td>978300760</td>\n",
              "      <td>2000-12-31 22:12:40</td>\n",
              "    </tr>\n",
              "    <tr>\n",
              "      <th>1</th>\n",
              "      <td>1</td>\n",
              "      <td>661</td>\n",
              "      <td>3</td>\n",
              "      <td>978302109</td>\n",
              "      <td>2000-12-31 22:35:09</td>\n",
              "    </tr>\n",
              "    <tr>\n",
              "      <th>2</th>\n",
              "      <td>1</td>\n",
              "      <td>914</td>\n",
              "      <td>3</td>\n",
              "      <td>978301968</td>\n",
              "      <td>2000-12-31 22:32:48</td>\n",
              "    </tr>\n",
              "    <tr>\n",
              "      <th>3</th>\n",
              "      <td>1</td>\n",
              "      <td>3408</td>\n",
              "      <td>4</td>\n",
              "      <td>978300275</td>\n",
              "      <td>2000-12-31 22:04:35</td>\n",
              "    </tr>\n",
              "    <tr>\n",
              "      <th>4</th>\n",
              "      <td>1</td>\n",
              "      <td>2355</td>\n",
              "      <td>5</td>\n",
              "      <td>978824291</td>\n",
              "      <td>2001-01-06 23:38:11</td>\n",
              "    </tr>\n",
              "  </tbody>\n",
              "</table>\n",
              "</div>"
            ],
            "text/plain": [
              "   user_id  movie_id  rating  timestamp                  dt\n",
              "0        1      1193       5  978300760 2000-12-31 22:12:40\n",
              "1        1       661       3  978302109 2000-12-31 22:35:09\n",
              "2        1       914       3  978301968 2000-12-31 22:32:48\n",
              "3        1      3408       4  978300275 2000-12-31 22:04:35\n",
              "4        1      2355       5  978824291 2001-01-06 23:38:11"
            ]
          },
          "metadata": {
            "tags": []
          },
          "execution_count": 48
        }
      ]
    },
    {
      "cell_type": "code",
      "metadata": {
        "id": "TX0nkQpo699W",
        "outputId": "b9676cae-becf-41d2-b39b-92bd4e9a594b",
        "colab": {
          "base_uri": "https://localhost:8080/",
          "height": 210
        }
      },
      "source": [
        "ratings.tail()"
      ],
      "execution_count": 46,
      "outputs": [
        {
          "output_type": "execute_result",
          "data": {
            "text/html": [
              "<div>\n",
              "<style scoped>\n",
              "    .dataframe tbody tr th:only-of-type {\n",
              "        vertical-align: middle;\n",
              "    }\n",
              "\n",
              "    .dataframe tbody tr th {\n",
              "        vertical-align: top;\n",
              "    }\n",
              "\n",
              "    .dataframe thead th {\n",
              "        text-align: right;\n",
              "    }\n",
              "</style>\n",
              "<table border=\"1\" class=\"dataframe\">\n",
              "  <thead>\n",
              "    <tr style=\"text-align: right;\">\n",
              "      <th></th>\n",
              "      <th>user_id</th>\n",
              "      <th>movie_id</th>\n",
              "      <th>rating</th>\n",
              "      <th>timestamp</th>\n",
              "      <th>dt</th>\n",
              "    </tr>\n",
              "  </thead>\n",
              "  <tbody>\n",
              "    <tr>\n",
              "      <th>1000204</th>\n",
              "      <td>6040</td>\n",
              "      <td>1091</td>\n",
              "      <td>1</td>\n",
              "      <td>956716541</td>\n",
              "      <td>2000-04-26 02:35:41</td>\n",
              "    </tr>\n",
              "    <tr>\n",
              "      <th>1000205</th>\n",
              "      <td>6040</td>\n",
              "      <td>1094</td>\n",
              "      <td>5</td>\n",
              "      <td>956704887</td>\n",
              "      <td>2000-04-25 23:21:27</td>\n",
              "    </tr>\n",
              "    <tr>\n",
              "      <th>1000206</th>\n",
              "      <td>6040</td>\n",
              "      <td>562</td>\n",
              "      <td>5</td>\n",
              "      <td>956704746</td>\n",
              "      <td>2000-04-25 23:19:06</td>\n",
              "    </tr>\n",
              "    <tr>\n",
              "      <th>1000207</th>\n",
              "      <td>6040</td>\n",
              "      <td>1096</td>\n",
              "      <td>4</td>\n",
              "      <td>956715648</td>\n",
              "      <td>2000-04-26 02:20:48</td>\n",
              "    </tr>\n",
              "    <tr>\n",
              "      <th>1000208</th>\n",
              "      <td>6040</td>\n",
              "      <td>1097</td>\n",
              "      <td>4</td>\n",
              "      <td>956715569</td>\n",
              "      <td>2000-04-26 02:19:29</td>\n",
              "    </tr>\n",
              "  </tbody>\n",
              "</table>\n",
              "</div>"
            ],
            "text/plain": [
              "         user_id  movie_id  rating  timestamp                  dt\n",
              "1000204     6040      1091       1  956716541 2000-04-26 02:35:41\n",
              "1000205     6040      1094       5  956704887 2000-04-25 23:21:27\n",
              "1000206     6040       562       5  956704746 2000-04-25 23:19:06\n",
              "1000207     6040      1096       4  956715648 2000-04-26 02:20:48\n",
              "1000208     6040      1097       4  956715569 2000-04-26 02:19:29"
            ]
          },
          "metadata": {
            "tags": []
          },
          "execution_count": 46
        }
      ]
    },
    {
      "cell_type": "code",
      "metadata": {
        "id": "QiXcdESRRch9",
        "outputId": "aa448841-55ee-4ef5-c3a3-6d97a8de2821",
        "colab": {
          "base_uri": "https://localhost:8080/",
          "height": 142
        }
      },
      "source": [
        "ratings.dtypes"
      ],
      "execution_count": 49,
      "outputs": [
        {
          "output_type": "execute_result",
          "data": {
            "text/plain": [
              "user_id               int64\n",
              "movie_id              int64\n",
              "rating                int64\n",
              "timestamp             int64\n",
              "dt           datetime64[ns]\n",
              "dtype: object"
            ]
          },
          "metadata": {
            "tags": []
          },
          "execution_count": 49
        }
      ]
    },
    {
      "cell_type": "code",
      "metadata": {
        "id": "Ao2yerXjR43k",
        "outputId": "d4a46d55-527b-4312-8a5f-62eaaf2b283c",
        "colab": {
          "base_uri": "https://localhost:8080/",
          "height": 38
        }
      },
      "source": [
        "ratings['timestamp'].min(), ratings['timestamp'].max()"
      ],
      "execution_count": 50,
      "outputs": [
        {
          "output_type": "execute_result",
          "data": {
            "text/plain": [
              "(956703932, 1046454590)"
            ]
          },
          "metadata": {
            "tags": []
          },
          "execution_count": 50
        }
      ]
    },
    {
      "cell_type": "code",
      "metadata": {
        "id": "grEPNzSqSJ3w",
        "outputId": "a4ee82f4-becc-4b57-e2ec-c020124bd5e5",
        "colab": {
          "base_uri": "https://localhost:8080/",
          "height": 38
        }
      },
      "source": [
        "ratings['dt'].min(), ratings['dt'].max()"
      ],
      "execution_count": 53,
      "outputs": [
        {
          "output_type": "execute_result",
          "data": {
            "text/plain": [
              "(Timestamp('2000-04-25 23:05:32'), Timestamp('2003-02-28 17:49:50'))"
            ]
          },
          "metadata": {
            "tags": []
          },
          "execution_count": 53
        }
      ]
    },
    {
      "cell_type": "markdown",
      "metadata": {
        "id": "iPg1DpBeTatV"
      },
      "source": [
        "* datetime 객체에서 날짜/시간 정보 추출하는 방법"
      ]
    },
    {
      "cell_type": "code",
      "metadata": {
        "id": "H-7eCfFFThEQ",
        "outputId": "52d50d0a-76ca-4636-aa26-0bedab8cfb4f",
        "colab": {
          "base_uri": "https://localhost:8080/",
          "height": 58
        }
      },
      "source": [
        "now = datetime.now()\n",
        "print(now)\n",
        "print(now.year, now.month, now.day, now.hour, now.minute, now.second)"
      ],
      "execution_count": 59,
      "outputs": [
        {
          "output_type": "stream",
          "text": [
            "2020-10-13 04:56:59.358241\n",
            "2020 10 13 4 56 59\n"
          ],
          "name": "stdout"
        }
      ]
    },
    {
      "cell_type": "markdown",
      "metadata": {
        "id": "1g-xBDeTUgvE"
      },
      "source": [
        "* datetime 객체를 저장하는 Series에서 날짜/시간 정보를 추출하는 방법:\n",
        "  pandas.Series.dt.속성[메서드, ...]"
      ]
    },
    {
      "cell_type": "code",
      "metadata": {
        "id": "KjRxQ-pOUoU5",
        "outputId": "079b71fe-f7aa-4028-d0c6-3a3505da0f48",
        "colab": {
          "base_uri": "https://localhost:8080/",
          "height": 266
        }
      },
      "source": [
        "ratings['dt'].dt.year"
      ],
      "execution_count": 66,
      "outputs": [
        {
          "output_type": "execute_result",
          "data": {
            "text/plain": [
              "0          2000\n",
              "1          2000\n",
              "2          2000\n",
              "3          2000\n",
              "4          2001\n",
              "           ... \n",
              "1000204    2000\n",
              "1000205    2000\n",
              "1000206    2000\n",
              "1000207    2000\n",
              "1000208    2000\n",
              "Name: dt, Length: 1000209, dtype: int64"
            ]
          },
          "metadata": {
            "tags": []
          },
          "execution_count": 66
        }
      ]
    },
    {
      "cell_type": "markdown",
      "metadata": {
        "id": "iQv9-c9kWG4z"
      },
      "source": [
        "* ratings 데이터 프레임에 year, month, quarter(분기) 컬럼을 추가"
      ]
    },
    {
      "cell_type": "code",
      "metadata": {
        "id": "-SlMpj4yWbln",
        "outputId": "0476a131-7018-4d16-de96-b0b81e4ee336",
        "colab": {
          "base_uri": "https://localhost:8080/",
          "height": 210
        }
      },
      "source": [
        "ratings['year'] = ratings['dt'].dt.year\n",
        "ratings['month'] = ratings['dt'].dt.month\n",
        "ratings['quarter'] = ratings['dt'].dt.quarter\n",
        "\n",
        "ratings.head()"
      ],
      "execution_count": 68,
      "outputs": [
        {
          "output_type": "execute_result",
          "data": {
            "text/html": [
              "<div>\n",
              "<style scoped>\n",
              "    .dataframe tbody tr th:only-of-type {\n",
              "        vertical-align: middle;\n",
              "    }\n",
              "\n",
              "    .dataframe tbody tr th {\n",
              "        vertical-align: top;\n",
              "    }\n",
              "\n",
              "    .dataframe thead th {\n",
              "        text-align: right;\n",
              "    }\n",
              "</style>\n",
              "<table border=\"1\" class=\"dataframe\">\n",
              "  <thead>\n",
              "    <tr style=\"text-align: right;\">\n",
              "      <th></th>\n",
              "      <th>user_id</th>\n",
              "      <th>movie_id</th>\n",
              "      <th>rating</th>\n",
              "      <th>timestamp</th>\n",
              "      <th>dt</th>\n",
              "      <th>year</th>\n",
              "      <th>month</th>\n",
              "      <th>quarter</th>\n",
              "    </tr>\n",
              "  </thead>\n",
              "  <tbody>\n",
              "    <tr>\n",
              "      <th>0</th>\n",
              "      <td>1</td>\n",
              "      <td>1193</td>\n",
              "      <td>5</td>\n",
              "      <td>978300760</td>\n",
              "      <td>2000-12-31 22:12:40</td>\n",
              "      <td>2000</td>\n",
              "      <td>12</td>\n",
              "      <td>4</td>\n",
              "    </tr>\n",
              "    <tr>\n",
              "      <th>1</th>\n",
              "      <td>1</td>\n",
              "      <td>661</td>\n",
              "      <td>3</td>\n",
              "      <td>978302109</td>\n",
              "      <td>2000-12-31 22:35:09</td>\n",
              "      <td>2000</td>\n",
              "      <td>12</td>\n",
              "      <td>4</td>\n",
              "    </tr>\n",
              "    <tr>\n",
              "      <th>2</th>\n",
              "      <td>1</td>\n",
              "      <td>914</td>\n",
              "      <td>3</td>\n",
              "      <td>978301968</td>\n",
              "      <td>2000-12-31 22:32:48</td>\n",
              "      <td>2000</td>\n",
              "      <td>12</td>\n",
              "      <td>4</td>\n",
              "    </tr>\n",
              "    <tr>\n",
              "      <th>3</th>\n",
              "      <td>1</td>\n",
              "      <td>3408</td>\n",
              "      <td>4</td>\n",
              "      <td>978300275</td>\n",
              "      <td>2000-12-31 22:04:35</td>\n",
              "      <td>2000</td>\n",
              "      <td>12</td>\n",
              "      <td>4</td>\n",
              "    </tr>\n",
              "    <tr>\n",
              "      <th>4</th>\n",
              "      <td>1</td>\n",
              "      <td>2355</td>\n",
              "      <td>5</td>\n",
              "      <td>978824291</td>\n",
              "      <td>2001-01-06 23:38:11</td>\n",
              "      <td>2001</td>\n",
              "      <td>1</td>\n",
              "      <td>1</td>\n",
              "    </tr>\n",
              "  </tbody>\n",
              "</table>\n",
              "</div>"
            ],
            "text/plain": [
              "   user_id  movie_id  rating  ...  year month  quarter\n",
              "0        1      1193       5  ...  2000    12        4\n",
              "1        1       661       3  ...  2000    12        4\n",
              "2        1       914       3  ...  2000    12        4\n",
              "3        1      3408       4  ...  2000    12        4\n",
              "4        1      2355       5  ...  2001     1        1\n",
              "\n",
              "[5 rows x 8 columns]"
            ]
          },
          "metadata": {
            "tags": []
          },
          "execution_count": 68
        }
      ]
    },
    {
      "cell_type": "code",
      "metadata": {
        "id": "mMqjK-gVX2eF",
        "outputId": "32051ed5-29ca-47d6-aeb1-cc4fd35f93f0",
        "colab": {
          "base_uri": "https://localhost:8080/",
          "height": 210
        }
      },
      "source": [
        "ratings.tail()"
      ],
      "execution_count": 69,
      "outputs": [
        {
          "output_type": "execute_result",
          "data": {
            "text/html": [
              "<div>\n",
              "<style scoped>\n",
              "    .dataframe tbody tr th:only-of-type {\n",
              "        vertical-align: middle;\n",
              "    }\n",
              "\n",
              "    .dataframe tbody tr th {\n",
              "        vertical-align: top;\n",
              "    }\n",
              "\n",
              "    .dataframe thead th {\n",
              "        text-align: right;\n",
              "    }\n",
              "</style>\n",
              "<table border=\"1\" class=\"dataframe\">\n",
              "  <thead>\n",
              "    <tr style=\"text-align: right;\">\n",
              "      <th></th>\n",
              "      <th>user_id</th>\n",
              "      <th>movie_id</th>\n",
              "      <th>rating</th>\n",
              "      <th>timestamp</th>\n",
              "      <th>dt</th>\n",
              "      <th>year</th>\n",
              "      <th>month</th>\n",
              "      <th>quarter</th>\n",
              "    </tr>\n",
              "  </thead>\n",
              "  <tbody>\n",
              "    <tr>\n",
              "      <th>1000204</th>\n",
              "      <td>6040</td>\n",
              "      <td>1091</td>\n",
              "      <td>1</td>\n",
              "      <td>956716541</td>\n",
              "      <td>2000-04-26 02:35:41</td>\n",
              "      <td>2000</td>\n",
              "      <td>4</td>\n",
              "      <td>2</td>\n",
              "    </tr>\n",
              "    <tr>\n",
              "      <th>1000205</th>\n",
              "      <td>6040</td>\n",
              "      <td>1094</td>\n",
              "      <td>5</td>\n",
              "      <td>956704887</td>\n",
              "      <td>2000-04-25 23:21:27</td>\n",
              "      <td>2000</td>\n",
              "      <td>4</td>\n",
              "      <td>2</td>\n",
              "    </tr>\n",
              "    <tr>\n",
              "      <th>1000206</th>\n",
              "      <td>6040</td>\n",
              "      <td>562</td>\n",
              "      <td>5</td>\n",
              "      <td>956704746</td>\n",
              "      <td>2000-04-25 23:19:06</td>\n",
              "      <td>2000</td>\n",
              "      <td>4</td>\n",
              "      <td>2</td>\n",
              "    </tr>\n",
              "    <tr>\n",
              "      <th>1000207</th>\n",
              "      <td>6040</td>\n",
              "      <td>1096</td>\n",
              "      <td>4</td>\n",
              "      <td>956715648</td>\n",
              "      <td>2000-04-26 02:20:48</td>\n",
              "      <td>2000</td>\n",
              "      <td>4</td>\n",
              "      <td>2</td>\n",
              "    </tr>\n",
              "    <tr>\n",
              "      <th>1000208</th>\n",
              "      <td>6040</td>\n",
              "      <td>1097</td>\n",
              "      <td>4</td>\n",
              "      <td>956715569</td>\n",
              "      <td>2000-04-26 02:19:29</td>\n",
              "      <td>2000</td>\n",
              "      <td>4</td>\n",
              "      <td>2</td>\n",
              "    </tr>\n",
              "  </tbody>\n",
              "</table>\n",
              "</div>"
            ],
            "text/plain": [
              "         user_id  movie_id  rating  ...  year month  quarter\n",
              "1000204     6040      1091       1  ...  2000     4        2\n",
              "1000205     6040      1094       5  ...  2000     4        2\n",
              "1000206     6040       562       5  ...  2000     4        2\n",
              "1000207     6040      1096       4  ...  2000     4        2\n",
              "1000208     6040      1097       4  ...  2000     4        2\n",
              "\n",
              "[5 rows x 8 columns]"
            ]
          },
          "metadata": {
            "tags": []
          },
          "execution_count": 69
        }
      ]
    },
    {
      "cell_type": "markdown",
      "metadata": {
        "id": "lsdV7uAZX8_X"
      },
      "source": [
        "* ratings 데이터 프레임에서 2003년 2월 데이터만 추출"
      ]
    },
    {
      "cell_type": "code",
      "metadata": {
        "id": "Uj3n6TuFYE0J",
        "outputId": "c4a896f5-ec4b-4194-d2a4-8e68f6bce7b3",
        "colab": {
          "base_uri": "https://localhost:8080/",
          "height": 433
        }
      },
      "source": [
        "ratings[(ratings['dt'].dt.year == 2003) & \n",
        "        (ratings['dt'].dt.month == 2)]"
      ],
      "execution_count": 70,
      "outputs": [
        {
          "output_type": "execute_result",
          "data": {
            "text/html": [
              "<div>\n",
              "<style scoped>\n",
              "    .dataframe tbody tr th:only-of-type {\n",
              "        vertical-align: middle;\n",
              "    }\n",
              "\n",
              "    .dataframe tbody tr th {\n",
              "        vertical-align: top;\n",
              "    }\n",
              "\n",
              "    .dataframe thead th {\n",
              "        text-align: right;\n",
              "    }\n",
              "</style>\n",
              "<table border=\"1\" class=\"dataframe\">\n",
              "  <thead>\n",
              "    <tr style=\"text-align: right;\">\n",
              "      <th></th>\n",
              "      <th>user_id</th>\n",
              "      <th>movie_id</th>\n",
              "      <th>rating</th>\n",
              "      <th>timestamp</th>\n",
              "      <th>dt</th>\n",
              "      <th>year</th>\n",
              "      <th>month</th>\n",
              "      <th>quarter</th>\n",
              "    </tr>\n",
              "  </thead>\n",
              "  <tbody>\n",
              "    <tr>\n",
              "      <th>27759</th>\n",
              "      <td>195</td>\n",
              "      <td>1254</td>\n",
              "      <td>4</td>\n",
              "      <td>1044552222</td>\n",
              "      <td>2003-02-06 17:23:42</td>\n",
              "      <td>2003</td>\n",
              "      <td>2</td>\n",
              "      <td>1</td>\n",
              "    </tr>\n",
              "    <tr>\n",
              "      <th>27764</th>\n",
              "      <td>195</td>\n",
              "      <td>1183</td>\n",
              "      <td>3</td>\n",
              "      <td>1044988494</td>\n",
              "      <td>2003-02-11 18:34:54</td>\n",
              "      <td>2003</td>\n",
              "      <td>2</td>\n",
              "      <td>1</td>\n",
              "    </tr>\n",
              "    <tr>\n",
              "      <th>27781</th>\n",
              "      <td>195</td>\n",
              "      <td>3007</td>\n",
              "      <td>4</td>\n",
              "      <td>1044987990</td>\n",
              "      <td>2003-02-11 18:26:30</td>\n",
              "      <td>2003</td>\n",
              "      <td>2</td>\n",
              "      <td>1</td>\n",
              "    </tr>\n",
              "    <tr>\n",
              "      <th>27846</th>\n",
              "      <td>195</td>\n",
              "      <td>1356</td>\n",
              "      <td>2</td>\n",
              "      <td>1045358834</td>\n",
              "      <td>2003-02-16 01:27:14</td>\n",
              "      <td>2003</td>\n",
              "      <td>2</td>\n",
              "      <td>1</td>\n",
              "    </tr>\n",
              "    <tr>\n",
              "      <th>27895</th>\n",
              "      <td>195</td>\n",
              "      <td>2247</td>\n",
              "      <td>2</td>\n",
              "      <td>1045356507</td>\n",
              "      <td>2003-02-16 00:48:27</td>\n",
              "      <td>2003</td>\n",
              "      <td>2</td>\n",
              "      <td>1</td>\n",
              "    </tr>\n",
              "    <tr>\n",
              "      <th>...</th>\n",
              "      <td>...</td>\n",
              "      <td>...</td>\n",
              "      <td>...</td>\n",
              "      <td>...</td>\n",
              "      <td>...</td>\n",
              "      <td>...</td>\n",
              "      <td>...</td>\n",
              "      <td>...</td>\n",
              "    </tr>\n",
              "    <tr>\n",
              "      <th>984842</th>\n",
              "      <td>5950</td>\n",
              "      <td>3317</td>\n",
              "      <td>3</td>\n",
              "      <td>1046369439</td>\n",
              "      <td>2003-02-27 18:10:39</td>\n",
              "      <td>2003</td>\n",
              "      <td>2</td>\n",
              "      <td>1</td>\n",
              "    </tr>\n",
              "    <tr>\n",
              "      <th>984847</th>\n",
              "      <td>5950</td>\n",
              "      <td>3328</td>\n",
              "      <td>3</td>\n",
              "      <td>1046369090</td>\n",
              "      <td>2003-02-27 18:04:50</td>\n",
              "      <td>2003</td>\n",
              "      <td>2</td>\n",
              "      <td>1</td>\n",
              "    </tr>\n",
              "    <tr>\n",
              "      <th>984849</th>\n",
              "      <td>5950</td>\n",
              "      <td>111</td>\n",
              "      <td>5</td>\n",
              "      <td>1046368241</td>\n",
              "      <td>2003-02-27 17:50:41</td>\n",
              "      <td>2003</td>\n",
              "      <td>2</td>\n",
              "      <td>1</td>\n",
              "    </tr>\n",
              "    <tr>\n",
              "      <th>984861</th>\n",
              "      <td>5950</td>\n",
              "      <td>3363</td>\n",
              "      <td>5</td>\n",
              "      <td>1046367948</td>\n",
              "      <td>2003-02-27 17:45:48</td>\n",
              "      <td>2003</td>\n",
              "      <td>2</td>\n",
              "      <td>1</td>\n",
              "    </tr>\n",
              "    <tr>\n",
              "      <th>984905</th>\n",
              "      <td>5950</td>\n",
              "      <td>1089</td>\n",
              "      <td>3</td>\n",
              "      <td>1046368552</td>\n",
              "      <td>2003-02-27 17:55:52</td>\n",
              "      <td>2003</td>\n",
              "      <td>2</td>\n",
              "      <td>1</td>\n",
              "    </tr>\n",
              "  </tbody>\n",
              "</table>\n",
              "<p>1496 rows × 8 columns</p>\n",
              "</div>"
            ],
            "text/plain": [
              "        user_id  movie_id  rating  ...  year month  quarter\n",
              "27759       195      1254       4  ...  2003     2        1\n",
              "27764       195      1183       3  ...  2003     2        1\n",
              "27781       195      3007       4  ...  2003     2        1\n",
              "27846       195      1356       2  ...  2003     2        1\n",
              "27895       195      2247       2  ...  2003     2        1\n",
              "...         ...       ...     ...  ...   ...   ...      ...\n",
              "984842     5950      3317       3  ...  2003     2        1\n",
              "984847     5950      3328       3  ...  2003     2        1\n",
              "984849     5950       111       5  ...  2003     2        1\n",
              "984861     5950      3363       5  ...  2003     2        1\n",
              "984905     5950      1089       3  ...  2003     2        1\n",
              "\n",
              "[1496 rows x 8 columns]"
            ]
          },
          "metadata": {
            "tags": []
          },
          "execution_count": 70
        }
      ]
    },
    {
      "cell_type": "markdown",
      "metadata": {
        "id": "kAHZl2sHYFyR"
      },
      "source": [
        "* ratings 데이터 프레임에서 2002년 1분기 데이터만 추출"
      ]
    },
    {
      "cell_type": "code",
      "metadata": {
        "id": "Oaak7GIjYL6I",
        "outputId": "3e1aea27-ec0f-4aa1-f85d-7e4061ac2be9",
        "colab": {
          "base_uri": "https://localhost:8080/",
          "height": 433
        }
      },
      "source": [
        "ratings[(ratings['year'] == 2002) &\n",
        "        (ratings['quarter'] == 1)]"
      ],
      "execution_count": 71,
      "outputs": [
        {
          "output_type": "execute_result",
          "data": {
            "text/html": [
              "<div>\n",
              "<style scoped>\n",
              "    .dataframe tbody tr th:only-of-type {\n",
              "        vertical-align: middle;\n",
              "    }\n",
              "\n",
              "    .dataframe tbody tr th {\n",
              "        vertical-align: top;\n",
              "    }\n",
              "\n",
              "    .dataframe thead th {\n",
              "        text-align: right;\n",
              "    }\n",
              "</style>\n",
              "<table border=\"1\" class=\"dataframe\">\n",
              "  <thead>\n",
              "    <tr style=\"text-align: right;\">\n",
              "      <th></th>\n",
              "      <th>user_id</th>\n",
              "      <th>movie_id</th>\n",
              "      <th>rating</th>\n",
              "      <th>timestamp</th>\n",
              "      <th>dt</th>\n",
              "      <th>year</th>\n",
              "      <th>month</th>\n",
              "      <th>quarter</th>\n",
              "    </tr>\n",
              "  </thead>\n",
              "  <tbody>\n",
              "    <tr>\n",
              "      <th>5025</th>\n",
              "      <td>36</td>\n",
              "      <td>3359</td>\n",
              "      <td>5</td>\n",
              "      <td>1015905485</td>\n",
              "      <td>2002-03-12 03:58:05</td>\n",
              "      <td>2002</td>\n",
              "      <td>3</td>\n",
              "      <td>1</td>\n",
              "    </tr>\n",
              "    <tr>\n",
              "      <th>5034</th>\n",
              "      <td>36</td>\n",
              "      <td>581</td>\n",
              "      <td>4</td>\n",
              "      <td>1015905127</td>\n",
              "      <td>2002-03-12 03:52:07</td>\n",
              "      <td>2002</td>\n",
              "      <td>3</td>\n",
              "      <td>1</td>\n",
              "    </tr>\n",
              "    <tr>\n",
              "      <th>5053</th>\n",
              "      <td>36</td>\n",
              "      <td>7</td>\n",
              "      <td>4</td>\n",
              "      <td>1012707697</td>\n",
              "      <td>2002-02-03 03:41:37</td>\n",
              "      <td>2002</td>\n",
              "      <td>2</td>\n",
              "      <td>1</td>\n",
              "    </tr>\n",
              "    <tr>\n",
              "      <th>5060</th>\n",
              "      <td>36</td>\n",
              "      <td>1191</td>\n",
              "      <td>4</td>\n",
              "      <td>1015905249</td>\n",
              "      <td>2002-03-12 03:54:09</td>\n",
              "      <td>2002</td>\n",
              "      <td>3</td>\n",
              "      <td>1</td>\n",
              "    </tr>\n",
              "    <tr>\n",
              "      <th>5073</th>\n",
              "      <td>36</td>\n",
              "      <td>1912</td>\n",
              "      <td>5</td>\n",
              "      <td>1015904924</td>\n",
              "      <td>2002-03-12 03:48:44</td>\n",
              "      <td>2002</td>\n",
              "      <td>3</td>\n",
              "      <td>1</td>\n",
              "    </tr>\n",
              "    <tr>\n",
              "      <th>...</th>\n",
              "      <td>...</td>\n",
              "      <td>...</td>\n",
              "      <td>...</td>\n",
              "      <td>...</td>\n",
              "      <td>...</td>\n",
              "      <td>...</td>\n",
              "      <td>...</td>\n",
              "      <td>...</td>\n",
              "    </tr>\n",
              "    <tr>\n",
              "      <th>994088</th>\n",
              "      <td>6002</td>\n",
              "      <td>2764</td>\n",
              "      <td>4</td>\n",
              "      <td>1014524069</td>\n",
              "      <td>2002-02-24 04:14:29</td>\n",
              "      <td>2002</td>\n",
              "      <td>2</td>\n",
              "      <td>1</td>\n",
              "    </tr>\n",
              "    <tr>\n",
              "      <th>994092</th>\n",
              "      <td>6002</td>\n",
              "      <td>3729</td>\n",
              "      <td>4</td>\n",
              "      <td>1014524511</td>\n",
              "      <td>2002-02-24 04:21:51</td>\n",
              "      <td>2002</td>\n",
              "      <td>2</td>\n",
              "      <td>1</td>\n",
              "    </tr>\n",
              "    <tr>\n",
              "      <th>994096</th>\n",
              "      <td>6002</td>\n",
              "      <td>3733</td>\n",
              "      <td>4</td>\n",
              "      <td>1014524481</td>\n",
              "      <td>2002-02-24 04:21:21</td>\n",
              "      <td>2002</td>\n",
              "      <td>2</td>\n",
              "      <td>1</td>\n",
              "    </tr>\n",
              "    <tr>\n",
              "      <th>994100</th>\n",
              "      <td>6002</td>\n",
              "      <td>2013</td>\n",
              "      <td>4</td>\n",
              "      <td>1014524679</td>\n",
              "      <td>2002-02-24 04:24:39</td>\n",
              "      <td>2002</td>\n",
              "      <td>2</td>\n",
              "      <td>1</td>\n",
              "    </tr>\n",
              "    <tr>\n",
              "      <th>994106</th>\n",
              "      <td>6002</td>\n",
              "      <td>1084</td>\n",
              "      <td>5</td>\n",
              "      <td>1014523779</td>\n",
              "      <td>2002-02-24 04:09:39</td>\n",
              "      <td>2002</td>\n",
              "      <td>2</td>\n",
              "      <td>1</td>\n",
              "    </tr>\n",
              "  </tbody>\n",
              "</table>\n",
              "<p>8166 rows × 8 columns</p>\n",
              "</div>"
            ],
            "text/plain": [
              "        user_id  movie_id  rating  ...  year month  quarter\n",
              "5025         36      3359       5  ...  2002     3        1\n",
              "5034         36       581       4  ...  2002     3        1\n",
              "5053         36         7       4  ...  2002     2        1\n",
              "5060         36      1191       4  ...  2002     3        1\n",
              "5073         36      1912       5  ...  2002     3        1\n",
              "...         ...       ...     ...  ...   ...   ...      ...\n",
              "994088     6002      2764       4  ...  2002     2        1\n",
              "994092     6002      3729       4  ...  2002     2        1\n",
              "994096     6002      3733       4  ...  2002     2        1\n",
              "994100     6002      2013       4  ...  2002     2        1\n",
              "994106     6002      1084       5  ...  2002     2        1\n",
              "\n",
              "[8166 rows x 8 columns]"
            ]
          },
          "metadata": {
            "tags": []
          },
          "execution_count": 71
        }
      ]
    }
  ]
}