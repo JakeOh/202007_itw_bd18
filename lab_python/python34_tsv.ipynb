{
  "nbformat": 4,
  "nbformat_minor": 0,
  "metadata": {
    "colab": {
      "name": "python34_tsv.ipynb",
      "provenance": [],
      "collapsed_sections": [],
      "authorship_tag": "ABX9TyPhBzeTm7OJIi6nI5OabyWn",
      "include_colab_link": true
    },
    "kernelspec": {
      "name": "python3",
      "display_name": "Python 3"
    }
  },
  "cells": [
    {
      "cell_type": "markdown",
      "metadata": {
        "id": "view-in-github",
        "colab_type": "text"
      },
      "source": [
        "<a href=\"https://colab.research.google.com/github/JakeOh/202007_itw_bd18/blob/master/lab_python/python34_tsv.ipynb\" target=\"_parent\"><img src=\"https://colab.research.google.com/assets/colab-badge.svg\" alt=\"Open In Colab\"/></a>"
      ]
    },
    {
      "cell_type": "code",
      "metadata": {
        "id": "v5J2ARRYxOnI",
        "colab_type": "code",
        "colab": {
          "base_uri": "https://localhost:8080/",
          "height": 100
        },
        "outputId": "0bebb42b-5525-4380-8a90-57a787b7e083"
      },
      "source": [
        "texts = '''2020-09-15\\tAAA\\t1500\n",
        "2020-09-15\\tBBB\\t2000\n",
        "2020-09-16\\tAAA\\t1800\n",
        "2020-09-16\\tBBB\\t1600'''\n",
        "\n",
        "print(texts)"
      ],
      "execution_count": 6,
      "outputs": [
        {
          "output_type": "stream",
          "text": [
            "2020-09-15\tAAA\t1500\n",
            "2020-09-15\tBBB\t2000\n",
            "2020-09-16\tAAA\t1800\n",
            "2020-09-16\tBBB\t1600\n"
          ],
          "name": "stdout"
        }
      ]
    },
    {
      "cell_type": "code",
      "metadata": {
        "id": "IO18EyKNy9jJ",
        "colab_type": "code",
        "colab": {}
      },
      "source": [
        "with open('prices.tsv', mode='w') as f:\n",
        "    f.write(texts)"
      ],
      "execution_count": 9,
      "outputs": []
    },
    {
      "cell_type": "code",
      "metadata": {
        "id": "ZqFtUu5b0e0P",
        "colab_type": "code",
        "colab": {}
      },
      "source": [
        "# prices.tsv 파일을 open해서, 한 줄씩 읽으면서,\n",
        "# 각 라인을 탭('\\t')으로 split한 결과를 리스트(prices)에 저장.\n",
        "# 2차원 리스트 prices를 출력."
      ],
      "execution_count": null,
      "outputs": []
    },
    {
      "cell_type": "code",
      "metadata": {
        "id": "4NDABtcu08hP",
        "colab_type": "code",
        "colab": {}
      },
      "source": [
        "class Stock:\n",
        "\n",
        "    def __init__(self, ...):\n",
        "        # 주식 거래날짜, 종목코드, 가격을 초기화\n",
        "        pass\n",
        "\n",
        "    def __repr__(...):\n",
        "        # Stock 객체를 print하기 위한 문자열\n",
        "        pass"
      ],
      "execution_count": null,
      "outputs": []
    },
    {
      "cell_type": "code",
      "metadata": {
        "id": "N7D0kUbo1sd5",
        "colab_type": "code",
        "colab": {}
      },
      "source": [
        "# prices.tsv 파일을 open해서, 한 줄씩 읽으면서,\n",
        "# Stock 객체를 생성해서 리스트(prices2)에 저장.\n",
        "# prices2 리스트 출력."
      ],
      "execution_count": null,
      "outputs": []
    }
  ]
}