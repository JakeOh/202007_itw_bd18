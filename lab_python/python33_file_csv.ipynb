{
  "nbformat": 4,
  "nbformat_minor": 0,
  "metadata": {
    "colab": {
      "name": "python33_file_csv.ipynb",
      "provenance": [],
      "collapsed_sections": [],
      "authorship_tag": "ABX9TyM15TsSt0qWBiO35DQEv+dq",
      "include_colab_link": true
    },
    "kernelspec": {
      "name": "python3",
      "display_name": "Python 3"
    }
  },
  "cells": [
    {
      "cell_type": "markdown",
      "metadata": {
        "id": "view-in-github",
        "colab_type": "text"
      },
      "source": [
        "<a href=\"https://colab.research.google.com/github/JakeOh/202007_itw_bd18/blob/master/lab_python/python33_file_csv.ipynb\" target=\"_parent\"><img src=\"https://colab.research.google.com/assets/colab-badge.svg\" alt=\"Open In Colab\"/></a>"
      ]
    },
    {
      "cell_type": "markdown",
      "metadata": {
        "id": "2WMfGfvS0DaE",
        "colab_type": "text"
      },
      "source": [
        "\n",
        "\n",
        "1. 구글 드라이드 마운트\n",
        "2. csv_exam.csv 파일이 있는 경로를 복사\n",
        "3. csv_exam.csv 파일을 읽기 모드로 오픈\n",
        "4. 파일에서 첫번째 라인은 건너뜀(readline 호출)\n",
        "5. 두번째 라인부터 파일 끝까지 한줄씩 읽으면서\n",
        "6. 각 라인의 내용을 ','로 분리한 리스트를 빈 리스트(exam)에 append\n",
        "\n",
        "```\n",
        "exam = [[1,1,50,98,50], [2,1,60,97,60], [3,1,45,86,78], ...]\n",
        "```\n",
        "\n",
        "7. 2차원 리스트 exam에서 수학 점수들로만 이루어진 1차원 리스트(math)를 생성.\n",
        "\n",
        "```\n",
        "math = [50, 60, 45, ...]\n",
        "```\n",
        "\n",
        "8. 1반 학생들의 수학 점수의 총점, 평균, 최댓값, 최솟값을 찾으세요.(sum, min, max)"
      ]
    },
    {
      "cell_type": "code",
      "metadata": {
        "id": "Q0A8OiQPyXJp",
        "colab_type": "code",
        "colab": {}
      },
      "source": [
        ""
      ],
      "execution_count": null,
      "outputs": []
    }
  ]
}