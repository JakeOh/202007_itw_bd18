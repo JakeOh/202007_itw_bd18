{
  "nbformat": 4,
  "nbformat_minor": 0,
  "metadata": {
    "colab": {
      "name": "python63_bs4.ipynb",
      "provenance": [],
      "collapsed_sections": [],
      "mount_file_id": "1jeL3T8Nm6VtRSwkE3Z6He6GkzYvmK5FI",
      "authorship_tag": "ABX9TyPNzkyv1d0gHPzusux9bLKh",
      "include_colab_link": true
    },
    "kernelspec": {
      "name": "python3",
      "display_name": "Python 3"
    }
  },
  "cells": [
    {
      "cell_type": "markdown",
      "metadata": {
        "id": "view-in-github",
        "colab_type": "text"
      },
      "source": [
        "<a href=\"https://colab.research.google.com/github/JakeOh/202007_itw_bd18/blob/master/lab_python/python63_bs4.ipynb\" target=\"_parent\"><img src=\"https://colab.research.google.com/assets/colab-badge.svg\" alt=\"Open In Colab\"/></a>"
      ]
    },
    {
      "cell_type": "code",
      "metadata": {
        "id": "fpXwN9mLypbi",
        "outputId": "9bf59772-a8e3-42c6-d381-8c82041bea60",
        "colab": {
          "base_uri": "https://localhost:8080/",
          "height": 38
        }
      },
      "source": [
        "# Google Colab에 설치된 bs4 패키지(BeautifulSoup) 버전 확인\n",
        "import bs4\n",
        "\n",
        "bs4.__version__"
      ],
      "execution_count": 1,
      "outputs": [
        {
          "output_type": "execute_result",
          "data": {
            "application/vnd.google.colaboratory.intrinsic+json": {
              "type": "string"
            },
            "text/plain": [
              "'4.6.3'"
            ]
          },
          "metadata": {
            "tags": []
          },
          "execution_count": 1
        }
      ]
    },
    {
      "cell_type": "code",
      "metadata": {
        "id": "b3MN7mdUz1D8"
      },
      "source": [
        "from bs4 import BeautifulSoup\n",
        "# bs4 모듈에서 BeautifulSoup 클래스를 임포트(메모리에 로드)"
      ],
      "execution_count": 2,
      "outputs": []
    },
    {
      "cell_type": "code",
      "metadata": {
        "id": "TisG7Tx-0NmT",
        "outputId": "fb82eefb-6a24-49d5-8689-9d416b494967",
        "colab": {
          "base_uri": "https://localhost:8080/",
          "height": 38
        }
      },
      "source": [
        "# 구글 드라이브 마운트. web01.html 파일 경로 복사\n",
        "html_file = '/content/drive/My Drive/Colab Notebooks/lab_python/web01.html'\n",
        "\n",
        "# HTML 파일 열기(open)\n",
        "f = open(html_file, mode='r', encoding='utf-8')\n",
        "f"
      ],
      "execution_count": 3,
      "outputs": [
        {
          "output_type": "execute_result",
          "data": {
            "text/plain": [
              "<_io.TextIOWrapper name='/content/drive/My Drive/Colab Notebooks/lab_python/web01.html' mode='r' encoding='utf-8'>"
            ]
          },
          "metadata": {
            "tags": []
          },
          "execution_count": 3
        }
      ]
    },
    {
      "cell_type": "code",
      "metadata": {
        "id": "1tvAAJCG1Jhq"
      },
      "source": [
        "# BeautifulSoup 클래스의 인스턴스를 생성 - 생성자 함수 호출\n",
        "soup = BeautifulSoup(markup=f,                # markup=HTML 파일\n",
        "                     features='html.parser')  # features=HTML 문서를 분석(parse)할 수 있는 라이브러리 이름."
      ],
      "execution_count": 4,
      "outputs": []
    },
    {
      "cell_type": "code",
      "metadata": {
        "id": "o9oDfc9k2Jea",
        "outputId": "72a1ed75-0610-4540-f20e-040714781f31",
        "colab": {
          "base_uri": "https://localhost:8080/",
          "height": 38
        }
      },
      "source": [
        "type(soup)"
      ],
      "execution_count": 5,
      "outputs": [
        {
          "output_type": "execute_result",
          "data": {
            "text/plain": [
              "bs4.BeautifulSoup"
            ]
          },
          "metadata": {
            "tags": []
          },
          "execution_count": 5
        }
      ]
    },
    {
      "cell_type": "code",
      "metadata": {
        "id": "eAMOyLu12TmC",
        "outputId": "3646f2f9-9d02-4600-89e2-97f70bff14d5",
        "colab": {
          "base_uri": "https://localhost:8080/",
          "height": 890
        }
      },
      "source": [
        "soup\n",
        "# BeautifulSoup 객체: HTML 문서의 모든 내용과 구조를 담고 있고,\n",
        "# HTML 문서를 분석(요소 찾기)할 수 있는 기능(메서드)을 가지고 있는 객체."
      ],
      "execution_count": 6,
      "outputs": [
        {
          "output_type": "execute_result",
          "data": {
            "text/plain": [
              "<!DOCTYPE html>\n",
              "\n",
              "<!-- HTML 문서의 주석\n",
              "HTML 문서의 구조:\n",
              "    <tag attribute_name=\"attribute_value\">content</tag>\n",
              "Content가 없는 태그인 경우:\n",
              "    <tag attr_name=\"attr_val\" /> 또는\n",
              "    <tag attr_name=\"attr_val\">\n",
              "-->\n",
              "<html lang=\"en\">\n",
              "<head>\n",
              "<meta charset=\"utf-8\"/>\n",
              "<title>Web 1</title>\n",
              "</head>\n",
              "<body>\n",
              "<!-- h1 ~ h6: heading -->\n",
              "<h1>처음 만드는 HTML 파일</h1>\n",
              "<h2>HTML: HyperText Markup Language</h2>\n",
              "<!-- a(anchor): HTML 파일에서 링크 생성 -->\n",
              "<a href=\"https://www.daum.net/\">다음 카카오</a>\n",
              "<br/> <!-- br(line break): 줄바꿈 -->\n",
              "<a href=\"https://www.naver.com/\">네이버</a>\n",
              "<br/>\n",
              "<a href=\"https://www.google.com/\">\n",
              "<img src=\"googlelogo.png\" style=\"width: 100px;\"/>\n",
              "</a>\n",
              "<div>여기는 division입니다.<br/>\n",
              "    div는 여백(margin)이 없습니다.\n",
              "    </div>\n",
              "<p>여기는 <strong>paragraph</strong>입니다.<br/>\n",
              "    p는 <em>여백(margin)</em>이 있습니다.\n",
              "    </p>\n",
              "<!-- HTML 요소(태그)\n",
              "        1) block-level 요소(태그): 브라우저의 가로 길이 전체를 차지하는 태그\n",
              "            줄바꿈이 자동으로 생김.\n",
              "            <h1>, <h6>, <div>, <p>, <table>, <ul>, <li>, ...\n",
              "        2) inline 요소(태그): 컨텐츠의 가로 길이 크기만 차지하는 태그\n",
              "            줄바꿈이 자동으로 생기지 않음. 줄을 바꾸려면 <br>을 사용해야 함.\n",
              "            <a>, <img>, <span>, ...\n",
              "    -->\n",
              "</body>\n",
              "</html>"
            ]
          },
          "metadata": {
            "tags": []
          },
          "execution_count": 6
        }
      ]
    },
    {
      "cell_type": "code",
      "metadata": {
        "id": "QezSJn_S4U_j",
        "outputId": "a6860504-c83d-43c7-8c63-d39c484bfe5b",
        "colab": {
          "base_uri": "https://localhost:8080/",
          "height": 38
        }
      },
      "source": [
        "# BS.find('태그 이름') 메서드: HTML 문서에서 태그에 해당하는 요소(element)를 찾음.\n",
        "h1 = soup.find('h1')  # HTML 문서에서 가장 먼저 등장하는 h1 태그 요소를 찾아줌.\n",
        "h1"
      ],
      "execution_count": 7,
      "outputs": [
        {
          "output_type": "execute_result",
          "data": {
            "text/plain": [
              "<h1>처음 만드는 HTML 파일</h1>"
            ]
          },
          "metadata": {
            "tags": []
          },
          "execution_count": 7
        }
      ]
    },
    {
      "cell_type": "code",
      "metadata": {
        "id": "9fqL5RdT5ko2",
        "outputId": "91001933-511d-4393-edcc-20693a507f12",
        "colab": {
          "base_uri": "https://localhost:8080/",
          "height": 38
        }
      },
      "source": [
        "type(h1)  #> Tag 클래스 타입"
      ],
      "execution_count": 8,
      "outputs": [
        {
          "output_type": "execute_result",
          "data": {
            "text/plain": [
              "bs4.element.Tag"
            ]
          },
          "metadata": {
            "tags": []
          },
          "execution_count": 8
        }
      ]
    },
    {
      "cell_type": "code",
      "metadata": {
        "id": "F_zi3s7c6Izn",
        "outputId": "b6372571-5d5c-4de5-d799-01fc89eded59",
        "colab": {
          "base_uri": "https://localhost:8080/",
          "height": 38
        }
      },
      "source": [
        "# 찾은 h1 요소의 텍스트만 추출.\n",
        "h1.text  # h1 시작 태그(start tag)와 h1 종료 태그(ending tag) 사이에 있는 문자열"
      ],
      "execution_count": 9,
      "outputs": [
        {
          "output_type": "execute_result",
          "data": {
            "application/vnd.google.colaboratory.intrinsic+json": {
              "type": "string"
            },
            "text/plain": [
              "'처음 만드는 HTML 파일'"
            ]
          },
          "metadata": {
            "tags": []
          },
          "execution_count": 9
        }
      ]
    },
    {
      "cell_type": "code",
      "metadata": {
        "id": "OXVii2Bd_ZYb",
        "outputId": "bdb332a6-8240-4542-d12f-5bbe50404014",
        "colab": {
          "base_uri": "https://localhost:8080/",
          "height": 38
        }
      },
      "source": [
        "# HTML 문서에서 가장 먼저 등장하는 h2 태그의 텍스트를 추출.\n",
        "soup.find('h2').text"
      ],
      "execution_count": 11,
      "outputs": [
        {
          "output_type": "execute_result",
          "data": {
            "application/vnd.google.colaboratory.intrinsic+json": {
              "type": "string"
            },
            "text/plain": [
              "'HTML: HyperText Markup Language'"
            ]
          },
          "metadata": {
            "tags": []
          },
          "execution_count": 11
        }
      ]
    },
    {
      "cell_type": "code",
      "metadata": {
        "id": "74o2uMUhAIdp",
        "outputId": "ebc65f29-ad8d-4a8e-a8ba-5d6f9ff9ae88",
        "colab": {
          "base_uri": "https://localhost:8080/",
          "height": 38
        }
      },
      "source": [
        "# HTML 문서에서 가장 먼저 등장하는 a 태그 요소의 텍스트를 추출\n",
        "soup.find('a').text"
      ],
      "execution_count": 15,
      "outputs": [
        {
          "output_type": "execute_result",
          "data": {
            "application/vnd.google.colaboratory.intrinsic+json": {
              "type": "string"
            },
            "text/plain": [
              "'다음 카카오'"
            ]
          },
          "metadata": {
            "tags": []
          },
          "execution_count": 15
        }
      ]
    },
    {
      "cell_type": "code",
      "metadata": {
        "id": "rrU4V7VHBzre",
        "outputId": "07f0e9b3-c342-43e5-899b-14136a410a6b",
        "colab": {
          "base_uri": "https://localhost:8080/",
          "height": 38
        }
      },
      "source": [
        "# <tag attr1=\"value1\" attr2=\"value2\">content</tag>\n",
        "\n",
        "# Tag.get('속성 이름') 메서드: HTML 태그가 가지고 있는 속성(attribute)의 값을 리턴.\n",
        "link1 = soup.find('a')\n",
        "# type(link1)\n",
        "\n",
        "link1.get('href')"
      ],
      "execution_count": 17,
      "outputs": [
        {
          "output_type": "execute_result",
          "data": {
            "application/vnd.google.colaboratory.intrinsic+json": {
              "type": "string"
            },
            "text/plain": [
              "'https://www.daum.net/'"
            ]
          },
          "metadata": {
            "tags": []
          },
          "execution_count": 17
        }
      ]
    },
    {
      "cell_type": "code",
      "metadata": {
        "id": "c7C9RTUPELpf",
        "outputId": "af8d38c8-fb4e-4509-ff7b-dac79d7cd3ea",
        "colab": {
          "base_uri": "https://localhost:8080/",
          "height": 38
        }
      },
      "source": [
        "soup.find('a').get('href')"
      ],
      "execution_count": 18,
      "outputs": [
        {
          "output_type": "execute_result",
          "data": {
            "application/vnd.google.colaboratory.intrinsic+json": {
              "type": "string"
            },
            "text/plain": [
              "'https://www.daum.net/'"
            ]
          },
          "metadata": {
            "tags": []
          },
          "execution_count": 18
        }
      ]
    },
    {
      "cell_type": "code",
      "metadata": {
        "id": "WgN1rqDWEi8M",
        "outputId": "a807fd20-bbb7-4909-d645-9aa34d5b3557",
        "colab": {
          "base_uri": "https://localhost:8080/",
          "height": 121
        }
      },
      "source": [
        "# BS.find_all('태그 이름') 메서드: HTML 문서에서 해당 태그를 갖는 모든 요소(element)를 찾음.\n",
        "soup.find_all('a')  #> a Tag 요소들의 리스트(list)"
      ],
      "execution_count": 21,
      "outputs": [
        {
          "output_type": "execute_result",
          "data": {
            "text/plain": [
              "[<a href=\"https://www.daum.net/\">다음 카카오</a>,\n",
              " <a href=\"https://www.naver.com/\">네이버</a>,\n",
              " <a href=\"https://www.google.com/\">\n",
              " <img src=\"googlelogo.png\" style=\"width: 100px;\"/>\n",
              " </a>]"
            ]
          },
          "metadata": {
            "tags": []
          },
          "execution_count": 21
        }
      ]
    },
    {
      "cell_type": "code",
      "metadata": {
        "id": "NOM03onaFUX0",
        "outputId": "4e8506d5-7715-4476-c6a5-89a3dff1426f",
        "colab": {
          "base_uri": "https://localhost:8080/",
          "height": 79
        }
      },
      "source": [
        "# HTML 문서의 모든 링크의 주소를 찾아서 출력\n",
        "links = soup.find_all('a')  # 문서에서 모든 a 태그 요소를 찾음.\n",
        "for link in links:  # a 태그 요소를 하나씩 반복(iteration).\n",
        "    print(link.get('href'))  # a 태그의 href 속성 값을 찾음."
      ],
      "execution_count": 24,
      "outputs": [
        {
          "output_type": "stream",
          "text": [
            "https://www.daum.net/\n",
            "https://www.naver.com/\n",
            "https://www.google.com/\n"
          ],
          "name": "stdout"
        }
      ]
    },
    {
      "cell_type": "code",
      "metadata": {
        "id": "8BcThrZEFZcR"
      },
      "source": [
        ""
      ],
      "execution_count": null,
      "outputs": []
    }
  ]
}