{
  "nbformat": 4,
  "nbformat_minor": 0,
  "metadata": {
    "colab": {
      "name": "python19_function.ipynb",
      "provenance": [],
      "collapsed_sections": [],
      "authorship_tag": "ABX9TyNv8a+0spvIHK4mngGQ4guQ",
      "include_colab_link": true
    },
    "kernelspec": {
      "name": "python3",
      "display_name": "Python 3"
    }
  },
  "cells": [
    {
      "cell_type": "markdown",
      "metadata": {
        "id": "view-in-github",
        "colab_type": "text"
      },
      "source": [
        "<a href=\"https://colab.research.google.com/github/JakeOh/202007_itw_bd18/blob/master/lab_python/python19_function.ipynb\" target=\"_parent\"><img src=\"https://colab.research.google.com/assets/colab-badge.svg\" alt=\"Open In Colab\"/></a>"
      ]
    },
    {
      "cell_type": "markdown",
      "metadata": {
        "id": "JflyAmnijlLe",
        "colab_type": "text"
      },
      "source": [
        "\n",
        "\n",
        "*   함수(function): *기능을 수행*해서 값을 반환(return)하는 코드 블록\n",
        "*   인수(argument): 함수를 호출(call, invoke)할 때 함수에게 전달하는 값(들)\n",
        "*   매개변수(parameter): argument를 저장하기 위해서, 함수를 정의할 때 선언하는 지역 변수\n",
        "\n"
      ]
    },
    {
      "cell_type": "code",
      "metadata": {
        "id": "KN0sYXdYjNtk",
        "colab_type": "code",
        "colab": {
          "base_uri": "https://localhost:8080/",
          "height": 38
        },
        "outputId": "885fa0e1-2b24-4154-b0ad-2c4a5ba58a2d"
      },
      "source": [
        "result = sum([1, 2, 3, 4, 5])\n",
        "print(result)"
      ],
      "execution_count": 1,
      "outputs": [
        {
          "output_type": "stream",
          "text": [
            "15\n"
          ],
          "name": "stdout"
        }
      ]
    },
    {
      "cell_type": "code",
      "metadata": {
        "id": "5tUhvGl9lh2N",
        "colab_type": "code",
        "colab": {
          "base_uri": "https://localhost:8080/",
          "height": 38
        },
        "outputId": "9d0961ba-906e-4e26-baaf-fecfd39752d0"
      },
      "source": [
        "result = pow(2, 3)  # 2 ** 3\n",
        "print(result)"
      ],
      "execution_count": 2,
      "outputs": [
        {
          "output_type": "stream",
          "text": [
            "8\n"
          ],
          "name": "stdout"
        }
      ]
    },
    {
      "cell_type": "code",
      "metadata": {
        "id": "-ZQWWlXlmLTE",
        "colab_type": "code",
        "colab": {
          "base_uri": "https://localhost:8080/",
          "height": 58
        },
        "outputId": "769c0792-e391-42a4-d3bc-d7b21001860b"
      },
      "source": [
        "result = print('hello')\n",
        "print(result)"
      ],
      "execution_count": 3,
      "outputs": [
        {
          "output_type": "stream",
          "text": [
            "hello\n",
            "None\n"
          ],
          "name": "stdout"
        }
      ]
    },
    {
      "cell_type": "markdown",
      "metadata": {
        "id": "H40UhaFjm77t",
        "colab_type": "text"
      },
      "source": [
        "**함수 정의 방법**\n",
        "\n",
        "```\n",
        "def function_name(param1, param2, ...):\n",
        "    \"\"\"\n",
        "    문서화 주석(documentation string, docstring): 함수에 대한 설명\n",
        "    \"\"\"\n",
        "    함수 기능 작성\n",
        "    [return 값]\n",
        "```\n"
      ]
    },
    {
      "cell_type": "code",
      "metadata": {
        "id": "e9U1EzchnXMS",
        "colab_type": "code",
        "colab": {}
      },
      "source": [
        "# 함수 정의(선언)\n",
        "def subtract_two(x, y):\n",
        "    \"\"\"\n",
        "    숫자 x와 y를 전달 받아서, x - y의 결과를 리턴하는 함수.\n",
        "    \"\"\"\n",
        "    return x - y"
      ],
      "execution_count": 9,
      "outputs": []
    },
    {
      "cell_type": "code",
      "metadata": {
        "id": "qtYYnLnYn8jd",
        "colab_type": "code",
        "colab": {
          "base_uri": "https://localhost:8080/",
          "height": 38
        },
        "outputId": "4e211e77-40e2-4030-dada-e0bb8c3e475d"
      },
      "source": [
        "result = subtract_two(1, 2)  # 함수 호출\n",
        "print(result)"
      ],
      "execution_count": 8,
      "outputs": [
        {
          "output_type": "stream",
          "text": [
            "-1\n"
          ],
          "name": "stdout"
        }
      ]
    }
  ]
}