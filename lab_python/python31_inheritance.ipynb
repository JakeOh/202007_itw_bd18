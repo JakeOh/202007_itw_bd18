{
  "nbformat": 4,
  "nbformat_minor": 0,
  "metadata": {
    "colab": {
      "name": "python31_inheritance.ipynb",
      "provenance": [],
      "collapsed_sections": [],
      "authorship_tag": "ABX9TyMUzgfdu714ubzfoskIUbtA",
      "include_colab_link": true
    },
    "kernelspec": {
      "name": "python3",
      "display_name": "Python 3"
    }
  },
  "cells": [
    {
      "cell_type": "markdown",
      "metadata": {
        "id": "view-in-github",
        "colab_type": "text"
      },
      "source": [
        "<a href=\"https://colab.research.google.com/github/JakeOh/202007_itw_bd18/blob/master/lab_python/python31_inheritance.ipynb\" target=\"_parent\"><img src=\"https://colab.research.google.com/assets/colab-badge.svg\" alt=\"Open In Colab\"/></a>"
      ]
    },
    {
      "cell_type": "markdown",
      "metadata": {
        "id": "IG8w5cZIiLch",
        "colab_type": "text"
      },
      "source": [
        "**상속(Inheritance)**\n",
        "\n",
        "*   Super class(상위 클래스), Parent class(부모 클래스), Base class(기본 클래스)\n",
        "*   Sub class(하위 클래스), Child class(자식 클래스), Derived class(유도 클래스)\n",
        "*   부모 클래스의 속성(attribute) 또는 기능(method) 코드들을 자식 클래스에 재활용(reuse)하는 것.\n",
        "*   IS-A 관계가 성립하는 객체들은 상속을 사용해서 구현함.\n",
        "    * 학생은 사람이다. (Student IS A Person.)\n",
        "    * 사람은 학생이다. (X)\n",
        "*   파이썬의 모든 클래스는 object 클래스를 상속받아서 만들어짐.\n",
        "\n",
        "```\n",
        "class ChildClass(ParentClass):\n",
        "    클래스 구현.\n",
        "```\n"
      ]
    },
    {
      "cell_type": "code",
      "metadata": {
        "id": "To3fBQwqiHCT",
        "colab_type": "code",
        "colab": {
          "base_uri": "https://localhost:8080/",
          "height": 58
        },
        "outputId": "42531a62-8521-4226-b9cd-dba538fa5ced"
      },
      "source": [
        "# class Parent(object):\n",
        "class Parent:\n",
        "    def __init__(self):\n",
        "        self.money = 10_000  # attribute\n",
        "\n",
        "    def get_money(self):\n",
        "        return self.money\n",
        "\n",
        "# Parent 클래스의 인스턴스를 생성\n",
        "parent = Parent()\n",
        "print(parent)\n",
        "print('money:', parent.get_money())\n"
      ],
      "execution_count": 8,
      "outputs": [
        {
          "output_type": "stream",
          "text": [
            "<__main__.Parent object at 0x7f78966e8908>\n",
            "money: 10000\n"
          ],
          "name": "stdout"
        }
      ]
    },
    {
      "cell_type": "code",
      "metadata": {
        "id": "iNLV8Stlm9LP",
        "colab_type": "code",
        "colab": {
          "base_uri": "https://localhost:8080/",
          "height": 79
        },
        "outputId": "294679d9-c08d-4a4e-c76f-5b5a7587c78d"
      },
      "source": [
        "class Child(Parent):  # Child 클래스는 Parent 클래스를 상속합니다.\n",
        "    def spend_all_money(self):\n",
        "        print(self.money, '원을 다 써버릴거야...')\n",
        "        self.money = 0\n",
        "\n",
        "\n",
        "# Child 클래스의 인스턴스 생성\n",
        "child = Child()\n",
        "print('child money:', child.money)\n",
        "\n",
        "child.spend_all_money()\n",
        "\n",
        "print('child get_money():', child.get_money())"
      ],
      "execution_count": 9,
      "outputs": [
        {
          "output_type": "stream",
          "text": [
            "child money: 10000\n",
            "10000 원을 다 써버릴거야...\n",
            "child get_money(): 0\n"
          ],
          "name": "stdout"
        }
      ]
    }
  ]
}