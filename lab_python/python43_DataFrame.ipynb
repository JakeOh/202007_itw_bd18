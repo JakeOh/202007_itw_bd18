{
  "nbformat": 4,
  "nbformat_minor": 0,
  "metadata": {
    "colab": {
      "name": "python43_DataFrame.ipynb",
      "provenance": [],
      "collapsed_sections": [],
      "authorship_tag": "ABX9TyPIIZS44uO69HXiMWexkyjq",
      "include_colab_link": true
    },
    "kernelspec": {
      "name": "python3",
      "display_name": "Python 3"
    }
  },
  "cells": [
    {
      "cell_type": "markdown",
      "metadata": {
        "id": "view-in-github",
        "colab_type": "text"
      },
      "source": [
        "<a href=\"https://colab.research.google.com/github/JakeOh/202007_itw_bd18/blob/master/lab_python/python43_DataFrame.ipynb\" target=\"_parent\"><img src=\"https://colab.research.google.com/assets/colab-badge.svg\" alt=\"Open In Colab\"/></a>"
      ]
    },
    {
      "cell_type": "code",
      "metadata": {
        "id": "ndSyuv1ChrNR",
        "colab_type": "code",
        "colab": {}
      },
      "source": [
        "import pandas as pd"
      ],
      "execution_count": 1,
      "outputs": []
    },
    {
      "cell_type": "code",
      "metadata": {
        "id": "h_mwl8G8h_Su",
        "colab_type": "code",
        "colab": {
          "base_uri": "https://localhost:8080/",
          "height": 58
        },
        "outputId": "90e41ae7-343a-4eba-aa93-6ec76dbe5363"
      },
      "source": [
        "data = {\n",
        "    'city': ['서울', '서울', '서울', '경기', '경기', '경기'],\n",
        "    'year': [2018, 2019, 2020, 2018, 2019, 2020],\n",
        "    'pop': [1.1, 1.2, 1.3, 1.5, 1.6, 1.4]\n",
        "}\n",
        "print(data)"
      ],
      "execution_count": 2,
      "outputs": [
        {
          "output_type": "stream",
          "text": [
            "{'city': ['서울', '서울', '서울', '경기', '경기', '경기'], 'year': [2018, 2019, 2020, 2018, 2019, 2020], 'pop': [1.1, 1.2, 1.3, 1.5, 1.6, 1.4]}\n"
          ],
          "name": "stdout"
        }
      ]
    },
    {
      "cell_type": "code",
      "metadata": {
        "id": "HI34s6bdjKJF",
        "colab_type": "code",
        "colab": {
          "base_uri": "https://localhost:8080/",
          "height": 162
        },
        "outputId": "07be1c3c-839c-45f6-bee7-67277194eeef"
      },
      "source": [
        "df = pd.DataFrame(data)\n",
        "print(df)"
      ],
      "execution_count": 3,
      "outputs": [
        {
          "output_type": "stream",
          "text": [
            "  city  year  pop\n",
            "0   서울  2018  1.1\n",
            "1   서울  2019  1.2\n",
            "2   서울  2020  1.3\n",
            "3   경기  2018  1.5\n",
            "4   경기  2019  1.6\n",
            "5   경기  2020  1.4\n"
          ],
          "name": "stdout"
        }
      ]
    },
    {
      "cell_type": "code",
      "metadata": {
        "id": "pN1ktmduj9HW",
        "colab_type": "code",
        "colab": {
          "base_uri": "https://localhost:8080/",
          "height": 242
        },
        "outputId": "dee73994-77b6-4560-9c15-00c012a2e841"
      },
      "source": [
        "df  # Jupyter Notebook은 데이터 프레임을 표 형식으로 출력해줌."
      ],
      "execution_count": 4,
      "outputs": [
        {
          "output_type": "execute_result",
          "data": {
            "text/html": [
              "<div>\n",
              "<style scoped>\n",
              "    .dataframe tbody tr th:only-of-type {\n",
              "        vertical-align: middle;\n",
              "    }\n",
              "\n",
              "    .dataframe tbody tr th {\n",
              "        vertical-align: top;\n",
              "    }\n",
              "\n",
              "    .dataframe thead th {\n",
              "        text-align: right;\n",
              "    }\n",
              "</style>\n",
              "<table border=\"1\" class=\"dataframe\">\n",
              "  <thead>\n",
              "    <tr style=\"text-align: right;\">\n",
              "      <th></th>\n",
              "      <th>city</th>\n",
              "      <th>year</th>\n",
              "      <th>pop</th>\n",
              "    </tr>\n",
              "  </thead>\n",
              "  <tbody>\n",
              "    <tr>\n",
              "      <th>0</th>\n",
              "      <td>서울</td>\n",
              "      <td>2018</td>\n",
              "      <td>1.1</td>\n",
              "    </tr>\n",
              "    <tr>\n",
              "      <th>1</th>\n",
              "      <td>서울</td>\n",
              "      <td>2019</td>\n",
              "      <td>1.2</td>\n",
              "    </tr>\n",
              "    <tr>\n",
              "      <th>2</th>\n",
              "      <td>서울</td>\n",
              "      <td>2020</td>\n",
              "      <td>1.3</td>\n",
              "    </tr>\n",
              "    <tr>\n",
              "      <th>3</th>\n",
              "      <td>경기</td>\n",
              "      <td>2018</td>\n",
              "      <td>1.5</td>\n",
              "    </tr>\n",
              "    <tr>\n",
              "      <th>4</th>\n",
              "      <td>경기</td>\n",
              "      <td>2019</td>\n",
              "      <td>1.6</td>\n",
              "    </tr>\n",
              "    <tr>\n",
              "      <th>5</th>\n",
              "      <td>경기</td>\n",
              "      <td>2020</td>\n",
              "      <td>1.4</td>\n",
              "    </tr>\n",
              "  </tbody>\n",
              "</table>\n",
              "</div>"
            ],
            "text/plain": [
              "  city  year  pop\n",
              "0   서울  2018  1.1\n",
              "1   서울  2019  1.2\n",
              "2   서울  2020  1.3\n",
              "3   경기  2018  1.5\n",
              "4   경기  2019  1.6\n",
              "5   경기  2020  1.4"
            ]
          },
          "metadata": {
            "tags": []
          },
          "execution_count": 4
        }
      ]
    },
    {
      "cell_type": "code",
      "metadata": {
        "id": "nw-25aqSkfes",
        "colab_type": "code",
        "colab": {
          "base_uri": "https://localhost:8080/",
          "height": 79
        },
        "outputId": "23ef145e-2022-44a0-d383-39114f7a14a7"
      },
      "source": [
        "# DataFrame 객체의 속성들(attributes)\n",
        "print('shape:', df.shape)  #> (row 개수, column 개수)\n",
        "print('index:', df.index)  #> (row) 인덱스\n",
        "print('columns:', df.columns)  #> column 이름들의 리스트"
      ],
      "execution_count": 7,
      "outputs": [
        {
          "output_type": "stream",
          "text": [
            "shape: (6, 3)\n",
            "index: RangeIndex(start=0, stop=6, step=1)\n",
            "columns: Index(['city', 'year', 'pop'], dtype='object')\n"
          ],
          "name": "stdout"
        }
      ]
    },
    {
      "cell_type": "code",
      "metadata": {
        "id": "mnvcduo0mOp1",
        "colab_type": "code",
        "colab": {
          "base_uri": "https://localhost:8080/",
          "height": 162
        },
        "outputId": "2fdc6187-3473-4f1d-8c32-2046c4f8b203"
      },
      "source": [
        "# DataFrame에서 컬럼 선택 -> pd.Series\n",
        "df['city']  # dictionary-like 방법"
      ],
      "execution_count": 12,
      "outputs": [
        {
          "output_type": "execute_result",
          "data": {
            "text/plain": [
              "0    서울\n",
              "1    서울\n",
              "2    서울\n",
              "3    경기\n",
              "4    경기\n",
              "5    경기\n",
              "Name: city, dtype: object"
            ]
          },
          "metadata": {
            "tags": []
          },
          "execution_count": 12
        }
      ]
    },
    {
      "cell_type": "code",
      "metadata": {
        "id": "wvKRiHT0m6mL",
        "colab_type": "code",
        "colab": {
          "base_uri": "https://localhost:8080/",
          "height": 162
        },
        "outputId": "f4883049-1eb0-46a2-cc8d-bb694f0875e5"
      },
      "source": [
        "df.city  # attribute-like 방법"
      ],
      "execution_count": 13,
      "outputs": [
        {
          "output_type": "execute_result",
          "data": {
            "text/plain": [
              "0    서울\n",
              "1    서울\n",
              "2    서울\n",
              "3    경기\n",
              "4    경기\n",
              "5    경기\n",
              "Name: city, dtype: object"
            ]
          },
          "metadata": {
            "tags": []
          },
          "execution_count": 13
        }
      ]
    },
    {
      "cell_type": "code",
      "metadata": {
        "id": "YUqKVN47pSQy",
        "colab_type": "code",
        "colab": {
          "base_uri": "https://localhost:8080/",
          "height": 162
        },
        "outputId": "b46e6b37-f706-4048-cd9e-3f58fbdafdb7"
      },
      "source": [
        "df.pop"
      ],
      "execution_count": 18,
      "outputs": [
        {
          "output_type": "execute_result",
          "data": {
            "text/plain": [
              "<bound method NDFrame.pop of   city  year  pop\n",
              "0   서울  2018  1.1\n",
              "1   서울  2019  1.2\n",
              "2   서울  2020  1.3\n",
              "3   경기  2018  1.5\n",
              "4   경기  2019  1.6\n",
              "5   경기  2020  1.4>"
            ]
          },
          "metadata": {
            "tags": []
          },
          "execution_count": 18
        }
      ]
    },
    {
      "cell_type": "markdown",
      "metadata": {
        "id": "VlGL5dDIn5tn",
        "colab_type": "text"
      },
      "source": [
        "DataFrame에서 컬럼 선택 방법:\n",
        "* dictionary-like 방법: df['column_name']\n",
        "* attribute-like 방법: df.column_name\n",
        "* dictionary-like 방법은 항상 가능!\n",
        "* attribute-like 방법은 안되는 경우도 있음!\n",
        "  * 컬럼 이름이 숫자로 시작하는 경우(변수 이름 규칙에 맞지 않는 경우)\n",
        "  * 컬럼 이름이 DataFrame 클래스의 메서드 이름이나 다른 속성 이름과 겹치는 경우."
      ]
    },
    {
      "cell_type": "code",
      "metadata": {
        "id": "gBxH-UtTn4Bs",
        "colab_type": "code",
        "colab": {
          "base_uri": "https://localhost:8080/",
          "height": 146
        },
        "outputId": "9ea2b0c6-37ff-492e-946e-7b1b441b5edf"
      },
      "source": [
        "df2 = pd.DataFrame({'1x': [1, 2, 3], '2x': [2, 4, 6], '3x': [3, 6, 9]})\n",
        "df2"
      ],
      "execution_count": 15,
      "outputs": [
        {
          "output_type": "execute_result",
          "data": {
            "text/html": [
              "<div>\n",
              "<style scoped>\n",
              "    .dataframe tbody tr th:only-of-type {\n",
              "        vertical-align: middle;\n",
              "    }\n",
              "\n",
              "    .dataframe tbody tr th {\n",
              "        vertical-align: top;\n",
              "    }\n",
              "\n",
              "    .dataframe thead th {\n",
              "        text-align: right;\n",
              "    }\n",
              "</style>\n",
              "<table border=\"1\" class=\"dataframe\">\n",
              "  <thead>\n",
              "    <tr style=\"text-align: right;\">\n",
              "      <th></th>\n",
              "      <th>1x</th>\n",
              "      <th>2x</th>\n",
              "      <th>3x</th>\n",
              "    </tr>\n",
              "  </thead>\n",
              "  <tbody>\n",
              "    <tr>\n",
              "      <th>0</th>\n",
              "      <td>1</td>\n",
              "      <td>2</td>\n",
              "      <td>3</td>\n",
              "    </tr>\n",
              "    <tr>\n",
              "      <th>1</th>\n",
              "      <td>2</td>\n",
              "      <td>4</td>\n",
              "      <td>6</td>\n",
              "    </tr>\n",
              "    <tr>\n",
              "      <th>2</th>\n",
              "      <td>3</td>\n",
              "      <td>6</td>\n",
              "      <td>9</td>\n",
              "    </tr>\n",
              "  </tbody>\n",
              "</table>\n",
              "</div>"
            ],
            "text/plain": [
              "   1x  2x  3x\n",
              "0   1   2   3\n",
              "1   2   4   6\n",
              "2   3   6   9"
            ]
          },
          "metadata": {
            "tags": []
          },
          "execution_count": 15
        }
      ]
    },
    {
      "cell_type": "code",
      "metadata": {
        "id": "mkwb0LxioxBs",
        "colab_type": "code",
        "colab": {
          "base_uri": "https://localhost:8080/",
          "height": 100
        },
        "outputId": "b898d62d-b582-441e-a7d4-b8c52b4ef8b3"
      },
      "source": [
        "df2['1x']"
      ],
      "execution_count": 16,
      "outputs": [
        {
          "output_type": "execute_result",
          "data": {
            "text/plain": [
              "0    1\n",
              "1    2\n",
              "2    3\n",
              "Name: 1x, dtype: int64"
            ]
          },
          "metadata": {
            "tags": []
          },
          "execution_count": 16
        }
      ]
    },
    {
      "cell_type": "code",
      "metadata": {
        "id": "Hgp5pamro6O6",
        "colab_type": "code",
        "colab": {
          "base_uri": "https://localhost:8080/",
          "height": 154
        },
        "outputId": "c304c614-f549-4e6e-9410-507f816b1b0d"
      },
      "source": [
        "df2.1x"
      ],
      "execution_count": 17,
      "outputs": [
        {
          "output_type": "error",
          "ename": "SyntaxError",
          "evalue": "ignored",
          "traceback": [
            "\u001b[0;36m  File \u001b[0;32m\"<ipython-input-17-b4c31a353106>\"\u001b[0;36m, line \u001b[0;32m1\u001b[0m\n\u001b[0;31m    df2.1x\u001b[0m\n\u001b[0m        ^\u001b[0m\n\u001b[0;31mSyntaxError\u001b[0m\u001b[0;31m:\u001b[0m invalid syntax\n"
          ]
        }
      ]
    }
  ]
}