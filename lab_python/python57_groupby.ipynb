{
  "nbformat": 4,
  "nbformat_minor": 0,
  "metadata": {
    "colab": {
      "name": "python57_groupby.ipynb",
      "provenance": [],
      "collapsed_sections": [],
      "authorship_tag": "ABX9TyO8AsGtL+mEakMg7C4PIJOT",
      "include_colab_link": true
    },
    "kernelspec": {
      "name": "python3",
      "display_name": "Python 3"
    }
  },
  "cells": [
    {
      "cell_type": "markdown",
      "metadata": {
        "id": "view-in-github",
        "colab_type": "text"
      },
      "source": [
        "<a href=\"https://colab.research.google.com/github/JakeOh/202007_itw_bd18/blob/master/lab_python/python57_groupby.ipynb\" target=\"_parent\"><img src=\"https://colab.research.google.com/assets/colab-badge.svg\" alt=\"Open In Colab\"/></a>"
      ]
    },
    {
      "cell_type": "code",
      "metadata": {
        "id": "f064GMmc2GvQ"
      },
      "source": [
        "import numpy as np\n",
        "import pandas as pd\n",
        "import matplotlib.pyplot as plt\n",
        "import seaborn as sns"
      ],
      "execution_count": 1,
      "outputs": []
    },
    {
      "cell_type": "code",
      "metadata": {
        "id": "FrkBVksX2vO9"
      },
      "source": [
        "tips = sns.load_dataset('tips')"
      ],
      "execution_count": 2,
      "outputs": []
    },
    {
      "cell_type": "code",
      "metadata": {
        "id": "k6WYJaFq27gr",
        "outputId": "b6de56be-8cf8-4418-85ff-dd3bb601ec21",
        "colab": {
          "base_uri": "https://localhost:8080/",
          "height": 433
        }
      },
      "source": [
        "tips"
      ],
      "execution_count": 3,
      "outputs": [
        {
          "output_type": "execute_result",
          "data": {
            "text/html": [
              "<div>\n",
              "<style scoped>\n",
              "    .dataframe tbody tr th:only-of-type {\n",
              "        vertical-align: middle;\n",
              "    }\n",
              "\n",
              "    .dataframe tbody tr th {\n",
              "        vertical-align: top;\n",
              "    }\n",
              "\n",
              "    .dataframe thead th {\n",
              "        text-align: right;\n",
              "    }\n",
              "</style>\n",
              "<table border=\"1\" class=\"dataframe\">\n",
              "  <thead>\n",
              "    <tr style=\"text-align: right;\">\n",
              "      <th></th>\n",
              "      <th>total_bill</th>\n",
              "      <th>tip</th>\n",
              "      <th>sex</th>\n",
              "      <th>smoker</th>\n",
              "      <th>day</th>\n",
              "      <th>time</th>\n",
              "      <th>size</th>\n",
              "    </tr>\n",
              "  </thead>\n",
              "  <tbody>\n",
              "    <tr>\n",
              "      <th>0</th>\n",
              "      <td>16.99</td>\n",
              "      <td>1.01</td>\n",
              "      <td>Female</td>\n",
              "      <td>No</td>\n",
              "      <td>Sun</td>\n",
              "      <td>Dinner</td>\n",
              "      <td>2</td>\n",
              "    </tr>\n",
              "    <tr>\n",
              "      <th>1</th>\n",
              "      <td>10.34</td>\n",
              "      <td>1.66</td>\n",
              "      <td>Male</td>\n",
              "      <td>No</td>\n",
              "      <td>Sun</td>\n",
              "      <td>Dinner</td>\n",
              "      <td>3</td>\n",
              "    </tr>\n",
              "    <tr>\n",
              "      <th>2</th>\n",
              "      <td>21.01</td>\n",
              "      <td>3.50</td>\n",
              "      <td>Male</td>\n",
              "      <td>No</td>\n",
              "      <td>Sun</td>\n",
              "      <td>Dinner</td>\n",
              "      <td>3</td>\n",
              "    </tr>\n",
              "    <tr>\n",
              "      <th>3</th>\n",
              "      <td>23.68</td>\n",
              "      <td>3.31</td>\n",
              "      <td>Male</td>\n",
              "      <td>No</td>\n",
              "      <td>Sun</td>\n",
              "      <td>Dinner</td>\n",
              "      <td>2</td>\n",
              "    </tr>\n",
              "    <tr>\n",
              "      <th>4</th>\n",
              "      <td>24.59</td>\n",
              "      <td>3.61</td>\n",
              "      <td>Female</td>\n",
              "      <td>No</td>\n",
              "      <td>Sun</td>\n",
              "      <td>Dinner</td>\n",
              "      <td>4</td>\n",
              "    </tr>\n",
              "    <tr>\n",
              "      <th>...</th>\n",
              "      <td>...</td>\n",
              "      <td>...</td>\n",
              "      <td>...</td>\n",
              "      <td>...</td>\n",
              "      <td>...</td>\n",
              "      <td>...</td>\n",
              "      <td>...</td>\n",
              "    </tr>\n",
              "    <tr>\n",
              "      <th>239</th>\n",
              "      <td>29.03</td>\n",
              "      <td>5.92</td>\n",
              "      <td>Male</td>\n",
              "      <td>No</td>\n",
              "      <td>Sat</td>\n",
              "      <td>Dinner</td>\n",
              "      <td>3</td>\n",
              "    </tr>\n",
              "    <tr>\n",
              "      <th>240</th>\n",
              "      <td>27.18</td>\n",
              "      <td>2.00</td>\n",
              "      <td>Female</td>\n",
              "      <td>Yes</td>\n",
              "      <td>Sat</td>\n",
              "      <td>Dinner</td>\n",
              "      <td>2</td>\n",
              "    </tr>\n",
              "    <tr>\n",
              "      <th>241</th>\n",
              "      <td>22.67</td>\n",
              "      <td>2.00</td>\n",
              "      <td>Male</td>\n",
              "      <td>Yes</td>\n",
              "      <td>Sat</td>\n",
              "      <td>Dinner</td>\n",
              "      <td>2</td>\n",
              "    </tr>\n",
              "    <tr>\n",
              "      <th>242</th>\n",
              "      <td>17.82</td>\n",
              "      <td>1.75</td>\n",
              "      <td>Male</td>\n",
              "      <td>No</td>\n",
              "      <td>Sat</td>\n",
              "      <td>Dinner</td>\n",
              "      <td>2</td>\n",
              "    </tr>\n",
              "    <tr>\n",
              "      <th>243</th>\n",
              "      <td>18.78</td>\n",
              "      <td>3.00</td>\n",
              "      <td>Female</td>\n",
              "      <td>No</td>\n",
              "      <td>Thur</td>\n",
              "      <td>Dinner</td>\n",
              "      <td>2</td>\n",
              "    </tr>\n",
              "  </tbody>\n",
              "</table>\n",
              "<p>244 rows × 7 columns</p>\n",
              "</div>"
            ],
            "text/plain": [
              "     total_bill   tip     sex smoker   day    time  size\n",
              "0         16.99  1.01  Female     No   Sun  Dinner     2\n",
              "1         10.34  1.66    Male     No   Sun  Dinner     3\n",
              "2         21.01  3.50    Male     No   Sun  Dinner     3\n",
              "3         23.68  3.31    Male     No   Sun  Dinner     2\n",
              "4         24.59  3.61  Female     No   Sun  Dinner     4\n",
              "..          ...   ...     ...    ...   ...     ...   ...\n",
              "239       29.03  5.92    Male     No   Sat  Dinner     3\n",
              "240       27.18  2.00  Female    Yes   Sat  Dinner     2\n",
              "241       22.67  2.00    Male    Yes   Sat  Dinner     2\n",
              "242       17.82  1.75    Male     No   Sat  Dinner     2\n",
              "243       18.78  3.00  Female     No  Thur  Dinner     2\n",
              "\n",
              "[244 rows x 7 columns]"
            ]
          },
          "metadata": {
            "tags": []
          },
          "execution_count": 3
        }
      ]
    },
    {
      "cell_type": "markdown",
      "metadata": {
        "id": "UyQGCBrE3YNT"
      },
      "source": [
        "성별 팁의 평균"
      ]
    },
    {
      "cell_type": "code",
      "metadata": {
        "id": "3u0ndkWl2-uz",
        "outputId": "ef990a09-291e-42d0-fb3e-52ce421992c5",
        "colab": {
          "base_uri": "https://localhost:8080/"
        }
      },
      "source": [
        "# 성별이 남성인 부분집합에서 팁 컬럼의 평균을 계산.\n",
        "tip_male = tips[tips['sex'] == 'Male']['tip'].mean()\n",
        "tip_male"
      ],
      "execution_count": 7,
      "outputs": [
        {
          "output_type": "execute_result",
          "data": {
            "text/plain": [
              "3.0896178343949052"
            ]
          },
          "metadata": {
            "tags": []
          },
          "execution_count": 7
        }
      ]
    },
    {
      "cell_type": "code",
      "metadata": {
        "id": "NkQYsF-r3yS6",
        "outputId": "f7bd184d-d81b-49f6-a098-0a93b57aaa00",
        "colab": {
          "base_uri": "https://localhost:8080/"
        }
      },
      "source": [
        "tip_female = tips[tips['sex'] == 'Female']['tip'].mean()\n",
        "tip_female"
      ],
      "execution_count": 8,
      "outputs": [
        {
          "output_type": "execute_result",
          "data": {
            "text/plain": [
              "2.833448275862069"
            ]
          },
          "metadata": {
            "tags": []
          },
          "execution_count": 8
        }
      ]
    },
    {
      "cell_type": "code",
      "metadata": {
        "id": "rOvloxif4C6x",
        "outputId": "e012819c-856d-4cb1-df7d-9d2e8d4fe9e1",
        "colab": {
          "base_uri": "https://localhost:8080/"
        }
      },
      "source": [
        "pd.Series(data=[tip_male, tip_female], index=['Male', 'Female'])"
      ],
      "execution_count": 9,
      "outputs": [
        {
          "output_type": "execute_result",
          "data": {
            "text/plain": [
              "Male      3.089618\n",
              "Female    2.833448\n",
              "dtype: float64"
            ]
          },
          "metadata": {
            "tags": []
          },
          "execution_count": 9
        }
      ]
    },
    {
      "cell_type": "code",
      "metadata": {
        "id": "btHwEsZ74lpB",
        "outputId": "5351a1bc-113f-4ace-e21b-5ea90198be75",
        "colab": {
          "base_uri": "https://localhost:8080/"
        }
      },
      "source": [
        "genders = tips['sex'].unique()  #> ['Female', 'Male']\n",
        "tip_by_gender = []  # 성별 팁의 평균들을 저장할 리스트\n",
        "for gender in genders:\n",
        "    tip_mean = tips[tips['sex'] == gender]['tip'].mean()\n",
        "    tip_by_gender.append(tip_mean)\n",
        "\n",
        "s = pd.Series(data=tip_by_gender, index=genders)\n",
        "s"
      ],
      "execution_count": 18,
      "outputs": [
        {
          "output_type": "execute_result",
          "data": {
            "text/plain": [
              "Female    2.833448\n",
              "Male      3.089618\n",
              "dtype: float64"
            ]
          },
          "metadata": {
            "tags": []
          },
          "execution_count": 18
        }
      ]
    },
    {
      "cell_type": "code",
      "metadata": {
        "id": "95V4lnwt4s1h"
      },
      "source": [
        "def group_by_mean(df, by, value):\n",
        "    \"\"\"데이터 프레임 df에서 컬럼(by)별 변수(value)의 평균을 계산해서 Series를 리턴\"\"\"\n",
        "    categories = df[by].unique()\n",
        "    value_by_cat = []\n",
        "    for cat in categories:\n",
        "        subset = df[df[by] == cat]  # split(데이터 프레임을 부분집합으로 \"분리\")\n",
        "        mean = subset[value].mean()  # apply(각각의 부분집합에 통계 함수를 \"적용\")\n",
        "        value_by_cat.append(mean)\n",
        "\n",
        "    s = pd.Series(data=value_by_cat, index=categories)  # combine(결과를 하나로 \"합침\")\n",
        "    \n",
        "    return s"
      ],
      "execution_count": 27,
      "outputs": []
    },
    {
      "cell_type": "code",
      "metadata": {
        "id": "fNhboMWn7tgQ",
        "outputId": "32a2507a-960c-406e-cdd0-a40c1e9e7a95",
        "colab": {
          "base_uri": "https://localhost:8080/"
        }
      },
      "source": [
        "group_by_mean(df=tips, by='sex', value='tip')"
      ],
      "execution_count": 28,
      "outputs": [
        {
          "output_type": "execute_result",
          "data": {
            "text/plain": [
              "Female    2.833448\n",
              "Male      3.089618\n",
              "dtype: float64"
            ]
          },
          "metadata": {
            "tags": []
          },
          "execution_count": 28
        }
      ]
    },
    {
      "cell_type": "code",
      "metadata": {
        "id": "0qBAlOn677Ho",
        "outputId": "d92f073e-1484-4d63-ff9f-7d21370b728c",
        "colab": {
          "base_uri": "https://localhost:8080/"
        }
      },
      "source": [
        "group_by_mean(df=tips, by='day', value='tip')"
      ],
      "execution_count": 29,
      "outputs": [
        {
          "output_type": "execute_result",
          "data": {
            "text/plain": [
              "Sun     3.255132\n",
              "Sat     2.993103\n",
              "Thur    2.771452\n",
              "Fri     2.734737\n",
              "dtype: float64"
            ]
          },
          "metadata": {
            "tags": []
          },
          "execution_count": 29
        }
      ]
    },
    {
      "cell_type": "code",
      "metadata": {
        "id": "BUuDdm808CWi",
        "outputId": "a68e9a10-8ea9-4e73-c468-06902749fc00",
        "colab": {
          "base_uri": "https://localhost:8080/"
        }
      },
      "source": [
        "group_by_mean(df=tips, by='day', value='total_bill')"
      ],
      "execution_count": 30,
      "outputs": [
        {
          "output_type": "execute_result",
          "data": {
            "text/plain": [
              "Sun     21.410000\n",
              "Sat     20.441379\n",
              "Thur    17.682742\n",
              "Fri     17.151579\n",
              "dtype: float64"
            ]
          },
          "metadata": {
            "tags": []
          },
          "execution_count": 30
        }
      ]
    },
    {
      "cell_type": "markdown",
      "metadata": {
        "id": "3fqs0EUGDJXH"
      },
      "source": [
        "성별 팁의 평균: pivot_table 함수 사용"
      ]
    },
    {
      "cell_type": "code",
      "metadata": {
        "id": "M07Oi5pGDPVz",
        "outputId": "9b0ea6b1-417b-434f-bf31-47e959419c53",
        "colab": {
          "base_uri": "https://localhost:8080/",
          "height": 146
        }
      },
      "source": [
        "tips.pivot_table(values='tip', index='sex', aggfunc=np.mean)\n",
        "# pd.DataFrame을 리턴!"
      ],
      "execution_count": 31,
      "outputs": [
        {
          "output_type": "execute_result",
          "data": {
            "text/html": [
              "<div>\n",
              "<style scoped>\n",
              "    .dataframe tbody tr th:only-of-type {\n",
              "        vertical-align: middle;\n",
              "    }\n",
              "\n",
              "    .dataframe tbody tr th {\n",
              "        vertical-align: top;\n",
              "    }\n",
              "\n",
              "    .dataframe thead th {\n",
              "        text-align: right;\n",
              "    }\n",
              "</style>\n",
              "<table border=\"1\" class=\"dataframe\">\n",
              "  <thead>\n",
              "    <tr style=\"text-align: right;\">\n",
              "      <th></th>\n",
              "      <th>tip</th>\n",
              "    </tr>\n",
              "    <tr>\n",
              "      <th>sex</th>\n",
              "      <th></th>\n",
              "    </tr>\n",
              "  </thead>\n",
              "  <tbody>\n",
              "    <tr>\n",
              "      <th>Male</th>\n",
              "      <td>3.089618</td>\n",
              "    </tr>\n",
              "    <tr>\n",
              "      <th>Female</th>\n",
              "      <td>2.833448</td>\n",
              "    </tr>\n",
              "  </tbody>\n",
              "</table>\n",
              "</div>"
            ],
            "text/plain": [
              "             tip\n",
              "sex             \n",
              "Male    3.089618\n",
              "Female  2.833448"
            ]
          },
          "metadata": {
            "tags": []
          },
          "execution_count": 31
        }
      ]
    },
    {
      "cell_type": "markdown",
      "metadata": {
        "id": "klXbl7HKEF-a"
      },
      "source": [
        "성별 팁의 평균: groupby 함수 사용"
      ]
    },
    {
      "cell_type": "code",
      "metadata": {
        "id": "ScsORWvJEE-X",
        "outputId": "e5cda8ae-ae19-4341-fc40-12e235a7c1cb",
        "colab": {
          "base_uri": "https://localhost:8080/"
        }
      },
      "source": [
        "grouped = tips.groupby(by='sex')  # splitting\n",
        "grouped"
      ],
      "execution_count": 32,
      "outputs": [
        {
          "output_type": "execute_result",
          "data": {
            "text/plain": [
              "<pandas.core.groupby.generic.DataFrameGroupBy object at 0x7f790e1cc2e8>"
            ]
          },
          "metadata": {
            "tags": []
          },
          "execution_count": 32
        }
      ]
    },
    {
      "cell_type": "code",
      "metadata": {
        "id": "viOFEJmmFwt3",
        "outputId": "a2fb5e4b-0cf0-40c4-9a5e-6d1355138ea3",
        "colab": {
          "base_uri": "https://localhost:8080/"
        }
      },
      "source": [
        "for x in grouped:\n",
        "    print(x)  #> (by, subset)\n",
        "    print('*' * 50, '\\n')"
      ],
      "execution_count": 34,
      "outputs": [
        {
          "output_type": "stream",
          "text": [
            "('Male',      total_bill   tip   sex smoker  day    time  size\n",
            "1         10.34  1.66  Male     No  Sun  Dinner     3\n",
            "2         21.01  3.50  Male     No  Sun  Dinner     3\n",
            "3         23.68  3.31  Male     No  Sun  Dinner     2\n",
            "5         25.29  4.71  Male     No  Sun  Dinner     4\n",
            "6          8.77  2.00  Male     No  Sun  Dinner     2\n",
            "..          ...   ...   ...    ...  ...     ...   ...\n",
            "236       12.60  1.00  Male    Yes  Sat  Dinner     2\n",
            "237       32.83  1.17  Male    Yes  Sat  Dinner     2\n",
            "239       29.03  5.92  Male     No  Sat  Dinner     3\n",
            "241       22.67  2.00  Male    Yes  Sat  Dinner     2\n",
            "242       17.82  1.75  Male     No  Sat  Dinner     2\n",
            "\n",
            "[157 rows x 7 columns])\n",
            "************************************************** \n",
            "\n",
            "('Female',      total_bill   tip     sex smoker   day    time  size\n",
            "0         16.99  1.01  Female     No   Sun  Dinner     2\n",
            "4         24.59  3.61  Female     No   Sun  Dinner     4\n",
            "11        35.26  5.00  Female     No   Sun  Dinner     4\n",
            "14        14.83  3.02  Female     No   Sun  Dinner     2\n",
            "16        10.33  1.67  Female     No   Sun  Dinner     3\n",
            "..          ...   ...     ...    ...   ...     ...   ...\n",
            "226       10.09  2.00  Female    Yes   Fri   Lunch     2\n",
            "229       22.12  2.88  Female    Yes   Sat  Dinner     2\n",
            "238       35.83  4.67  Female     No   Sat  Dinner     3\n",
            "240       27.18  2.00  Female    Yes   Sat  Dinner     2\n",
            "243       18.78  3.00  Female     No  Thur  Dinner     2\n",
            "\n",
            "[87 rows x 7 columns])\n",
            "************************************************** \n",
            "\n"
          ],
          "name": "stdout"
        }
      ]
    },
    {
      "cell_type": "code",
      "metadata": {
        "id": "ESDaitJRG6lv",
        "outputId": "879a1766-2af3-46b4-e6d6-4ebcbd47ac02",
        "colab": {
          "base_uri": "https://localhost:8080/"
        }
      },
      "source": [
        "for by, subset in grouped:\n",
        "    print('category:', by)\n",
        "    print(subset)\n",
        "    print('*' * 50, '\\n')"
      ],
      "execution_count": 35,
      "outputs": [
        {
          "output_type": "stream",
          "text": [
            "category: Male\n",
            "     total_bill   tip   sex smoker  day    time  size\n",
            "1         10.34  1.66  Male     No  Sun  Dinner     3\n",
            "2         21.01  3.50  Male     No  Sun  Dinner     3\n",
            "3         23.68  3.31  Male     No  Sun  Dinner     2\n",
            "5         25.29  4.71  Male     No  Sun  Dinner     4\n",
            "6          8.77  2.00  Male     No  Sun  Dinner     2\n",
            "..          ...   ...   ...    ...  ...     ...   ...\n",
            "236       12.60  1.00  Male    Yes  Sat  Dinner     2\n",
            "237       32.83  1.17  Male    Yes  Sat  Dinner     2\n",
            "239       29.03  5.92  Male     No  Sat  Dinner     3\n",
            "241       22.67  2.00  Male    Yes  Sat  Dinner     2\n",
            "242       17.82  1.75  Male     No  Sat  Dinner     2\n",
            "\n",
            "[157 rows x 7 columns]\n",
            "************************************************** \n",
            "\n",
            "category: Female\n",
            "     total_bill   tip     sex smoker   day    time  size\n",
            "0         16.99  1.01  Female     No   Sun  Dinner     2\n",
            "4         24.59  3.61  Female     No   Sun  Dinner     4\n",
            "11        35.26  5.00  Female     No   Sun  Dinner     4\n",
            "14        14.83  3.02  Female     No   Sun  Dinner     2\n",
            "16        10.33  1.67  Female     No   Sun  Dinner     3\n",
            "..          ...   ...     ...    ...   ...     ...   ...\n",
            "226       10.09  2.00  Female    Yes   Fri   Lunch     2\n",
            "229       22.12  2.88  Female    Yes   Sat  Dinner     2\n",
            "238       35.83  4.67  Female     No   Sat  Dinner     3\n",
            "240       27.18  2.00  Female    Yes   Sat  Dinner     2\n",
            "243       18.78  3.00  Female     No  Thur  Dinner     2\n",
            "\n",
            "[87 rows x 7 columns]\n",
            "************************************************** \n",
            "\n"
          ],
          "name": "stdout"
        }
      ]
    },
    {
      "cell_type": "code",
      "metadata": {
        "id": "bWJ_mZeDHf81",
        "outputId": "8ce9311c-c1a4-4db6-a939-763ea06706dd",
        "colab": {
          "base_uri": "https://localhost:8080/"
        }
      },
      "source": [
        "# apply-combine\n",
        "grouped['tip'].mean()  # pandas.Series 리턴."
      ],
      "execution_count": 36,
      "outputs": [
        {
          "output_type": "execute_result",
          "data": {
            "text/plain": [
              "sex\n",
              "Male      3.089618\n",
              "Female    2.833448\n",
              "Name: tip, dtype: float64"
            ]
          },
          "metadata": {
            "tags": []
          },
          "execution_count": 36
        }
      ]
    },
    {
      "cell_type": "code",
      "metadata": {
        "id": "laJWW7Z4IL5W",
        "outputId": "dc4d74eb-c222-41e1-8c62-89e5827a02d7",
        "colab": {
          "base_uri": "https://localhost:8080/"
        }
      },
      "source": [
        "tips.groupby('sex')['tip'].mean()"
      ],
      "execution_count": 37,
      "outputs": [
        {
          "output_type": "execute_result",
          "data": {
            "text/plain": [
              "sex\n",
              "Male      3.089618\n",
              "Female    2.833448\n",
              "Name: tip, dtype: float64"
            ]
          },
          "metadata": {
            "tags": []
          },
          "execution_count": 37
        }
      ]
    },
    {
      "cell_type": "code",
      "metadata": {
        "id": "sHGcZVjpInBb",
        "outputId": "bed0f6c0-4613-4c97-e8ae-68fd87f82395",
        "colab": {
          "base_uri": "https://localhost:8080/",
          "height": 146
        }
      },
      "source": [
        "# 성별 영수증금액, 팁의 평균\n",
        "tips.groupby('sex')[['total_bill', 'tip']].mean()"
      ],
      "execution_count": 38,
      "outputs": [
        {
          "output_type": "execute_result",
          "data": {
            "text/html": [
              "<div>\n",
              "<style scoped>\n",
              "    .dataframe tbody tr th:only-of-type {\n",
              "        vertical-align: middle;\n",
              "    }\n",
              "\n",
              "    .dataframe tbody tr th {\n",
              "        vertical-align: top;\n",
              "    }\n",
              "\n",
              "    .dataframe thead th {\n",
              "        text-align: right;\n",
              "    }\n",
              "</style>\n",
              "<table border=\"1\" class=\"dataframe\">\n",
              "  <thead>\n",
              "    <tr style=\"text-align: right;\">\n",
              "      <th></th>\n",
              "      <th>total_bill</th>\n",
              "      <th>tip</th>\n",
              "    </tr>\n",
              "    <tr>\n",
              "      <th>sex</th>\n",
              "      <th></th>\n",
              "      <th></th>\n",
              "    </tr>\n",
              "  </thead>\n",
              "  <tbody>\n",
              "    <tr>\n",
              "      <th>Male</th>\n",
              "      <td>20.744076</td>\n",
              "      <td>3.089618</td>\n",
              "    </tr>\n",
              "    <tr>\n",
              "      <th>Female</th>\n",
              "      <td>18.056897</td>\n",
              "      <td>2.833448</td>\n",
              "    </tr>\n",
              "  </tbody>\n",
              "</table>\n",
              "</div>"
            ],
            "text/plain": [
              "        total_bill       tip\n",
              "sex                         \n",
              "Male     20.744076  3.089618\n",
              "Female   18.056897  2.833448"
            ]
          },
          "metadata": {
            "tags": []
          },
          "execution_count": 38
        }
      ]
    },
    {
      "cell_type": "code",
      "metadata": {
        "id": "meNpgEYWJYiG",
        "outputId": "5ed9f76e-3371-4c84-b8f4-998074dc3d45",
        "colab": {
          "base_uri": "https://localhost:8080/",
          "height": 146
        }
      },
      "source": [
        "tips.pivot_table(values=['total_bill', 'tip'], index='sex', aggfunc=np.mean)"
      ],
      "execution_count": 39,
      "outputs": [
        {
          "output_type": "execute_result",
          "data": {
            "text/html": [
              "<div>\n",
              "<style scoped>\n",
              "    .dataframe tbody tr th:only-of-type {\n",
              "        vertical-align: middle;\n",
              "    }\n",
              "\n",
              "    .dataframe tbody tr th {\n",
              "        vertical-align: top;\n",
              "    }\n",
              "\n",
              "    .dataframe thead th {\n",
              "        text-align: right;\n",
              "    }\n",
              "</style>\n",
              "<table border=\"1\" class=\"dataframe\">\n",
              "  <thead>\n",
              "    <tr style=\"text-align: right;\">\n",
              "      <th></th>\n",
              "      <th>tip</th>\n",
              "      <th>total_bill</th>\n",
              "    </tr>\n",
              "    <tr>\n",
              "      <th>sex</th>\n",
              "      <th></th>\n",
              "      <th></th>\n",
              "    </tr>\n",
              "  </thead>\n",
              "  <tbody>\n",
              "    <tr>\n",
              "      <th>Male</th>\n",
              "      <td>3.089618</td>\n",
              "      <td>20.744076</td>\n",
              "    </tr>\n",
              "    <tr>\n",
              "      <th>Female</th>\n",
              "      <td>2.833448</td>\n",
              "      <td>18.056897</td>\n",
              "    </tr>\n",
              "  </tbody>\n",
              "</table>\n",
              "</div>"
            ],
            "text/plain": [
              "             tip  total_bill\n",
              "sex                         \n",
              "Male    3.089618   20.744076\n",
              "Female  2.833448   18.056897"
            ]
          },
          "metadata": {
            "tags": []
          },
          "execution_count": 39
        }
      ]
    }
  ]
}