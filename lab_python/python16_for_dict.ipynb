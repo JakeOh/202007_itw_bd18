{
  "nbformat": 4,
  "nbformat_minor": 0,
  "metadata": {
    "colab": {
      "name": "python16_for_dict.ipynb",
      "provenance": [],
      "collapsed_sections": [],
      "authorship_tag": "ABX9TyOjWdOJu0jEFtzj7XjKrGTK",
      "include_colab_link": true
    },
    "kernelspec": {
      "name": "python3",
      "display_name": "Python 3"
    }
  },
  "cells": [
    {
      "cell_type": "markdown",
      "metadata": {
        "id": "view-in-github",
        "colab_type": "text"
      },
      "source": [
        "<a href=\"https://colab.research.google.com/github/JakeOh/202007_itw_bd18/blob/master/lab_python/python16_for_dict.ipynb\" target=\"_parent\"><img src=\"https://colab.research.google.com/assets/colab-badge.svg\" alt=\"Open In Colab\"/></a>"
      ]
    },
    {
      "cell_type": "markdown",
      "metadata": {
        "id": "4Xzg4q4cDVOg",
        "colab_type": "text"
      },
      "source": [
        "**dict 타입이 for 구문에서 사용될 때**"
      ]
    },
    {
      "cell_type": "code",
      "metadata": {
        "id": "ZrLHVfCCDKjy",
        "colab_type": "code",
        "colab": {
          "base_uri": "https://localhost:8080/",
          "height": 72
        },
        "outputId": "be2324a8-dd9a-4a3a-e73a-3c8570483b64"
      },
      "source": [
        "students = {1: 'abc', 10: 'def', 100: 'ghi'}\n",
        "for k in students:\n",
        "    print(k)\n",
        "    # for-in 구문에서 dict 타입을 사용하면 key에 대해서 iteration(반복)이 됨."
      ],
      "execution_count": null,
      "outputs": [
        {
          "output_type": "stream",
          "text": [
            "1\n",
            "10\n",
            "100\n"
          ],
          "name": "stdout"
        }
      ]
    },
    {
      "cell_type": "code",
      "metadata": {
        "id": "oYUdQ03fFQXg",
        "colab_type": "code",
        "colab": {
          "base_uri": "https://localhost:8080/",
          "height": 72
        },
        "outputId": "1c10bf4f-255a-475b-90b8-0ddb0501f5e9"
      },
      "source": [
        "# students의 value(값)들을 출력\n",
        "for k in students:\n",
        "    print(students[k])"
      ],
      "execution_count": null,
      "outputs": [
        {
          "output_type": "stream",
          "text": [
            "abc\n",
            "def\n",
            "ghi\n"
          ],
          "name": "stdout"
        }
      ]
    },
    {
      "cell_type": "code",
      "metadata": {
        "id": "NhJkS2BCGPp_",
        "colab_type": "code",
        "colab": {
          "base_uri": "https://localhost:8080/",
          "height": 72
        },
        "outputId": "cbadc647-0005-4af5-b5e3-484a1142f15c"
      },
      "source": [
        "for v in students.values():\n",
        "    print(v)"
      ],
      "execution_count": null,
      "outputs": [
        {
          "output_type": "stream",
          "text": [
            "abc\n",
            "def\n",
            "ghi\n"
          ],
          "name": "stdout"
        }
      ]
    },
    {
      "cell_type": "code",
      "metadata": {
        "id": "WS3Vy7pBGr82",
        "colab_type": "code",
        "colab": {
          "base_uri": "https://localhost:8080/",
          "height": 72
        },
        "outputId": "e2e51b26-6fca-410d-f50c-55613988960a"
      },
      "source": [
        "# students에서 key, value를 출력\n",
        "for k in students:\n",
        "    print(k, ':', students[k])"
      ],
      "execution_count": null,
      "outputs": [
        {
          "output_type": "stream",
          "text": [
            "1 : abc\n",
            "10 : def\n",
            "100 : ghi\n"
          ],
          "name": "stdout"
        }
      ]
    },
    {
      "cell_type": "code",
      "metadata": {
        "id": "e4POOZv5HMLF",
        "colab_type": "code",
        "colab": {
          "base_uri": "https://localhost:8080/",
          "height": 90
        },
        "outputId": "a9a50fc1-e9dc-4821-fa16-a3f5f93d173f"
      },
      "source": [
        "print(students.items())\n",
        "for item in students.items():  # for item in [(1, 'abc'), (10, 'def'), (100, 'ghi')]:\n",
        "    print(item)"
      ],
      "execution_count": null,
      "outputs": [
        {
          "output_type": "stream",
          "text": [
            "dict_items([(1, 'abc'), (10, 'def'), (100, 'ghi')])\n",
            "(1, 'abc')\n",
            "(10, 'def')\n",
            "(100, 'ghi')\n"
          ],
          "name": "stdout"
        }
      ]
    },
    {
      "cell_type": "code",
      "metadata": {
        "id": "K7rnfrN2Hq19",
        "colab_type": "code",
        "colab": {
          "base_uri": "https://localhost:8080/",
          "height": 54
        },
        "outputId": "9e8765b6-9ffd-48b9-b41c-1451d34e4809"
      },
      "source": [
        "# decomposition(성분 분해)\n",
        "k, v = (1, 'abc')\n",
        "print(k)\n",
        "print(v)"
      ],
      "execution_count": null,
      "outputs": [
        {
          "output_type": "stream",
          "text": [
            "1\n",
            "abc\n"
          ],
          "name": "stdout"
        }
      ]
    },
    {
      "cell_type": "code",
      "metadata": {
        "id": "K3nQ2w39H8rF",
        "colab_type": "code",
        "colab": {
          "base_uri": "https://localhost:8080/",
          "height": 72
        },
        "outputId": "49a5c413-7285-4725-ea24-d5efb866458f"
      },
      "source": [
        "for k, v in students.items():  # for k, v in [(1, 'abc'), (10, 'def'), (100, 'ghi')]:\n",
        "    print(k, ':', v)"
      ],
      "execution_count": null,
      "outputs": [
        {
          "output_type": "stream",
          "text": [
            "1 : abc\n",
            "10 : def\n",
            "100 : ghi\n"
          ],
          "name": "stdout"
        }
      ]
    },
    {
      "cell_type": "code",
      "metadata": {
        "id": "SYYeBCPvJIK2",
        "colab_type": "code",
        "colab": {
          "base_uri": "https://localhost:8080/",
          "height": 35
        },
        "outputId": "b7236dff-3ce8-4dd2-9d89-e8d6b0031ee2"
      },
      "source": [
        "numbers = [1, 2, 3, 10, 20]\n",
        "names = ['Python', 'R', 'Java', 'SQL', 'C#']\n",
        "\n",
        "languages = dict()  # empty dict\n",
        "for i in range(5):\n",
        "    # print(numbers[i], names[i])\n",
        "    languages[numbers[i]] = names[i]\n",
        "print(languages)"
      ],
      "execution_count": null,
      "outputs": [
        {
          "output_type": "stream",
          "text": [
            "{1: 'Python', 2: 'R', 3: 'Java', 10: 'SQL', 20: 'C#'}\n"
          ],
          "name": "stdout"
        }
      ]
    },
    {
      "cell_type": "code",
      "metadata": {
        "id": "Om4EPr0qLH-G",
        "colab_type": "code",
        "colab": {
          "base_uri": "https://localhost:8080/",
          "height": 35
        },
        "outputId": "ed1db186-90a8-4e58-e94f-846174f008ff"
      },
      "source": [
        "# dictionary comprehension\n",
        "languages = {numbers[i]: names[i] for i in range(5)}\n",
        "print(languages)"
      ],
      "execution_count": null,
      "outputs": [
        {
          "output_type": "stream",
          "text": [
            "{1: 'Python', 2: 'R', 3: 'Java', 10: 'SQL', 20: 'C#'}\n"
          ],
          "name": "stdout"
        }
      ]
    },
    {
      "cell_type": "code",
      "metadata": {
        "id": "4H-MKHKkLwFO",
        "colab_type": "code",
        "colab": {
          "base_uri": "https://localhost:8080/",
          "height": 201
        },
        "outputId": "25254839-8cd0-42a3-966e-9edb7594f1ec"
      },
      "source": [
        "for x in zip(numbers, names):\n",
        "    print(x)\n",
        "\n",
        "for k, v in zip(numbers, names):\n",
        "    print(k, v)"
      ],
      "execution_count": null,
      "outputs": [
        {
          "output_type": "stream",
          "text": [
            "(1, 'Python')\n",
            "(2, 'R')\n",
            "(3, 'Java')\n",
            "(10, 'SQL')\n",
            "(20, 'C#')\n",
            "1 Python\n",
            "2 R\n",
            "3 Java\n",
            "10 SQL\n",
            "20 C#\n"
          ],
          "name": "stdout"
        }
      ]
    },
    {
      "cell_type": "code",
      "metadata": {
        "id": "M-xDm5WnMpcd",
        "colab_type": "code",
        "colab": {
          "base_uri": "https://localhost:8080/",
          "height": 35
        },
        "outputId": "0ab351af-21c7-4d0e-8ffc-041b669bd7ce"
      },
      "source": [
        "languages = dict()\n",
        "for k, v in zip(numbers, names):\n",
        "    languages[k] = v\n",
        "print(languages)"
      ],
      "execution_count": null,
      "outputs": [
        {
          "output_type": "stream",
          "text": [
            "{1: 'Python', 2: 'R', 3: 'Java', 10: 'SQL', 20: 'C#'}\n"
          ],
          "name": "stdout"
        }
      ]
    },
    {
      "cell_type": "code",
      "metadata": {
        "id": "CwU04vtRNWUR",
        "colab_type": "code",
        "colab": {
          "base_uri": "https://localhost:8080/",
          "height": 35
        },
        "outputId": "1ab2966d-8695-404e-cfc3-ef82bbecba07"
      },
      "source": [
        "languages = {k: v for k, v in zip(numbers, names)}\n",
        "print(languages)"
      ],
      "execution_count": null,
      "outputs": [
        {
          "output_type": "stream",
          "text": [
            "{1: 'Python', 2: 'R', 3: 'Java', 10: 'SQL', 20: 'C#'}\n"
          ],
          "name": "stdout"
        }
      ]
    },
    {
      "cell_type": "code",
      "metadata": {
        "id": "s94FZUvKREW4",
        "colab_type": "code",
        "colab": {}
      },
      "source": [
        "words = ['little', 'little', 'indian', 'boy', 'little', 'indian']\n",
        "\n",
        "# words에 있는 단어가 dict의 key가 되고, 그 단어가 등장하는 횟수가 value가 되는 dict 변수를 생성.\n",
        "# 결과: word_counts = {'little': 3, 'indian': 2, 'boy': 1}\n"
      ],
      "execution_count": null,
      "outputs": []
    }
  ]
}