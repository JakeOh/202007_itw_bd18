{
  "nbformat": 4,
  "nbformat_minor": 0,
  "metadata": {
    "colab": {
      "name": "python32_file.ipynb",
      "provenance": [],
      "collapsed_sections": [],
      "authorship_tag": "ABX9TyOLlhGMYpY6KN8yPDq+sgAf",
      "include_colab_link": true
    },
    "kernelspec": {
      "name": "python3",
      "display_name": "Python 3"
    }
  },
  "cells": [
    {
      "cell_type": "markdown",
      "metadata": {
        "id": "view-in-github",
        "colab_type": "text"
      },
      "source": [
        "<a href=\"https://colab.research.google.com/github/JakeOh/202007_itw_bd18/blob/master/lab_python/python32_file.ipynb\" target=\"_parent\"><img src=\"https://colab.research.google.com/assets/colab-badge.svg\" alt=\"Open In Colab\"/></a>"
      ]
    },
    {
      "cell_type": "markdown",
      "metadata": {
        "id": "O2zaQDWDsVs4",
        "colab_type": "text"
      },
      "source": [
        "**텍스트 파일 쓰기(write)/읽기(read)**\n",
        "\n",
        "1.   파일 열기(open)\n",
        "2.   파일에 내용 쓰기(write)/읽기(read)\n",
        "3.   파일 닫기(close)\n",
        "\n"
      ]
    },
    {
      "cell_type": "code",
      "metadata": {
        "id": "KxoL-yKasP3V",
        "colab_type": "code",
        "colab": {
          "base_uri": "https://localhost:8080/",
          "height": 38
        },
        "outputId": "aabc312f-7709-483d-d263-3b982a024643"
      },
      "source": [
        "# open(file, mode, ...): 파일 열기\n",
        "#   file: 파일 이름(디렉토리를 포함한 경로)\n",
        "#   mode: r(read: 읽기), w(write: 쓰기), a(append: 추가), t(text, 텍스트), b(binary: 이진)\n",
        "f = open('test.txt', mode='w')\n",
        "print(f)\n",
        "\n",
        "# 파일에 내용을 쓰기\n",
        "f.write('hello\\n')  # \\n: 줄바꿈(new line)\n",
        "f.write('안녕하세요\\n')\n",
        "\n",
        "# 파일 닫기\n",
        "f.close()"
      ],
      "execution_count": 2,
      "outputs": [
        {
          "output_type": "stream",
          "text": [
            "<_io.TextIOWrapper name='test.txt' mode='w' encoding='UTF-8'>\n"
          ],
          "name": "stdout"
        }
      ]
    }
  ]
}