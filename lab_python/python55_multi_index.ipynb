{
  "nbformat": 4,
  "nbformat_minor": 0,
  "metadata": {
    "colab": {
      "name": "python55_multi_index.ipynb",
      "provenance": [],
      "collapsed_sections": [],
      "authorship_tag": "ABX9TyPLVP5h+Z7JtM2aiaR6Srsu",
      "include_colab_link": true
    },
    "kernelspec": {
      "name": "python3",
      "display_name": "Python 3"
    }
  },
  "cells": [
    {
      "cell_type": "markdown",
      "metadata": {
        "id": "view-in-github",
        "colab_type": "text"
      },
      "source": [
        "<a href=\"https://colab.research.google.com/github/JakeOh/202007_itw_bd18/blob/master/lab_python/python55_multi_index.ipynb\" target=\"_parent\"><img src=\"https://colab.research.google.com/assets/colab-badge.svg\" alt=\"Open In Colab\"/></a>"
      ]
    },
    {
      "cell_type": "code",
      "metadata": {
        "id": "uTGEWjhI0qhz"
      },
      "source": [
        "import numpy as np\n",
        "import pandas as pd"
      ],
      "execution_count": 1,
      "outputs": []
    },
    {
      "cell_type": "markdown",
      "metadata": {
        "id": "YGpndVDd2M9H"
      },
      "source": [
        "# 단일 계층 인덱스"
      ]
    },
    {
      "cell_type": "code",
      "metadata": {
        "id": "7dGqlNhp1Eym",
        "outputId": "ba5c5490-f2d8-4052-9200-23a2c5c6929b",
        "colab": {
          "base_uri": "https://localhost:8080/",
          "height": 162
        }
      },
      "source": [
        "s = pd.Series(data=np.random.randn(6),\n",
        "              index=['a', 'b', 'c'] * 2)\n",
        "s"
      ],
      "execution_count": 2,
      "outputs": [
        {
          "output_type": "execute_result",
          "data": {
            "text/plain": [
              "a    0.599092\n",
              "b    0.146176\n",
              "c    0.740629\n",
              "a    0.397334\n",
              "b    2.038948\n",
              "c    0.541891\n",
              "dtype: float64"
            ]
          },
          "metadata": {
            "tags": []
          },
          "execution_count": 2
        }
      ]
    },
    {
      "cell_type": "code",
      "metadata": {
        "id": "qJjSNjuh1qyK",
        "outputId": "2e7263b7-6b8e-47cd-dbb5-453dc01f740b",
        "colab": {
          "base_uri": "https://localhost:8080/",
          "height": 38
        }
      },
      "source": [
        "s.index  # pandas.Series의 index 속성"
      ],
      "execution_count": 3,
      "outputs": [
        {
          "output_type": "execute_result",
          "data": {
            "text/plain": [
              "Index(['a', 'b', 'c', 'a', 'b', 'c'], dtype='object')"
            ]
          },
          "metadata": {
            "tags": []
          },
          "execution_count": 3
        }
      ]
    },
    {
      "cell_type": "code",
      "metadata": {
        "id": "0B9qqoUW12Vj",
        "outputId": "71a83477-112b-4611-e2db-7e19f928c231",
        "colab": {
          "base_uri": "https://localhost:8080/",
          "height": 38
        }
      },
      "source": [
        "s.index.nlevels  # 인덱스의 계층 개수"
      ],
      "execution_count": 4,
      "outputs": [
        {
          "output_type": "execute_result",
          "data": {
            "text/plain": [
              "1"
            ]
          },
          "metadata": {
            "tags": []
          },
          "execution_count": 4
        }
      ]
    },
    {
      "cell_type": "markdown",
      "metadata": {
        "id": "w2Z1baYq2VlJ"
      },
      "source": [
        "# 계층적 색인(hierarchical indexing)\n",
        "여러개의 level을 갖는 인덱스"
      ]
    },
    {
      "cell_type": "code",
      "metadata": {
        "id": "mcj8Bcjx1uSL",
        "outputId": "6043341f-92f8-4a84-846e-0b05bcc27d82",
        "colab": {
          "base_uri": "https://localhost:8080/",
          "height": 162
        }
      },
      "source": [
        "s = pd.Series(data=np.random.randn(6),\n",
        "              index=[['a', 'a', 'b', 'b', 'c', 'c'],\n",
        "                     [1, 2, 3, 1, 2, 3]])\n",
        "s"
      ],
      "execution_count": 5,
      "outputs": [
        {
          "output_type": "execute_result",
          "data": {
            "text/plain": [
              "a  1   -0.893530\n",
              "   2   -0.775843\n",
              "b  3   -2.627836\n",
              "   1   -2.116532\n",
              "c  2   -1.221234\n",
              "   3    0.427657\n",
              "dtype: float64"
            ]
          },
          "metadata": {
            "tags": []
          },
          "execution_count": 5
        }
      ]
    },
    {
      "cell_type": "code",
      "metadata": {
        "id": "ceogcAiV27Tz",
        "outputId": "85e82f5d-dc1c-4183-8e86-c8cd217ffd30",
        "colab": {
          "base_uri": "https://localhost:8080/",
          "height": 162
        }
      },
      "source": [
        "s.index"
      ],
      "execution_count": 6,
      "outputs": [
        {
          "output_type": "execute_result",
          "data": {
            "text/plain": [
              "MultiIndex([('a', 1),\n",
              "            ('a', 2),\n",
              "            ('b', 3),\n",
              "            ('b', 1),\n",
              "            ('c', 2),\n",
              "            ('c', 3)],\n",
              "           )"
            ]
          },
          "metadata": {
            "tags": []
          },
          "execution_count": 6
        }
      ]
    },
    {
      "cell_type": "code",
      "metadata": {
        "id": "Vkks4fU23iTx",
        "outputId": "b8c20621-a867-4fab-a31e-c4ac76912d32",
        "colab": {
          "base_uri": "https://localhost:8080/",
          "height": 38
        }
      },
      "source": [
        "s.index.nlevels"
      ],
      "execution_count": 7,
      "outputs": [
        {
          "output_type": "execute_result",
          "data": {
            "text/plain": [
              "2"
            ]
          },
          "metadata": {
            "tags": []
          },
          "execution_count": 7
        }
      ]
    },
    {
      "cell_type": "code",
      "metadata": {
        "id": "qdoxSgK837Ex",
        "outputId": "1ba09ee9-396d-4b6b-f145-fc76dce5a5ef",
        "colab": {
          "base_uri": "https://localhost:8080/",
          "height": 38
        }
      },
      "source": [
        "# iloc을 사용한 인덱싱\n",
        "s.iloc[1]"
      ],
      "execution_count": 9,
      "outputs": [
        {
          "output_type": "execute_result",
          "data": {
            "text/plain": [
              "-0.7758430666902969"
            ]
          },
          "metadata": {
            "tags": []
          },
          "execution_count": 9
        }
      ]
    },
    {
      "cell_type": "code",
      "metadata": {
        "id": "1mVjE2Pa4LeU",
        "outputId": "713f8dd2-3e89-42dd-aa08-1545fd9d0454",
        "colab": {
          "base_uri": "https://localhost:8080/",
          "height": 79
        }
      },
      "source": [
        "# loc을 사용한 인덱싱\n",
        "s.loc['b']"
      ],
      "execution_count": 11,
      "outputs": [
        {
          "output_type": "execute_result",
          "data": {
            "text/plain": [
              "3   -2.627836\n",
              "1   -2.116532\n",
              "dtype: float64"
            ]
          },
          "metadata": {
            "tags": []
          },
          "execution_count": 11
        }
      ]
    },
    {
      "cell_type": "code",
      "metadata": {
        "id": "KyjMhKrA4gxJ"
      },
      "source": [
        "# s.loc[1]  # 두번째 레벨의 인덱스만으로는 인덱싱되지 않음"
      ],
      "execution_count": 13,
      "outputs": []
    },
    {
      "cell_type": "code",
      "metadata": {
        "id": "s-Jn3JGH45kR",
        "outputId": "5459bd03-ed3c-43b0-d946-16ef782a2368",
        "colab": {
          "base_uri": "https://localhost:8080/",
          "height": 38
        }
      },
      "source": [
        "s.loc[('a', 2)]"
      ],
      "execution_count": 17,
      "outputs": [
        {
          "output_type": "execute_result",
          "data": {
            "text/plain": [
              "-0.7758430666902969"
            ]
          },
          "metadata": {
            "tags": []
          },
          "execution_count": 17
        }
      ]
    }
  ]
}