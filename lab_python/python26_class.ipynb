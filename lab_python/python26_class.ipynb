{
  "nbformat": 4,
  "nbformat_minor": 0,
  "metadata": {
    "colab": {
      "name": "python26_class.ipynb",
      "provenance": [],
      "collapsed_sections": [],
      "authorship_tag": "ABX9TyN1p3M1XkfJzthsXTEYNjok",
      "include_colab_link": true
    },
    "kernelspec": {
      "name": "python3",
      "display_name": "Python 3"
    }
  },
  "cells": [
    {
      "cell_type": "markdown",
      "metadata": {
        "id": "view-in-github",
        "colab_type": "text"
      },
      "source": [
        "<a href=\"https://colab.research.google.com/github/JakeOh/202007_itw_bd18/blob/master/lab_python/python26_class.ipynb\" target=\"_parent\"><img src=\"https://colab.research.google.com/assets/colab-badge.svg\" alt=\"Open In Colab\"/></a>"
      ]
    },
    {
      "cell_type": "markdown",
      "metadata": {
        "id": "THdcty1jULlq",
        "colab_type": "text"
      },
      "source": [
        "**객체 지향 프로그래밍(Object-Oriented Programming)**\n",
        "\n",
        "\n",
        "*   객체(Object): 소프트웨어로 구현할 대상.\n",
        "*   클래스(Class): 객체를 구현하기 위한 설계도.\n",
        "*   인스턴스(Instance): 설계도인 클래스에 따라서 구현된 실체.\n",
        "*   intanciate(인스턴스화): 클래스의 객체를 메모리에 생성하는 과정. 인스턴스 생성. 인스턴스를 만듦.\n",
        "\n"
      ]
    },
    {
      "cell_type": "markdown",
      "metadata": {
        "id": "AEp9xutHVk3e",
        "colab_type": "text"
      },
      "source": [
        "\n",
        "\n",
        "*   TV: 소프트웨어로 구현하려고 하는 대상.\n",
        "*   TV 설계:\n",
        "    *   TV 기능: 1) 전원 on/off 2) 채널 변경 3) 볼륨 변경  --> 함수(메서드)\n",
        "    *   TV 상태: 1) 전원 상태 2) 현재 채널 3) 현재 볼륨  --> 변수(값 저장)\n",
        "*   설계도를 가지고 생산된 TV\n",
        "\n"
      ]
    },
    {
      "cell_type": "code",
      "metadata": {
        "id": "_ckVyUR-UFC2",
        "colab_type": "code",
        "colab": {}
      },
      "source": [
        "class BasicTv:\n",
        "    def __init__(self, power=False, channel=0, volume=0):\n",
        "        self.power = power\n",
        "        self.channel = channel\n",
        "        self.volume = volume\n",
        "\n",
        "    def power_on_off(self):\n",
        "        if self.power:  # TV가 켜져 있으면:\n",
        "            self.power = False  # TV를 끔.\n",
        "            print('TV OFF')\n",
        "        else:  # TV가 꺼져 있으면\n",
        "            self.power = True  # TV를 켬.\n",
        "            print('TV ON')\n",
        "\n",
        "    def channel_up(self):\n",
        "        self.channel += 1  # 현재 채널 값을 1 증가.\n",
        "        print('channel =', self.channel)\n",
        "\n",
        "    def channel_down(self):\n",
        "        self.channel -= 1  # 현재 채널 값을 1 감소.\n",
        "        print('channel =', self.channel)\n",
        "\n",
        "    def volume_up(self):\n",
        "        self.volume += 1\n",
        "        print('volume =', self.volume)\n",
        "\n",
        "    def volume_down(self):\n",
        "        self.volume -= 1\n",
        "        print('volume =', self.volume)"
      ],
      "execution_count": 18,
      "outputs": []
    },
    {
      "cell_type": "markdown",
      "metadata": {
        "id": "brTHrnGWDpus",
        "colab_type": "text"
      },
      "source": [
        "BasicTV 클래스 기능 수정\n",
        "\n",
        "1.   전원이 켜져 있는 상태(self.power == True)에서만 channel_up/down, volume_up/down 기능이 수행되어야 함.\n",
        "2.   채널과 음량은 최솟값(0), 최댓값(5)이 있음.\n",
        "     * 채널을 최댓값에서 channel_up을 실행하면 0(최솟값)으로 변경.\n",
        "     * 채널을 최솟값에서 channel_down을 실행하면 5(최댓값)으로 변경.\n",
        "     * 음량을 최댓값에서 volume_up을 실행하면 최댓값 상태 그래로 있어야 함.\n",
        "     * 음량을 최솟값에서 volume_down을 실행하면 최솟값 상태 그래로 있어야 함.\n"
      ]
    },
    {
      "cell_type": "code",
      "metadata": {
        "id": "1B-so0v-Z-Pj",
        "colab_type": "code",
        "colab": {
          "base_uri": "https://localhost:8080/",
          "height": 79
        },
        "outputId": "a2b212a8-a22d-40d6-a674-280865ff722c"
      },
      "source": [
        "# instanticate: 클래스 BasicTv의 인스턴스를 생성.\n",
        "tv1 = BasicTv()  # 생성자 함수(constructor) 호출 => __init__() 메서드 호출\n",
        "print(id(tv1))  # BasicTv 인스턴스가 생성된 메모리의 주소\n",
        "print(type(tv1))  # 데이터 타입\n",
        "print(f'전원: {tv1.power}, 채널: {tv1.channel}, 음량: {tv1.volume}')"
      ],
      "execution_count": 19,
      "outputs": [
        {
          "output_type": "stream",
          "text": [
            "139930116701712\n",
            "<class '__main__.BasicTv'>\n",
            "전원: False, 채널: 0, 음량: 0\n"
          ],
          "name": "stdout"
        }
      ]
    },
    {
      "cell_type": "code",
      "metadata": {
        "id": "JGd5101fpsbI",
        "colab_type": "code",
        "colab": {
          "base_uri": "https://localhost:8080/",
          "height": 38
        },
        "outputId": "928681c9-b860-4644-b068-b535af915a39"
      },
      "source": [
        "tv1.power_on_off()  #> OFF(self.power = False) -> ON(self.power = True)"
      ],
      "execution_count": 20,
      "outputs": [
        {
          "output_type": "stream",
          "text": [
            "TV ON\n"
          ],
          "name": "stdout"
        }
      ]
    },
    {
      "cell_type": "code",
      "metadata": {
        "id": "RBQzEyxX0vbd",
        "colab_type": "code",
        "colab": {
          "base_uri": "https://localhost:8080/",
          "height": 79
        },
        "outputId": "10f01ab8-6281-49e1-b150-92b036d06ebd"
      },
      "source": [
        "tv1.channel_up()  #> ch: 0 -> 1\n",
        "tv1.channel_up()  #> ch: 1 -> 2\n",
        "tv1.channel_up()  #> ch: 2 -> 3"
      ],
      "execution_count": 21,
      "outputs": [
        {
          "output_type": "stream",
          "text": [
            "channel = 1\n",
            "channel = 2\n",
            "channel = 3\n"
          ],
          "name": "stdout"
        }
      ]
    },
    {
      "cell_type": "code",
      "metadata": {
        "id": "fDNx4y2X1OlV",
        "colab_type": "code",
        "colab": {
          "base_uri": "https://localhost:8080/",
          "height": 58
        },
        "outputId": "9248301e-33c7-40a4-ea49-3c1e42637085"
      },
      "source": [
        "tv1.channel_down()  #> ch: 3 -> 2\n",
        "tv1.channel_down()  #> ch: 2 -> 1"
      ],
      "execution_count": 22,
      "outputs": [
        {
          "output_type": "stream",
          "text": [
            "channel = 2\n",
            "channel = 1\n"
          ],
          "name": "stdout"
        }
      ]
    },
    {
      "cell_type": "code",
      "metadata": {
        "id": "CUzh_6f89Ql6",
        "colab_type": "code",
        "colab": {
          "base_uri": "https://localhost:8080/",
          "height": 58
        },
        "outputId": "8e881bba-3846-4600-d21c-f3b81498abda"
      },
      "source": [
        "tv1.volume_up()\n",
        "tv1.volume_down()"
      ],
      "execution_count": 23,
      "outputs": [
        {
          "output_type": "stream",
          "text": [
            "volume = 1\n",
            "volume = 0\n"
          ],
          "name": "stdout"
        }
      ]
    },
    {
      "cell_type": "code",
      "metadata": {
        "id": "wT75VhNqy0xd",
        "colab_type": "code",
        "colab": {
          "base_uri": "https://localhost:8080/",
          "height": 38
        },
        "outputId": "e38d758d-ef9f-4ad1-8e4c-e65f4fe0d2a1"
      },
      "source": [
        "tv1.power_on_off()  #> ON(self.power = True) -> OFF(self.power = False)"
      ],
      "execution_count": 12,
      "outputs": [
        {
          "output_type": "stream",
          "text": [
            "TV OFF\n"
          ],
          "name": "stdout"
        }
      ]
    },
    {
      "cell_type": "code",
      "metadata": {
        "id": "tE3r7r5Nkd2Z",
        "colab_type": "code",
        "colab": {
          "base_uri": "https://localhost:8080/",
          "height": 79
        },
        "outputId": "4a9d6c11-c5e3-43e1-8a73-9c3744c180d7"
      },
      "source": [
        "tv2 = BasicTv(power=True, channel=11, volume=10)\n",
        "print(id(tv2))\n",
        "print(type(tv2))\n",
        "print(f'전원: {tv2.power}, 채널: {tv2.channel}, 음량: {tv2.volume}')"
      ],
      "execution_count": 9,
      "outputs": [
        {
          "output_type": "stream",
          "text": [
            "139930117060480\n",
            "<class '__main__.BasicTv'>\n",
            "전원: True, 채널: 11, 음량: 10\n"
          ],
          "name": "stdout"
        }
      ]
    },
    {
      "cell_type": "code",
      "metadata": {
        "id": "kaDks48DrWIo",
        "colab_type": "code",
        "colab": {
          "base_uri": "https://localhost:8080/",
          "height": 38
        },
        "outputId": "ee9fe683-8ca2-483b-8ff2-d519da7d9617"
      },
      "source": [
        "tv2.power_on_off()"
      ],
      "execution_count": 11,
      "outputs": [
        {
          "output_type": "stream",
          "text": [
            "TV OFF\n"
          ],
          "name": "stdout"
        }
      ]
    }
  ]
}