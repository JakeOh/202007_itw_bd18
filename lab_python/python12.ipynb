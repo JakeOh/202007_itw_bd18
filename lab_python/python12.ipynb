{
  "nbformat": 4,
  "nbformat_minor": 0,
  "metadata": {
    "colab": {
      "name": "python12.ipynb",
      "provenance": [],
      "collapsed_sections": [],
      "authorship_tag": "ABX9TyP2w53AQ20qjhpZaftsuEgV",
      "include_colab_link": true
    },
    "kernelspec": {
      "name": "python3",
      "display_name": "Python 3"
    }
  },
  "cells": [
    {
      "cell_type": "markdown",
      "metadata": {
        "id": "view-in-github",
        "colab_type": "text"
      },
      "source": [
        "<a href=\"https://colab.research.google.com/github/JakeOh/202007_itw_bd18/blob/master/lab_python/python12.ipynb\" target=\"_parent\"><img src=\"https://colab.research.google.com/assets/colab-badge.svg\" alt=\"Open In Colab\"/></a>"
      ]
    },
    {
      "cell_type": "markdown",
      "metadata": {
        "id": "lmqmsOlTEVob",
        "colab_type": "text"
      },
      "source": [
        "# 구구단 2단부터 9단까지 출력하는 코드 작성\n",
        "\n",
        "출력 결과 예시\n",
        "```\n",
        "2 x 1 = 2\n",
        "2 x 2 = 4\n",
        "2 x 3 = 6\n",
        "...\n",
        "2 x 8 = 16\n",
        "2 x 9 = 18\n",
        "---------------\n",
        "3 x 1 = 3\n",
        "3 x 2 = 6\n",
        "3 x 3 = 9\n",
        "...\n",
        "3 x 8 = 24\n",
        "3 x 9 = 27\n",
        "---------------\n",
        "...\n",
        "---------------\n",
        "9 x 1 = 9\n",
        "9 x 2 = 18\n",
        "9 x 3 = 27\n",
        "9..\n",
        "9 x 8 = 72\n",
        "9 x 9 = 81\n",
        "---------------\n",
        "```\n"
      ]
    },
    {
      "cell_type": "code",
      "metadata": {
        "id": "Xok_e3MbES5a",
        "colab_type": "code",
        "colab": {}
      },
      "source": [
        ""
      ],
      "execution_count": null,
      "outputs": []
    },
    {
      "cell_type": "markdown",
      "metadata": {
        "id": "C72Cn2XlFE6K",
        "colab_type": "text"
      },
      "source": [
        "# 동요를 불러볼까요~?\n",
        "\n",
        "아래와 같이 출력되도록 코드 작성.\n",
        "```\n",
        "1 little 2 little 3 little indian\n",
        "4 little 5 little 6 little indian\n",
        "7 little 8 little 9 little indian\n",
        "10 little indian boys!\n",
        "```"
      ]
    },
    {
      "cell_type": "code",
      "metadata": {
        "id": "W_C972j8FFqm",
        "colab_type": "code",
        "colab": {}
      },
      "source": [
        ""
      ],
      "execution_count": null,
      "outputs": []
    },
    {
      "cell_type": "markdown",
      "metadata": {
        "id": "FxUePhH8FnAh",
        "colab_type": "text"
      },
      "source": [
        "# 369 게임을 해볼까요~?\n",
        "\n",
        "아래와 같이 출력되도록 코드 작성\n",
        "```\n",
        "1  2  *  4  5  *  7  8  *  10\n",
        "11 12 *  14 15 *  17 18 *  20\n",
        "21 22 *  24 25 *  27 28 *  *\n",
        "*  *  *  *  *  *  *  *  *  40\n",
        "...\n",
        "*  *  *  *  *  *  *  *  *  100\n",
        "```"
      ]
    },
    {
      "cell_type": "code",
      "metadata": {
        "id": "YSt_M7v8FnaR",
        "colab_type": "code",
        "colab": {}
      },
      "source": [
        ""
      ],
      "execution_count": null,
      "outputs": []
    }
  ]
}