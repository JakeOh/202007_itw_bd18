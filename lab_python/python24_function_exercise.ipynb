{
  "nbformat": 4,
  "nbformat_minor": 0,
  "metadata": {
    "colab": {
      "name": "python24_function_exercise.ipynb",
      "provenance": [],
      "collapsed_sections": [],
      "authorship_tag": "ABX9TyNpgnP2yeGOic8wt1AEkWXY",
      "include_colab_link": true
    },
    "kernelspec": {
      "name": "python3",
      "display_name": "Python 3"
    }
  },
  "cells": [
    {
      "cell_type": "markdown",
      "metadata": {
        "id": "view-in-github",
        "colab_type": "text"
      },
      "source": [
        "<a href=\"https://colab.research.google.com/github/JakeOh/202007_itw_bd18/blob/master/lab_python/python24_function_exercise.ipynb\" target=\"_parent\"><img src=\"https://colab.research.google.com/assets/colab-badge.svg\" alt=\"Open In Colab\"/></a>"
      ]
    },
    {
      "cell_type": "code",
      "metadata": {
        "id": "HM5WFTXutHCR",
        "colab_type": "code",
        "colab": {}
      },
      "source": [
        "# 1 ** 2 + 2 ** 2 + 3 ** 2 + ... + n ** 2을 리턴하는 함수(n은 1 이상의 정수)"
      ],
      "execution_count": 1,
      "outputs": []
    },
    {
      "cell_type": "code",
      "metadata": {
        "id": "VeYiFkzi_ikJ",
        "colab_type": "code",
        "colab": {}
      },
      "source": [
        "def square_sum(n):\n",
        "    return n * (n + 1) * (2 * n + 1) / 6"
      ],
      "execution_count": 3,
      "outputs": []
    },
    {
      "cell_type": "code",
      "metadata": {
        "id": "6qOHLG8-AXsm",
        "colab_type": "code",
        "colab": {}
      },
      "source": [
        "def square_sum2(n):\n",
        "    result = 0\n",
        "    for x in range(1, n + 1):\n",
        "        result += x ** 2\n",
        "    \n",
        "    return result"
      ],
      "execution_count": 8,
      "outputs": []
    },
    {
      "cell_type": "code",
      "metadata": {
        "id": "ugr4MRHWIi89",
        "colab_type": "code",
        "colab": {}
      },
      "source": [
        "def square_sum3(n):\n",
        "    \"\"\"\n",
        "    1 ** 2 + 2 ** 2 + 3 ** 2 + ... + (n - 1) ** 2 + n ** 2\n",
        "    = square_sum3(n-1) + n ** 2\n",
        "    \"\"\"\n",
        "    result = None\n",
        "    if n == 0:\n",
        "        result = 0\n",
        "    elif n > 0:\n",
        "        result = square_sum3(n - 1) + n ** 2\n",
        "\n",
        "    return result"
      ],
      "execution_count": 10,
      "outputs": []
    },
    {
      "cell_type": "code",
      "metadata": {
        "id": "FSEB8g97_3m4",
        "colab_type": "code",
        "colab": {
          "base_uri": "https://localhost:8080/",
          "height": 100
        },
        "outputId": "7b7b8ef7-9ac3-4406-a778-a395e2ef68c8"
      },
      "source": [
        "for x in range(1, 5):\n",
        "    print(f'square_sum_{x} = {square_sum3(x)}')"
      ],
      "execution_count": 11,
      "outputs": [
        {
          "output_type": "stream",
          "text": [
            "square_sum_1 = 1\n",
            "square_sum_2 = 5\n",
            "square_sum_3 = 14\n",
            "square_sum_4 = 30\n"
          ],
          "name": "stdout"
        }
      ]
    },
    {
      "cell_type": "code",
      "metadata": {
        "id": "zGX2cwiMALbi",
        "colab_type": "code",
        "colab": {}
      },
      "source": [
        ""
      ],
      "execution_count": null,
      "outputs": []
    },
    {
      "cell_type": "code",
      "metadata": {
        "id": "WoDzLjgathRF",
        "colab_type": "code",
        "colab": {}
      },
      "source": [
        "# 숫자들의 리스트가 주어졌을 때, 그 리스트의 최댓값의 위치(인덱스)를 리턴하는 함수"
      ],
      "execution_count": 2,
      "outputs": []
    },
    {
      "cell_type": "code",
      "metadata": {
        "id": "I8lsEAgot_GP",
        "colab_type": "code",
        "colab": {}
      },
      "source": [
        "# 숫자들의 리스트가 주어졌을 때, 그 리스트의 중앙값(median)을 리턴하는 함수\n",
        "# [1, 2, 3, 4, 5] ==> median = 3\n",
        "# [1, 2, 3, 4, 5, 6] ==> median = (3 + 4)  / 2 = 3.5\n",
        "# sorted(list): 정렬된 리스트를 반환(return)"
      ],
      "execution_count": null,
      "outputs": []
    }
  ]
}