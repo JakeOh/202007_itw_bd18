{
  "nbformat": 4,
  "nbformat_minor": 0,
  "metadata": {
    "colab": {
      "name": "python27_class.ipynb",
      "provenance": [],
      "collapsed_sections": [],
      "authorship_tag": "ABX9TyM0g24H//jwYBh+EK4NVnYQ",
      "include_colab_link": true
    },
    "kernelspec": {
      "name": "python3",
      "display_name": "Python 3"
    }
  },
  "cells": [
    {
      "cell_type": "markdown",
      "metadata": {
        "id": "view-in-github",
        "colab_type": "text"
      },
      "source": [
        "<a href=\"https://colab.research.google.com/github/JakeOh/202007_itw_bd18/blob/master/lab_python/python27_class.ipynb\" target=\"_parent\"><img src=\"https://colab.research.google.com/assets/colab-badge.svg\" alt=\"Open In Colab\"/></a>"
      ]
    },
    {
      "cell_type": "markdown",
      "metadata": {
        "id": "vpIWfZCM4tFh",
        "colab_type": "text"
      },
      "source": [
        "**Python Coding Convention(코드 작성 관습)**\n",
        "\n",
        "*   변수, 함수, 메서드 이름은 영문 소문자, _, 숫자들 사용.\n",
        "*   두 단어 이상으로 이루어진 변수, 함수, 메서드 이름은 _를 중간에 삽입: student_id, student_name\n",
        "*   클래스 이름은 영문 대문자로 시작.\n",
        "*   두 단어 이상으로 이루어진 클래스 이름인 경우에는 Camel 표기법(단어의 첫글자는 대문자, 나머지는 소문자 사용)을 사용: BasicTv, UniversityStudent\n",
        "*   파일 이름은 영문 소문자, _, 숫자를 사용."
      ]
    },
    {
      "cell_type": "code",
      "metadata": {
        "id": "x8JdvfL824jm",
        "colab_type": "code",
        "colab": {}
      },
      "source": [
        "class Patient:\n",
        "    \"\"\"환자 객체를 생성하기 위한 클래스.\n",
        "    환자 객체 속성(attribute): 아이디(id), 이름(name), 질병 코드(disease_code), 상태(status)\n",
        "    환자 객체 기능(functionality): \n",
        "        (1) 질병 코드를 설정(set_disease_code)\n",
        "        (2) 상태를 변경(change_status)\n",
        "    \"\"\"\n",
        "\n",
        "    def __init__(self, id, name, disease_code=None, status=None):\n",
        "        self.id = id\n",
        "        self.name = name\n",
        "        self.disease_code = disease_code\n",
        "        self.status = status\n",
        "\n",
        "    def set_disease_code(self, code):\n",
        "        \"\"\"환자의 질병 코드를 argument로 전달받은 code값으로 설정(세팅).\"\"\"\n",
        "        self.disease_code = code\n",
        "\n",
        "    def change_staus():\n",
        "        pass\n"
      ],
      "execution_count": 10,
      "outputs": []
    },
    {
      "cell_type": "code",
      "metadata": {
        "id": "uQrMQRxaB_IU",
        "colab_type": "code",
        "colab": {
          "base_uri": "https://localhost:8080/",
          "height": 100
        },
        "outputId": "b18d57a6-8e2c-43e8-b6c0-83fbd44732a4"
      },
      "source": [
        "# Patient 클래스 생성자 함수 호출 -> Patient 클래스의 인스턴스 생성\n",
        "patient1 = Patient(101, '오쌤')\n",
        "print(patient1)  #> Patient 클래스 객체(object) at 객체가 생성된 메모리 주소(16진수)\n",
        "print(id(patient1))  #> 인스턴스 메모리 주소(10진수)\n",
        "print(type(patient1))  #> 클래스 이름(데이터 타입)\n",
        "\n",
        "# 인스턴스 변수들의 값을 출력\n",
        "print(f'아이디: {patient1.id}, 이름: {patient1.name}, 질병코드: {patient1.disease_code}, 상태: {patient1.status}')"
      ],
      "execution_count": 11,
      "outputs": [
        {
          "output_type": "stream",
          "text": [
            "<__main__.Patient object at 0x7f2ec3b4b9b0>\n",
            "139838828624304\n",
            "<class '__main__.Patient'>\n",
            "아이디: 101, 이름: 오쌤, 질병코드: None, 상태: None\n"
          ],
          "name": "stdout"
        }
      ]
    },
    {
      "cell_type": "code",
      "metadata": {
        "id": "74cmZCaDI-gk",
        "colab_type": "code",
        "colab": {
          "base_uri": "https://localhost:8080/",
          "height": 38
        },
        "outputId": "b5180160-3602-4400-e1e4-2d680c571158"
      },
      "source": [
        "patient1.set_disease_code('C123')\n",
        "print(patient1.disease_code)"
      ],
      "execution_count": 12,
      "outputs": [
        {
          "output_type": "stream",
          "text": [
            "C123\n"
          ],
          "name": "stdout"
        }
      ]
    }
  ]
}