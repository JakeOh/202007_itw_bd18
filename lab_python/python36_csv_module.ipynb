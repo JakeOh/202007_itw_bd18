{
  "nbformat": 4,
  "nbformat_minor": 0,
  "metadata": {
    "colab": {
      "name": "python36_csv_module.ipynb",
      "provenance": [],
      "collapsed_sections": [],
      "authorship_tag": "ABX9TyPpKKRavu7QaU0a1+aAxwIX",
      "include_colab_link": true
    },
    "kernelspec": {
      "name": "python3",
      "display_name": "Python 3"
    }
  },
  "cells": [
    {
      "cell_type": "markdown",
      "metadata": {
        "id": "view-in-github",
        "colab_type": "text"
      },
      "source": [
        "<a href=\"https://colab.research.google.com/github/JakeOh/202007_itw_bd18/blob/master/lab_python/python36_csv_module.ipynb\" target=\"_parent\"><img src=\"https://colab.research.google.com/assets/colab-badge.svg\" alt=\"Open In Colab\"/></a>"
      ]
    },
    {
      "cell_type": "markdown",
      "metadata": {
        "id": "nzmclAudGAiD",
        "colab_type": "text"
      },
      "source": [
        "1. apt_201910.csv 파일 구글 드라이브에 업로드.\n",
        "2. 구글 드라이브를 마운트(연결).\n",
        "3. CSV 파일을 읽어서 2차원 리스트 생성.\n",
        "4. 3번에서 생성된 리스트에서 숫자로 변환할 수 있는 값들은 모두 숫자 타입으로 변환하세요.\n",
        "5. 4에서 정제된 리스트에서 시군구, 면적, 가격, 층, 건축년도 컬럼들만 선택한 새로운 리스트를 생성.\n",
        "6. 5에서 만들어진 리스트에서 시군구가 강원도이고, 가격이 30,000 이상인 데이터들만 선택해서 새로운 리스트를 생성.\n",
        "7. 6에서 생성된 리스트를 CSV 파일로 저장."
      ]
    },
    {
      "cell_type": "code",
      "metadata": {
        "id": "JezRNyRcF7zk",
        "colab_type": "code",
        "colab": {}
      },
      "source": [
        ""
      ],
      "execution_count": null,
      "outputs": []
    }
  ]
}