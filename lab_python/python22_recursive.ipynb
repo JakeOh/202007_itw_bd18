{
  "nbformat": 4,
  "nbformat_minor": 0,
  "metadata": {
    "colab": {
      "name": "python22_recursive.ipynb",
      "provenance": [],
      "collapsed_sections": [],
      "authorship_tag": "ABX9TyPOxbr7esf2TE/Pe0M+MSi7",
      "include_colab_link": true
    },
    "kernelspec": {
      "name": "python3",
      "display_name": "Python 3"
    }
  },
  "cells": [
    {
      "cell_type": "markdown",
      "metadata": {
        "id": "view-in-github",
        "colab_type": "text"
      },
      "source": [
        "<a href=\"https://colab.research.google.com/github/JakeOh/202007_itw_bd18/blob/master/lab_python/python22_recursive.ipynb\" target=\"_parent\"><img src=\"https://colab.research.google.com/assets/colab-badge.svg\" alt=\"Open In Colab\"/></a>"
      ]
    },
    {
      "cell_type": "code",
      "metadata": {
        "id": "aq4yuFSj0_sx",
        "colab_type": "code",
        "colab": {}
      },
      "source": [
        "def factorial(n):\n",
        "    \"\"\"n!(n factorial)을 리턴하는 함수.\n",
        "    n! = 1 x 2 x 3 x ... x (n-1) x n\n",
        "\n",
        "    >>> factorial(5)\n",
        "    120\n",
        "    \"\"\"\n",
        "    pass"
      ],
      "execution_count": null,
      "outputs": []
    },
    {
      "cell_type": "code",
      "metadata": {
        "id": "gaC_vgk32iI7",
        "colab_type": "code",
        "colab": {}
      },
      "source": [
        "def sum_to(n):\n",
        "    \"\"\"1부터 n까지 정수들의 합을 리턴하는 함수.\n",
        "    s(n) = 1 + 2 + 3 + ... + (n-1) + n\n",
        "\n",
        "    >>> sum_to(10)\n",
        "    55\n",
        "    \"\"\"\n",
        "    pass"
      ],
      "execution_count": null,
      "outputs": []
    }
  ]
}