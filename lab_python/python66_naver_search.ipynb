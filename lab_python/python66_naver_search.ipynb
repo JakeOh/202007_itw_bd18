{
  "nbformat": 4,
  "nbformat_minor": 0,
  "metadata": {
    "colab": {
      "name": "python66_naver_search.ipynb",
      "provenance": [],
      "collapsed_sections": [],
      "authorship_tag": "ABX9TyPznwA4kBOHLYGG61z4Kanu",
      "include_colab_link": true
    },
    "kernelspec": {
      "name": "python3",
      "display_name": "Python 3"
    }
  },
  "cells": [
    {
      "cell_type": "markdown",
      "metadata": {
        "id": "view-in-github",
        "colab_type": "text"
      },
      "source": [
        "<a href=\"https://colab.research.google.com/github/JakeOh/202007_itw_bd18/blob/master/lab_python/python66_naver_search.ipynb\" target=\"_parent\"><img src=\"https://colab.research.google.com/assets/colab-badge.svg\" alt=\"Open In Colab\"/></a>"
      ]
    },
    {
      "cell_type": "code",
      "metadata": {
        "id": "5va25dro2bh1"
      },
      "source": [
        "import requests\n",
        "from bs4 import BeautifulSoup"
      ],
      "execution_count": 1,
      "outputs": []
    },
    {
      "cell_type": "code",
      "metadata": {
        "id": "Waj2XyAt2zcD"
      },
      "source": [
        "# https://search.naver.com/search.naver?sm=top_hty&fbm=1&ie=utf8&query=machine+learning\n",
        "# https://search.naver.com/search.naver?where=news&sm=tab_jum&query=machine+learning\n",
        "# https://search.naver.com/search.naver?&where=news&query=machine%20learning&sm=tab_pge&sort=0&photo=0&field=0&reporter_article=&pd=0&ds=&de=&docid=&nso=so:r,p:all,a:all&mynews=0&cluster_rank=12&start=11&refresh_start=0\n",
        "# https://search.naver.com/search.naver?&where=news&query=machine%20learning&sm=tab_pge&sort=0&photo=0&field=0&reporter_article=&pd=0&ds=&de=&docid=&nso=so:r,p:all,a:all&mynews=0&cluster_rank=22&start=1&refresh_start=0\n",
        "# https://search.naver.com/search.naver?&where=news&query=machine%20learning&sm=tab_pge&sort=0&photo=0&field=0&reporter_article=&pd=0&ds=&de=&docid=&nso=so:r,p:all,a:all&mynews=0&cluster_rank=34&start=21&refresh_start=0\n",
        "\n",
        "naver_search_url = 'https://search.naver.com/search.naver?where=news&query=BTS&start=1'\n",
        "# 요청 파라미터(request parameter): where(검색 카테고리), query(검색어), start(검색 페이지의 시작 글번호)\n",
        "# 1 페이지 =>  1 ~ 10 검색 결과 => 1\n",
        "# 2 페이지 => 11 ~ 20 검색 결과 => 11"
      ],
      "execution_count": 3,
      "outputs": []
    },
    {
      "cell_type": "code",
      "metadata": {
        "id": "aArJmlSc9UAY"
      },
      "source": [
        "def naver_news_search(keyword, total_page):\n",
        "    \"\"\"검색어(keyword)와 검색 결과 페이지 개수(total_page)를 전달받아서,\n",
        "    네이버 뉴스 검색을 하고, 검색 결과의 링크 주소와 뉴스 제목을 출력\n",
        "    \"\"\"\n",
        "    # 검색어와 시작글번호 요청 파라미터를 제외한 URL\n",
        "    naver_search_url = 'https://search.naver.com/search.naver?where=news'\n",
        "    \n",
        "    for page in range(total_page):\n",
        "        print(f'***** page {page + 1} *****')\n",
        "        \n",
        "        # 네이버 뉴스 검색을 할 때 필요한 요청 파라미터들\n",
        "        request_params = {'query': keyword, 'start': page * 10 + 1}\n",
        "        # GET 방식 요청(request)를 보내고 응답(response)를 받음.\n",
        "        response = requests.get(url=naver_search_url, params=request_params)\n",
        "        # 응답에서 HTML 텍스트를 추출.\n",
        "        html = response.text.strip()\n",
        "        # HTML 코드를 분석할 수 있도록 BeautifulSoup 객체를 생성. \n",
        "        soup = BeautifulSoup(markup=html, features='html5lib')\n",
        "\n",
        "        # 검색 결과를 찾을 수 있는 selector\n",
        "        selector = 'ul.type01 li dl dt a._sp_each_title'\n",
        "        # selector를 사용해서 HTML element들을 찾음.\n",
        "        search_results = soup.select(selector)\n",
        "        for link in search_results:\n",
        "            # 각각의 링크에서 링크 URL과 타이틀을 추출.\n",
        "            link_url = link['href']  # link.get('href')\n",
        "            link_title = link.text\n",
        "            print(link_url, link_title)\n",
        "\n",
        "        print()"
      ],
      "execution_count": 20,
      "outputs": []
    },
    {
      "cell_type": "code",
      "metadata": {
        "id": "_AqVEQPq_ZQw",
        "outputId": "f981befe-91ff-48fd-c997-5ba00a5c4f5e",
        "colab": {
          "base_uri": "https://localhost:8080/",
          "height": 536
        }
      },
      "source": [
        "naver_news_search('머신러닝', 2)"
      ],
      "execution_count": 23,
      "outputs": [
        {
          "output_type": "stream",
          "text": [
            "***** page 1 *****\n",
            "http://it.chosun.com/site/data/html_dir/2020/10/15/2020101502508.html 에이아이더·데이터로봇, 머신러닝 기반 컨설팅·솔루션 사업 맞손\n",
            "http://www.g-enews.com/ko-kr/news/article/news_all/202010151643088469becd74a0af_1/article.html 슈퍼브에이아이, 향후 10년 머신러닝 오퍼레이션 시대... AI 시장 패러다임을...\n",
            "http://www.dt.co.kr/contents.html?article_no=2020101502109931650003&ref=naver 에이아이더, 자동화 머신러닝 솔루션 사업 본격화\n",
            "http://yna.kr/AKR20201016052500009?did=1195m \"코로나19 5분내 판별\"…영국 연구진, 머신러닝기반 검사법 개발\n",
            "http://www.etnews.com/20201015000009 [올쇼TV] SAS 현업 전문가로부터 듣는 Virtual SAS School: 엔터프라이즈 머신...\n",
            "http://www.itdaily.kr/news/articleView.html?idxno=102786 위세아이텍, 온라인 세미나서 AI·머신러닝 혁신 사례 공유\n",
            "http://news.mk.co.kr/newsRead.php?no=1049167&year=2020 \"노벨상 받은 경매이론…딥러닝 있었기에 가능했죠\"\n",
            "http://www.aitimes.kr/news/articleView.html?idxno=17999 AI 스타트업 소이넷, CIO Advisor APAC 2020년 머신러닝 'TOP 10' 기업으로 선...\n",
            "https://www.asiatime.co.kr/news/newsview.php?ncode=1065590601665245 머신러닝 데이터로 뇌졸중 환자 살리는 싱가포르 창업가\n",
            "http://www.etnews.com/20201013000119 소이넷, CIO Advisor에서 2020 최우수 머신러닝 회사로 선정\n",
            "\n",
            "***** page 2 *****\n",
            "http://www.g-enews.com/ko-kr/news/article/news_all/202010151643088469becd74a0af_1/article.html 슈퍼브에이아이, 향후 10년 머신러닝 오퍼레이션 시대... AI 시장 패러다임을...\n",
            "http://www.leaders.kr/news/articleView.html?idxno=215146 무선통신·머신러닝 전문가 신원재 교수, IEEE서 '인정'\n",
            "http://www.aitimes.kr/news/articleView.html?idxno=18007 KT, 산업용 AI 시장 공략 위한 4대 인공지능 엔진 공개... 네트워크 AI, 기가...\n",
            "http://www.ciokorea.com/news/167830 구글, 안드로이드 스튜디오 4.1 공개··· 머신러닝 지원 개선\n",
            "http://www.aitimes.kr/news/articleView.html?idxno=17999 AI 스타트업 소이넷, CIO Advisor APAC 2020년 머신러닝 'TOP 10' 기업으로 선...\n",
            "http://www.datanet.co.kr/news/articleView.html?idxno=151435 팔로알토, 머신러닝 적용 차세대 SD-WAN 솔루션 출시\n",
            "http://news.mt.co.kr/mtview.php?no=2020100510275535241 위세아이텍, '머신러닝자동화 플랫폼' 웨비나 개최\n",
            "https://www.asiatime.co.kr/news/newsview.php?ncode=1065590601665245 머신러닝 데이터로 뇌졸중 환자 살리는 싱가포르 창업가\n",
            "http://www.aitimes.kr/news/articleView.html?idxno=17980 [이슈] KAIST 박사과정 공태식 연구원... 구글 AI, 'PhD 펠로우십 2020' 머신...\n",
            "https://www.mbcsportsplus.com/news/?mode=view&cate=21&b_idx=99797046 '슬기로운 격리생활' 카바니, 맨유 유니폼 입고 러닝머신 삼매경\n",
            "\n"
          ],
          "name": "stdout"
        }
      ]
    },
    {
      "cell_type": "markdown",
      "metadata": {
        "id": "c15FPMMDMP11"
      },
      "source": [
        "한겨레 신문사 사이트에서 뉴스 검색 결과를 원하는 페이지 개수만큼 검색하고,\n",
        "뉴스 링크, 뉴스 제목, 뉴스 업데이트 시간을 출력.\n",
        "각각의 뉴스 기사의 본문(전체 내용)도 출력."
      ]
    }
  ]
}