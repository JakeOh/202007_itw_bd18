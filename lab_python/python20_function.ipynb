{
  "nbformat": 4,
  "nbformat_minor": 0,
  "metadata": {
    "colab": {
      "name": "python20_function.ipynb",
      "provenance": [],
      "collapsed_sections": [],
      "authorship_tag": "ABX9TyNuYjj6tYYGZ6fzipce1L9Z",
      "include_colab_link": true
    },
    "kernelspec": {
      "name": "python3",
      "display_name": "Python 3"
    }
  },
  "cells": [
    {
      "cell_type": "markdown",
      "metadata": {
        "id": "view-in-github",
        "colab_type": "text"
      },
      "source": [
        "<a href=\"https://colab.research.google.com/github/JakeOh/202007_itw_bd18/blob/master/lab_python/python20_function.ipynb\" target=\"_parent\"><img src=\"https://colab.research.google.com/assets/colab-badge.svg\" alt=\"Open In Colab\"/></a>"
      ]
    },
    {
      "cell_type": "code",
      "metadata": {
        "id": "6CZd9kheqoVE",
        "colab_type": "code",
        "colab": {}
      },
      "source": [
        "import math"
      ],
      "execution_count": 2,
      "outputs": []
    },
    {
      "cell_type": "code",
      "metadata": {
        "id": "qwEW_qwBq2bj",
        "colab_type": "code",
        "colab": {}
      },
      "source": [
        "def calculate_sum(numbers: list) -> float:\n",
        "    \"\"\"숫자들을 저장하고 있는 리스트 numbers를 전달받아서, 모든 숫자들의 합을 리턴.\"\"\"\n",
        "    pass  # TODO"
      ],
      "execution_count": null,
      "outputs": []
    },
    {
      "cell_type": "code",
      "metadata": {
        "id": "omGQttZWrWbz",
        "colab_type": "code",
        "colab": {}
      },
      "source": [
        "def calculate_mean(numbers: list) -> float:\n",
        "    \"\"\"숫자들을 저장하고 있는 리스트 numbers를 전달받아서, 모든 숫자들의 평균을 리턴.\"\"\"\n",
        "    pass  # TOTO"
      ],
      "execution_count": null,
      "outputs": []
    },
    {
      "cell_type": "code",
      "metadata": {
        "id": "mcMnbrEXrmMT",
        "colab_type": "code",
        "colab": {}
      },
      "source": [
        "def calculate_variance(numbers: list) -> float:\n",
        "    \"\"\"숫자들을 저장하고 있는 리스트 numbers를 전달받아서, 그 원소들의 분산을 계산해서 리턴.\"\"\"\n",
        "    pass"
      ],
      "execution_count": 3,
      "outputs": []
    },
    {
      "cell_type": "code",
      "metadata": {
        "id": "Sin-7C6XrwFj",
        "colab_type": "code",
        "colab": {}
      },
      "source": [
        "def calculate_stddev(numbers: list) -> float:\n",
        "    \"\"\"숫자들을 저장하고 있는 리스트 numbers를 전달받아서, 그 원소들의 표준편차를 계산해서 리턴.\"\"\"\n",
        "    pass"
      ],
      "execution_count": null,
      "outputs": []
    },
    {
      "cell_type": "code",
      "metadata": {
        "id": "LbkGOmf9r9Py",
        "colab_type": "code",
        "colab": {}
      },
      "source": [
        "def find_min_and_max(numbers: list) -> float:\n",
        "    \"\"\"숫자들을 저장하고 있는 리스트 numbers의 최솟값과 최댓값을 찾아서 리턴.\"\"\"\n",
        "    pass"
      ],
      "execution_count": null,
      "outputs": []
    }
  ]
}