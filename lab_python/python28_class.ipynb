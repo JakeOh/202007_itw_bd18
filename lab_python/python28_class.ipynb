{
  "nbformat": 4,
  "nbformat_minor": 0,
  "metadata": {
    "colab": {
      "name": "python28_class.ipynb",
      "provenance": [],
      "collapsed_sections": [],
      "authorship_tag": "ABX9TyOy78HqOZAxkUAce6Yxxv/j",
      "include_colab_link": true
    },
    "kernelspec": {
      "name": "python3",
      "display_name": "Python 3"
    }
  },
  "cells": [
    {
      "cell_type": "markdown",
      "metadata": {
        "id": "view-in-github",
        "colab_type": "text"
      },
      "source": [
        "<a href=\"https://colab.research.google.com/github/JakeOh/202007_itw_bd18/blob/master/lab_python/python28_class.ipynb\" target=\"_parent\"><img src=\"https://colab.research.google.com/assets/colab-badge.svg\" alt=\"Open In Colab\"/></a>"
      ]
    },
    {
      "cell_type": "code",
      "metadata": {
        "id": "nSC-DoNg_sGV",
        "colab_type": "code",
        "colab": {}
      },
      "source": [
        "class Point:\n",
        "    \"\"\"2차원 평면 상의 점의 좌표를 저장할 수 있는 클래스\"\"\"\n",
        "\n",
        "    def __init__(self, x=0, y=0):\n",
        "        pass  # initialization(초기화)\n",
        "\n",
        "    def __repr__():\n",
        "        pass  # representation(표현)\n",
        "\n",
        "    def __eq__():\n",
        "        pass  # equal(같음): 두 점의 x, y 좌표가 서로 같은 지\n",
        "\n",
        "    def move(self, dx, dy):\n",
        "        \"\"\"점의 좌표를 원래 위치에서 x축 방향으로 dx만큼, y축 방향으로 dy만큼 이동시키는 메서드.\"\"\"\n",
        "        pass\n",
        "\n",
        "    def distance(self, pt):\n",
        "        \"\"\"다른 Point pt까지의 거리를 반환하는 메서드.\n",
        "        두 점 (x1, y1)과 (x2, y2) 사이의 거리 = sqrt((x1 - x2) ** 2 + (y1 - y2) ** 2)\n",
        "        \"\"\"\n",
        "        # math 모듈의 sqrt 함수를 사용\n",
        "        pass\n"
      ],
      "execution_count": null,
      "outputs": []
    },
    {
      "cell_type": "markdown",
      "metadata": {
        "id": "3DZodQGUMQq_",
        "colab_type": "text"
      },
      "source": [
        "\n",
        "\n",
        "---\n",
        "\n"
      ]
    },
    {
      "cell_type": "code",
      "metadata": {
        "id": "-iwWX3dSMP5r",
        "colab_type": "code",
        "colab": {}
      },
      "source": [
        "class Rectangle:\n",
        "    \"\"\"직사각형을 표현하는 클래스.\n",
        "    속성: 꼭지점(corner), 가로길이(width), 세로길이(height).\n",
        "    corner: Point 타입(직사각형의 좌하단), width/height: float 타입.\n",
        "    \"\"\"\n",
        "    def __init__():\n",
        "        pass\n",
        "\n",
        "    def __repr__():\n",
        "        pass\n",
        "\n",
        "    def __eq__():\n",
        "        pass\n",
        "\n",
        "    def move():\n",
        "        \"\"\"직사각형의 위치를 dx, dy만큼 옮기는 메서드.\"\"\"\n",
        "        pass\n",
        "\n",
        "    def resize():\n",
        "        \"\"\"직사각형의 가로길이를 dw만큼, 세로 길이를 dh만큼 늘려주는 메서드.\n",
        "        width -> width + dw, height -> height + dh\n",
        "        \"\"\"\n",
        "        pass\n",
        "    \n",
        "    def center():\n",
        "        \"\"\"직사각형의 중심을 찾아주는 메서드.\"\"\"\n",
        "        pass\n",
        "\n",
        "    def area():\n",
        "        \"\"\"직사각형의 넓이를 반환하는 메서드.\"\"\"\n",
        "        pass\n"
      ],
      "execution_count": null,
      "outputs": []
    }
  ]
}