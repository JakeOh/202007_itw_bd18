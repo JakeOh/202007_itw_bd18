{
  "nbformat": 4,
  "nbformat_minor": 0,
  "metadata": {
    "colab": {
      "name": "python47_visualization.ipynb",
      "provenance": [],
      "authorship_tag": "ABX9TyPW75DTL0ZoHLdZKR/0Mk4E",
      "include_colab_link": true
    },
    "kernelspec": {
      "name": "python3",
      "display_name": "Python 3"
    }
  },
  "cells": [
    {
      "cell_type": "markdown",
      "metadata": {
        "id": "view-in-github",
        "colab_type": "text"
      },
      "source": [
        "<a href=\"https://colab.research.google.com/github/JakeOh/202007_itw_bd18/blob/master/lab_python/python47_visualization.ipynb\" target=\"_parent\"><img src=\"https://colab.research.google.com/assets/colab-badge.svg\" alt=\"Open In Colab\"/></a>"
      ]
    },
    {
      "cell_type": "markdown",
      "metadata": {
        "id": "fiLxn0z--qPb",
        "colab_type": "text"
      },
      "source": [
        "pandas, pyplot, seaborn 패키지/모듈 import."
      ]
    },
    {
      "cell_type": "code",
      "metadata": {
        "id": "xu1-NzD2-ffY",
        "colab_type": "code",
        "colab": {}
      },
      "source": [
        ""
      ],
      "execution_count": null,
      "outputs": []
    },
    {
      "cell_type": "markdown",
      "metadata": {
        "id": "yHerMzv8-19j",
        "colab_type": "text"
      },
      "source": [
        "seaborn 패키지의 샘플 데이터 mpg(mile per gallon) 데이터 프레임 로드."
      ]
    },
    {
      "cell_type": "code",
      "metadata": {
        "id": "7uwdosj-_B1a",
        "colab_type": "code",
        "colab": {}
      },
      "source": [
        ""
      ],
      "execution_count": null,
      "outputs": []
    },
    {
      "cell_type": "markdown",
      "metadata": {
        "id": "30zoQv08_Dfz",
        "colab_type": "text"
      },
      "source": [
        "mpg 데이터 프레임 구조 파악: shape, columns, (숫자 타입 데이터) 기술 통계량, (범주형 타입 데이터) 빈도수"
      ]
    },
    {
      "cell_type": "code",
      "metadata": {
        "id": "-Bsl4yUC_iep",
        "colab_type": "code",
        "colab": {}
      },
      "source": [
        ""
      ],
      "execution_count": null,
      "outputs": []
    },
    {
      "cell_type": "markdown",
      "metadata": {
        "id": "VxhcHhdF_jhy",
        "colab_type": "text"
      },
      "source": [
        "산점도 그래프(mpg ~ displacement): pyplot, seaborn"
      ]
    },
    {
      "cell_type": "code",
      "metadata": {
        "id": "pw4n67Ko_jGL",
        "colab_type": "code",
        "colab": {}
      },
      "source": [
        ""
      ],
      "execution_count": null,
      "outputs": []
    },
    {
      "cell_type": "markdown",
      "metadata": {
        "id": "DggaSBPi_5XR",
        "colab_type": "text"
      },
      "source": [
        "*   2x2 subplot을 생성\n",
        "*   산점도 그래프(mpg ~ cyclinders, mpg ~ horsepower, mpg ~ weight, mpg ~ acceleration)"
      ]
    },
    {
      "cell_type": "code",
      "metadata": {
        "id": "IYRwuV1XAV96",
        "colab_type": "code",
        "colab": {}
      },
      "source": [
        ""
      ],
      "execution_count": null,
      "outputs": []
    },
    {
      "cell_type": "markdown",
      "metadata": {
        "id": "uwYa6RvvAX3y",
        "colab_type": "text"
      },
      "source": [
        "cylinder별 mpg의 평균 막대 그래프"
      ]
    },
    {
      "cell_type": "code",
      "metadata": {
        "id": "6itfalUuAfNC",
        "colab_type": "code",
        "colab": {}
      },
      "source": [
        ""
      ],
      "execution_count": null,
      "outputs": []
    },
    {
      "cell_type": "markdown",
      "metadata": {
        "id": "nbCR9iMKA1uq",
        "colab_type": "text"
      },
      "source": [
        "cylinder별 mpg의 box plot"
      ]
    },
    {
      "cell_type": "code",
      "metadata": {
        "id": "YgU3zcnXA6uZ",
        "colab_type": "code",
        "colab": {}
      },
      "source": [
        ""
      ],
      "execution_count": null,
      "outputs": []
    }
  ]
}