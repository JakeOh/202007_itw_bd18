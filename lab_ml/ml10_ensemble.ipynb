{
  "nbformat": 4,
  "nbformat_minor": 0,
  "metadata": {
    "colab": {
      "name": "ml10_ensemble.ipynb",
      "provenance": [],
      "collapsed_sections": [],
      "authorship_tag": "ABX9TyPe21zvHa2ELCKnnrKXqNoP",
      "include_colab_link": true
    },
    "kernelspec": {
      "name": "python3",
      "display_name": "Python 3"
    }
  },
  "cells": [
    {
      "cell_type": "markdown",
      "metadata": {
        "id": "view-in-github",
        "colab_type": "text"
      },
      "source": [
        "<a href=\"https://colab.research.google.com/github/JakeOh/202007_itw_bd18/blob/master/lab_ml/ml10_ensemble.ipynb\" target=\"_parent\"><img src=\"https://colab.research.google.com/assets/colab-badge.svg\" alt=\"Open In Colab\"/></a>"
      ]
    },
    {
      "cell_type": "markdown",
      "metadata": {
        "id": "puIoQP3So11s"
      },
      "source": [
        "# 앙상블 학습 방법(Ensemble Learning)"
      ]
    },
    {
      "cell_type": "markdown",
      "metadata": {
        "id": "y4vASoBUo-_q"
      },
      "source": [
        "* 앙상블(ensemble): 기계 학습에서 사용되는 일련의 모델(알고리즘)들.\n",
        "    * 서로 다른 모델(알고리즘) 여러개를 훈련시키는 방법.\n",
        "    * 같은 모델(알고리즘)을 서로 다른 훈련 셋에서 훈련시키는 방법.\n",
        "* 앙상블 학습: 앙상블을 사용한 기계 학습 방법.\n",
        "    * 투표(voting) 방식: 서로 다른 알고리즘들을 학습시켜서, 각각의 예측값을 투표(다수결) 또는 평균으로 예측하는 방법.\n",
        "    * Bagging(Bootstrap Aggregating): **중복을 허용해서 샘플링**한 훈련 셋의 부분집합들을 하나의 알고리즘에 학습시켜서 예측(다수결, 평균).\n",
        "    * Pasting: **중복을 허용하지 않고 샘플링**한 훈련 셋의 부분집합들을 하나의 알고리즘에 학습시켜서 예측.\n",
        "    * Random Forest: Bagging 방법을 적용한 Decision Tree 앙상블 학습 방법."
      ]
    },
    {
      "cell_type": "code",
      "metadata": {
        "id": "O4o-AnrRo-fx"
      },
      "source": [
        "import matplotlib.pyplot as plt\n",
        "import numpy as np\n",
        "from sklearn.datasets import make_moons"
      ],
      "execution_count": 1,
      "outputs": []
    },
    {
      "cell_type": "code",
      "metadata": {
        "id": "iZ5nBT0douE5",
        "outputId": "9e54c172-b5e4-442d-e03b-ce1dd990a010",
        "colab": {
          "base_uri": "https://localhost:8080/"
        }
      },
      "source": [
        "X, y = make_moons(n_samples=500, noise=0.3, random_state=42)\n",
        "X.shape, y.shape"
      ],
      "execution_count": 2,
      "outputs": [
        {
          "output_type": "execute_result",
          "data": {
            "text/plain": [
              "((500, 2), (500,))"
            ]
          },
          "metadata": {
            "tags": []
          },
          "execution_count": 2
        }
      ]
    },
    {
      "cell_type": "code",
      "metadata": {
        "id": "i3EWVGOOtJXt",
        "outputId": "31b0a293-1b57-4505-84f3-183de5943dde",
        "colab": {
          "base_uri": "https://localhost:8080/"
        }
      },
      "source": [
        "np.unique(y)"
      ],
      "execution_count": 3,
      "outputs": [
        {
          "output_type": "execute_result",
          "data": {
            "text/plain": [
              "array([0, 1])"
            ]
          },
          "metadata": {
            "tags": []
          },
          "execution_count": 3
        }
      ]
    },
    {
      "cell_type": "code",
      "metadata": {
        "id": "FAbZ3O0ptRSL",
        "outputId": "4d4916df-8ddd-460b-80f3-a7e8a01effe8",
        "colab": {
          "base_uri": "https://localhost:8080/",
          "height": 279
        }
      },
      "source": [
        "for cls in np.unique(y):\n",
        "    plt.scatter(X[y == cls, 0], X[y == cls, 1], label=f'class-{cls}')\n",
        "plt.legend()\n",
        "plt.xlabel('x1')\n",
        "plt.ylabel('x2')\n",
        "plt.grid()"
      ],
      "execution_count": 4,
      "outputs": [
        {
          "output_type": "display_data",
          "data": {
            "image/png": "[encoded data removed]",
            "text/plain": [
              "<Figure size 432x288 with 1 Axes>"
            ]
          },
          "metadata": {
            "tags": [],
            "needs_background": "light"
          }
        }
      ]
    },
    {
      "cell_type": "code",
      "metadata": {
        "id": "36zY0F1IuDTa"
      },
      "source": [
        "# Train/Test 분리\n",
        "from sklearn.model_selection import train_test_split"
      ],
      "execution_count": 5,
      "outputs": []
    },
    {
      "cell_type": "code",
      "metadata": {
        "id": "2VKGxaJNutlz",
        "outputId": "70aa0606-c0a1-4990-ad2c-66b929b3389a",
        "colab": {
          "base_uri": "https://localhost:8080/"
        }
      },
      "source": [
        "X_train, X_test, y_train, y_test = train_test_split(X, y,\n",
        "                                                    test_size=0.2,\n",
        "                                                    random_state=42)\n",
        "X_train.shape, X_test.shape, y_train.shape, y_test.shape"
      ],
      "execution_count": 6,
      "outputs": [
        {
          "output_type": "execute_result",
          "data": {
            "text/plain": [
              "((400, 2), (100, 2), (400,), (100,))"
            ]
          },
          "metadata": {
            "tags": []
          },
          "execution_count": 6
        }
      ]
    },
    {
      "cell_type": "markdown",
      "metadata": {
        "id": "01QUt_7Mvq-P"
      },
      "source": [
        "* 약한 학습기(weak learner) 여러개를 훈련 셋(X_train, y_train)으로 훈련.\n",
        "* 각 학습기에서 테스트 셋(X_test, y_test)의 예측값을 계산하고 평가."
      ]
    },
    {
      "cell_type": "code",
      "metadata": {
        "id": "Ok1i68kgvqiK"
      },
      "source": [
        "from sklearn.linear_model import LogisticRegression, SGDClassifier\n",
        "from sklearn.svm import SVC\n",
        "from sklearn.ensemble import RandomForestClassifier\n",
        "from sklearn.metrics import accuracy_score"
      ],
      "execution_count": 7,
      "outputs": []
    },
    {
      "cell_type": "code",
      "metadata": {
        "id": "sStnoiuFwtT7"
      },
      "source": [
        "# 학습기(learner) 4개 생성.\n",
        "log_clf = LogisticRegression(random_state=42,)\n",
        "sgd_clf = SGDClassifier(random_state=42, loss='log')\n",
        "svm_clf = SVC(random_state=42, probability=True)\n",
        "forest_clf = RandomForestClassifier(random_state=42, max_depth=3)"
      ],
      "execution_count": 8,
      "outputs": []
    },
    {
      "cell_type": "code",
      "metadata": {
        "id": "2A_njtOE1wj2",
        "outputId": "f6a908f7-fb17-437b-c14b-df20d89390b5",
        "colab": {
          "base_uri": "https://localhost:8080/"
        }
      },
      "source": [
        "classifier = [log_clf, sgd_clf, svm_clf, forest_clf]\n",
        "for clf in classifier:\n",
        "    clf.fit(X_train, y_train)  # 모델을 훈련 셋으로 학습시킴.\n",
        "    y_test_pred = clf.predict(X_test)  # 훈련된 모델로 테스트 셋의 예측값을 계산.\n",
        "    acc = accuracy_score(y_test, y_test_pred)  # 예측값의 정확도 평가.\n",
        "    print(clf.__class__.__name__, 'accuracry:', acc)"
      ],
      "execution_count": 9,
      "outputs": [
        {
          "output_type": "stream",
          "text": [
            "LogisticRegression accuracry: 0.85\n",
            "SGDClassifier accuracry: 0.85\n",
            "SVC accuracry: 0.87\n",
            "RandomForestClassifier accuracry: 0.87\n"
          ],
          "name": "stdout"
        }
      ]
    },
    {
      "cell_type": "code",
      "metadata": {
        "id": "6njSO4A13Tu2"
      },
      "source": [
        "from sklearn.ensemble import VotingClassifier"
      ],
      "execution_count": 10,
      "outputs": []
    },
    {
      "cell_type": "markdown",
      "metadata": {
        "id": "SFvfRk-96iKW"
      },
      "source": [
        "* VotingClassifier의 voting 파라미터\n",
        "    * 기본값='hard', 'soft'를 사용할 수 있음.\n",
        "    * hard: 다수결 투표. 모든 분류기가 동일하게 1표씩 행사.\n",
        "    * soft: 각 분류기의 예측값에 그 예측의 확률을 가중치로 곱한 값을 사용해서 예측. 확률이 높은 예측값이 더 높은 가중치를 가지고 투표를 하게되는 방식.\n",
        "    * 일반적으로 soft voting 방식이 성능이 더 좋다고 알려져 있음.\n",
        "    * soft voting을 사용하려면 모든 분류기가 예측 확률을 계산할 수 있어야 함!\n",
        "        * SGDClassifier인 경우에는 loss='log'로 지정.\n",
        "        * SVC인 경우에는 probability=True로 지정."
      ]
    },
    {
      "cell_type": "code",
      "metadata": {
        "id": "J0YfufM-3ZYk"
      },
      "source": [
        "voting_clf = VotingClassifier(estimators=[('logistic', log_clf),\n",
        "                                          ('sgd', sgd_clf),\n",
        "                                          ('svc', svm_clf),\n",
        "                                          ('rf', forest_clf)],\n",
        "                              voting='soft',\n",
        "                              n_jobs=-1)  # 모델 생성"
      ],
      "execution_count": 11,
      "outputs": []
    },
    {
      "cell_type": "code",
      "metadata": {
        "id": "95QEM6bw35BN",
        "outputId": "3000e371-464e-4de0-d40f-918182279431",
        "colab": {
          "base_uri": "https://localhost:8080/"
        }
      },
      "source": [
        "voting_clf.fit(X_train, y_train)  # 모델 훈련"
      ],
      "execution_count": 12,
      "outputs": [
        {
          "output_type": "execute_result",
          "data": {
            "text/plain": [
              "VotingClassifier(estimators=[('logistic',\n",
              "                              LogisticRegression(C=1.0, class_weight=None,\n",
              "                                                 dual=False, fit_intercept=True,\n",
              "                                                 intercept_scaling=1,\n",
              "                                                 l1_ratio=None, max_iter=100,\n",
              "                                                 multi_class='auto',\n",
              "                                                 n_jobs=None, penalty='l2',\n",
              "                                                 random_state=42,\n",
              "                                                 solver='lbfgs', tol=0.0001,\n",
              "                                                 verbose=0, warm_start=False)),\n",
              "                             ('sgd',\n",
              "                              SGDClassifier(alpha=0.0001, average=False,\n",
              "                                            class_weight=None,\n",
              "                                            early_st...\n",
              "                                                     criterion='gini',\n",
              "                                                     max_depth=3,\n",
              "                                                     max_features='auto',\n",
              "                                                     max_leaf_nodes=None,\n",
              "                                                     max_samples=None,\n",
              "                                                     min_impurity_decrease=0.0,\n",
              "                                                     min_impurity_split=None,\n",
              "                                                     min_samples_leaf=1,\n",
              "                                                     min_samples_split=2,\n",
              "                                                     min_weight_fraction_leaf=0.0,\n",
              "                                                     n_estimators=100,\n",
              "                                                     n_jobs=None,\n",
              "                                                     oob_score=False,\n",
              "                                                     random_state=42, verbose=0,\n",
              "                                                     warm_start=False))],\n",
              "                 flatten_transform=True, n_jobs=-1, voting='soft',\n",
              "                 weights=None)"
            ]
          },
          "metadata": {
            "tags": []
          },
          "execution_count": 12
        }
      ]
    },
    {
      "cell_type": "code",
      "metadata": {
        "id": "A280kGKf4BJM",
        "outputId": "388b0ae9-fda1-4947-976b-1c5031d6e049",
        "colab": {
          "base_uri": "https://localhost:8080/"
        }
      },
      "source": [
        "y_test_pred = voting_clf.predict(X_test)  # 예측, 평가\n",
        "acc = accuracy_score(y_test, y_test_pred)\n",
        "print('voting ensemble accuracry:', acc)"
      ],
      "execution_count": 13,
      "outputs": [
        {
          "output_type": "stream",
          "text": [
            "voting ensemble accuracry: 0.86\n"
          ],
          "name": "stdout"
        }
      ]
    },
    {
      "cell_type": "markdown",
      "metadata": {
        "id": "S5XdKXvf8FrU"
      },
      "source": [
        "## Bagging(Bootstrap Aggregating)"
      ]
    },
    {
      "cell_type": "code",
      "metadata": {
        "id": "2jyfVxfSPxoL"
      },
      "source": [
        "from sklearn.tree import DecisionTreeClassifier"
      ],
      "execution_count": 14,
      "outputs": []
    },
    {
      "cell_type": "code",
      "metadata": {
        "id": "c2vBaGcn8Ljg",
        "outputId": "317f7b94-925c-4aef-e175-9e4b70c09ab5",
        "colab": {
          "base_uri": "https://localhost:8080/"
        }
      },
      "source": [
        "# Decision Tree 분류기 1개를 훈련 셋 전체에 대해서 학습. -> 테스트 셋에서 평가.\n",
        "tree_clf = DecisionTreeClassifier(random_state=42)\n",
        "tree_clf.fit(X_train, y_train)\n",
        "y_test_pred = tree_clf.predict(X_test)\n",
        "acc = accuracy_score(y_test, y_test_pred)\n",
        "acc"
      ],
      "execution_count": 15,
      "outputs": [
        {
          "output_type": "execute_result",
          "data": {
            "text/plain": [
              "0.82"
            ]
          },
          "metadata": {
            "tags": []
          },
          "execution_count": 15
        }
      ]
    },
    {
      "cell_type": "code",
      "metadata": {
        "id": "ycSDyMixQdFt"
      },
      "source": [
        "from sklearn.ensemble import BaggingClassifier"
      ],
      "execution_count": 16,
      "outputs": []
    },
    {
      "cell_type": "code",
      "metadata": {
        "id": "5TcPsR-yQhEP"
      },
      "source": [
        "bagging_clf = BaggingClassifier(base_estimator=DecisionTreeClassifier(random_state=42),\n",
        "                                # base_estimator: 기본 추정기(예측기). 머신 러닝 알고리즘(모델).\n",
        "                                n_estimators=50,  # 추정기 개수 = 학습 횟수 = 훈련 셋 부분집합 개수.\n",
        "                                max_samples=100,  # 훈련 셋 부분집합이 가질 수 있는 최대 원소 개수.\n",
        "                                bootstrap=True,   # True(중복 허용. Bagging), False(중복 불허. Pasting)\n",
        "                                n_jobs=-1,        # 멀티 태스크의 개수. (-1=가능한 모든 CPU 코어 사용.)\n",
        "                                oob_score=True,   # oob(out-of-bagging)\n",
        "                                random_state=42)"
      ],
      "execution_count": 17,
      "outputs": []
    },
    {
      "cell_type": "code",
      "metadata": {
        "id": "qKlnNr5KS9U8",
        "outputId": "2bc24111-40ac-4048-c2e4-0052fdbe85e5",
        "colab": {
          "base_uri": "https://localhost:8080/"
        }
      },
      "source": [
        "bagging_clf.fit(X_train, y_train)  # 모델 훈련"
      ],
      "execution_count": 18,
      "outputs": [
        {
          "output_type": "execute_result",
          "data": {
            "text/plain": [
              "BaggingClassifier(base_estimator=DecisionTreeClassifier(ccp_alpha=0.0,\n",
              "                                                        class_weight=None,\n",
              "                                                        criterion='gini',\n",
              "                                                        max_depth=None,\n",
              "                                                        max_features=None,\n",
              "                                                        max_leaf_nodes=None,\n",
              "                                                        min_impurity_decrease=0.0,\n",
              "                                                        min_impurity_split=None,\n",
              "                                                        min_samples_leaf=1,\n",
              "                                                        min_samples_split=2,\n",
              "                                                        min_weight_fraction_leaf=0.0,\n",
              "                                                        presort='deprecated',\n",
              "                                                        random_state=42,\n",
              "                                                        splitter='best'),\n",
              "                  bootstrap=True, bootstrap_features=False, max_features=1.0,\n",
              "                  max_samples=100, n_estimators=50, n_jobs=-1, oob_score=True,\n",
              "                  random_state=42, verbose=0, warm_start=False)"
            ]
          },
          "metadata": {
            "tags": []
          },
          "execution_count": 18
        }
      ]
    },
    {
      "cell_type": "code",
      "metadata": {
        "id": "ytp-OV2_TQX0",
        "outputId": "d14d7631-de95-4488-f6a9-31ea5ede840a",
        "colab": {
          "base_uri": "https://localhost:8080/"
        }
      },
      "source": [
        "y_test_pred = bagging_clf.predict(X_test)\n",
        "acc = accuracy_score(y_test, y_test_pred)\n",
        "acc"
      ],
      "execution_count": 19,
      "outputs": [
        {
          "output_type": "execute_result",
          "data": {
            "text/plain": [
              "0.92"
            ]
          },
          "metadata": {
            "tags": []
          },
          "execution_count": 19
        }
      ]
    },
    {
      "cell_type": "code",
      "metadata": {
        "id": "7e9K83WxU3BI",
        "outputId": "38941128-2952-4de2-c727-7f55f6e8f6d2",
        "colab": {
          "base_uri": "https://localhost:8080/"
        }
      },
      "source": [
        "bagging_clf.oob_score_"
      ],
      "execution_count": 20,
      "outputs": [
        {
          "output_type": "execute_result",
          "data": {
            "text/plain": [
              "0.9175"
            ]
          },
          "metadata": {
            "tags": []
          },
          "execution_count": 20
        }
      ]
    },
    {
      "cell_type": "markdown",
      "metadata": {
        "id": "mwyYoHMNVCjk"
      },
      "source": [
        "* OOB(Out-Of-Bagging) 샘플: 학습 셋에서 랜덤하게 부분집합을 만들 때, 한번도 부분집합에 포함되지 않은 샘플들.\n",
        "* OOB 샘플들을 검증(validation) 데이터로 사용할 수 있음.\n",
        "* BaggingClassifier/Regressor의 파라미터 oob_score=True로 지정하면, 학습 후에 OOB 샘플들로 계산된 점수(정확도, MSE)를 얻을 수 있음.\n",
        "* oob_score_는 테스트 셋의 점수를 추정할 수 있음."
      ]
    },
    {
      "cell_type": "markdown",
      "metadata": {
        "id": "Yup7aj82WAvD"
      },
      "source": [
        "## Random Forest 분류기\n",
        "Decision Tree를 추정기(estimator)로 사용하는 Bagging 앙상블 학습 방법."
      ]
    },
    {
      "cell_type": "code",
      "metadata": {
        "id": "N5EXWZuqWnbW"
      },
      "source": [
        "from sklearn.ensemble import RandomForestClassifier"
      ],
      "execution_count": 21,
      "outputs": []
    },
    {
      "cell_type": "code",
      "metadata": {
        "id": "e5Do5_RFWEO-",
        "outputId": "f0a966e0-74cd-4e48-e5ac-c4b772cf4913",
        "colab": {
          "base_uri": "https://localhost:8080/"
        }
      },
      "source": [
        "forest_clf = RandomForestClassifier(n_estimators=50, bootstrap=True, oob_score=True, n_jobs=-1,\n",
        "                                    random_state=42, max_samples=100)\n",
        "forest_clf.fit(X_train, y_train)\n",
        "print('oob score:', forest_clf.oob_score_)\n",
        "\n",
        "y_test_pred = forest_clf.predict(X_test)\n",
        "acc = accuracy_score(y_test, y_test_pred)\n",
        "print('test acc:', acc)"
      ],
      "execution_count": 22,
      "outputs": [
        {
          "output_type": "stream",
          "text": [
            "oob score: 0.9125\n",
            "test acc: 0.93\n"
          ],
          "name": "stdout"
        }
      ]
    },
    {
      "cell_type": "markdown",
      "metadata": {
        "id": "v7sQMt9OYPCS"
      },
      "source": [
        "Random Foreset의 장점 중 하나는 특성(변수)들의 중요도를 자동으로 측정해 준다는 점."
      ]
    },
    {
      "cell_type": "code",
      "metadata": {
        "id": "CXsE-GgRYhfT"
      },
      "source": [
        "from sklearn.datasets import load_iris"
      ],
      "execution_count": 23,
      "outputs": []
    },
    {
      "cell_type": "code",
      "metadata": {
        "id": "zlhjjVXRYmem"
      },
      "source": [
        "iris = load_iris()\n",
        "X, y = iris['data'], iris['target']"
      ],
      "execution_count": 24,
      "outputs": []
    },
    {
      "cell_type": "code",
      "metadata": {
        "id": "r7FJvD9OYr89",
        "outputId": "82f5e271-6c74-4042-8c7d-cf4830e144b4",
        "colab": {
          "base_uri": "https://localhost:8080/"
        }
      },
      "source": [
        "forest_clf = RandomForestClassifier(random_state=42, n_jobs=-1)\n",
        "forest_clf.fit(X, y)"
      ],
      "execution_count": 25,
      "outputs": [
        {
          "output_type": "execute_result",
          "data": {
            "text/plain": [
              "RandomForestClassifier(bootstrap=True, ccp_alpha=0.0, class_weight=None,\n",
              "                       criterion='gini', max_depth=None, max_features='auto',\n",
              "                       max_leaf_nodes=None, max_samples=None,\n",
              "                       min_impurity_decrease=0.0, min_impurity_split=None,\n",
              "                       min_samples_leaf=1, min_samples_split=2,\n",
              "                       min_weight_fraction_leaf=0.0, n_estimators=100,\n",
              "                       n_jobs=-1, oob_score=False, random_state=42, verbose=0,\n",
              "                       warm_start=False)"
            ]
          },
          "metadata": {
            "tags": []
          },
          "execution_count": 25
        }
      ]
    },
    {
      "cell_type": "code",
      "metadata": {
        "id": "2PjnDTKlY4El",
        "outputId": "957620f2-224a-4eb9-fb7e-450c303913ee",
        "colab": {
          "base_uri": "https://localhost:8080/"
        }
      },
      "source": [
        "forest_clf.feature_importances_\n",
        "#> 3, 4번째(column index 2, 3번) 특성들이 다른 특성들에 비해서 더 중요!"
      ],
      "execution_count": 26,
      "outputs": [
        {
          "output_type": "execute_result",
          "data": {
            "text/plain": [
              "array([0.10612762, 0.02167809, 0.43612951, 0.43606478])"
            ]
          },
          "metadata": {
            "tags": []
          },
          "execution_count": 26
        }
      ]
    },
    {
      "cell_type": "markdown",
      "metadata": {
        "id": "HTVR0kpwnopi"
      },
      "source": [
        "mnist 데이터 셋에서 특성 중요도를 Random Forest로 계산."
      ]
    },
    {
      "cell_type": "code",
      "metadata": {
        "id": "5uXDC3ahnIvy"
      },
      "source": [
        "from sklearn.datasets import fetch_openml"
      ],
      "execution_count": 28,
      "outputs": []
    },
    {
      "cell_type": "code",
      "metadata": {
        "id": "DXt6xUXHnauQ",
        "outputId": "fe003c02-7beb-467f-84fb-f7b207c0241e",
        "colab": {
          "base_uri": "https://localhost:8080/"
        }
      },
      "source": [
        "mnist = fetch_openml(name='mnist_784')\n",
        "mnist.keys()"
      ],
      "execution_count": 30,
      "outputs": [
        {
          "output_type": "execute_result",
          "data": {
            "text/plain": [
              "dict_keys(['data', 'target', 'frame', 'feature_names', 'target_names', 'DESCR', 'details', 'categories', 'url'])"
            ]
          },
          "metadata": {
            "tags": []
          },
          "execution_count": 30
        }
      ]
    },
    {
      "cell_type": "code",
      "metadata": {
        "id": "7kzU6pcynqH3",
        "outputId": "21b23c3b-f6fa-4df9-a177-ec0cb0f3ae35",
        "colab": {
          "base_uri": "https://localhost:8080/"
        }
      },
      "source": [
        "X = mnist['data']  # 샘플 데이터(훈련 셋)\n",
        "y = mnist['target'].astype(np.int16)  # 샘플 레이블\n",
        "X.shape, y.shape"
      ],
      "execution_count": 31,
      "outputs": [
        {
          "output_type": "execute_result",
          "data": {
            "text/plain": [
              "((70000, 784), (70000,))"
            ]
          },
          "metadata": {
            "tags": []
          },
          "execution_count": 31
        }
      ]
    },
    {
      "cell_type": "code",
      "metadata": {
        "id": "O0TGOjaqoiWA",
        "outputId": "4ab7e3c4-a0f4-4456-8be0-fddb63f65650",
        "colab": {
          "base_uri": "https://localhost:8080/"
        }
      },
      "source": [
        "forest_clf = RandomForestClassifier(random_state=42, n_estimators=10, n_jobs=-1)\n",
        "forest_clf.fit(X, y)"
      ],
      "execution_count": 32,
      "outputs": [
        {
          "output_type": "execute_result",
          "data": {
            "text/plain": [
              "RandomForestClassifier(bootstrap=True, ccp_alpha=0.0, class_weight=None,\n",
              "                       criterion='gini', max_depth=None, max_features='auto',\n",
              "                       max_leaf_nodes=None, max_samples=None,\n",
              "                       min_impurity_decrease=0.0, min_impurity_split=None,\n",
              "                       min_samples_leaf=1, min_samples_split=2,\n",
              "                       min_weight_fraction_leaf=0.0, n_estimators=10, n_jobs=-1,\n",
              "                       oob_score=False, random_state=42, verbose=0,\n",
              "                       warm_start=False)"
            ]
          },
          "metadata": {
            "tags": []
          },
          "execution_count": 32
        }
      ]
    },
    {
      "cell_type": "code",
      "metadata": {
        "id": "tbP6l-avpB3x",
        "outputId": "2fbcb6da-166c-42d0-fc6c-aab9cff4eca7",
        "colab": {
          "base_uri": "https://localhost:8080/",
          "height": 284
        }
      },
      "source": [
        "importance_img = forest_clf.feature_importances_.reshape((28, 28))\n",
        "plt.imshow(importance_img, cmap=plt.cm.hot)"
      ],
      "execution_count": 36,
      "outputs": [
        {
          "output_type": "execute_result",
          "data": {
            "text/plain": [
              "<matplotlib.image.AxesImage at 0x7fa73a5db358>"
            ]
          },
          "metadata": {
            "tags": []
          },
          "execution_count": 36
        },
        {
          "output_type": "display_data",
          "data": {
            "image/png": "[encoded data removed]",
            "text/plain": [
              "<Figure size 432x288 with 1 Axes>"
            ]
          },
          "metadata": {
            "tags": [],
            "needs_background": "light"
          }
        }
      ]
    },
    {
      "cell_type": "markdown",
      "metadata": {
        "id": "Jm-5nTZ4qBQP"
      },
      "source": [
        "## Boosting\n",
        "\n",
        "* 약한 학습기 여러개를 순차적으로(sequentially) 연결해서 강한 학습기를 만드는 방법.\n",
        "* 단점: 훈련을 병렬적으로 시킬 수가 없어서 시간이 오래 걸릴 수 있고, 확장성(scalability)이 떨어짐.\n",
        "* (비교) Voting, Bagging: 훈련을 병렬적으로 시킴.\n",
        "\n",
        "1. AdaBoost(Adaptive Boosting): 이전 학습에서 underfit(과소적합)된 샘플들에게 높은 가중치를 눠서 다음 학습에서 사용하는 방법.\n",
        "2. Gradient Boost: 이전 학습에서 발생한 오차(residual error)를 다음 훈련에서 학습시키는 방법."
      ]
    },
    {
      "cell_type": "code",
      "metadata": {
        "id": "_sS-OKyTp_PI",
        "outputId": "728313fd-9300-49a9-99c6-e6f8947e9154",
        "colab": {
          "base_uri": "https://localhost:8080/",
          "height": 265
        }
      },
      "source": [
        "# 샘플 데이터\n",
        "X, y = make_moons(n_samples=500, noise=0.3, random_state=42)\n",
        "# train/test 분리\n",
        "X_train, X_test, y_train, y_test = train_test_split(X, y,\n",
        "                                                    test_size=0.2,\n",
        "                                                    random_state=42)\n",
        "\n",
        "# 훈련 셋 시각화\n",
        "for cls in np.unique(y_train):\n",
        "    plt.scatter(X_train[y_train == cls, 0], X_train[y_train == cls, 1])\n",
        "plt.grid()"
      ],
      "execution_count": 38,
      "outputs": [
        {
          "output_type": "display_data",
          "data": {
            "image/png": "[encoded data removed]",
            "text/plain": [
              "<Figure size 432x288 with 1 Axes>"
            ]
          },
          "metadata": {
            "tags": [],
            "needs_background": "light"
          }
        }
      ]
    },
    {
      "cell_type": "markdown",
      "metadata": {
        "id": "RQ2VmrN3yKKA"
      },
      "source": [
        "## AdaBoost"
      ]
    },
    {
      "cell_type": "code",
      "metadata": {
        "id": "Pnqu5r0_yLiM"
      },
      "source": [
        "from sklearn.ensemble import AdaBoostClassifier"
      ],
      "execution_count": 39,
      "outputs": []
    },
    {
      "cell_type": "code",
      "metadata": {
        "id": "SF4c9aB-ym71"
      },
      "source": [
        "ada_clf = AdaBoostClassifier(base_estimator=DecisionTreeClassifier(max_depth=1),\n",
        "                             n_estimators=50,      # 예측기의 개수(= 훈련 횟수)\n",
        "                             learning_rate=1.0,    # 학습률  (0.1, 0.2, 0.3, 0.5, 1.0)\n",
        "                             algorithm='SAMME.R',  # underfit된 샘플들에게 가중치를 주는 알고리즘.\n",
        "                             random_state=42)"
      ],
      "execution_count": 52,
      "outputs": []
    },
    {
      "cell_type": "code",
      "metadata": {
        "id": "YI_SlttP0PHl",
        "outputId": "1aaa6cdb-cfe6-4748-ba65-adaa86c2f702",
        "colab": {
          "base_uri": "https://localhost:8080/"
        }
      },
      "source": [
        "ada_clf.fit(X_train, y_train)  # 모델 훈련"
      ],
      "execution_count": 53,
      "outputs": [
        {
          "output_type": "execute_result",
          "data": {
            "text/plain": [
              "AdaBoostClassifier(algorithm='SAMME.R',\n",
              "                   base_estimator=DecisionTreeClassifier(ccp_alpha=0.0,\n",
              "                                                         class_weight=None,\n",
              "                                                         criterion='gini',\n",
              "                                                         max_depth=1,\n",
              "                                                         max_features=None,\n",
              "                                                         max_leaf_nodes=None,\n",
              "                                                         min_impurity_decrease=0.0,\n",
              "                                                         min_impurity_split=None,\n",
              "                                                         min_samples_leaf=1,\n",
              "                                                         min_samples_split=2,\n",
              "                                                         min_weight_fraction_leaf=0.0,\n",
              "                                                         presort='deprecated',\n",
              "                                                         random_state=None,\n",
              "                                                         splitter='best'),\n",
              "                   learning_rate=1.0, n_estimators=50, random_state=42)"
            ]
          },
          "metadata": {
            "tags": []
          },
          "execution_count": 53
        }
      ]
    },
    {
      "cell_type": "code",
      "metadata": {
        "id": "1_hfNtdj0V7E",
        "outputId": "be33161d-9502-48c8-906b-414c0cdf51b1",
        "colab": {
          "base_uri": "https://localhost:8080/"
        }
      },
      "source": [
        "# 학습 셋의 예측 결과\n",
        "y_train_pred = ada_clf.predict(X_train)\n",
        "# 학습 셋 평가\n",
        "train_acc = accuracy_score(y_train, y_train_pred)\n",
        "train_acc"
      ],
      "execution_count": 54,
      "outputs": [
        {
          "output_type": "execute_result",
          "data": {
            "text/plain": [
              "0.965"
            ]
          },
          "metadata": {
            "tags": []
          },
          "execution_count": 54
        }
      ]
    },
    {
      "cell_type": "code",
      "metadata": {
        "id": "XPwd_ebx1G4l",
        "outputId": "67bec0a6-50b7-4b28-a362-be9d4fd1bb7b",
        "colab": {
          "base_uri": "https://localhost:8080/"
        }
      },
      "source": [
        "# 테스트 셋의 예측 결과\n",
        "y_test_pred = ada_clf.predict(X_test)\n",
        "# 테스트 셋 평가\n",
        "test_acc = accuracy_score(y_test, y_test_pred)\n",
        "test_acc"
      ],
      "execution_count": 55,
      "outputs": [
        {
          "output_type": "execute_result",
          "data": {
            "text/plain": [
              "0.88"
            ]
          },
          "metadata": {
            "tags": []
          },
          "execution_count": 55
        }
      ]
    },
    {
      "cell_type": "code",
      "metadata": {
        "id": "xmy81ufw1fmt",
        "outputId": "783a2873-6171-45d5-b866-4f80c5c0db1a",
        "colab": {
          "base_uri": "https://localhost:8080/",
          "height": 269
        }
      },
      "source": [
        "# 훈련 데이터 시각화\n",
        "for cls in np.unique(y_train):\n",
        "    plt.scatter(X_train[y_train == cls, 0], X_train[y_train == cls, 1])\n",
        "\n",
        "# 훈련 셋의 예측 결과(결정 경계면)을 시각화\n",
        "x_pts = np.linspace(start=-2, stop=3, num=100)      # (100,)\n",
        "y_pts = np.linspace(start=-1.5, stop=2.0, num=100)  # (100,)\n",
        "Xs, Ys = np.meshgrid(x_pts, y_pts)                  # (100, 100)\n",
        "X_new = np.c_[Xs.ravel(), Ys.ravel()]               # (100*100, 2)\n",
        "y_new = ada_clf.predict(X_new).reshape(Xs.shape)    # (100*100,) --reshape--> (100, 100)\n",
        "plt.contourf(Xs, Ys, y_new, alpha=0.3)\n",
        "\n",
        "plt.grid()"
      ],
      "execution_count": 56,
      "outputs": [
        {
          "output_type": "display_data",
          "data": {
            "image/png": "[encoded data removed]",
            "text/plain": [
              "<Figure size 432x288 with 1 Axes>"
            ]
          },
          "metadata": {
            "tags": [],
            "needs_background": "light"
          }
        }
      ]
    },
    {
      "cell_type": "markdown",
      "metadata": {
        "id": "aUwvy1Pd4U_w"
      },
      "source": [
        "## GradientBoost"
      ]
    },
    {
      "cell_type": "code",
      "metadata": {
        "id": "t1DsvKfU4XkT"
      },
      "source": [
        "# 가상의 샘플 데이터 생성\n",
        "np.random.seed(42)\n",
        "m = 100  # 샘플 개수\n",
        "X = np.random.rand(m, 1) - 0.5  # (100, 1) shape의 -0.5 <= X < 0.5 사이의 난수\n",
        "y = (3 * X**2 + 0.05 * np.random.randn(m, 1)).ravel()  # (100,) shape의 1d array"
      ],
      "execution_count": 57,
      "outputs": []
    },
    {
      "cell_type": "code",
      "metadata": {
        "id": "fcTV_avu5tXj",
        "outputId": "e199d719-1137-490f-d693-233f17a5adc3",
        "colab": {
          "base_uri": "https://localhost:8080/",
          "height": 269
        }
      },
      "source": [
        "plt.scatter(X, y)\n",
        "plt.grid()"
      ],
      "execution_count": 58,
      "outputs": [
        {
          "output_type": "display_data",
          "data": {
            "image/png": "[encoded data removed]",
            "text/plain": [
              "<Figure size 432x288 with 1 Axes>"
            ]
          },
          "metadata": {
            "tags": [],
            "needs_background": "light"
          }
        }
      ]
    },
    {
      "cell_type": "code",
      "metadata": {
        "id": "gzl3U51J6D34"
      },
      "source": [
        "from sklearn.tree import DecisionTreeRegressor"
      ],
      "execution_count": 59,
      "outputs": []
    },
    {
      "cell_type": "code",
      "metadata": {
        "id": "s1LDttzr6Iwq",
        "outputId": "1f10fa72-8849-4970-f2a5-203d4107a84a",
        "colab": {
          "base_uri": "https://localhost:8080/"
        }
      },
      "source": [
        "tree_reg1 = DecisionTreeRegressor(random_state=42, max_depth=2)\n",
        "tree_reg1.fit(X, y)"
      ],
      "execution_count": 60,
      "outputs": [
        {
          "output_type": "execute_result",
          "data": {
            "text/plain": [
              "DecisionTreeRegressor(ccp_alpha=0.0, criterion='mse', max_depth=2,\n",
              "                      max_features=None, max_leaf_nodes=None,\n",
              "                      min_impurity_decrease=0.0, min_impurity_split=None,\n",
              "                      min_samples_leaf=1, min_samples_split=2,\n",
              "                      min_weight_fraction_leaf=0.0, presort='deprecated',\n",
              "                      random_state=42, splitter='best')"
            ]
          },
          "metadata": {
            "tags": []
          },
          "execution_count": 60
        }
      ]
    }
  ]
}