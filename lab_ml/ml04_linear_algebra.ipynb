{
  "nbformat": 4,
  "nbformat_minor": 0,
  "metadata": {
    "colab": {
      "name": "ml04_linear_algebra.ipynb",
      "provenance": [],
      "collapsed_sections": [],
      "authorship_tag": "ABX9TyO85+zFG7n3sIAtTzM1YWpH",
      "include_colab_link": true
    },
    "kernelspec": {
      "name": "python3",
      "display_name": "Python 3"
    }
  },
  "cells": [
    {
      "cell_type": "markdown",
      "metadata": {
        "id": "view-in-github",
        "colab_type": "text"
      },
      "source": [
        "<a href=\"https://colab.research.google.com/github/JakeOh/202007_itw_bd18/blob/master/lab_ml/ml04_linear_algebra.ipynb\" target=\"_parent\"><img src=\"https://colab.research.google.com/assets/colab-badge.svg\" alt=\"Open In Colab\"/></a>"
      ]
    },
    {
      "cell_type": "code",
      "metadata": {
        "id": "-sEgZKJ1B62X"
      },
      "source": [
        "import numpy as np\n",
        "import matplotlib.pyplot as plt\n",
        "from sklearn.datasets import load_iris"
      ],
      "execution_count": 2,
      "outputs": []
    },
    {
      "cell_type": "code",
      "metadata": {
        "id": "-rvd8ldIFs9B"
      },
      "source": [
        "iris = load_iris()"
      ],
      "execution_count": 3,
      "outputs": []
    },
    {
      "cell_type": "code",
      "metadata": {
        "id": "HPCotk1QGW5l",
        "outputId": "39e1ce18-226c-4488-becf-ac46aa6bbd35",
        "colab": {
          "base_uri": "https://localhost:8080/",
          "height": 184
        }
      },
      "source": [
        "iris['DESCR']"
      ],
      "execution_count": 4,
      "outputs": [
        {
          "output_type": "execute_result",
          "data": {
            "application/vnd.google.colaboratory.intrinsic+json": {
              "type": "string"
            },
            "text/plain": [
              "'.. _iris_dataset:\\n\\nIris plants dataset\\n--------------------\\n\\n**Data Set Characteristics:**\\n\\n    :Number of Instances: 150 (50 in each of three classes)\\n    :Number of Attributes: 4 numeric, predictive attributes and the class\\n    :Attribute Information:\\n        - sepal length in cm\\n        - sepal width in cm\\n        - petal length in cm\\n        - petal width in cm\\n        - class:\\n                - Iris-Setosa\\n                - Iris-Versicolour\\n                - Iris-Virginica\\n                \\n    :Summary Statistics:\\n\\n    ============== ==== ==== ======= ===== ====================\\n                    Min  Max   Mean    SD   Class Correlation\\n    ============== ==== ==== ======= ===== ====================\\n    sepal length:   4.3  7.9   5.84   0.83    0.7826\\n    sepal width:    2.0  4.4   3.05   0.43   -0.4194\\n    petal length:   1.0  6.9   3.76   1.76    0.9490  (high!)\\n    petal width:    0.1  2.5   1.20   0.76    0.9565  (high!)\\n    ============== ==== ==== ======= ===== ====================\\n\\n    :Missing Attribute Values: None\\n    :Class Distribution: 33.3% for each of 3 classes.\\n    :Creator: R.A. Fisher\\n    :Donor: Michael Marshall (MARSHALL%PLU@io.arc.nasa.gov)\\n    :Date: July, 1988\\n\\nThe famous Iris database, first used by Sir R.A. Fisher. The dataset is taken\\nfrom Fisher\\'s paper. Note that it\\'s the same as in R, but not as in the UCI\\nMachine Learning Repository, which has two wrong data points.\\n\\nThis is perhaps the best known database to be found in the\\npattern recognition literature.  Fisher\\'s paper is a classic in the field and\\nis referenced frequently to this day.  (See Duda & Hart, for example.)  The\\ndata set contains 3 classes of 50 instances each, where each class refers to a\\ntype of iris plant.  One class is linearly separable from the other 2; the\\nlatter are NOT linearly separable from each other.\\n\\n.. topic:: References\\n\\n   - Fisher, R.A. \"The use of multiple measurements in taxonomic problems\"\\n     Annual Eugenics, 7, Part II, 179-188 (1936); also in \"Contributions to\\n     Mathematical Statistics\" (John Wiley, NY, 1950).\\n   - Duda, R.O., & Hart, P.E. (1973) Pattern Classification and Scene Analysis.\\n     (Q327.D83) John Wiley & Sons.  ISBN 0-471-22361-1.  See page 218.\\n   - Dasarathy, B.V. (1980) \"Nosing Around the Neighborhood: A New System\\n     Structure and Classification Rule for Recognition in Partially Exposed\\n     Environments\".  IEEE Transactions on Pattern Analysis and Machine\\n     Intelligence, Vol. PAMI-2, No. 1, 67-71.\\n   - Gates, G.W. (1972) \"The Reduced Nearest Neighbor Rule\".  IEEE Transactions\\n     on Information Theory, May 1972, 431-433.\\n   - See also: 1988 MLC Proceedings, 54-64.  Cheeseman et al\"s AUTOCLASS II\\n     conceptual clustering system finds 3 classes in the data.\\n   - Many, many more ...'"
            ]
          },
          "metadata": {
            "tags": []
          },
          "execution_count": 4
        }
      ]
    },
    {
      "cell_type": "code",
      "metadata": {
        "id": "kgom0lwhGpr1",
        "outputId": "1dd72493-006c-4f1c-be6b-5660c5e6b361",
        "colab": {
          "base_uri": "https://localhost:8080/",
          "height": 100
        }
      },
      "source": [
        "iris['feature_names']  # DataFrame의 컬럼 이름으로 사용할 수 있는 배열."
      ],
      "execution_count": 5,
      "outputs": [
        {
          "output_type": "execute_result",
          "data": {
            "text/plain": [
              "['sepal length (cm)',\n",
              " 'sepal width (cm)',\n",
              " 'petal length (cm)',\n",
              " 'petal width (cm)']"
            ]
          },
          "metadata": {
            "tags": []
          },
          "execution_count": 5
        }
      ]
    },
    {
      "cell_type": "code",
      "metadata": {
        "id": "y1B6bQ8rG8NF",
        "outputId": "413e7596-0e21-49a8-d632-4cc0185ac6e1",
        "colab": {
          "base_uri": "https://localhost:8080/",
          "height": 38
        }
      },
      "source": [
        "iris['target_names']  # DataFrame의 카테고리형 변수의 클래스."
      ],
      "execution_count": 6,
      "outputs": [
        {
          "output_type": "execute_result",
          "data": {
            "text/plain": [
              "array(['setosa', 'versicolor', 'virginica'], dtype='<U10')"
            ]
          },
          "metadata": {
            "tags": []
          },
          "execution_count": 6
        }
      ]
    },
    {
      "cell_type": "code",
      "metadata": {
        "id": "_qnopAU1HZma",
        "outputId": "d2cea68b-56cb-40b4-be84-07fbd22ab706",
        "colab": {
          "base_uri": "https://localhost:8080/",
          "height": 38
        }
      },
      "source": [
        "X, y = iris['data'], iris['target']\n",
        "X.shape, y.shape"
      ],
      "execution_count": 7,
      "outputs": [
        {
          "output_type": "execute_result",
          "data": {
            "text/plain": [
              "((150, 4), (150,))"
            ]
          },
          "metadata": {
            "tags": []
          },
          "execution_count": 7
        }
      ]
    },
    {
      "cell_type": "code",
      "metadata": {
        "id": "3YAVQVG9H649",
        "outputId": "32135838-e85d-4030-b538-af8a54709534",
        "colab": {
          "base_uri": "https://localhost:8080/",
          "height": 38
        }
      },
      "source": [
        "type(X)"
      ],
      "execution_count": 10,
      "outputs": [
        {
          "output_type": "execute_result",
          "data": {
            "text/plain": [
              "numpy.ndarray"
            ]
          },
          "metadata": {
            "tags": []
          },
          "execution_count": 10
        }
      ]
    },
    {
      "cell_type": "code",
      "metadata": {
        "id": "B2Z-zGgwIsTs",
        "outputId": "85085050-6abb-44ee-f48a-437c09bf5616",
        "colab": {
          "base_uri": "https://localhost:8080/",
          "height": 162
        }
      },
      "source": [
        "y"
      ],
      "execution_count": 11,
      "outputs": [
        {
          "output_type": "execute_result",
          "data": {
            "text/plain": [
              "array([0, 0, 0, 0, 0, 0, 0, 0, 0, 0, 0, 0, 0, 0, 0, 0, 0, 0, 0, 0, 0, 0,\n",
              "       0, 0, 0, 0, 0, 0, 0, 0, 0, 0, 0, 0, 0, 0, 0, 0, 0, 0, 0, 0, 0, 0,\n",
              "       0, 0, 0, 0, 0, 0, 1, 1, 1, 1, 1, 1, 1, 1, 1, 1, 1, 1, 1, 1, 1, 1,\n",
              "       1, 1, 1, 1, 1, 1, 1, 1, 1, 1, 1, 1, 1, 1, 1, 1, 1, 1, 1, 1, 1, 1,\n",
              "       1, 1, 1, 1, 1, 1, 1, 1, 1, 1, 1, 1, 2, 2, 2, 2, 2, 2, 2, 2, 2, 2,\n",
              "       2, 2, 2, 2, 2, 2, 2, 2, 2, 2, 2, 2, 2, 2, 2, 2, 2, 2, 2, 2, 2, 2,\n",
              "       2, 2, 2, 2, 2, 2, 2, 2, 2, 2, 2, 2, 2, 2, 2, 2, 2, 2])"
            ]
          },
          "metadata": {
            "tags": []
          },
          "execution_count": 11
        }
      ]
    },
    {
      "cell_type": "markdown",
      "metadata": {
        "id": "G6at4WWmJ0Qz"
      },
      "source": [
        "* 선형 대수(Linear Algebra): 벡터 스페이스(Vector Space)를 다루는 수학의 한 분야."
      ]
    },
    {
      "cell_type": "code",
      "metadata": {
        "id": "hFQB4w1qKPU4",
        "outputId": "28a95607-beb2-447e-e109-115ea7f9f272",
        "colab": {
          "base_uri": "https://localhost:8080/",
          "height": 38
        }
      },
      "source": [
        "X[0]  # sl=5.1, sw=3.5, pl=1.4, pw=0.2인 붓꽃 샘플 -> (수학) 4차원 벡터 -> (Python) 1d-array"
      ],
      "execution_count": 13,
      "outputs": [
        {
          "output_type": "execute_result",
          "data": {
            "text/plain": [
              "array([5.1, 3.5, 1.4, 0.2])"
            ]
          },
          "metadata": {
            "tags": []
          },
          "execution_count": 13
        }
      ]
    },
    {
      "cell_type": "code",
      "metadata": {
        "id": "x_xhH2lDJv7E",
        "outputId": "8b400546-6382-4e7a-84ac-01a7b41276a1",
        "colab": {
          "base_uri": "https://localhost:8080/",
          "height": 121
        }
      },
      "source": [
        "X[:5]  # 여러개의 붓꽃 샘플(데이터 프레임) -> (수학) 행렬(Matrix) -> (Python) 2d-array"
      ],
      "execution_count": 12,
      "outputs": [
        {
          "output_type": "execute_result",
          "data": {
            "text/plain": [
              "array([[5.1, 3.5, 1.4, 0.2],\n",
              "       [4.9, 3. , 1.4, 0.2],\n",
              "       [4.7, 3.2, 1.3, 0.2],\n",
              "       [4.6, 3.1, 1.5, 0.2],\n",
              "       [5. , 3.6, 1.4, 0.2]])"
            ]
          },
          "metadata": {
            "tags": []
          },
          "execution_count": 12
        }
      ]
    },
    {
      "cell_type": "markdown",
      "metadata": {
        "id": "yoQU2HbzNHTE"
      },
      "source": [
        "* 벡터의 크기(norm): 원점에서 벡터까지 거리"
      ]
    },
    {
      "cell_type": "code",
      "metadata": {
        "id": "3NuKVe1zNGYN"
      },
      "source": [
        "def vector_norm(v):\n",
        "    \"\"\"v = [v_1, v_2, ..., v_n] 일 때, \n",
        "    norm = sqrt(sum_i[v_i ** 2])를 계산해서 리턴.\"\"\"\n",
        "    squares = [x ** 2 for x in v]\n",
        "    sum_of_squares = np.sum(squares)\n",
        "    norm = np.sqrt(sum_of_squares)\n",
        "    # norm = np.sqrt(np.sum(x**2 for x in v))\n",
        "    return norm"
      ],
      "execution_count": 21,
      "outputs": []
    },
    {
      "cell_type": "code",
      "metadata": {
        "id": "d2oVdVpzQ2Kj",
        "outputId": "d9fbbbe8-4acf-4d4f-aeec-d3cc067b43c4",
        "colab": {
          "base_uri": "https://localhost:8080/",
          "height": 38
        }
      },
      "source": [
        "vector_norm([-1])  # 1차원 벡터: 원소가 1개인 1d-array"
      ],
      "execution_count": 22,
      "outputs": [
        {
          "output_type": "execute_result",
          "data": {
            "text/plain": [
              "1.0"
            ]
          },
          "metadata": {
            "tags": []
          },
          "execution_count": 22
        }
      ]
    },
    {
      "cell_type": "code",
      "metadata": {
        "id": "HKgpg6Z7RK5_",
        "outputId": "f1c0ec98-8c35-4d97-92f8-5f3ef5d968ab",
        "colab": {
          "base_uri": "https://localhost:8080/",
          "height": 38
        }
      },
      "source": [
        "vector_norm([1, 1])  # 2차원 벡터: 원소가 2개인 1d-array"
      ],
      "execution_count": 23,
      "outputs": [
        {
          "output_type": "execute_result",
          "data": {
            "text/plain": [
              "1.4142135623730951"
            ]
          },
          "metadata": {
            "tags": []
          },
          "execution_count": 23
        }
      ]
    },
    {
      "cell_type": "code",
      "metadata": {
        "id": "1DBbulPrRYVb",
        "outputId": "e6925615-a2d8-4f9e-c1d0-6cb65966e856",
        "colab": {
          "base_uri": "https://localhost:8080/",
          "height": 38
        }
      },
      "source": [
        "vector_norm(X[0])"
      ],
      "execution_count": 24,
      "outputs": [
        {
          "output_type": "execute_result",
          "data": {
            "text/plain": [
              "6.345076831686122"
            ]
          },
          "metadata": {
            "tags": []
          },
          "execution_count": 24
        }
      ]
    },
    {
      "cell_type": "code",
      "metadata": {
        "id": "A6r_Bm_gRfIz",
        "outputId": "9f19a1fc-31bb-4084-b0a8-223827bb9d9e",
        "colab": {
          "base_uri": "https://localhost:8080/",
          "height": 38
        }
      },
      "source": [
        "np.linalg.norm(X[0])"
      ],
      "execution_count": 25,
      "outputs": [
        {
          "output_type": "execute_result",
          "data": {
            "text/plain": [
              "6.345076831686122"
            ]
          },
          "metadata": {
            "tags": []
          },
          "execution_count": 25
        }
      ]
    },
    {
      "cell_type": "markdown",
      "metadata": {
        "id": "yvV_yy92V7-E"
      },
      "source": [
        "* 단위 벡터(unit vector): 크기(norm)가 1인 벡터. v / ||v||"
      ]
    },
    {
      "cell_type": "code",
      "metadata": {
        "id": "CczQoVfZWCXZ",
        "outputId": "6e94462c-f8ff-4539-d229-d40f59a0ad1c",
        "colab": {
          "base_uri": "https://localhost:8080/",
          "height": 38
        }
      },
      "source": [
        "v = np.array([1, 1])\n",
        "v"
      ],
      "execution_count": 29,
      "outputs": [
        {
          "output_type": "execute_result",
          "data": {
            "text/plain": [
              "array([1, 1])"
            ]
          },
          "metadata": {
            "tags": []
          },
          "execution_count": 29
        }
      ]
    },
    {
      "cell_type": "code",
      "metadata": {
        "id": "CBpttMepWaAD",
        "outputId": "65d33330-aba0-48a5-8365-2b013317690e",
        "colab": {
          "base_uri": "https://localhost:8080/",
          "height": 38
        }
      },
      "source": [
        "v_unit = v / np.linalg.norm(v)  # v * (1 / norm)\n",
        "v_unit"
      ],
      "execution_count": 30,
      "outputs": [
        {
          "output_type": "execute_result",
          "data": {
            "text/plain": [
              "array([0.70710678, 0.70710678])"
            ]
          },
          "metadata": {
            "tags": []
          },
          "execution_count": 30
        }
      ]
    },
    {
      "cell_type": "code",
      "metadata": {
        "id": "5GIcreTCWmrb",
        "outputId": "b21a3fa8-ad2f-4b4e-ff1e-99bd38d24d6e",
        "colab": {
          "base_uri": "https://localhost:8080/",
          "height": 38
        }
      },
      "source": [
        "np.linalg.norm(v_unit)"
      ],
      "execution_count": 31,
      "outputs": [
        {
          "output_type": "execute_result",
          "data": {
            "text/plain": [
              "0.9999999999999999"
            ]
          },
          "metadata": {
            "tags": []
          },
          "execution_count": 31
        }
      ]
    },
    {
      "cell_type": "markdown",
      "metadata": {
        "id": "XQnN8-UqWy9S"
      },
      "source": [
        "* 벡터들의 덧셈: 벡터들의 원소별로(element-wise) 각각 덧셈을 수행.\n",
        "* 벡터들의 덧셈이 가능하려면 벡터의 차원이 같아야 함(벡터의 원소의 개수가 같아야 함).\n",
        "* numpy arrary + 연산"
      ]
    },
    {
      "cell_type": "code",
      "metadata": {
        "id": "ZmwTc8iZWx8Z",
        "outputId": "f23a975e-304e-45f7-d969-c06bedf9f3f6",
        "colab": {
          "base_uri": "https://localhost:8080/",
          "height": 38
        }
      },
      "source": [
        "u = np.array([1, 5])\n",
        "v = np.array([2, 3])\n",
        "u + v"
      ],
      "execution_count": 32,
      "outputs": [
        {
          "output_type": "execute_result",
          "data": {
            "text/plain": [
              "array([3, 8])"
            ]
          },
          "metadata": {
            "tags": []
          },
          "execution_count": 32
        }
      ]
    },
    {
      "cell_type": "markdown",
      "metadata": {
        "id": "ITCDKkvFYVlx"
      },
      "source": [
        "* 스칼라 곱(Scalar Multiplication): 벡터의 각 원소에(element-wise) 스칼라(scalar)를 곱해 주는 것.\n",
        "* numpy array의 * 연산"
      ]
    },
    {
      "cell_type": "code",
      "metadata": {
        "id": "_9Fg0Us1XlAl",
        "outputId": "96b33064-01e7-43da-d601-9973018c1995",
        "colab": {
          "base_uri": "https://localhost:8080/",
          "height": 38
        }
      },
      "source": [
        "1.5 * u"
      ],
      "execution_count": 33,
      "outputs": [
        {
          "output_type": "execute_result",
          "data": {
            "text/plain": [
              "array([1.5, 7.5])"
            ]
          },
          "metadata": {
            "tags": []
          },
          "execution_count": 33
        }
      ]
    },
    {
      "cell_type": "code",
      "metadata": {
        "id": "CVGlK_ePY7bN",
        "outputId": "d39d985c-560f-49cb-df10-d42a7f3abb8a",
        "colab": {
          "base_uri": "https://localhost:8080/",
          "height": 38
        }
      },
      "source": [
        "u * 1.5"
      ],
      "execution_count": 34,
      "outputs": [
        {
          "output_type": "execute_result",
          "data": {
            "text/plain": [
              "array([1.5, 7.5])"
            ]
          },
          "metadata": {
            "tags": []
          },
          "execution_count": 34
        }
      ]
    },
    {
      "cell_type": "markdown",
      "metadata": {
        "id": "ZKTlL5G6aqv4"
      },
      "source": [
        "* 벡터의 점곱, 내적(Dot Product, Inner Product)\n",
        "* numpy.dot() 함수, numpy.ndarray.dot() 메서드, numpy의 @ 연산자"
      ]
    },
    {
      "cell_type": "code",
      "metadata": {
        "id": "Q0nOBRjQZ6Nq"
      },
      "source": [
        "def vector_dot_product(u, v):\n",
        "    \"\"\"u = [u_1, u_2, ..., u_n], v = [v_1, v_2, ..., v_n] 일 때,\n",
        "    u dot v = u_1 * v_1 + u_2 * v_2 + ... + u_n * v_n = sum_i[u_i * v_i]\n",
        "    \"\"\"\n",
        "    return np.sum([ui * vi for ui, vi in zip(u, v)])"
      ],
      "execution_count": 35,
      "outputs": []
    },
    {
      "cell_type": "code",
      "metadata": {
        "id": "KRxvKycncvH_",
        "outputId": "dfdf82bd-93d9-4b07-ddc7-9848ce23a4aa",
        "colab": {
          "base_uri": "https://localhost:8080/",
          "height": 38
        }
      },
      "source": [
        "u, v"
      ],
      "execution_count": 36,
      "outputs": [
        {
          "output_type": "execute_result",
          "data": {
            "text/plain": [
              "(array([1, 5]), array([2, 3]))"
            ]
          },
          "metadata": {
            "tags": []
          },
          "execution_count": 36
        }
      ]
    },
    {
      "cell_type": "code",
      "metadata": {
        "id": "chuzbphCc0PM",
        "outputId": "ea6002ee-ff2c-45df-f257-e4efdacdcae4",
        "colab": {
          "base_uri": "https://localhost:8080/",
          "height": 38
        }
      },
      "source": [
        "vector_dot_product(u, v)  # 1*2 + 5*3"
      ],
      "execution_count": 37,
      "outputs": [
        {
          "output_type": "execute_result",
          "data": {
            "text/plain": [
              "17"
            ]
          },
          "metadata": {
            "tags": []
          },
          "execution_count": 37
        }
      ]
    },
    {
      "cell_type": "code",
      "metadata": {
        "id": "BxVFcyGAdSWq",
        "outputId": "a11e8fdb-638c-4642-a4d0-c8346ba7a9d5",
        "colab": {
          "base_uri": "https://localhost:8080/",
          "height": 38
        }
      },
      "source": [
        "# numpy.dot() 함수\n",
        "np.dot(u, v)"
      ],
      "execution_count": 38,
      "outputs": [
        {
          "output_type": "execute_result",
          "data": {
            "text/plain": [
              "17"
            ]
          },
          "metadata": {
            "tags": []
          },
          "execution_count": 38
        }
      ]
    },
    {
      "cell_type": "code",
      "metadata": {
        "id": "BA1-sg5bdeDq",
        "outputId": "5d6d04fd-0ed3-41d8-8594-bd25c31d5c6c",
        "colab": {
          "base_uri": "https://localhost:8080/",
          "height": 38
        }
      },
      "source": [
        "# numpy.ndarray.dot() 메서드\n",
        "u.dot(v)"
      ],
      "execution_count": 39,
      "outputs": [
        {
          "output_type": "execute_result",
          "data": {
            "text/plain": [
              "17"
            ]
          },
          "metadata": {
            "tags": []
          },
          "execution_count": 39
        }
      ]
    },
    {
      "cell_type": "code",
      "metadata": {
        "id": "v1zAhFs2dymT",
        "outputId": "5fb1cf83-4e4c-4e9d-c344-eefb9eee0d1f",
        "colab": {
          "base_uri": "https://localhost:8080/",
          "height": 38
        }
      },
      "source": [
        "u @ v"
      ],
      "execution_count": 40,
      "outputs": [
        {
          "output_type": "execute_result",
          "data": {
            "text/plain": [
              "17"
            ]
          },
          "metadata": {
            "tags": []
          },
          "execution_count": 40
        }
      ]
    },
    {
      "cell_type": "markdown",
      "metadata": {
        "id": "1mqPbwFKxXj7"
      },
      "source": [
        "* 행렬(Matrix) -> numpy 2d-array"
      ]
    },
    {
      "cell_type": "code",
      "metadata": {
        "id": "29xaltBfxq8m",
        "outputId": "c4938c0d-b11a-44d4-dfb0-6664a8a6b5cb",
        "colab": {
          "base_uri": "https://localhost:8080/",
          "height": 58
        }
      },
      "source": [
        "M = np.array([\n",
        "              [1, 2, 3],\n",
        "              [4, 5, 6]\n",
        "])\n",
        "M  # 2x3 Matrix"
      ],
      "execution_count": 41,
      "outputs": [
        {
          "output_type": "execute_result",
          "data": {
            "text/plain": [
              "array([[1, 2, 3],\n",
              "       [4, 5, 6]])"
            ]
          },
          "metadata": {
            "tags": []
          },
          "execution_count": 41
        }
      ]
    },
    {
      "cell_type": "code",
      "metadata": {
        "id": "DLgHCkA8x5vP",
        "outputId": "4096afb7-94c0-4e8c-ff19-6fafba63fd6f",
        "colab": {
          "base_uri": "https://localhost:8080/",
          "height": 38
        }
      },
      "source": [
        "M.shape  # (row 개수, column 개수)"
      ],
      "execution_count": 42,
      "outputs": [
        {
          "output_type": "execute_result",
          "data": {
            "text/plain": [
              "(2, 3)"
            ]
          },
          "metadata": {
            "tags": []
          },
          "execution_count": 42
        }
      ]
    },
    {
      "cell_type": "markdown",
      "metadata": {
        "id": "jZ5dPGdaymhB"
      },
      "source": [
        "* 행렬의 인덱스: M[i, j]\n",
        "* (n, m) 모양(shape)의 2d-array에서 인덱스: 0 <= i < n, 0 <= j < m"
      ]
    },
    {
      "cell_type": "code",
      "metadata": {
        "id": "q_tbgZ19yJx2",
        "outputId": "14536272-f003-4062-dd6e-5c7981b02494",
        "colab": {
          "base_uri": "https://localhost:8080/",
          "height": 38
        }
      },
      "source": [
        "# 행렬에서 원소 1개 선택\n",
        "M[1, 2]  #> 6"
      ],
      "execution_count": 43,
      "outputs": [
        {
          "output_type": "execute_result",
          "data": {
            "text/plain": [
              "6"
            ]
          },
          "metadata": {
            "tags": []
          },
          "execution_count": 43
        }
      ]
    },
    {
      "cell_type": "code",
      "metadata": {
        "id": "ewmEuSiYzTCn",
        "outputId": "06b75c66-052c-45e3-c355-ebaee686dc6e",
        "colab": {
          "base_uri": "https://localhost:8080/",
          "height": 38
        }
      },
      "source": [
        "# 행렬에서 row (vector) 선택\n",
        "M[1]"
      ],
      "execution_count": 44,
      "outputs": [
        {
          "output_type": "execute_result",
          "data": {
            "text/plain": [
              "array([4, 5, 6])"
            ]
          },
          "metadata": {
            "tags": []
          },
          "execution_count": 44
        }
      ]
    },
    {
      "cell_type": "code",
      "metadata": {
        "id": "mYrF-qFEzsWP",
        "outputId": "9a7e0f1a-dbf7-450a-f0dc-21bf44de5b61",
        "colab": {
          "base_uri": "https://localhost:8080/",
          "height": 38
        }
      },
      "source": [
        "M[1, :]"
      ],
      "execution_count": 45,
      "outputs": [
        {
          "output_type": "execute_result",
          "data": {
            "text/plain": [
              "array([4, 5, 6])"
            ]
          },
          "metadata": {
            "tags": []
          },
          "execution_count": 45
        }
      ]
    },
    {
      "cell_type": "code",
      "metadata": {
        "id": "f0uMt53gz1tB",
        "outputId": "9eec27c9-ba21-4933-98df-545d97545fa2",
        "colab": {
          "base_uri": "https://localhost:8080/",
          "height": 38
        }
      },
      "source": [
        "# 행렬에서 column (vector) 선택\n",
        "M[:, 1]"
      ],
      "execution_count": 46,
      "outputs": [
        {
          "output_type": "execute_result",
          "data": {
            "text/plain": [
              "array([2, 5])"
            ]
          },
          "metadata": {
            "tags": []
          },
          "execution_count": 46
        }
      ]
    },
    {
      "cell_type": "markdown",
      "metadata": {
        "id": "7tLNSaT026xc"
      },
      "source": [
        "* numpy ndarray 객체는 행벡터(row vector), 열벡터(column vector)를 구분하지 않고, 1d-array로만 표시.\n",
        "* scikit-learn 패키지를 사용할 때, 행벡터를 행의 개수가 1개인 2d-array로 만들고, 열벡터는 열의 개수가 1개인 2d-array로 만들어야 되는 경우가 있음."
      ]
    },
    {
      "cell_type": "code",
      "metadata": {
        "id": "CYKvdbk5z6fT",
        "outputId": "e71ba78f-3265-40f6-ca5f-a3b9ad7ef1a3",
        "colab": {
          "base_uri": "https://localhost:8080/",
          "height": 38
        }
      },
      "source": [
        "M[1:2, :]  # 1 <= i < 2, 0 <= j < end\n",
        "#> row vector 2d-array"
      ],
      "execution_count": 47,
      "outputs": [
        {
          "output_type": "execute_result",
          "data": {
            "text/plain": [
              "array([[4, 5, 6]])"
            ]
          },
          "metadata": {
            "tags": []
          },
          "execution_count": 47
        }
      ]
    },
    {
      "cell_type": "code",
      "metadata": {
        "id": "yCcSBDGn3p4M",
        "outputId": "5dd46056-0fba-4f0d-9ab5-f8e2192d7162",
        "colab": {
          "base_uri": "https://localhost:8080/",
          "height": 58
        }
      },
      "source": [
        "M[:, 1:2]  # 0 <= i < end, 1 <= j < 2\n",
        "# column vector 2d-array"
      ],
      "execution_count": 48,
      "outputs": [
        {
          "output_type": "execute_result",
          "data": {
            "text/plain": [
              "array([[2],\n",
              "       [5]])"
            ]
          },
          "metadata": {
            "tags": []
          },
          "execution_count": 48
        }
      ]
    },
    {
      "cell_type": "markdown",
      "metadata": {
        "id": "qHvav9xY4ylX"
      },
      "source": [
        "* 정사각행렬(square matrix): 행(row)과 열(column)의 개수가 같은 행렬\n",
        "* 대각행렬(diagonal matrix): 대각선 성분(원소)이 아닌 원소들은 모두 0인 정사각 행렬."
      ]
    },
    {
      "cell_type": "code",
      "metadata": {
        "id": "ImDl-bvH31tU",
        "outputId": "74457f58-3b10-4a91-f300-efbfed52aa75",
        "colab": {
          "base_uri": "https://localhost:8080/",
          "height": 79
        }
      },
      "source": [
        "np.diag([1, 2, 3])  # np.diag(1d-array/1d-list): 대각행렬 만듦."
      ],
      "execution_count": 50,
      "outputs": [
        {
          "output_type": "execute_result",
          "data": {
            "text/plain": [
              "array([[1, 0, 0],\n",
              "       [0, 2, 0],\n",
              "       [0, 0, 3]])"
            ]
          },
          "metadata": {
            "tags": []
          },
          "execution_count": 50
        }
      ]
    },
    {
      "cell_type": "code",
      "metadata": {
        "id": "yxc7cOFH5z7_",
        "outputId": "7c04068d-8a21-4036-d190-d78b49accfbf",
        "colab": {
          "base_uri": "https://localhost:8080/",
          "height": 38
        }
      },
      "source": [
        "np.diag([[1, 2, 3],\n",
        "         [4, 5, 6],\n",
        "         [7, 8, 9]])\n",
        "# np.diag(2d-array/2d-list): 대각선 성분들로 이루어진 1d-array 반환."
      ],
      "execution_count": 51,
      "outputs": [
        {
          "output_type": "execute_result",
          "data": {
            "text/plain": [
              "array([1, 5, 9])"
            ]
          },
          "metadata": {
            "tags": []
          },
          "execution_count": 51
        }
      ]
    },
    {
      "cell_type": "markdown",
      "metadata": {
        "id": "2v89n4o0-y9l"
      },
      "source": [
        "* 항등 행렬(identity matrix): 대각선 성분이 모두 1인 정사각 행렬."
      ]
    },
    {
      "cell_type": "code",
      "metadata": {
        "id": "YM3RDcdm-yto",
        "outputId": "1c6a85fa-ed8d-495d-d6b9-b3d34a2c7883",
        "colab": {
          "base_uri": "https://localhost:8080/",
          "height": 79
        }
      },
      "source": [
        "np.eye(3)"
      ],
      "execution_count": 52,
      "outputs": [
        {
          "output_type": "execute_result",
          "data": {
            "text/plain": [
              "array([[1., 0., 0.],\n",
              "       [0., 1., 0.],\n",
              "       [0., 0., 1.]])"
            ]
          },
          "metadata": {
            "tags": []
          },
          "execution_count": 52
        }
      ]
    },
    {
      "cell_type": "markdown",
      "metadata": {
        "id": "4ehI614h_Xgh"
      },
      "source": [
        "* 행렬의 덧셈: 같은 인덱스의 원소들끼리(element-wise) 덧셈.\n",
        "* S[i, j] = A[i, j] + B[i, j]\n",
        "* numpy + 연산"
      ]
    },
    {
      "cell_type": "code",
      "metadata": {
        "id": "F3HZScDT_73l",
        "outputId": "ce8213b8-8acf-4dc4-fa7b-84aaf53f8033",
        "colab": {
          "base_uri": "https://localhost:8080/",
          "height": 58
        }
      },
      "source": [
        "A = np.arange(1, 7).reshape(2, 3)\n",
        "A"
      ],
      "execution_count": 54,
      "outputs": [
        {
          "output_type": "execute_result",
          "data": {
            "text/plain": [
              "array([[1, 2, 3],\n",
              "       [4, 5, 6]])"
            ]
          },
          "metadata": {
            "tags": []
          },
          "execution_count": 54
        }
      ]
    },
    {
      "cell_type": "code",
      "metadata": {
        "id": "r0qTzdhcAFPs",
        "outputId": "8813839e-173e-458a-88c7-e2cb98440cbe",
        "colab": {
          "base_uri": "https://localhost:8080/",
          "height": 58
        }
      },
      "source": [
        "B = np.arange(10, 70, 10).reshape(2, 3)\n",
        "B"
      ],
      "execution_count": 55,
      "outputs": [
        {
          "output_type": "execute_result",
          "data": {
            "text/plain": [
              "array([[10, 20, 30],\n",
              "       [40, 50, 60]])"
            ]
          },
          "metadata": {
            "tags": []
          },
          "execution_count": 55
        }
      ]
    },
    {
      "cell_type": "code",
      "metadata": {
        "id": "X0Sice6bASA9",
        "outputId": "8d49b7ff-38ee-454a-96da-458b70f4110e",
        "colab": {
          "base_uri": "https://localhost:8080/",
          "height": 58
        }
      },
      "source": [
        "A + B"
      ],
      "execution_count": 56,
      "outputs": [
        {
          "output_type": "execute_result",
          "data": {
            "text/plain": [
              "array([[11, 22, 33],\n",
              "       [44, 55, 66]])"
            ]
          },
          "metadata": {
            "tags": []
          },
          "execution_count": 56
        }
      ]
    },
    {
      "cell_type": "markdown",
      "metadata": {
        "id": "2q0ZVCt2Ahbi"
      },
      "source": [
        "* 행렬의 스칼라 곱(scalar multiplication): 스칼라(scalar)를 행렬의 각 원소에 곱하는 것.\n",
        "* numpy * 연산자"
      ]
    },
    {
      "cell_type": "code",
      "metadata": {
        "id": "jburPUUqAgvk",
        "outputId": "fe04863e-cda9-4bb9-f780-ded33c2b0d68",
        "colab": {
          "base_uri": "https://localhost:8080/",
          "height": 58
        }
      },
      "source": [
        "2 * A"
      ],
      "execution_count": 57,
      "outputs": [
        {
          "output_type": "execute_result",
          "data": {
            "text/plain": [
              "array([[ 2,  4,  6],\n",
              "       [ 8, 10, 12]])"
            ]
          },
          "metadata": {
            "tags": []
          },
          "execution_count": 57
        }
      ]
    },
    {
      "cell_type": "code",
      "metadata": {
        "id": "1BWAbuAtA1uc",
        "outputId": "2466466d-5beb-48ac-e41e-49080e837bc4",
        "colab": {
          "base_uri": "https://localhost:8080/",
          "height": 58
        }
      },
      "source": [
        "A * 2"
      ],
      "execution_count": 58,
      "outputs": [
        {
          "output_type": "execute_result",
          "data": {
            "text/plain": [
              "array([[ 2,  4,  6],\n",
              "       [ 8, 10, 12]])"
            ]
          },
          "metadata": {
            "tags": []
          },
          "execution_count": 58
        }
      ]
    },
    {
      "cell_type": "markdown",
      "metadata": {
        "id": "GDhWEnfXBE6H"
      },
      "source": [
        "* 행렬의 곱셈(Matrix Multiplication) - Dot Product(점곱), Inner Product(내적)\n",
        "* 두 행렬 A와 B의 곱 AB: 행렬 A의 row vector와 행렬 B의 column vector의 내적들로 이루어짐.\n",
        "* AB: 행렬 A의 열(column)의 개수와 행렬 B의 행(row)의 개수가 같아야 함.\n",
        "* 일반적으로, AB != BA\n",
        "* numpy.dot() 함수, numpy.ndarray.dot() 메서드, numpy @ 연산자"
      ]
    },
    {
      "cell_type": "code",
      "metadata": {
        "id": "awExhhiEA4HE",
        "outputId": "922903a3-c00a-4bbf-a2a3-909afc1f351b",
        "colab": {
          "base_uri": "https://localhost:8080/",
          "height": 58
        }
      },
      "source": [
        "A = np.arange(1, 7).reshape(2, 3)\n",
        "A  # (2, 3) 행렬"
      ],
      "execution_count": 59,
      "outputs": [
        {
          "output_type": "execute_result",
          "data": {
            "text/plain": [
              "array([[1, 2, 3],\n",
              "       [4, 5, 6]])"
            ]
          },
          "metadata": {
            "tags": []
          },
          "execution_count": 59
        }
      ]
    },
    {
      "cell_type": "code",
      "metadata": {
        "id": "yHMJ50ZWD9rW",
        "outputId": "7dc3dfed-1edc-484e-c5a0-55f32cbddbeb",
        "colab": {
          "base_uri": "https://localhost:8080/",
          "height": 79
        }
      },
      "source": [
        "B = np.array([1, 2] * 3).reshape(3, 2)\n",
        "B  # (3, 2) 행렬"
      ],
      "execution_count": 60,
      "outputs": [
        {
          "output_type": "execute_result",
          "data": {
            "text/plain": [
              "array([[1, 2],\n",
              "       [1, 2],\n",
              "       [1, 2]])"
            ]
          },
          "metadata": {
            "tags": []
          },
          "execution_count": 60
        }
      ]
    },
    {
      "cell_type": "code",
      "metadata": {
        "id": "KNakGohHELjs",
        "outputId": "54a70d63-2dbc-4631-8bd5-1f808f35508d",
        "colab": {
          "base_uri": "https://localhost:8080/",
          "height": 58
        }
      },
      "source": [
        "np.dot(A, B)  # numpy.dot() 함수"
      ],
      "execution_count": 61,
      "outputs": [
        {
          "output_type": "execute_result",
          "data": {
            "text/plain": [
              "array([[ 6, 12],\n",
              "       [15, 30]])"
            ]
          },
          "metadata": {
            "tags": []
          },
          "execution_count": 61
        }
      ]
    },
    {
      "cell_type": "code",
      "metadata": {
        "id": "17AUx-CHEVX8",
        "outputId": "9da4c027-2fc6-4914-dc68-67fa47018674",
        "colab": {
          "base_uri": "https://localhost:8080/",
          "height": 58
        }
      },
      "source": [
        "A.dot(B)  # numpy.ndarray.dot() 메서드"
      ],
      "execution_count": 62,
      "outputs": [
        {
          "output_type": "execute_result",
          "data": {
            "text/plain": [
              "array([[ 6, 12],\n",
              "       [15, 30]])"
            ]
          },
          "metadata": {
            "tags": []
          },
          "execution_count": 62
        }
      ]
    },
    {
      "cell_type": "code",
      "metadata": {
        "id": "9W9b91QnEkHV",
        "outputId": "c37ad20a-150f-4435-dbe1-b53e28870381",
        "colab": {
          "base_uri": "https://localhost:8080/",
          "height": 58
        }
      },
      "source": [
        "A @ B  # (2, 3) @ (3, 2) = (2, 2)"
      ],
      "execution_count": 63,
      "outputs": [
        {
          "output_type": "execute_result",
          "data": {
            "text/plain": [
              "array([[ 6, 12],\n",
              "       [15, 30]])"
            ]
          },
          "metadata": {
            "tags": []
          },
          "execution_count": 63
        }
      ]
    },
    {
      "cell_type": "code",
      "metadata": {
        "id": "pO2LVbA-EXc0",
        "outputId": "56c6a886-b371-4e27-c977-aaf164a41566",
        "colab": {
          "base_uri": "https://localhost:8080/",
          "height": 79
        }
      },
      "source": [
        "B @ A  # (3, 2) @ (2, 3) = (3, 3)"
      ],
      "execution_count": 64,
      "outputs": [
        {
          "output_type": "execute_result",
          "data": {
            "text/plain": [
              "array([[ 9, 12, 15],\n",
              "       [ 9, 12, 15],\n",
              "       [ 9, 12, 15]])"
            ]
          },
          "metadata": {
            "tags": []
          },
          "execution_count": 64
        }
      ]
    },
    {
      "cell_type": "markdown",
      "metadata": {
        "id": "haCfjnNbFjFA"
      },
      "source": [
        "* 항등 행렬: `A @ I = A`, `I @ A = A`"
      ]
    },
    {
      "cell_type": "code",
      "metadata": {
        "id": "-xSB00CBFryT",
        "outputId": "5ab8b874-832f-414d-a2e6-d56daa219a6f",
        "colab": {
          "base_uri": "https://localhost:8080/",
          "height": 58
        }
      },
      "source": [
        "A  # (2, 3)"
      ],
      "execution_count": 65,
      "outputs": [
        {
          "output_type": "execute_result",
          "data": {
            "text/plain": [
              "array([[1, 2, 3],\n",
              "       [4, 5, 6]])"
            ]
          },
          "metadata": {
            "tags": []
          },
          "execution_count": 65
        }
      ]
    },
    {
      "cell_type": "code",
      "metadata": {
        "id": "zXU4qJyHFygV",
        "outputId": "76f00a83-91d7-49a0-fb5e-2341f5231c45",
        "colab": {
          "base_uri": "https://localhost:8080/",
          "height": 58
        }
      },
      "source": [
        "# A @ I\n",
        "A @ np.eye(3, dtype=np.int)  # (3, 3) 항등 행렬"
      ],
      "execution_count": 68,
      "outputs": [
        {
          "output_type": "execute_result",
          "data": {
            "text/plain": [
              "array([[1, 2, 3],\n",
              "       [4, 5, 6]])"
            ]
          },
          "metadata": {
            "tags": []
          },
          "execution_count": 68
        }
      ]
    },
    {
      "cell_type": "code",
      "metadata": {
        "id": "yMnxsBztGInk",
        "outputId": "ab2bc8a1-ff0a-4d53-fcd0-cabed04019c2",
        "colab": {
          "base_uri": "https://localhost:8080/",
          "height": 58
        }
      },
      "source": [
        "# I @ A\n",
        "np.eye(2, dtype=np.int) @ A  # (2, 2) 항등 행렬"
      ],
      "execution_count": 72,
      "outputs": [
        {
          "output_type": "execute_result",
          "data": {
            "text/plain": [
              "array([[1, 2, 3],\n",
              "       [4, 5, 6]])"
            ]
          },
          "metadata": {
            "tags": []
          },
          "execution_count": 72
        }
      ]
    },
    {
      "cell_type": "markdown",
      "metadata": {
        "id": "47hT2gtjGynH"
      },
      "source": [
        "* 전치 행렬(Transpose): 행과 열을 바꾼 행렬.\n",
        "* numpy.ndarry.T 속성(attribute)"
      ]
    },
    {
      "cell_type": "code",
      "metadata": {
        "id": "DGb8ZwBAGKOL",
        "outputId": "97b51463-c909-4882-b7f2-bcb317b18b5b",
        "colab": {
          "base_uri": "https://localhost:8080/",
          "height": 58
        }
      },
      "source": [
        "A"
      ],
      "execution_count": 73,
      "outputs": [
        {
          "output_type": "execute_result",
          "data": {
            "text/plain": [
              "array([[1, 2, 3],\n",
              "       [4, 5, 6]])"
            ]
          },
          "metadata": {
            "tags": []
          },
          "execution_count": 73
        }
      ]
    },
    {
      "cell_type": "code",
      "metadata": {
        "id": "K3BVUmlmHy1s",
        "outputId": "2ca06d88-cc4c-420a-c266-5329200ca997",
        "colab": {
          "base_uri": "https://localhost:8080/",
          "height": 79
        }
      },
      "source": [
        "A.T"
      ],
      "execution_count": 74,
      "outputs": [
        {
          "output_type": "execute_result",
          "data": {
            "text/plain": [
              "array([[1, 4],\n",
              "       [2, 5],\n",
              "       [3, 6]])"
            ]
          },
          "metadata": {
            "tags": []
          },
          "execution_count": 74
        }
      ]
    },
    {
      "cell_type": "markdown",
      "metadata": {
        "id": "QCUxKrlFLAtU"
      },
      "source": [
        "* numpy 1d-array와 수학의 row vector는 미묘한 차이가 있다!"
      ]
    },
    {
      "cell_type": "code",
      "metadata": {
        "id": "Vvb-38VLH1lt",
        "outputId": "6a2b4c9d-118a-4548-d5e2-f3280947f383",
        "colab": {
          "base_uri": "https://localhost:8080/",
          "height": 38
        }
      },
      "source": [
        "a = np.array([1, 2, 3])\n",
        "a"
      ],
      "execution_count": 75,
      "outputs": [
        {
          "output_type": "execute_result",
          "data": {
            "text/plain": [
              "array([1, 2, 3])"
            ]
          },
          "metadata": {
            "tags": []
          },
          "execution_count": 75
        }
      ]
    },
    {
      "cell_type": "code",
      "metadata": {
        "id": "25yih8OeLo8i",
        "outputId": "5adca343-dde4-4755-e437-594b2e0eec06",
        "colab": {
          "base_uri": "https://localhost:8080/",
          "height": 38
        }
      },
      "source": [
        "a.T  #> 1-d array\n",
        "# 1d-array의 Transpose는 컬럼이 1개인 2d-array가 되지 않는다!"
      ],
      "execution_count": 76,
      "outputs": [
        {
          "output_type": "execute_result",
          "data": {
            "text/plain": [
              "array([1, 2, 3])"
            ]
          },
          "metadata": {
            "tags": []
          },
          "execution_count": 76
        }
      ]
    },
    {
      "cell_type": "markdown",
      "metadata": {
        "id": "dBzlrbATMVP0"
      },
      "source": [
        "* numpy 1d-array를 2d-array로 변환 => row vector <--(transpose)--> column vector"
      ]
    },
    {
      "cell_type": "code",
      "metadata": {
        "id": "F58ySMKgLsUT",
        "outputId": "76d039c8-6dd6-4561-fc3b-d3e717abcdf0",
        "colab": {
          "base_uri": "https://localhost:8080/",
          "height": 38
        }
      },
      "source": [
        "A = np.array([a])\n",
        "A  #> 행(row)이 1개인 2d-array"
      ],
      "execution_count": 79,
      "outputs": [
        {
          "output_type": "execute_result",
          "data": {
            "text/plain": [
              "array([[1, 2, 3]])"
            ]
          },
          "metadata": {
            "tags": []
          },
          "execution_count": 79
        }
      ]
    },
    {
      "cell_type": "code",
      "metadata": {
        "id": "v0nNDOcOM68h",
        "outputId": "a3814f38-49f4-4e86-bb71-e1c4ceaab6f4",
        "colab": {
          "base_uri": "https://localhost:8080/",
          "height": 79
        }
      },
      "source": [
        "A.T"
      ],
      "execution_count": 80,
      "outputs": [
        {
          "output_type": "execute_result",
          "data": {
            "text/plain": [
              "array([[1],\n",
              "       [2],\n",
              "       [3]])"
            ]
          },
          "metadata": {
            "tags": []
          },
          "execution_count": 80
        }
      ]
    },
    {
      "cell_type": "code",
      "metadata": {
        "id": "FlOG06mNNNsu",
        "outputId": "147e704b-c235-4aef-e27a-90b2f3f4ca69",
        "colab": {
          "base_uri": "https://localhost:8080/",
          "height": 38
        }
      },
      "source": [
        "a[np.newaxis, :]  # 1d-array -> row vector"
      ],
      "execution_count": 82,
      "outputs": [
        {
          "output_type": "execute_result",
          "data": {
            "text/plain": [
              "array([[1, 2, 3]])"
            ]
          },
          "metadata": {
            "tags": []
          },
          "execution_count": 82
        }
      ]
    },
    {
      "cell_type": "code",
      "metadata": {
        "id": "CAAq7CH7OBot",
        "outputId": "14a047df-7551-4a9f-a089-baba1c718be2",
        "colab": {
          "base_uri": "https://localhost:8080/",
          "height": 79
        }
      },
      "source": [
        "a[:, np.newaxis]  # 1d-array -> column vector"
      ],
      "execution_count": 84,
      "outputs": [
        {
          "output_type": "execute_result",
          "data": {
            "text/plain": [
              "array([[1],\n",
              "       [2],\n",
              "       [3]])"
            ]
          },
          "metadata": {
            "tags": []
          },
          "execution_count": 84
        }
      ]
    },
    {
      "cell_type": "markdown",
      "metadata": {
        "id": "DWTv3697Ormb"
      },
      "source": [
        "* 역행렬(Inverse Matrix): 행렬 A가 정사각행렬일 때, `A @ X = X @ A = I`을 만족하는 정사각행렬 X를 행렬 A의 역행렬이라고 함.\n",
        "* 모든 정사각행렬이 역행렬을 갖지는 않음.\n",
        "* 특이행렬(Singular Matrix): 역행렬을 갖지 않는 정사각행렬.\n",
        "* numpy.linalg.inv() 함수"
      ]
    },
    {
      "cell_type": "code",
      "metadata": {
        "id": "THRDqRW_OGC8",
        "outputId": "e01ac538-c850-46a4-e60f-064eeec432db",
        "colab": {
          "base_uri": "https://localhost:8080/",
          "height": 58
        }
      },
      "source": [
        "A = np.arange(1, 5).reshape(2, 2)\n",
        "A"
      ],
      "execution_count": 85,
      "outputs": [
        {
          "output_type": "execute_result",
          "data": {
            "text/plain": [
              "array([[1, 2],\n",
              "       [3, 4]])"
            ]
          },
          "metadata": {
            "tags": []
          },
          "execution_count": 85
        }
      ]
    },
    {
      "cell_type": "code",
      "metadata": {
        "id": "-227cXO2QHB9",
        "outputId": "2c3000a9-d84a-4b1c-878d-49104a341f71",
        "colab": {
          "base_uri": "https://localhost:8080/",
          "height": 58
        }
      },
      "source": [
        "A_inv = np.linalg.inv(A)\n",
        "A_inv"
      ],
      "execution_count": 86,
      "outputs": [
        {
          "output_type": "execute_result",
          "data": {
            "text/plain": [
              "array([[-2. ,  1. ],\n",
              "       [ 1.5, -0.5]])"
            ]
          },
          "metadata": {
            "tags": []
          },
          "execution_count": 86
        }
      ]
    },
    {
      "cell_type": "code",
      "metadata": {
        "id": "XwXT62GqQOhS",
        "outputId": "fa1cc141-d394-4b33-c3df-0e09b5c83e93",
        "colab": {
          "base_uri": "https://localhost:8080/",
          "height": 58
        }
      },
      "source": [
        "A @ A_inv"
      ],
      "execution_count": 87,
      "outputs": [
        {
          "output_type": "execute_result",
          "data": {
            "text/plain": [
              "array([[1.0000000e+00, 0.0000000e+00],\n",
              "       [8.8817842e-16, 1.0000000e+00]])"
            ]
          },
          "metadata": {
            "tags": []
          },
          "execution_count": 87
        }
      ]
    },
    {
      "cell_type": "code",
      "metadata": {
        "id": "j26M7yjsQTJj",
        "outputId": "d4feab4d-3d4d-4793-b28d-684e38e37416",
        "colab": {
          "base_uri": "https://localhost:8080/",
          "height": 58
        }
      },
      "source": [
        "A_inv @ A"
      ],
      "execution_count": 88,
      "outputs": [
        {
          "output_type": "execute_result",
          "data": {
            "text/plain": [
              "array([[1.00000000e+00, 0.00000000e+00],\n",
              "       [1.11022302e-16, 1.00000000e+00]])"
            ]
          },
          "metadata": {
            "tags": []
          },
          "execution_count": 88
        }
      ]
    },
    {
      "cell_type": "code",
      "metadata": {
        "id": "3yL-oXl0QdCj",
        "outputId": "55bf77e3-91c8-424f-ec2d-a571ca143d65",
        "colab": {
          "base_uri": "https://localhost:8080/",
          "height": 79
        }
      },
      "source": [
        "A = np.array([[1, 2, 3],\n",
        "              [4, 5, 6],\n",
        "              [7, 8, 0]])\n",
        "A"
      ],
      "execution_count": 91,
      "outputs": [
        {
          "output_type": "execute_result",
          "data": {
            "text/plain": [
              "array([[1, 2, 3],\n",
              "       [4, 5, 6],\n",
              "       [7, 8, 0]])"
            ]
          },
          "metadata": {
            "tags": []
          },
          "execution_count": 91
        }
      ]
    },
    {
      "cell_type": "code",
      "metadata": {
        "id": "c41m8X9nQ_PK",
        "outputId": "f2cd79f1-7cc0-4a82-cc31-022148e59c8d",
        "colab": {
          "base_uri": "https://localhost:8080/",
          "height": 79
        }
      },
      "source": [
        "A_inv = np.linalg.inv(A)\n",
        "A_inv"
      ],
      "execution_count": 92,
      "outputs": [
        {
          "output_type": "execute_result",
          "data": {
            "text/plain": [
              "array([[-1.77777778,  0.88888889, -0.11111111],\n",
              "       [ 1.55555556, -0.77777778,  0.22222222],\n",
              "       [-0.11111111,  0.22222222, -0.11111111]])"
            ]
          },
          "metadata": {
            "tags": []
          },
          "execution_count": 92
        }
      ]
    },
    {
      "cell_type": "code",
      "metadata": {
        "id": "xmzrusJwRF7D",
        "outputId": "179ef656-fbdc-49d7-86b4-9661e71e3530",
        "colab": {
          "base_uri": "https://localhost:8080/",
          "height": 79
        }
      },
      "source": [
        "A @ A_inv"
      ],
      "execution_count": 93,
      "outputs": [
        {
          "output_type": "execute_result",
          "data": {
            "text/plain": [
              "array([[ 1.00000000e+00,  5.55111512e-17,  1.38777878e-17],\n",
              "       [ 5.55111512e-17,  1.00000000e+00,  2.77555756e-17],\n",
              "       [ 1.77635684e-15, -8.88178420e-16,  1.00000000e+00]])"
            ]
          },
          "metadata": {
            "tags": []
          },
          "execution_count": 93
        }
      ]
    },
    {
      "cell_type": "code",
      "metadata": {
        "id": "oumY1UqRRsDz",
        "outputId": "7c1ff5bf-4131-44ee-d038-0f47dfba9ea1",
        "colab": {
          "base_uri": "https://localhost:8080/",
          "height": 79
        }
      },
      "source": [
        "A_inv @ A"
      ],
      "execution_count": 94,
      "outputs": [
        {
          "output_type": "execute_result",
          "data": {
            "text/plain": [
              "array([[ 1.00000000e+00, -1.11022302e-16,  0.00000000e+00],\n",
              "       [ 8.32667268e-17,  1.00000000e+00,  2.22044605e-16],\n",
              "       [ 6.93889390e-17,  0.00000000e+00,  1.00000000e+00]])"
            ]
          },
          "metadata": {
            "tags": []
          },
          "execution_count": 94
        }
      ]
    },
    {
      "cell_type": "markdown",
      "metadata": {
        "id": "DvKiBnqfSGxM"
      },
      "source": [
        "* 행렬의 Determinant: det(A), |A|\n",
        "* numpy.linalg.det() 함수\n",
        "* det 값이 0이면 역행렬이 존재하지 않음!"
      ]
    },
    {
      "cell_type": "code",
      "metadata": {
        "id": "rz1YPuwuR25i",
        "outputId": "cd4a6e64-510a-4cc9-c1eb-b1b5b831c20e",
        "colab": {
          "base_uri": "https://localhost:8080/",
          "height": 58
        }
      },
      "source": [
        "A = np.array([[1, 2],\n",
        "              [3, 4]])\n",
        "A"
      ],
      "execution_count": 95,
      "outputs": [
        {
          "output_type": "execute_result",
          "data": {
            "text/plain": [
              "array([[1, 2],\n",
              "       [3, 4]])"
            ]
          },
          "metadata": {
            "tags": []
          },
          "execution_count": 95
        }
      ]
    },
    {
      "cell_type": "code",
      "metadata": {
        "id": "VrZimQH6TBz7",
        "outputId": "1f336205-f0c7-4e23-c4bd-8287e861e34c",
        "colab": {
          "base_uri": "https://localhost:8080/",
          "height": 38
        }
      },
      "source": [
        "np.linalg.det(A)  # det(A) = 1 * 4 - 2 * 3 = -2"
      ],
      "execution_count": 96,
      "outputs": [
        {
          "output_type": "execute_result",
          "data": {
            "text/plain": [
              "-2.0000000000000004"
            ]
          },
          "metadata": {
            "tags": []
          },
          "execution_count": 96
        }
      ]
    },
    {
      "cell_type": "code",
      "metadata": {
        "id": "SN3ICGpsTOe-",
        "outputId": "5befeabe-fa9e-4868-82e9-14733f19677f",
        "colab": {
          "base_uri": "https://localhost:8080/",
          "height": 58
        }
      },
      "source": [
        "A = np.array([[1, 2],\n",
        "              [2, 4]])\n",
        "A"
      ],
      "execution_count": 97,
      "outputs": [
        {
          "output_type": "execute_result",
          "data": {
            "text/plain": [
              "array([[1, 2],\n",
              "       [2, 4]])"
            ]
          },
          "metadata": {
            "tags": []
          },
          "execution_count": 97
        }
      ]
    },
    {
      "cell_type": "code",
      "metadata": {
        "id": "IAgELu4LT6mc",
        "outputId": "2b1d9f2b-919b-4702-83f8-ee1288228967",
        "colab": {
          "base_uri": "https://localhost:8080/",
          "height": 38
        }
      },
      "source": [
        "np.linalg.det(A)  # det(A) = 1 * 4 - 2 * 2 = 0"
      ],
      "execution_count": 98,
      "outputs": [
        {
          "output_type": "execute_result",
          "data": {
            "text/plain": [
              "0.0"
            ]
          },
          "metadata": {
            "tags": []
          },
          "execution_count": 98
        }
      ]
    },
    {
      "cell_type": "code",
      "metadata": {
        "id": "-iGFH9blT-5K"
      },
      "source": [
        "# np.linalg.inv(A)  # det=0 이면, 역행렬이 존재하지 않음 -> singular matrix"
      ],
      "execution_count": null,
      "outputs": []
    },
    {
      "cell_type": "code",
      "metadata": {
        "id": "sgimCl3YUK2b",
        "outputId": "2b774b3c-068a-4bd7-b322-2b4dc6d436bf",
        "colab": {
          "base_uri": "https://localhost:8080/",
          "height": 38
        }
      },
      "source": [
        "A = np.array([[1, 2, 3],\n",
        "              [4, 5, 6],\n",
        "              [7, 8, 9]])\n",
        "np.linalg.det(A)"
      ],
      "execution_count": 100,
      "outputs": [
        {
          "output_type": "execute_result",
          "data": {
            "text/plain": [
              "0.0"
            ]
          },
          "metadata": {
            "tags": []
          },
          "execution_count": 100
        }
      ]
    },
    {
      "cell_type": "markdown",
      "metadata": {
        "id": "PHtpHi53bfGh"
      },
      "source": [
        "* 선형 회귀(Linear Regression)에서 선형 대수 응용."
      ]
    },
    {
      "cell_type": "code",
      "metadata": {
        "id": "TTJtgGttUnwS",
        "outputId": "1b59d1a4-7456-4f42-e88a-2e868990744d",
        "colab": {
          "base_uri": "https://localhost:8080/",
          "height": 79
        }
      },
      "source": [
        "x = np.array([1, 2, 3]).reshape((3, 1))\n",
        "x"
      ],
      "execution_count": 101,
      "outputs": [
        {
          "output_type": "execute_result",
          "data": {
            "text/plain": [
              "array([[1],\n",
              "       [2],\n",
              "       [3]])"
            ]
          },
          "metadata": {
            "tags": []
          },
          "execution_count": 101
        }
      ]
    },
    {
      "cell_type": "code",
      "metadata": {
        "id": "gmvqb4YRc8ft",
        "outputId": "15ed83b5-c5ca-441b-e669-f1380d946c05",
        "colab": {
          "base_uri": "https://localhost:8080/",
          "height": 79
        }
      },
      "source": [
        "y = np.array([3, 5, 7]).reshape((3, 1))\n",
        "y"
      ],
      "execution_count": 102,
      "outputs": [
        {
          "output_type": "execute_result",
          "data": {
            "text/plain": [
              "array([[3],\n",
              "       [5],\n",
              "       [7]])"
            ]
          },
          "metadata": {
            "tags": []
          },
          "execution_count": 102
        }
      ]
    },
    {
      "cell_type": "markdown",
      "metadata": {
        "id": "HMnpoZ4FdH85"
      },
      "source": [
        "```\n",
        "3 = a * 1 + b\n",
        "5 = a * 2 + b\n",
        "7 = a * 3 + b\n",
        "```\n",
        "목적: a와 b를 찾는다."
      ]
    },
    {
      "cell_type": "code",
      "metadata": {
        "id": "8tiPNwwvdC0x",
        "outputId": "02f0731d-32ed-408b-c307-6eca522b17de",
        "colab": {
          "base_uri": "https://localhost:8080/",
          "height": 58
        }
      },
      "source": [
        "w = np.array([2, 1]).reshape(2, 1)\n",
        "w"
      ],
      "execution_count": 103,
      "outputs": [
        {
          "output_type": "execute_result",
          "data": {
            "text/plain": [
              "array([[2],\n",
              "       [1]])"
            ]
          },
          "metadata": {
            "tags": []
          },
          "execution_count": 103
        }
      ]
    },
    {
      "cell_type": "code",
      "metadata": {
        "id": "tOL3VW1qfavT",
        "outputId": "bc4b44f6-77d0-4e81-b38c-db0acf4e42d6",
        "colab": {
          "base_uri": "https://localhost:8080/",
          "height": 79
        }
      },
      "source": [
        "X = np.c_[x, np.ones(shape=(3, 1))]\n",
        "X"
      ],
      "execution_count": 104,
      "outputs": [
        {
          "output_type": "execute_result",
          "data": {
            "text/plain": [
              "array([[1., 1.],\n",
              "       [2., 1.],\n",
              "       [3., 1.]])"
            ]
          },
          "metadata": {
            "tags": []
          },
          "execution_count": 104
        }
      ]
    },
    {
      "cell_type": "code",
      "metadata": {
        "id": "v7RaKh4lflGS",
        "outputId": "2b995d6e-6ad1-4966-84f9-7c5dd484fade",
        "colab": {
          "base_uri": "https://localhost:8080/",
          "height": 79
        }
      },
      "source": [
        "X @ w  # y = X @ w"
      ],
      "execution_count": 105,
      "outputs": [
        {
          "output_type": "execute_result",
          "data": {
            "text/plain": [
              "array([[3.],\n",
              "       [5.],\n",
              "       [7.]])"
            ]
          },
          "metadata": {
            "tags": []
          },
          "execution_count": 105
        }
      ]
    },
    {
      "cell_type": "code",
      "metadata": {
        "id": "anBQBa0VfwYY",
        "outputId": "372d3f87-f411-41ea-ed34-2bd3a80f354f",
        "colab": {
          "base_uri": "https://localhost:8080/",
          "height": 58
        }
      },
      "source": [
        "w2 = np.linalg.inv(X.T @ X) @ X.T @ y  # 정규 방정식(normal equation)\n",
        "w2"
      ],
      "execution_count": 106,
      "outputs": [
        {
          "output_type": "execute_result",
          "data": {
            "text/plain": [
              "array([[2.],\n",
              "       [1.]])"
            ]
          },
          "metadata": {
            "tags": []
          },
          "execution_count": 106
        }
      ]
    },
    {
      "cell_type": "code",
      "metadata": {
        "id": "hQx8eJJBg4vI"
      },
      "source": [
        "x = 3 * np.random.rand(100, 1)  # (100, 1) column vector\n",
        "y = 4 + 3 * x + np.random.randn(100, 1)  # (100, 1) column vector"
      ],
      "execution_count": null,
      "outputs": []
    },
    {
      "cell_type": "markdown",
      "metadata": {
        "id": "FBh91-FpnD3E"
      },
      "source": [
        "1. y ~ x scatter plot을 그리세요.\n",
        "2. 데이터 x, y를 y = theta0 + theta1 * x 선형 회귀 방정식으로 설명하려고 할 때, theta0와 theta1을 정규 방정식으로 찾으세요.\n",
        "3. 1번의 scatter plot에 선형 회귀 방정식 직선을 추가해서 그리세요."
      ]
    }
  ]
}