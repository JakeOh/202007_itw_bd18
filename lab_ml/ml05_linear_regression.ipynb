{
  "nbformat": 4,
  "nbformat_minor": 0,
  "metadata": {
    "colab": {
      "name": " ml05_linear_regression.ipynb",
      "provenance": [],
      "collapsed_sections": [],
      "authorship_tag": "ABX9TyMb/ydWoDnGG9pgF9T20ywL",
      "include_colab_link": true
    },
    "kernelspec": {
      "name": "python3",
      "display_name": "Python 3"
    }
  },
  "cells": [
    {
      "cell_type": "markdown",
      "metadata": {
        "id": "view-in-github",
        "colab_type": "text"
      },
      "source": [
        "<a href=\"https://colab.research.google.com/github/JakeOh/202007_itw_bd18/blob/master/lab_ml/ml05_linear_regression.ipynb\" target=\"_parent\"><img src=\"https://colab.research.google.com/assets/colab-badge.svg\" alt=\"Open In Colab\"/></a>"
      ]
    },
    {
      "cell_type": "code",
      "metadata": {
        "id": "fEB3m954nW-n"
      },
      "source": [
        "import numpy as np\n",
        "import matplotlib.pyplot as plt"
      ],
      "execution_count": 1,
      "outputs": []
    },
    {
      "cell_type": "markdown",
      "metadata": {
        "id": "mKps-VQC0L4A"
      },
      "source": [
        "# Normal Equation"
      ]
    },
    {
      "cell_type": "code",
      "metadata": {
        "id": "yVBNUWimnohV",
        "outputId": "0c5091e9-e5f9-4db4-818a-3b3259c49114",
        "colab": {
          "base_uri": "https://localhost:8080/",
          "height": 34
        }
      },
      "source": [
        "np.random.seed(1)\n",
        "\n",
        "X = np.arange(0, 3).reshape((3, 1))\n",
        "y = 4 + 3 * X + np.random.randn(3, 1)\n",
        "\n",
        "X.shape, y.shape"
      ],
      "execution_count": 4,
      "outputs": [
        {
          "output_type": "execute_result",
          "data": {
            "text/plain": [
              "((3, 1), (3, 1))"
            ]
          },
          "metadata": {
            "tags": []
          },
          "execution_count": 4
        }
      ]
    },
    {
      "cell_type": "code",
      "metadata": {
        "id": "sUhkCHVYqPWx",
        "outputId": "0acc2db6-6c26-4c7f-b7fc-e77778d484c7",
        "colab": {
          "base_uri": "https://localhost:8080/",
          "height": 120
        }
      },
      "source": [
        "print(X)\n",
        "print(y)"
      ],
      "execution_count": 6,
      "outputs": [
        {
          "output_type": "stream",
          "text": [
            "[[0]\n",
            " [1]\n",
            " [2]]\n",
            "[[5.62434536]\n",
            " [6.38824359]\n",
            " [9.47182825]]\n"
          ],
          "name": "stdout"
        }
      ]
    },
    {
      "cell_type": "code",
      "metadata": {
        "id": "F5nGiGa6oKuZ",
        "outputId": "effb523f-13f8-451a-cc52-c696b982da28",
        "colab": {
          "base_uri": "https://localhost:8080/",
          "height": 265
        }
      },
      "source": [
        "plt.scatter(X, y)\n",
        "plt.grid()"
      ],
      "execution_count": 5,
      "outputs": [
        {
          "output_type": "display_data",
          "data": {
            "image/png": "[encoded data removed]",
            "text/plain": [
              "<Figure size 432x288 with 1 Axes>"
            ]
          },
          "metadata": {
            "tags": [],
            "needs_background": "light"
          }
        }
      ]
    },
    {
      "cell_type": "code",
      "metadata": {
        "id": "OAmgkRffrKmG",
        "outputId": "406685b3-dbfc-442b-a7a2-cb618894a16e",
        "colab": {
          "base_uri": "https://localhost:8080/",
          "height": 68
        }
      },
      "source": [
        "X_b = np.c_[np.ones(shape=(3, 1)), X]\n",
        "X_b"
      ],
      "execution_count": 7,
      "outputs": [
        {
          "output_type": "execute_result",
          "data": {
            "text/plain": [
              "array([[1., 0.],\n",
              "       [1., 1.],\n",
              "       [1., 2.]])"
            ]
          },
          "metadata": {
            "tags": []
          },
          "execution_count": 7
        }
      ]
    },
    {
      "cell_type": "code",
      "metadata": {
        "id": "1fpDIlLVsVl-",
        "outputId": "365ce5b5-ae54-481d-aea6-40c74d00c541",
        "colab": {
          "base_uri": "https://localhost:8080/",
          "height": 51
        }
      },
      "source": [
        "# MSE를 최소화하는 [b0, b1]을 찾는 게 선형 회귀의 목적.\n",
        "# [b0, b1]을 찾는 방법 1: 정규 방정식(normal equation)\n",
        "theta_best = np.linalg.inv(X_b.T @ X_b) @ X_b.T @ y\n",
        "theta_best  #> [[y절편], [기울기]]"
      ],
      "execution_count": 8,
      "outputs": [
        {
          "output_type": "execute_result",
          "data": {
            "text/plain": [
              "array([[5.23773096],\n",
              "       [1.92374144]])"
            ]
          },
          "metadata": {
            "tags": []
          },
          "execution_count": 8
        }
      ]
    },
    {
      "cell_type": "code",
      "metadata": {
        "id": "6eLc5gg_tl0W",
        "outputId": "e139e5fe-ea15-4cef-9b53-8c149ab5f0bb",
        "colab": {
          "base_uri": "https://localhost:8080/",
          "height": 68
        }
      },
      "source": [
        "y_pred = X_b @ theta_best\n",
        "y_pred"
      ],
      "execution_count": 9,
      "outputs": [
        {
          "output_type": "execute_result",
          "data": {
            "text/plain": [
              "array([[5.23773096],\n",
              "       [7.1614724 ],\n",
              "       [9.08521384]])"
            ]
          },
          "metadata": {
            "tags": []
          },
          "execution_count": 9
        }
      ]
    },
    {
      "cell_type": "code",
      "metadata": {
        "id": "uMF2lybQuOM8",
        "outputId": "90a23e0c-3c35-4517-d87e-5921179affd4",
        "colab": {
          "base_uri": "https://localhost:8080/",
          "height": 265
        }
      },
      "source": [
        "plt.scatter(X, y)\n",
        "plt.plot(X, y_pred, 'r-')\n",
        "plt.grid()"
      ],
      "execution_count": 11,
      "outputs": [
        {
          "output_type": "display_data",
          "data": {
            "image/png": "[encoded data removed]",
            "text/plain": [
              "<Figure size 432x288 with 1 Axes>"
            ]
          },
          "metadata": {
            "tags": [],
            "needs_background": "light"
          }
        }
      ]
    },
    {
      "cell_type": "code",
      "metadata": {
        "id": "djYazr_FyqfZ"
      },
      "source": [
        "from sklearn.linear_model import LinearRegression"
      ],
      "execution_count": 12,
      "outputs": []
    },
    {
      "cell_type": "code",
      "metadata": {
        "id": "BL6SYucJyvde",
        "outputId": "fd1e1c0b-d2b7-436a-9dd8-93a9086842c3",
        "colab": {
          "base_uri": "https://localhost:8080/",
          "height": 34
        }
      },
      "source": [
        "lin_reg = LinearRegression()\n",
        "lin_reg.fit(X, y)  \n",
        "# fit: 선형 회귀 방정식의 절편(intercept)과 기울기(coefficient)들을 찾는 과정.\n",
        "lin_reg.intercept_, lin_reg.coef_"
      ],
      "execution_count": 13,
      "outputs": [
        {
          "output_type": "execute_result",
          "data": {
            "text/plain": [
              "(array([5.23773096]), array([[1.92374144]]))"
            ]
          },
          "metadata": {
            "tags": []
          },
          "execution_count": 13
        }
      ]
    },
    {
      "cell_type": "code",
      "metadata": {
        "id": "9Narbz0zy_jZ",
        "outputId": "43c231ff-4bf1-4ef6-85ba-c6a1268591e8",
        "colab": {
          "base_uri": "https://localhost:8080/",
          "height": 68
        }
      },
      "source": [
        "y_pred = lin_reg.predict(X)\n",
        "y_pred"
      ],
      "execution_count": 14,
      "outputs": [
        {
          "output_type": "execute_result",
          "data": {
            "text/plain": [
              "array([[5.23773096],\n",
              "       [7.1614724 ],\n",
              "       [9.08521384]])"
            ]
          },
          "metadata": {
            "tags": []
          },
          "execution_count": 14
        }
      ]
    },
    {
      "cell_type": "markdown",
      "metadata": {
        "id": "O7TVo51_0KDm"
      },
      "source": [
        "# Gradient Descent(경사 하강법)"
      ]
    },
    {
      "cell_type": "code",
      "metadata": {
        "id": "SyreZVnW0Sn6",
        "outputId": "cc05e03f-f482-48d9-e940-0e4f698aa854",
        "colab": {
          "base_uri": "https://localhost:8080/",
          "height": 265
        }
      },
      "source": [
        "X = np.linspace(start=-5, stop=5, num=100)\n",
        "y = X ** 2\n",
        "\n",
        "plt.plot(X, y, '-')\n",
        "plt.grid()"
      ],
      "execution_count": 15,
      "outputs": [
        {
          "output_type": "display_data",
          "data": {
            "image/png": "[encoded data removed]",
            "text/plain": [
              "<Figure size 432x288 with 1 Axes>"
            ]
          },
          "metadata": {
            "tags": [],
            "needs_background": "light"
          }
        }
      ]
    }
  ]
}