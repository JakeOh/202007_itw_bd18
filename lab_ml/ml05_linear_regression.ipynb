{
  "nbformat": 4,
  "nbformat_minor": 0,
  "metadata": {
    "colab": {
      "name": " ml05_linear_regression.ipynb",
      "provenance": [],
      "collapsed_sections": [],
      "authorship_tag": "ABX9TyNPu+6Loltt3yyhU3hb86so",
      "include_colab_link": true
    },
    "kernelspec": {
      "name": "python3",
      "display_name": "Python 3"
    }
  },
  "cells": [
    {
      "cell_type": "markdown",
      "metadata": {
        "id": "view-in-github",
        "colab_type": "text"
      },
      "source": [
        "<a href=\"https://colab.research.google.com/github/JakeOh/202007_itw_bd18/blob/master/lab_ml/ml05_linear_regression.ipynb\" target=\"_parent\"><img src=\"https://colab.research.google.com/assets/colab-badge.svg\" alt=\"Open In Colab\"/></a>"
      ]
    },
    {
      "cell_type": "code",
      "metadata": {
        "id": "fEB3m954nW-n"
      },
      "source": [
        "import numpy as np\n",
        "import matplotlib.pyplot as plt"
      ],
      "execution_count": 1,
      "outputs": []
    },
    {
      "cell_type": "markdown",
      "metadata": {
        "id": "mKps-VQC0L4A"
      },
      "source": [
        "# Normal Equation"
      ]
    },
    {
      "cell_type": "code",
      "metadata": {
        "id": "yVBNUWimnohV",
        "outputId": "0c5091e9-e5f9-4db4-818a-3b3259c49114",
        "colab": {
          "base_uri": "https://localhost:8080/",
          "height": 34
        }
      },
      "source": [
        "np.random.seed(1)\n",
        "\n",
        "X = np.arange(0, 3).reshape((3, 1))\n",
        "y = 4 + 3 * X + np.random.randn(3, 1)\n",
        "\n",
        "X.shape, y.shape"
      ],
      "execution_count": null,
      "outputs": [
        {
          "output_type": "execute_result",
          "data": {
            "text/plain": [
              "((3, 1), (3, 1))"
            ]
          },
          "metadata": {
            "tags": []
          },
          "execution_count": 4
        }
      ]
    },
    {
      "cell_type": "code",
      "metadata": {
        "id": "sUhkCHVYqPWx",
        "outputId": "0acc2db6-6c26-4c7f-b7fc-e77778d484c7",
        "colab": {
          "base_uri": "https://localhost:8080/",
          "height": 120
        }
      },
      "source": [
        "print(X)\n",
        "print(y)"
      ],
      "execution_count": null,
      "outputs": [
        {
          "output_type": "stream",
          "text": [
            "[[0]\n",
            " [1]\n",
            " [2]]\n",
            "[[5.62434536]\n",
            " [6.38824359]\n",
            " [9.47182825]]\n"
          ],
          "name": "stdout"
        }
      ]
    },
    {
      "cell_type": "code",
      "metadata": {
        "id": "F5nGiGa6oKuZ",
        "outputId": "effb523f-13f8-451a-cc52-c696b982da28",
        "colab": {
          "base_uri": "https://localhost:8080/",
          "height": 265
        }
      },
      "source": [
        "plt.scatter(X, y)\n",
        "plt.grid()"
      ],
      "execution_count": null,
      "outputs": [
        {
          "output_type": "display_data",
          "data": {
            "image/png": "[encoded data removed]",
            "text/plain": [
              "<Figure size 432x288 with 1 Axes>"
            ]
          },
          "metadata": {
            "tags": [],
            "needs_background": "light"
          }
        }
      ]
    },
    {
      "cell_type": "code",
      "metadata": {
        "id": "OAmgkRffrKmG",
        "outputId": "406685b3-dbfc-442b-a7a2-cb618894a16e",
        "colab": {
          "base_uri": "https://localhost:8080/",
          "height": 68
        }
      },
      "source": [
        "X_b = np.c_[np.ones(shape=(3, 1)), X]\n",
        "X_b"
      ],
      "execution_count": null,
      "outputs": [
        {
          "output_type": "execute_result",
          "data": {
            "text/plain": [
              "array([[1., 0.],\n",
              "       [1., 1.],\n",
              "       [1., 2.]])"
            ]
          },
          "metadata": {
            "tags": []
          },
          "execution_count": 7
        }
      ]
    },
    {
      "cell_type": "code",
      "metadata": {
        "id": "1fpDIlLVsVl-",
        "outputId": "365ce5b5-ae54-481d-aea6-40c74d00c541",
        "colab": {
          "base_uri": "https://localhost:8080/",
          "height": 51
        }
      },
      "source": [
        "# MSE를 최소화하는 [b0, b1]을 찾는 게 선형 회귀의 목적.\n",
        "# [b0, b1]을 찾는 방법 1: 정규 방정식(normal equation)\n",
        "theta_best = np.linalg.inv(X_b.T @ X_b) @ X_b.T @ y\n",
        "theta_best  #> [[y절편], [기울기]]"
      ],
      "execution_count": null,
      "outputs": [
        {
          "output_type": "execute_result",
          "data": {
            "text/plain": [
              "array([[5.23773096],\n",
              "       [1.92374144]])"
            ]
          },
          "metadata": {
            "tags": []
          },
          "execution_count": 8
        }
      ]
    },
    {
      "cell_type": "code",
      "metadata": {
        "id": "6eLc5gg_tl0W",
        "outputId": "e139e5fe-ea15-4cef-9b53-8c149ab5f0bb",
        "colab": {
          "base_uri": "https://localhost:8080/",
          "height": 68
        }
      },
      "source": [
        "y_pred = X_b @ theta_best\n",
        "y_pred"
      ],
      "execution_count": null,
      "outputs": [
        {
          "output_type": "execute_result",
          "data": {
            "text/plain": [
              "array([[5.23773096],\n",
              "       [7.1614724 ],\n",
              "       [9.08521384]])"
            ]
          },
          "metadata": {
            "tags": []
          },
          "execution_count": 9
        }
      ]
    },
    {
      "cell_type": "code",
      "metadata": {
        "id": "uMF2lybQuOM8",
        "outputId": "90a23e0c-3c35-4517-d87e-5921179affd4",
        "colab": {
          "base_uri": "https://localhost:8080/",
          "height": 265
        }
      },
      "source": [
        "plt.scatter(X, y)\n",
        "plt.plot(X, y_pred, 'r-')\n",
        "plt.grid()"
      ],
      "execution_count": null,
      "outputs": [
        {
          "output_type": "display_data",
          "data": {
            "image/png": "[encoded data removed]",
            "text/plain": [
              "<Figure size 432x288 with 1 Axes>"
            ]
          },
          "metadata": {
            "tags": [],
            "needs_background": "light"
          }
        }
      ]
    },
    {
      "cell_type": "code",
      "metadata": {
        "id": "djYazr_FyqfZ"
      },
      "source": [
        "from sklearn.linear_model import LinearRegression"
      ],
      "execution_count": null,
      "outputs": []
    },
    {
      "cell_type": "code",
      "metadata": {
        "id": "BL6SYucJyvde",
        "outputId": "fd1e1c0b-d2b7-436a-9dd8-93a9086842c3",
        "colab": {
          "base_uri": "https://localhost:8080/",
          "height": 34
        }
      },
      "source": [
        "lin_reg = LinearRegression()\n",
        "lin_reg.fit(X, y)  \n",
        "# fit: 선형 회귀 방정식의 절편(intercept)과 기울기(coefficient)들을 찾는 과정.\n",
        "lin_reg.intercept_, lin_reg.coef_"
      ],
      "execution_count": null,
      "outputs": [
        {
          "output_type": "execute_result",
          "data": {
            "text/plain": [
              "(array([5.23773096]), array([[1.92374144]]))"
            ]
          },
          "metadata": {
            "tags": []
          },
          "execution_count": 13
        }
      ]
    },
    {
      "cell_type": "code",
      "metadata": {
        "id": "9Narbz0zy_jZ",
        "outputId": "43c231ff-4bf1-4ef6-85ba-c6a1268591e8",
        "colab": {
          "base_uri": "https://localhost:8080/",
          "height": 69
        }
      },
      "source": [
        "y_pred = lin_reg.predict(X)\n",
        "y_pred"
      ],
      "execution_count": null,
      "outputs": [
        {
          "output_type": "execute_result",
          "data": {
            "text/plain": [
              "array([[5.23773096],\n",
              "       [7.1614724 ],\n",
              "       [9.08521384]])"
            ]
          },
          "metadata": {
            "tags": []
          },
          "execution_count": 14
        }
      ]
    },
    {
      "cell_type": "markdown",
      "metadata": {
        "id": "O7TVo51_0KDm"
      },
      "source": [
        "# Gradient Descent(경사 하강법)"
      ]
    },
    {
      "cell_type": "code",
      "metadata": {
        "id": "SyreZVnW0Sn6",
        "outputId": "cc05e03f-f482-48d9-e940-0e4f698aa854",
        "colab": {
          "base_uri": "https://localhost:8080/",
          "height": 265
        }
      },
      "source": [
        "X = np.linspace(start=-5, stop=5, num=100)\n",
        "y = X ** 2\n",
        "\n",
        "plt.plot(X, y, '-')\n",
        "plt.grid()"
      ],
      "execution_count": null,
      "outputs": [
        {
          "output_type": "display_data",
          "data": {
            "image/png": "[encoded data removed]",
            "text/plain": [
              "<Figure size 432x288 with 1 Axes>"
            ]
          },
          "metadata": {
            "tags": [],
            "needs_background": "light"
          }
        }
      ]
    },
    {
      "cell_type": "markdown",
      "metadata": {
        "id": "abVC8aAMM2rB"
      },
      "source": [
        "## 기울기"
      ]
    },
    {
      "cell_type": "code",
      "metadata": {
        "id": "pFWiKTO2M7Rt",
        "outputId": "2d76f0ea-82ac-4672-8f12-31b557eb7e43",
        "colab": {
          "base_uri": "https://localhost:8080/",
          "height": 265
        }
      },
      "source": [
        "# 기울기: (y의 증가분) / (x의 증가분)\n",
        "pt1 = [1, 1]\n",
        "pt2 = [3, 5]\n",
        "\n",
        "plt.scatter([pt1[0], pt2[0]], [pt1[1], pt2[1]])\n",
        "plt.grid()"
      ],
      "execution_count": null,
      "outputs": [
        {
          "output_type": "display_data",
          "data": {
            "image/png": "[encoded data removed]",
            "text/plain": [
              "<Figure size 432x288 with 1 Axes>"
            ]
          },
          "metadata": {
            "tags": [],
            "needs_background": "light"
          }
        }
      ]
    },
    {
      "cell_type": "code",
      "metadata": {
        "id": "V-HAcoJ1Nmxf",
        "outputId": "84b0a146-5122-4cd3-f57f-85ddc4c2340d",
        "colab": {
          "base_uri": "https://localhost:8080/",
          "height": 35
        }
      },
      "source": [
        "delta_y = pt2[1] - pt1[1]  # y 증가(감소)분\n",
        "delta_x = pt2[0] - pt1[0]  # x 증가(감소)분\n",
        "slope = delta_y  / delta_x\n",
        "slope"
      ],
      "execution_count": null,
      "outputs": [
        {
          "output_type": "execute_result",
          "data": {
            "text/plain": [
              "2.0"
            ]
          },
          "metadata": {
            "tags": []
          },
          "execution_count": 18
        }
      ]
    },
    {
      "cell_type": "code",
      "metadata": {
        "id": "H6uP3-m9PKnu"
      },
      "source": [
        "def gradient(fn, x, h=0.001):\n",
        "    return (fn(x + h) - fn(x)) / h"
      ],
      "execution_count": null,
      "outputs": []
    },
    {
      "cell_type": "code",
      "metadata": {
        "id": "vxKz6wGERM0f"
      },
      "source": [
        "def square(x):\n",
        "    return x**2"
      ],
      "execution_count": null,
      "outputs": []
    },
    {
      "cell_type": "code",
      "metadata": {
        "id": "HxOzRBtRPhyT",
        "outputId": "dd3b575b-25e5-4a7b-876b-28e7f9abe6c6",
        "colab": {
          "base_uri": "https://localhost:8080/",
          "height": 35
        }
      },
      "source": [
        "# y = x**2 그래프에서 x=4에서의 접선의 기울기(gradient)\n",
        "gradient(fn=square, x=4)"
      ],
      "execution_count": null,
      "outputs": [
        {
          "output_type": "execute_result",
          "data": {
            "text/plain": [
              "8.0010000000037"
            ]
          },
          "metadata": {
            "tags": []
          },
          "execution_count": 22
        }
      ]
    },
    {
      "cell_type": "code",
      "metadata": {
        "id": "5-KEkU8xR-RR",
        "outputId": "2a0aa799-6fd6-4fae-ecd8-21fbe212e6ca",
        "colab": {
          "base_uri": "https://localhost:8080/",
          "height": 35
        }
      },
      "source": [
        "gradient(fn=square, x=2), gradient(fn=square, x=0)"
      ],
      "execution_count": null,
      "outputs": [
        {
          "output_type": "execute_result",
          "data": {
            "text/plain": [
              "(4.000999999999699, 0.001)"
            ]
          },
          "metadata": {
            "tags": []
          },
          "execution_count": 23
        }
      ]
    },
    {
      "cell_type": "code",
      "metadata": {
        "id": "WuDhKaiqST8m",
        "outputId": "f9eb9fb7-41fd-41d3-ede1-6214c086d502",
        "colab": {
          "base_uri": "https://localhost:8080/",
          "height": 35
        }
      },
      "source": [
        "gradient(fn=square, x=-2)"
      ],
      "execution_count": null,
      "outputs": [
        {
          "output_type": "execute_result",
          "data": {
            "text/plain": [
              "-3.9989999999994197"
            ]
          },
          "metadata": {
            "tags": []
          },
          "execution_count": 24
        }
      ]
    },
    {
      "cell_type": "markdown",
      "metadata": {
        "id": "_SYdtSVyUje9"
      },
      "source": [
        "## 경사 하강법\n",
        "1. 임의의 점(`x_init`)을 선택\n",
        "2. 그 점에서의 grdient(기울기)를 계산\n",
        "3. 선택한 임의의 점을 이동: `x_new = x_init - eta * gradient`\n",
        "4. 2 ~ 3의 과정을 반복.\n",
        "* eta: 양수(eta > 0). 학습률(learning rate). eta가 크면 최솟값으로 빨리 수렴, 작으면 느리게 수렴."
      ]
    },
    {
      "cell_type": "code",
      "metadata": {
        "id": "FBJJOqbfV6iS"
      },
      "source": [
        "def plot_function(fn):\n",
        "    X = np.linspace(start=-5, stop=5, num=100)\n",
        "    y = fn(X)\n",
        "    plt.plot(X, y, '-')"
      ],
      "execution_count": null,
      "outputs": []
    },
    {
      "cell_type": "code",
      "metadata": {
        "id": "LPA0FAWrWT8x"
      },
      "source": [
        " def plot_gradient_descent(fn, x_init, n_iterations=5, eta=0.1):\n",
        "    plot_function(fn)  # y = x ** 2\n",
        "\n",
        "    # x_init = -4\n",
        "    y_init = fn(x_init)\n",
        "    plt.scatter(x_init, y_init, label='0', color='red')\n",
        "\n",
        "    # eta = 0.1\n",
        "    for epoch in range(n_iterations):\n",
        "        x_new = x_init - eta * gradient(fn, x=x_init)\n",
        "        y_new = fn(x_new)\n",
        "        plt.scatter(x_new, y_new, label=f'{epoch+1}')\n",
        "        x_init = x_new\n",
        "\n",
        "    plt.grid()\n",
        "    plt.legend()"
      ],
      "execution_count": null,
      "outputs": []
    },
    {
      "cell_type": "code",
      "metadata": {
        "id": "OqKMZRKtdnvm",
        "outputId": "89d9bb60-9abf-4f40-e0ce-0dbbf3700342",
        "colab": {
          "base_uri": "https://localhost:8080/",
          "height": 265
        }
      },
      "source": [
        "plot_gradient_descent(fn=square, x_init=-4, n_iterations=10)"
      ],
      "execution_count": null,
      "outputs": [
        {
          "output_type": "display_data",
          "data": {
            "image/png": "[encoded data removed]",
            "text/plain": [
              "<Figure size 432x288 with 1 Axes>"
            ]
          },
          "metadata": {
            "tags": [],
            "needs_background": "light"
          }
        }
      ]
    },
    {
      "cell_type": "code",
      "metadata": {
        "id": "9nEFPXc0d-61",
        "outputId": "043962f9-c9b3-4396-fa5d-1c5651486af4",
        "colab": {
          "base_uri": "https://localhost:8080/",
          "height": 265
        }
      },
      "source": [
        "plot_gradient_descent(fn=square, x_init=4, n_iterations=10)"
      ],
      "execution_count": null,
      "outputs": [
        {
          "output_type": "display_data",
          "data": {
            "image/png": "[encoded data removed]",
            "text/plain": [
              "<Figure size 432x288 with 1 Axes>"
            ]
          },
          "metadata": {
            "tags": [],
            "needs_background": "light"
          }
        }
      ]
    },
    {
      "cell_type": "code",
      "metadata": {
        "id": "ttx8VK8KeJgZ",
        "outputId": "ec97da3f-b61c-47ab-9bdf-7caf738069f4",
        "colab": {
          "base_uri": "https://localhost:8080/",
          "height": 265
        }
      },
      "source": [
        "plot_gradient_descent(fn=square, x_init=-4, n_iterations=5, eta=1.1)"
      ],
      "execution_count": null,
      "outputs": [
        {
          "output_type": "display_data",
          "data": {
            "image/png": "[encoded data removed]",
            "text/plain": [
              "<Figure size 432x288 with 1 Axes>"
            ]
          },
          "metadata": {
            "tags": [],
            "needs_background": "light"
          }
        }
      ]
    },
    {
      "cell_type": "markdown",
      "metadata": {
        "id": "ddyniaS2gCrc"
      },
      "source": [
        "# 경사하강법을 사용한 선형 회귀 방정식의 절편, 기울기 찾기: \n",
        "* 선형 회귀 방정식: `y = b0 + b1 * x`\n",
        "* 절편(intercept, bias 편향): `b0`\n",
        "* 기울기(coefficient): `b1`"
      ]
    },
    {
      "cell_type": "code",
      "metadata": {
        "id": "6qW4lW67f_ZW"
      },
      "source": [
        " np.random.seed(1)\n",
        "\n",
        " X = np.arange(0, 3).reshape((3, 1))\n",
        " y = 4 + 3 * X + np.random.randn(3, 1)"
      ],
      "execution_count": null,
      "outputs": []
    },
    {
      "cell_type": "code",
      "metadata": {
        "id": "9AhmXfyBhOjl",
        "outputId": "08ac057a-867b-4d88-875b-613638e914a4",
        "colab": {
          "base_uri": "https://localhost:8080/",
          "height": 69
        }
      },
      "source": [
        "X"
      ],
      "execution_count": null,
      "outputs": [
        {
          "output_type": "execute_result",
          "data": {
            "text/plain": [
              "array([[0],\n",
              "       [1],\n",
              "       [2]])"
            ]
          },
          "metadata": {
            "tags": []
          },
          "execution_count": 47
        }
      ]
    },
    {
      "cell_type": "code",
      "metadata": {
        "id": "1JTLJ7SohPMB",
        "outputId": "88141237-888c-40d1-ccbe-751041960ef6",
        "colab": {
          "base_uri": "https://localhost:8080/",
          "height": 69
        }
      },
      "source": [
        "y"
      ],
      "execution_count": null,
      "outputs": [
        {
          "output_type": "execute_result",
          "data": {
            "text/plain": [
              "array([[5.62434536],\n",
              "       [6.38824359],\n",
              "       [9.47182825]])"
            ]
          },
          "metadata": {
            "tags": []
          },
          "execution_count": 48
        }
      ]
    },
    {
      "cell_type": "code",
      "metadata": {
        "id": "lxHJgHKaqNNJ",
        "outputId": "9a84bf31-1c77-4d51-89f4-07894e19596e",
        "colab": {
          "base_uri": "https://localhost:8080/",
          "height": 265
        }
      },
      "source": [
        "plt.scatter(X, y)\n",
        "plt.grid()"
      ],
      "execution_count": null,
      "outputs": [
        {
          "output_type": "display_data",
          "data": {
            "image/png": "[encoded data removed]",
            "text/plain": [
              "<Figure size 432x288 with 1 Axes>"
            ]
          },
          "metadata": {
            "tags": [],
            "needs_background": "light"
          }
        }
      ]
    },
    {
      "cell_type": "code",
      "metadata": {
        "id": "lYU2n7KyhQ3f",
        "outputId": "c54bf283-f2e2-4c1d-b0ad-dbbcfec08d97",
        "colab": {
          "base_uri": "https://localhost:8080/",
          "height": 69
        }
      },
      "source": [
        "X_b = np.c_[np.ones(shape=(3, 1)), X]\n",
        "X_b"
      ],
      "execution_count": null,
      "outputs": [
        {
          "output_type": "execute_result",
          "data": {
            "text/plain": [
              "array([[1., 0.],\n",
              "       [1., 1.],\n",
              "       [1., 2.]])"
            ]
          },
          "metadata": {
            "tags": []
          },
          "execution_count": 49
        }
      ]
    },
    {
      "cell_type": "code",
      "metadata": {
        "id": "xc7n8FNOqjP9",
        "outputId": "3ae5c73b-9378-466d-8b52-0fff1a6a3441",
        "colab": {
          "base_uri": "https://localhost:8080/",
          "height": 87
        }
      },
      "source": [
        "eta = 0.1  # 학습률(learning rate)\n",
        "m = 3  # 샘플 개수\n",
        "n_iterations = 1000  # 반복 횟수\n",
        "\n",
        "np.random.seed(1)\n",
        "theta = np.random.randn(2, 1)  # [[b0], [b1]] 초깃값 - 난수 사용\n",
        "print(theta)\n",
        "\n",
        "for epoch in range(n_iterations):\n",
        "    gradient = (2/m) * X_b.T @ (X_b @ theta - y)\n",
        "    theta = theta - eta * gradient\n",
        "\n",
        "print(theta)"
      ],
      "execution_count": null,
      "outputs": [
        {
          "output_type": "stream",
          "text": [
            "[[ 1.62434536]\n",
            " [-0.61175641]]\n",
            "[[5.23773096]\n",
            " [1.92374144]]\n"
          ],
          "name": "stdout"
        }
      ]
    },
    {
      "cell_type": "code",
      "metadata": {
        "id": "QcT6ZsbaytWY",
        "outputId": "0bf07807-5c99-4eb7-c00d-531abcfdda1e",
        "colab": {
          "base_uri": "https://localhost:8080/",
          "height": 265
        }
      },
      "source": [
        "y_pred = X_b @ theta\n",
        "\n",
        "plt.scatter(X, y)\n",
        "plt.plot(X, y_pred, 'r-')\n",
        "plt.grid()"
      ],
      "execution_count": null,
      "outputs": [
        {
          "output_type": "display_data",
          "data": {
            "image/png": "[encoded data removed]",
            "text/plain": [
              "<Figure size 432x288 with 1 Axes>"
            ]
          },
          "metadata": {
            "tags": [],
            "needs_background": "light"
          }
        }
      ]
    },
    {
      "cell_type": "code",
      "metadata": {
        "id": "eCPOrwLtvx2A"
      },
      "source": [
        "from sklearn.linear_model import SGDRegressor"
      ],
      "execution_count": 2,
      "outputs": []
    },
    {
      "cell_type": "code",
      "metadata": {
        "id": "ZxD8wfamv49T",
        "outputId": "84c9efe3-a791-428f-a293-31fc348a0649",
        "colab": {
          "base_uri": "https://localhost:8080/",
          "height": 121
        }
      },
      "source": [
        "sgd_reg = SGDRegressor(eta0=0.1)\n",
        "sgd_reg.fit(X, y.ravel())\n",
        "# fit: MSE를 최소화하는 절편 b0와 계수 b1을 찾음."
      ],
      "execution_count": null,
      "outputs": [
        {
          "output_type": "execute_result",
          "data": {
            "text/plain": [
              "SGDRegressor(alpha=0.0001, average=False, early_stopping=False, epsilon=0.1,\n",
              "             eta0=0.1, fit_intercept=True, l1_ratio=0.15,\n",
              "             learning_rate='invscaling', loss='squared_loss', max_iter=1000,\n",
              "             n_iter_no_change=5, penalty='l2', power_t=0.25, random_state=None,\n",
              "             shuffle=True, tol=0.001, validation_fraction=0.1, verbose=0,\n",
              "             warm_start=False)"
            ]
          },
          "metadata": {
            "tags": []
          },
          "execution_count": 61
        }
      ]
    },
    {
      "cell_type": "code",
      "metadata": {
        "id": "7z6OWPm4wi5W",
        "outputId": "1c8eeef3-b115-4be1-ad3c-080a385aae48",
        "colab": {
          "base_uri": "https://localhost:8080/",
          "height": 35
        }
      },
      "source": [
        "sgd_reg.intercept_, sgd_reg.coef_\n",
        "# predict: y = intercept_ + coef_ * x"
      ],
      "execution_count": null,
      "outputs": [
        {
          "output_type": "execute_result",
          "data": {
            "text/plain": [
              "(array([4.94745821]), array([2.1425144]))"
            ]
          },
          "metadata": {
            "tags": []
          },
          "execution_count": 62
        }
      ]
    },
    {
      "cell_type": "markdown",
      "metadata": {
        "id": "TGQzq63_3_am"
      },
      "source": [
        "## 확률적 경사 하강법(Stochastic Gradient Descent)"
      ]
    },
    {
      "cell_type": "code",
      "metadata": {
        "id": "wHA-XHNP4Xt6",
        "outputId": "a79326a2-df87-450f-ba4b-375b09453d63",
        "colab": {
          "base_uri": "https://localhost:8080/",
          "height": 35
        }
      },
      "source": [
        "np.random.seed(1)\n",
        "\n",
        "m = 100  # 샘플 개수\n",
        "X = 2 * np.random.rand(m, 1)  # (m, 1) shape의 2d array\n",
        "y = 4 + 3 * X + np.random.randn(m, 1)\n",
        "\n",
        "X.shape, y.shape"
      ],
      "execution_count": null,
      "outputs": [
        {
          "output_type": "execute_result",
          "data": {
            "text/plain": [
              "((100, 1), (100, 1))"
            ]
          },
          "metadata": {
            "tags": []
          },
          "execution_count": 63
        }
      ]
    },
    {
      "cell_type": "code",
      "metadata": {
        "id": "zqYBoMvB5l0F",
        "outputId": "b9046d01-190a-4f22-8aa1-02e654f4ef91",
        "colab": {
          "base_uri": "https://localhost:8080/",
          "height": 265
        }
      },
      "source": [
        "plt.scatter(X, y)\n",
        "plt.grid()"
      ],
      "execution_count": null,
      "outputs": [
        {
          "output_type": "display_data",
          "data": {
            "image/png": "[encoded data removed]",
            "text/plain": [
              "<Figure size 432x288 with 1 Axes>"
            ]
          },
          "metadata": {
            "tags": [],
            "needs_background": "light"
          }
        }
      ]
    },
    {
      "cell_type": "code",
      "metadata": {
        "id": "DYdRzYuz53Di",
        "outputId": "8b27039e-a09b-4372-8160-826fc9063dc2",
        "colab": {
          "base_uri": "https://localhost:8080/",
          "height": 87
        }
      },
      "source": [
        "X_b = np.c_[np.ones(shape=(m, 1)), X]  # bias가 추가된 샘플 행렬\n",
        "theta = np.random.randn(2, 1)  # 선형 회귀 방정식의 계수들 초깃값 - 난수 사용.\n",
        "print(theta)\n",
        "\n",
        "eta = 0.01  # 학습률\n",
        "n_iterations = 50  # 전체 반복 횟수(모든 샘플에서 gradient가 갱신되는 횟수)\n",
        "for epoch in range(n_iterations):\n",
        "    for i in range(m):  # 샘플 개수만큼 반복\n",
        "        random_index = np.random.randint(m)  # 0 ~ m 사이의 정수 중 난수 선택.\n",
        "        xi = X_b[random_index:random_index + 1]  # [[1, x]]: gradient를 계산할 샘플 1개\n",
        "        yi = y[random_index:random_index + 1]  #[[y]]: random_index에 있는 레이블\n",
        "        gradient = 2 * xi.T @ (xi @ theta - yi)  # gradient 계산\n",
        "        theta = theta - eta * gradient  # theta 업데이트\n",
        "\n",
        "print(theta)"
      ],
      "execution_count": null,
      "outputs": [
        {
          "output_type": "stream",
          "text": [
            "[[-1.65460759]\n",
            " [-0.37478046]]\n",
            "[[4.25047888]\n",
            " [2.84807561]]\n"
          ],
          "name": "stdout"
        }
      ]
    },
    {
      "cell_type": "code",
      "metadata": {
        "id": "kLxeG--P-h_D",
        "outputId": "76380bef-7885-4b09-f0a2-4f326003fe0e",
        "colab": {
          "base_uri": "https://localhost:8080/",
          "height": 52
        }
      },
      "source": [
        "X_new = np.array([[1, 0],\n",
        "                  [1, 2]])\n",
        "y_pred = X_new @ theta\n",
        "y_pred"
      ],
      "execution_count": null,
      "outputs": [
        {
          "output_type": "execute_result",
          "data": {
            "text/plain": [
              "array([[4.25047888],\n",
              "       [9.94663009]])"
            ]
          },
          "metadata": {
            "tags": []
          },
          "execution_count": 71
        }
      ]
    },
    {
      "cell_type": "code",
      "metadata": {
        "id": "v8c7zs3Y-7Q1",
        "outputId": "0c5b2c92-97b8-42d0-c30e-7311dcdbb1d4",
        "colab": {
          "base_uri": "https://localhost:8080/",
          "height": 265
        }
      },
      "source": [
        "plt.scatter(X, y)\n",
        "plt.plot([[0], [2]], y_pred, 'r-')\n",
        "plt.grid()"
      ],
      "execution_count": null,
      "outputs": [
        {
          "output_type": "display_data",
          "data": {
            "image/png": "[encoded data removed]",
            "text/plain": [
              "<Figure size 432x288 with 1 Axes>"
            ]
          },
          "metadata": {
            "tags": [],
            "needs_background": "light"
          }
        }
      ]
    },
    {
      "cell_type": "code",
      "metadata": {
        "id": "Lfa-_KUdAhLi",
        "outputId": "29438aff-2a5c-4ced-d862-1581d155af65",
        "colab": {
          "base_uri": "https://localhost:8080/",
          "height": 35
        }
      },
      "source": [
        "sgd_reg = SGDRegressor(eta0=0.01, max_iter=50)\n",
        "sgd_reg.fit(X, y.ravel())\n",
        "sgd_reg.intercept_, sgd_reg.coef_"
      ],
      "execution_count": null,
      "outputs": [
        {
          "output_type": "execute_result",
          "data": {
            "text/plain": [
              "(array([3.88008852]), array([3.15152992]))"
            ]
          },
          "metadata": {
            "tags": []
          },
          "execution_count": 75
        }
      ]
    },
    {
      "cell_type": "code",
      "metadata": {
        "id": "-mDa_v_5i7ja",
        "outputId": "57108ed4-cc70-4e83-efbf-4298b35fdfd9",
        "colab": {
          "base_uri": "https://localhost:8080/",
          "height": 38
        }
      },
      "source": [
        "# GD를 테스트하기 위한 가상의 데이터\n",
        "np.random.seed(1)\n",
        "\n",
        "m = 100  # 샘플 개수\n",
        "X = 2 * np.random.rand(m, 1)  # (m, 1) shape의 2d array\n",
        "y = 4 + 3 * X + np.random.randn(m, 1)\n",
        "\n",
        "X.shape, y.shape"
      ],
      "execution_count": 3,
      "outputs": [
        {
          "output_type": "execute_result",
          "data": {
            "text/plain": [
              "((100, 1), (100, 1))"
            ]
          },
          "metadata": {
            "tags": []
          },
          "execution_count": 3
        }
      ]
    },
    {
      "cell_type": "code",
      "metadata": {
        "id": "UCLrKDfPikYJ"
      },
      "source": [
        "# 함수 정의: batch, stochastic, mini-batch GD\n",
        "# y = b0 + b1 * x1 + b2 * x2 + b3 * x3 + ... \n",
        "# 선형회귀 방정식으로 예측한 값들의 MSE가 최소가 되는 (b0, b1, b2, b3, ...)을 찾는 게 목적.\n",
        "def gradinet_descent(X, y,\n",
        "                     max_iterations=1_000,\n",
        "                     minibatch_size=20,\n",
        "                     eta0=0.01,\n",
        "                     random_state=1):\n",
        "    \"\"\"X: sample 데이터, y: 레이블,\n",
        "    max_iterations: 에포크(epoch) 횟수,\n",
        "    minibatch_size: 미니 배치 크기(minibatch_size=1: stochastic GD, minibatch_size=샘플개수: batch GD),\n",
        "    eta0: 학습률(learning rate) 초깃값,\n",
        "    \"\"\"\n",
        "    m, n = X.shape  # m: 샘플 개수, n: 샘플의 특성들의 개수\n",
        "    X_b = np.c_[np.ones(shape=(m, 1)), X]  # 모든 값이 1인 열벡터를 합침 ==> X_b @ theta\n",
        "    theta_paths = []  # theta들이 수렴해 나가는 것을 확인하기 위해서, 중간 과정을 저장.\n",
        "\n",
        "    np.random.seed(random_state)  # 난수 seed 설정.\n",
        "    theta = np.random.randn(n+1, 1)  # 랜덤 초기화\n",
        "    theta_paths.append(theta)  # 리스트에 theta 초깃값 저장.\n",
        "\n",
        "    for epoch in range(max_iterations):\n",
        "        # 훈련 셋을 임의의 섞음. 훈련 셋이 섞인 순서대로 레이블로 섞음.\n",
        "        shuffled_indices = np.random.permutation(m)  # 0 ~ m(샘플 개수) 사이의 정수를 임의로 섞음.\n",
        "        X_b_shuffled = X_b[shuffled_indices]\n",
        "        y_shuffled = y[shuffled_indices]\n",
        "        for i in range(0, m, minibatch_size):  # m: 샘플 개수\n",
        "            # 미니 배치 샘플/레이블 선택\n",
        "            xi = X_b_shuffled[i:(i + minibatch_size)]\n",
        "            yi = y_shuffled[i:(i + minibatch_size)]\n",
        "            # 미니 배치에서 gradient 계산\n",
        "            gradient = (2/minibatch_size) * xi.T @ (xi @ theta - yi)\n",
        "            # 계산된 gradient로 theta를 업그레이드(갱신)\n",
        "            theta = theta - eta0 * gradient\n",
        "            # 갱신된 theta를 저장\n",
        "            theta_paths.append(theta)\n",
        "\n",
        "    return np.array(theta_paths)"
      ],
      "execution_count": 6,
      "outputs": []
    },
    {
      "cell_type": "code",
      "metadata": {
        "id": "SXchfz0tvtnE",
        "outputId": "4155c64f-3f67-4df5-ef1f-97d20703d274",
        "colab": {
          "base_uri": "https://localhost:8080/",
          "height": 59
        }
      },
      "source": [
        "# batch GD\n",
        "thetas_batch = gradinet_descent(X, y, minibatch_size=m, eta0=0.1)  # m = 100\n",
        "# theta 최적값\n",
        "thetas_batch[-1]"
      ],
      "execution_count": 18,
      "outputs": [
        {
          "output_type": "execute_result",
          "data": {
            "text/plain": [
              "array([[4.23695725],\n",
              "       [2.84246254]])"
            ]
          },
          "metadata": {
            "tags": []
          },
          "execution_count": 18
        }
      ]
    },
    {
      "cell_type": "code",
      "metadata": {
        "id": "7If2E4qVw2Ti",
        "outputId": "7fb1a0c7-def3-49e2-b11f-f21d246c5e35",
        "colab": {
          "base_uri": "https://localhost:8080/",
          "height": 59
        }
      },
      "source": [
        "# stochastic GD\n",
        "thetas_stochastic = gradinet_descent(X, y, minibatch_size=1, eta0=0.1)\n",
        "thetas_stochastic[-1]"
      ],
      "execution_count": 19,
      "outputs": [
        {
          "output_type": "execute_result",
          "data": {
            "text/plain": [
              "array([[4.37511229],\n",
              "       [2.93391621]])"
            ]
          },
          "metadata": {
            "tags": []
          },
          "execution_count": 19
        }
      ]
    },
    {
      "cell_type": "code",
      "metadata": {
        "id": "WB8wsKyBwIEE",
        "outputId": "f53e114a-a22d-4be6-86f4-504c426231ae",
        "colab": {
          "base_uri": "https://localhost:8080/",
          "height": 59
        }
      },
      "source": [
        "# mini-batch GD\n",
        "thetas_minibatch = gradinet_descent(X, y, minibatch_size=20, eta0=0.1)\n",
        "thetas_minibatch[-1]"
      ],
      "execution_count": 20,
      "outputs": [
        {
          "output_type": "execute_result",
          "data": {
            "text/plain": [
              "array([[4.22266408],\n",
              "       [2.82749625]])"
            ]
          },
          "metadata": {
            "tags": []
          },
          "execution_count": 20
        }
      ]
    },
    {
      "cell_type": "code",
      "metadata": {
        "id": "oQYaNhq9xNHr",
        "outputId": "a5bcb606-33f0-477c-bcf2-d24350908ce0",
        "colab": {
          "base_uri": "https://localhost:8080/",
          "height": 279
        }
      },
      "source": [
        "plt.plot(thetas_stochastic[:, 0], thetas_stochastic[:, 1], 'r-', label='Stochastic GD')\n",
        "plt.plot(thetas_minibatch[:, 0], thetas_minibatch[:, 1], 'g-', label='Mini-Batch GD')\n",
        "plt.plot(thetas_batch[:, 0], thetas_batch[:, 1], 'bo-', label='Batch GD')\n",
        "plt.legend()\n",
        "plt.xlabel('b0')\n",
        "plt.ylabel('b1')\n",
        "plt.axis(xmin=2.5, ymin=2.5)\n",
        "plt.show()"
      ],
      "execution_count": 28,
      "outputs": [
        {
          "output_type": "display_data",
          "data": {
            "image/png": "[encoded data removed]",
            "text/plain": [
              "<Figure size 432x288 with 1 Axes>"
            ]
          },
          "metadata": {
            "tags": [],
            "needs_background": "light"
          }
        }
      ]
    },
    {
      "cell_type": "markdown",
      "metadata": {
        "id": "ryLTSWkG8dMP"
      },
      "source": [
        "## 다항 회귀(Polynomial Regression)"
      ]
    },
    {
      "cell_type": "code",
      "metadata": {
        "id": "8_1A3zMb06d8",
        "outputId": "00fc0b4a-eeac-4627-b8e0-ad5c83ca037c",
        "colab": {
          "base_uri": "https://localhost:8080/",
          "height": 267
        }
      },
      "source": [
        "np.random.seed(1)\n",
        "\n",
        "m = 100\n",
        "X = 6 * np.random.rand(m, 1) - 3  # -3 <= X < 3인 난수 (100, 1) shape\n",
        "y = 0.5 * X**2 + X + 2 + np.random.randn(m, 1)\n",
        "\n",
        "plt.scatter(X, y)\n",
        "plt.grid()"
      ],
      "execution_count": 31,
      "outputs": [
        {
          "output_type": "display_data",
          "data": {
            "image/png": "[encoded data removed]",
            "text/plain": [
              "<Figure size 432x288 with 1 Axes>"
            ]
          },
          "metadata": {
            "tags": [],
            "needs_background": "light"
          }
        }
      ]
    },
    {
      "cell_type": "code",
      "metadata": {
        "id": "hHtRHCT29y44",
        "outputId": "0da98936-b047-4559-b580-8846c5606560",
        "colab": {
          "base_uri": "https://localhost:8080/",
          "height": 121
        }
      },
      "source": [
        "# 2차항 특성(feature)를 추가\n",
        "X_poly = np.c_[X, X**2]\n",
        "X_poly[:5]"
      ],
      "execution_count": 33,
      "outputs": [
        {
          "output_type": "execute_result",
          "data": {
            "text/plain": [
              "array([[-0.49786797,  0.24787252],\n",
              "       [ 1.32194696,  1.74754377],\n",
              "       [-2.99931375,  8.99588298],\n",
              "       [-1.18600456,  1.40660683],\n",
              "       [-2.11946466,  4.49213042]])"
            ]
          },
          "metadata": {
            "tags": []
          },
          "execution_count": 33
        }
      ]
    },
    {
      "cell_type": "code",
      "metadata": {
        "id": "3aJucXpd-x9T",
        "outputId": "0cddb764-1f1a-44ee-8ee8-7ccd892cb11b",
        "colab": {
          "base_uri": "https://localhost:8080/",
          "height": 121
        }
      },
      "source": [
        "# scikit-learn을 사용한 2차항 특성 추가\n",
        "from sklearn.preprocessing import PolynomialFeatures\n",
        "poly_features = PolynomialFeatures(degree=2, include_bias=False)\n",
        "X_poly = poly_features.fit_transform(X)\n",
        "X_poly[:5]"
      ],
      "execution_count": 36,
      "outputs": [
        {
          "output_type": "execute_result",
          "data": {
            "text/plain": [
              "array([[-0.49786797,  0.24787252],\n",
              "       [ 1.32194696,  1.74754377],\n",
              "       [-2.99931375,  8.99588298],\n",
              "       [-1.18600456,  1.40660683],\n",
              "       [-2.11946466,  4.49213042]])"
            ]
          },
          "metadata": {
            "tags": []
          },
          "execution_count": 36
        }
      ]
    },
    {
      "cell_type": "code",
      "metadata": {
        "id": "p5lUt9Ud_4OU",
        "outputId": "dcba44cd-3086-45cd-8eaa-43328ce28af2",
        "colab": {
          "base_uri": "https://localhost:8080/",
          "height": 38
        }
      },
      "source": [
        "# SGD\n",
        "from sklearn.linear_model import SGDRegressor\n",
        "\n",
        "sgd_reg = SGDRegressor()  # 모델 생성\n",
        "sgd_reg.fit(X_poly, y.ravel())  # 모델 훈련: 선형 회귀 모델의 계수들(b0, b1, b2)을 찾음.\n",
        "# y_prediction = b0 + b1 * x + b2 * x**2\n",
        "sgd_reg.intercept_, sgd_reg.coef_"
      ],
      "execution_count": 39,
      "outputs": [
        {
          "output_type": "execute_result",
          "data": {
            "text/plain": [
              "(array([1.84084264]), array([0.9546461 , 0.54916125]))"
            ]
          },
          "metadata": {
            "tags": []
          },
          "execution_count": 39
        }
      ]
    },
    {
      "cell_type": "code",
      "metadata": {
        "id": "cJXvynk9A4iG",
        "outputId": "3c00da25-994c-4dd6-f489-9fa1e1f14a2f",
        "colab": {
          "base_uri": "https://localhost:8080/",
          "height": 266
        }
      },
      "source": [
        "X_new = np.linspace(start=-3, stop=3, num=100).reshape(100, 1)  # 컬럼 벡터\n",
        "X_new_poly = poly_features.transform(X_new)\n",
        "y_new = sgd_reg.predict(X_new_poly)\n",
        "plt.plot(X_new, y_new, 'r-')\n",
        "\n",
        "plt.scatter(X, y)\n",
        "\n",
        "plt.grid()"
      ],
      "execution_count": 43,
      "outputs": [
        {
          "output_type": "display_data",
          "data": {
            "image/png": "[encoded data removed]",
            "text/plain": [
              "<Figure size 432x288 with 1 Axes>"
            ]
          },
          "metadata": {
            "tags": [],
            "needs_background": "light"
          }
        }
      ]
    },
    {
      "cell_type": "code",
      "metadata": {
        "id": "bd5xKkh9X-KJ"
      },
      "source": [
        "from sklearn.pipeline import Pipeline\n",
        "from sklearn.preprocessing import StandardScaler\n",
        "from sklearn.linear_model import LinearRegression"
      ],
      "execution_count": 54,
      "outputs": []
    },
    {
      "cell_type": "code",
      "metadata": {
        "id": "jA-6_LZwW4Qw",
        "outputId": "ac512e48-14e4-4d47-c1bb-8f8d209b4830",
        "colab": {
          "base_uri": "https://localhost:8080/",
          "height": 290
        }
      },
      "source": [
        "# 선형 회귀, 2차 다항 회귀, 100차 다항 회귀 결과 비교\n",
        "plt.scatter(X, y)\n",
        "\n",
        "for degree in [1, 2, 100]:  # degree=1: 선형 회귀.\n",
        "    # 1) 다차항 파생 변수 추가\n",
        "    poly_feature = PolynomialFeatures(degree, include_bias=False)\n",
        "    # 2) 파생 변수들을 포함한 모든 특성들을 같은 스케일로 변환\n",
        "    std_scaler = StandardScaler()  # 다항 회귀에서 차수가 커질수록 특성 스케일링을 하는 게 좋음.\n",
        "    # 3) 선형 회귀 또는 SGD 학습\n",
        "    sgd_reg = LinearRegression()\n",
        "    # 모델 생성\n",
        "    pipe = Pipeline(steps=[\n",
        "                           ('poly_feature', poly_feature),\n",
        "                           ('scaler', std_scaler),\n",
        "                           ('model', sgd_reg)\n",
        "    ])\n",
        "    # 모델 훈련\n",
        "    pipe.fit(X, y)\n",
        "    # 훈련된 모델로 테스트 세을 예측\n",
        "    y_new = pipe.predict(X_new)\n",
        "    plt.plot(X_new, y_new, label=f'degree={degree}')\n",
        "\n",
        "plt.legend()\n",
        "plt.grid()\n",
        "plt.axis(ymin=-1, ymax=10)\n",
        "\n",
        "# 훈련 셋(X)의 많은 점들은 100차 다항 회귀 곡선 위에 놓여 있음.\n",
        "# -> 100차 다항 회귀 곡선은 훈련 셋을 잘 설명함.\n",
        "# -> 훈련되지 않은 테스트 셋(X_new)의 예측값은 오차가 매우 클 수 있음.\n",
        "# -> Overfitting(과적합, 과대적합)"
      ],
      "execution_count": 55,
      "outputs": [
        {
          "output_type": "execute_result",
          "data": {
            "text/plain": [
              "(-3.3, 3.3, -1.0, 10.0)"
            ]
          },
          "metadata": {
            "tags": []
          },
          "execution_count": 55
        },
        {
          "output_type": "display_data",
          "data": {
            "image/png": "[encoded data removed]",
            "text/plain": [
              "<Figure size 432x288 with 1 Axes>"
            ]
          },
          "metadata": {
            "tags": [],
            "needs_background": "light"
          }
        }
      ]
    },
    {
      "cell_type": "markdown",
      "metadata": {
        "id": "Daap38JimVeY"
      },
      "source": [
        "규제(Regulariztion), 페널티(Penalty):\n",
        "* 모델을 훈련시킬 때, 비용 함수(cost function)/손실 함수(loss function)에 항을 추가해서 일부러 에러를 키우는 방법.\n",
        "* 훈련 셋에 대해서는 에러가 커지기 때문에 과적합(overfitting)을 줄일 수 있음.\n",
        "* Ridge 규제(l2 페널티): `비용함수 = MSE + alpha * l2-norm`\n",
        "* l2 페널티의 크기가 커지면 모든 계수들(b1, b2, ...)을 0에 가깝게 만드는 효과가 있음.\n",
        "* Lasso 규제(l1 페널티): `비용함수 = MSE + alpha * l1-norm`\n",
        "* l1 페널티의 크기가 커지면 중요하지 않은 계수들만 0에 가깝게 만드는 효과가 있음.\n",
        "* Elastic Net: `Ridge(l2) + Lasso(l1)`"
      ]
    },
    {
      "cell_type": "code",
      "metadata": {
        "id": "-TzPC4xmo3Ol"
      },
      "source": [
        "from sklearn.linear_model import Ridge, Lasso, LinearRegression, SGDRegressor"
      ],
      "execution_count": 56,
      "outputs": []
    },
    {
      "cell_type": "code",
      "metadata": {
        "id": "BanB02Yspokd",
        "outputId": "b82c764e-f0fe-4a1c-af5b-95f07bafb67a",
        "colab": {
          "base_uri": "https://localhost:8080/",
          "height": 265
        }
      },
      "source": [
        "np.random.seed(1)\n",
        "m = 50\n",
        "X = 3 * np.random.rand(m, 1)\n",
        "y = 1 + 2 * X + np.random.randn(m, 1)\n",
        "\n",
        "plt.scatter(X, y)\n",
        "plt.grid()"
      ],
      "execution_count": 57,
      "outputs": [
        {
          "output_type": "display_data",
          "data": {
            "image/png": "[encoded data removed]",
            "text/plain": [
              "<Figure size 432x288 with 1 Axes>"
            ]
          },
          "metadata": {
            "tags": [],
            "needs_background": "light"
          }
        }
      ]
    },
    {
      "cell_type": "code",
      "metadata": {
        "id": "aDxGAaqEqEiD",
        "outputId": "56e8ea31-1dc2-4ffc-ce83-cd2c50a6d978",
        "colab": {
          "base_uri": "https://localhost:8080/",
          "height": 265
        }
      },
      "source": [
        "X_new = np.linspace(0, 3, 100).reshape((100, 1))  # 테스트 셋\n",
        "\n",
        "# Ridge(l2) 규제를 적용한 선형 회귀: alpha(0, 1, 10, 100)\n",
        "for alpha in [0, 1, 10, 100]:\n",
        "    model = Ridge(alpha)\n",
        "    model.fit(X, y)  # 훈련 셋으로 모델 훈련(y = b0 + b1 * x)\n",
        "    y_new = model.predict(X_new)  # 훈련된 모델을 사용해서 테스트 셋의 예측값을 찾음.\n",
        "    plt.plot(X_new, y_new, label=f'alpha={alpha}')\n",
        "\n",
        "plt.scatter(X, y, color='gray')\n",
        "plt.legend()\n",
        "plt.grid()"
      ],
      "execution_count": 58,
      "outputs": [
        {
          "output_type": "display_data",
          "data": {
            "image/png": "[encoded data removed]",
            "text/plain": [
              "<Figure size 432x288 with 1 Axes>"
            ]
          },
          "metadata": {
            "tags": [],
            "needs_background": "light"
          }
        }
      ]
    },
    {
      "cell_type": "code",
      "metadata": {
        "id": "NiU7eKaky4sH",
        "outputId": "496b0ce8-b461-404c-cb0e-fe2ed8192fdd",
        "colab": {
          "base_uri": "https://localhost:8080/",
          "height": 409
        }
      },
      "source": [
        "# Lasso(l1 penalty) 규제를 사용한 선형 회귀\n",
        "for alpha in [0, 1e-7, 1e-5,1e-3]:\n",
        "    poly_feature = PolynomialFeatures(degree=10)\n",
        "    std_scaler = StandardScaler()\n",
        "    if alpha == 0:  # 문서에서 alpha == 0인 경우는 Lasso 대신 L.R.을 사용하라고 되어 있음.\n",
        "        model = LinearRegression()\n",
        "    else:\n",
        "        model = Lasso(alpha)\n",
        "    pipe = Pipeline(steps=[\n",
        "                           ('poly', poly_feature),\n",
        "                           ('scaler', std_scaler),\n",
        "                           ('model', model)\n",
        "    ])  # 모델 생성\n",
        "    pipe.fit(X, y)  # 모델 훈련\n",
        "    y_new = pipe.predict(X_new)  # 테스트 셋의 예측값\n",
        "    plt.plot(X_new, y_new, label=f'alpha={alpha}')\n",
        "\n",
        "plt.scatter(X, y, color='darkgray')\n",
        "plt.legend()\n",
        "plt.grid()"
      ],
      "execution_count": 59,
      "outputs": [
        {
          "output_type": "stream",
          "text": [
            "/usr/local/lib/python3.6/dist-packages/sklearn/linear_model/_coordinate_descent.py:476: ConvergenceWarning: Objective did not converge. You might want to increase the number of iterations. Duality gap: 19.91387036156907, tolerance: 0.02242278468446272\n",
            "  positive)\n",
            "/usr/local/lib/python3.6/dist-packages/sklearn/linear_model/_coordinate_descent.py:476: ConvergenceWarning: Objective did not converge. You might want to increase the number of iterations. Duality gap: 19.183063936194333, tolerance: 0.02242278468446272\n",
            "  positive)\n",
            "/usr/local/lib/python3.6/dist-packages/sklearn/linear_model/_coordinate_descent.py:476: ConvergenceWarning: Objective did not converge. You might want to increase the number of iterations. Duality gap: 0.06365371267323638, tolerance: 0.02242278468446272\n",
            "  positive)\n"
          ],
          "name": "stderr"
        },
        {
          "output_type": "display_data",
          "data": {
            "image/png": "[encoded data removed]",
            "text/plain": [
              "<Figure size 432x288 with 1 Axes>"
            ]
          },
          "metadata": {
            "tags": [],
            "needs_background": "light"
          }
        }
      ]
    },
    {
      "cell_type": "code",
      "metadata": {
        "id": "Aw6QyuGp3lvw"
      },
      "source": [
        "SGDRegressor(penalty='', alpha=)"
      ],
      "execution_count": null,
      "outputs": []
    }
  ]
}