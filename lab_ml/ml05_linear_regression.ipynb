{
  "nbformat": 4,
  "nbformat_minor": 0,
  "metadata": {
    "colab": {
      "name": " ml05_linear_regression.ipynb",
      "provenance": [],
      "collapsed_sections": [],
      "authorship_tag": "ABX9TyNmOivTF32SKKFAf0bXf6xU",
      "include_colab_link": true
    },
    "kernelspec": {
      "name": "python3",
      "display_name": "Python 3"
    }
  },
  "cells": [
    {
      "cell_type": "markdown",
      "metadata": {
        "id": "view-in-github",
        "colab_type": "text"
      },
      "source": [
        "<a href=\"https://colab.research.google.com/github/JakeOh/202007_itw_bd18/blob/master/lab_ml/ml05_linear_regression.ipynb\" target=\"_parent\"><img src=\"https://colab.research.google.com/assets/colab-badge.svg\" alt=\"Open In Colab\"/></a>"
      ]
    },
    {
      "cell_type": "code",
      "metadata": {
        "id": "fEB3m954nW-n"
      },
      "source": [
        "import numpy as np\n",
        "import matplotlib.pyplot as plt"
      ],
      "execution_count": 1,
      "outputs": []
    },
    {
      "cell_type": "markdown",
      "metadata": {
        "id": "mKps-VQC0L4A"
      },
      "source": [
        "# Normal Equation"
      ]
    },
    {
      "cell_type": "code",
      "metadata": {
        "id": "yVBNUWimnohV",
        "outputId": "0c5091e9-e5f9-4db4-818a-3b3259c49114",
        "colab": {
          "base_uri": "https://localhost:8080/",
          "height": 34
        }
      },
      "source": [
        "np.random.seed(1)\n",
        "\n",
        "X = np.arange(0, 3).reshape((3, 1))\n",
        "y = 4 + 3 * X + np.random.randn(3, 1)\n",
        "\n",
        "X.shape, y.shape"
      ],
      "execution_count": 4,
      "outputs": [
        {
          "output_type": "execute_result",
          "data": {
            "text/plain": [
              "((3, 1), (3, 1))"
            ]
          },
          "metadata": {
            "tags": []
          },
          "execution_count": 4
        }
      ]
    },
    {
      "cell_type": "code",
      "metadata": {
        "id": "sUhkCHVYqPWx",
        "outputId": "0acc2db6-6c26-4c7f-b7fc-e77778d484c7",
        "colab": {
          "base_uri": "https://localhost:8080/",
          "height": 120
        }
      },
      "source": [
        "print(X)\n",
        "print(y)"
      ],
      "execution_count": 6,
      "outputs": [
        {
          "output_type": "stream",
          "text": [
            "[[0]\n",
            " [1]\n",
            " [2]]\n",
            "[[5.62434536]\n",
            " [6.38824359]\n",
            " [9.47182825]]\n"
          ],
          "name": "stdout"
        }
      ]
    },
    {
      "cell_type": "code",
      "metadata": {
        "id": "F5nGiGa6oKuZ",
        "outputId": "effb523f-13f8-451a-cc52-c696b982da28",
        "colab": {
          "base_uri": "https://localhost:8080/",
          "height": 265
        }
      },
      "source": [
        "plt.scatter(X, y)\n",
        "plt.grid()"
      ],
      "execution_count": 5,
      "outputs": [
        {
          "output_type": "display_data",
          "data": {
            "image/png": "[encoded data removed]",
            "text/plain": [
              "<Figure size 432x288 with 1 Axes>"
            ]
          },
          "metadata": {
            "tags": [],
            "needs_background": "light"
          }
        }
      ]
    },
    {
      "cell_type": "code",
      "metadata": {
        "id": "OAmgkRffrKmG",
        "outputId": "406685b3-dbfc-442b-a7a2-cb618894a16e",
        "colab": {
          "base_uri": "https://localhost:8080/",
          "height": 68
        }
      },
      "source": [
        "X_b = np.c_[np.ones(shape=(3, 1)), X]\n",
        "X_b"
      ],
      "execution_count": 7,
      "outputs": [
        {
          "output_type": "execute_result",
          "data": {
            "text/plain": [
              "array([[1., 0.],\n",
              "       [1., 1.],\n",
              "       [1., 2.]])"
            ]
          },
          "metadata": {
            "tags": []
          },
          "execution_count": 7
        }
      ]
    },
    {
      "cell_type": "code",
      "metadata": {
        "id": "1fpDIlLVsVl-",
        "outputId": "365ce5b5-ae54-481d-aea6-40c74d00c541",
        "colab": {
          "base_uri": "https://localhost:8080/",
          "height": 51
        }
      },
      "source": [
        "# MSE를 최소화하는 [b0, b1]을 찾는 게 선형 회귀의 목적.\n",
        "# [b0, b1]을 찾는 방법 1: 정규 방정식(normal equation)\n",
        "theta_best = np.linalg.inv(X_b.T @ X_b) @ X_b.T @ y\n",
        "theta_best  #> [[y절편], [기울기]]"
      ],
      "execution_count": 8,
      "outputs": [
        {
          "output_type": "execute_result",
          "data": {
            "text/plain": [
              "array([[5.23773096],\n",
              "       [1.92374144]])"
            ]
          },
          "metadata": {
            "tags": []
          },
          "execution_count": 8
        }
      ]
    },
    {
      "cell_type": "code",
      "metadata": {
        "id": "6eLc5gg_tl0W",
        "outputId": "e139e5fe-ea15-4cef-9b53-8c149ab5f0bb",
        "colab": {
          "base_uri": "https://localhost:8080/",
          "height": 68
        }
      },
      "source": [
        "y_pred = X_b @ theta_best\n",
        "y_pred"
      ],
      "execution_count": 9,
      "outputs": [
        {
          "output_type": "execute_result",
          "data": {
            "text/plain": [
              "array([[5.23773096],\n",
              "       [7.1614724 ],\n",
              "       [9.08521384]])"
            ]
          },
          "metadata": {
            "tags": []
          },
          "execution_count": 9
        }
      ]
    },
    {
      "cell_type": "code",
      "metadata": {
        "id": "uMF2lybQuOM8",
        "outputId": "90a23e0c-3c35-4517-d87e-5921179affd4",
        "colab": {
          "base_uri": "https://localhost:8080/",
          "height": 265
        }
      },
      "source": [
        "plt.scatter(X, y)\n",
        "plt.plot(X, y_pred, 'r-')\n",
        "plt.grid()"
      ],
      "execution_count": 11,
      "outputs": [
        {
          "output_type": "display_data",
          "data": {
            "image/png": "[encoded data removed]",
            "text/plain": [
              "<Figure size 432x288 with 1 Axes>"
            ]
          },
          "metadata": {
            "tags": [],
            "needs_background": "light"
          }
        }
      ]
    },
    {
      "cell_type": "code",
      "metadata": {
        "id": "djYazr_FyqfZ"
      },
      "source": [
        "from sklearn.linear_model import LinearRegression"
      ],
      "execution_count": 12,
      "outputs": []
    },
    {
      "cell_type": "code",
      "metadata": {
        "id": "BL6SYucJyvde",
        "outputId": "fd1e1c0b-d2b7-436a-9dd8-93a9086842c3",
        "colab": {
          "base_uri": "https://localhost:8080/",
          "height": 34
        }
      },
      "source": [
        "lin_reg = LinearRegression()\n",
        "lin_reg.fit(X, y)  \n",
        "# fit: 선형 회귀 방정식의 절편(intercept)과 기울기(coefficient)들을 찾는 과정.\n",
        "lin_reg.intercept_, lin_reg.coef_"
      ],
      "execution_count": 13,
      "outputs": [
        {
          "output_type": "execute_result",
          "data": {
            "text/plain": [
              "(array([5.23773096]), array([[1.92374144]]))"
            ]
          },
          "metadata": {
            "tags": []
          },
          "execution_count": 13
        }
      ]
    },
    {
      "cell_type": "code",
      "metadata": {
        "id": "9Narbz0zy_jZ",
        "outputId": "43c231ff-4bf1-4ef6-85ba-c6a1268591e8",
        "colab": {
          "base_uri": "https://localhost:8080/",
          "height": 69
        }
      },
      "source": [
        "y_pred = lin_reg.predict(X)\n",
        "y_pred"
      ],
      "execution_count": 14,
      "outputs": [
        {
          "output_type": "execute_result",
          "data": {
            "text/plain": [
              "array([[5.23773096],\n",
              "       [7.1614724 ],\n",
              "       [9.08521384]])"
            ]
          },
          "metadata": {
            "tags": []
          },
          "execution_count": 14
        }
      ]
    },
    {
      "cell_type": "markdown",
      "metadata": {
        "id": "O7TVo51_0KDm"
      },
      "source": [
        "# Gradient Descent(경사 하강법)"
      ]
    },
    {
      "cell_type": "code",
      "metadata": {
        "id": "SyreZVnW0Sn6",
        "outputId": "cc05e03f-f482-48d9-e940-0e4f698aa854",
        "colab": {
          "base_uri": "https://localhost:8080/",
          "height": 265
        }
      },
      "source": [
        "X = np.linspace(start=-5, stop=5, num=100)\n",
        "y = X ** 2\n",
        "\n",
        "plt.plot(X, y, '-')\n",
        "plt.grid()"
      ],
      "execution_count": 15,
      "outputs": [
        {
          "output_type": "display_data",
          "data": {
            "image/png": "[encoded data removed]",
            "text/plain": [
              "<Figure size 432x288 with 1 Axes>"
            ]
          },
          "metadata": {
            "tags": [],
            "needs_background": "light"
          }
        }
      ]
    },
    {
      "cell_type": "markdown",
      "metadata": {
        "id": "abVC8aAMM2rB"
      },
      "source": [
        "## 기울기"
      ]
    },
    {
      "cell_type": "code",
      "metadata": {
        "id": "pFWiKTO2M7Rt",
        "outputId": "2d76f0ea-82ac-4672-8f12-31b557eb7e43",
        "colab": {
          "base_uri": "https://localhost:8080/",
          "height": 265
        }
      },
      "source": [
        "# 기울기: (y의 증가분) / (x의 증가분)\n",
        "pt1 = [1, 1]\n",
        "pt2 = [3, 5]\n",
        "\n",
        "plt.scatter([pt1[0], pt2[0]], [pt1[1], pt2[1]])\n",
        "plt.grid()"
      ],
      "execution_count": 16,
      "outputs": [
        {
          "output_type": "display_data",
          "data": {
            "image/png": "[encoded data removed]",
            "text/plain": [
              "<Figure size 432x288 with 1 Axes>"
            ]
          },
          "metadata": {
            "tags": [],
            "needs_background": "light"
          }
        }
      ]
    },
    {
      "cell_type": "code",
      "metadata": {
        "id": "V-HAcoJ1Nmxf",
        "outputId": "84b0a146-5122-4cd3-f57f-85ddc4c2340d",
        "colab": {
          "base_uri": "https://localhost:8080/",
          "height": 35
        }
      },
      "source": [
        "delta_y = pt2[1] - pt1[1]  # y 증가(감소)분\n",
        "delta_x = pt2[0] - pt1[0]  # x 증가(감소)분\n",
        "slope = delta_y  / delta_x\n",
        "slope"
      ],
      "execution_count": 18,
      "outputs": [
        {
          "output_type": "execute_result",
          "data": {
            "text/plain": [
              "2.0"
            ]
          },
          "metadata": {
            "tags": []
          },
          "execution_count": 18
        }
      ]
    },
    {
      "cell_type": "code",
      "metadata": {
        "id": "H6uP3-m9PKnu"
      },
      "source": [
        "def gradient(fn, x, h=0.001):\n",
        "    return (fn(x + h) - fn(x)) / h"
      ],
      "execution_count": 20,
      "outputs": []
    },
    {
      "cell_type": "code",
      "metadata": {
        "id": "vxKz6wGERM0f"
      },
      "source": [
        "def square(x):\n",
        "    return x**2"
      ],
      "execution_count": 21,
      "outputs": []
    },
    {
      "cell_type": "code",
      "metadata": {
        "id": "HxOzRBtRPhyT",
        "outputId": "dd3b575b-25e5-4a7b-876b-28e7f9abe6c6",
        "colab": {
          "base_uri": "https://localhost:8080/",
          "height": 35
        }
      },
      "source": [
        "# y = x**2 그래프에서 x=4에서의 접선의 기울기(gradient)\n",
        "gradient(fn=square, x=4)"
      ],
      "execution_count": 22,
      "outputs": [
        {
          "output_type": "execute_result",
          "data": {
            "text/plain": [
              "8.0010000000037"
            ]
          },
          "metadata": {
            "tags": []
          },
          "execution_count": 22
        }
      ]
    },
    {
      "cell_type": "code",
      "metadata": {
        "id": "5-KEkU8xR-RR",
        "outputId": "2a0aa799-6fd6-4fae-ecd8-21fbe212e6ca",
        "colab": {
          "base_uri": "https://localhost:8080/",
          "height": 35
        }
      },
      "source": [
        "gradient(fn=square, x=2), gradient(fn=square, x=0)"
      ],
      "execution_count": 23,
      "outputs": [
        {
          "output_type": "execute_result",
          "data": {
            "text/plain": [
              "(4.000999999999699, 0.001)"
            ]
          },
          "metadata": {
            "tags": []
          },
          "execution_count": 23
        }
      ]
    },
    {
      "cell_type": "code",
      "metadata": {
        "id": "WuDhKaiqST8m",
        "outputId": "f9eb9fb7-41fd-41d3-ede1-6214c086d502",
        "colab": {
          "base_uri": "https://localhost:8080/",
          "height": 35
        }
      },
      "source": [
        "gradient(fn=square, x=-2)"
      ],
      "execution_count": 24,
      "outputs": [
        {
          "output_type": "execute_result",
          "data": {
            "text/plain": [
              "-3.9989999999994197"
            ]
          },
          "metadata": {
            "tags": []
          },
          "execution_count": 24
        }
      ]
    },
    {
      "cell_type": "markdown",
      "metadata": {
        "id": "_SYdtSVyUje9"
      },
      "source": [
        "## 경사 하강법\n",
        "1. 임의의 점(`x_init`)을 선택\n",
        "2. 그 점에서의 grdient(기울기)를 계산\n",
        "3. 선택한 임의의 점을 이동: `x_new = x_init - eta * gradient`\n",
        "4. 2 ~ 3의 과정을 반복.\n",
        "* eta: 양수(eta > 0). 학습률(learning rate). eta가 크면 최솟값으로 빨리 수렴, 작으면 느리게 수렴."
      ]
    },
    {
      "cell_type": "code",
      "metadata": {
        "id": "FBJJOqbfV6iS"
      },
      "source": [
        "def plot_function(fn):\n",
        "    X = np.linspace(start=-5, stop=5, num=100)\n",
        "    y = fn(X)\n",
        "    plt.plot(X, y, '-')"
      ],
      "execution_count": 25,
      "outputs": []
    },
    {
      "cell_type": "code",
      "metadata": {
        "id": "LPA0FAWrWT8x"
      },
      "source": [
        " def plot_gradient_descent(fn, x_init, n_iterations=5, eta=0.1):\n",
        "    plot_function(fn)  # y = x ** 2\n",
        "\n",
        "    # x_init = -4\n",
        "    y_init = fn(x_init)\n",
        "    plt.scatter(x_init, y_init, label='0', color='red')\n",
        "\n",
        "    # eta = 0.1\n",
        "    for epoch in range(n_iterations):\n",
        "        x_new = x_init - eta * gradient(fn, x=x_init)\n",
        "        y_new = fn(x_new)\n",
        "        plt.scatter(x_new, y_new, label=f'{epoch+1}')\n",
        "        x_init = x_new\n",
        "\n",
        "    plt.grid()\n",
        "    plt.legend()"
      ],
      "execution_count": 34,
      "outputs": []
    },
    {
      "cell_type": "code",
      "metadata": {
        "id": "OqKMZRKtdnvm",
        "outputId": "89d9bb60-9abf-4f40-e0ce-0dbbf3700342",
        "colab": {
          "base_uri": "https://localhost:8080/",
          "height": 265
        }
      },
      "source": [
        "plot_gradient_descent(fn=square, x_init=-4, n_iterations=10)"
      ],
      "execution_count": 36,
      "outputs": [
        {
          "output_type": "display_data",
          "data": {
            "image/png": "[encoded data removed]",
            "text/plain": [
              "<Figure size 432x288 with 1 Axes>"
            ]
          },
          "metadata": {
            "tags": [],
            "needs_background": "light"
          }
        }
      ]
    },
    {
      "cell_type": "code",
      "metadata": {
        "id": "9nEFPXc0d-61",
        "outputId": "043962f9-c9b3-4396-fa5d-1c5651486af4",
        "colab": {
          "base_uri": "https://localhost:8080/",
          "height": 265
        }
      },
      "source": [
        "plot_gradient_descent(fn=square, x_init=4, n_iterations=10)"
      ],
      "execution_count": 37,
      "outputs": [
        {
          "output_type": "display_data",
          "data": {
            "image/png": "[encoded data removed]",
            "text/plain": [
              "<Figure size 432x288 with 1 Axes>"
            ]
          },
          "metadata": {
            "tags": [],
            "needs_background": "light"
          }
        }
      ]
    },
    {
      "cell_type": "code",
      "metadata": {
        "id": "ttx8VK8KeJgZ",
        "outputId": "ec97da3f-b61c-47ab-9bdf-7caf738069f4",
        "colab": {
          "base_uri": "https://localhost:8080/",
          "height": 265
        }
      },
      "source": [
        "plot_gradient_descent(fn=square, x_init=-4, n_iterations=5, eta=1.1)"
      ],
      "execution_count": 45,
      "outputs": [
        {
          "output_type": "display_data",
          "data": {
            "image/png": "[encoded data removed]",
            "text/plain": [
              "<Figure size 432x288 with 1 Axes>"
            ]
          },
          "metadata": {
            "tags": [],
            "needs_background": "light"
          }
        }
      ]
    },
    {
      "cell_type": "markdown",
      "metadata": {
        "id": "ddyniaS2gCrc"
      },
      "source": [
        "# 경사하강법을 사용한 선형 회귀 방정식의 절편, 기울기 찾기: \n",
        "* 선형 회귀 방정식: `y = b0 + b1 * x`\n",
        "* 절편(intercept, bias 편향): `b0`\n",
        "* 기울기(coefficient): `b1`"
      ]
    },
    {
      "cell_type": "code",
      "metadata": {
        "id": "6qW4lW67f_ZW"
      },
      "source": [
        " np.random.seed(1)\n",
        "\n",
        " X = np.arange(0, 3).reshape((3, 1))\n",
        " y = 4 + 3 * X + np.random.randn(3, 1)"
      ],
      "execution_count": 46,
      "outputs": []
    },
    {
      "cell_type": "code",
      "metadata": {
        "id": "9AhmXfyBhOjl",
        "outputId": "08ac057a-867b-4d88-875b-613638e914a4",
        "colab": {
          "base_uri": "https://localhost:8080/",
          "height": 69
        }
      },
      "source": [
        "X"
      ],
      "execution_count": 47,
      "outputs": [
        {
          "output_type": "execute_result",
          "data": {
            "text/plain": [
              "array([[0],\n",
              "       [1],\n",
              "       [2]])"
            ]
          },
          "metadata": {
            "tags": []
          },
          "execution_count": 47
        }
      ]
    },
    {
      "cell_type": "code",
      "metadata": {
        "id": "1JTLJ7SohPMB",
        "outputId": "88141237-888c-40d1-ccbe-751041960ef6",
        "colab": {
          "base_uri": "https://localhost:8080/",
          "height": 69
        }
      },
      "source": [
        "y"
      ],
      "execution_count": 48,
      "outputs": [
        {
          "output_type": "execute_result",
          "data": {
            "text/plain": [
              "array([[5.62434536],\n",
              "       [6.38824359],\n",
              "       [9.47182825]])"
            ]
          },
          "metadata": {
            "tags": []
          },
          "execution_count": 48
        }
      ]
    },
    {
      "cell_type": "code",
      "metadata": {
        "id": "lxHJgHKaqNNJ",
        "outputId": "9a84bf31-1c77-4d51-89f4-07894e19596e",
        "colab": {
          "base_uri": "https://localhost:8080/",
          "height": 265
        }
      },
      "source": [
        "plt.scatter(X, y)\n",
        "plt.grid()"
      ],
      "execution_count": 50,
      "outputs": [
        {
          "output_type": "display_data",
          "data": {
            "image/png": "[encoded data removed]",
            "text/plain": [
              "<Figure size 432x288 with 1 Axes>"
            ]
          },
          "metadata": {
            "tags": [],
            "needs_background": "light"
          }
        }
      ]
    },
    {
      "cell_type": "code",
      "metadata": {
        "id": "lYU2n7KyhQ3f",
        "outputId": "c54bf283-f2e2-4c1d-b0ad-dbbcfec08d97",
        "colab": {
          "base_uri": "https://localhost:8080/",
          "height": 69
        }
      },
      "source": [
        "X_b = np.c_[np.ones(shape=(3, 1)), X]\n",
        "X_b"
      ],
      "execution_count": 49,
      "outputs": [
        {
          "output_type": "execute_result",
          "data": {
            "text/plain": [
              "array([[1., 0.],\n",
              "       [1., 1.],\n",
              "       [1., 2.]])"
            ]
          },
          "metadata": {
            "tags": []
          },
          "execution_count": 49
        }
      ]
    },
    {
      "cell_type": "code",
      "metadata": {
        "id": "xc7n8FNOqjP9",
        "outputId": "3ae5c73b-9378-466d-8b52-0fff1a6a3441",
        "colab": {
          "base_uri": "https://localhost:8080/",
          "height": 87
        }
      },
      "source": [
        "eta = 0.1  # 학습률(learning rate)\n",
        "m = 3  # 샘플 개수\n",
        "n_iterations = 1000  # 반복 횟수\n",
        "\n",
        "np.random.seed(1)\n",
        "theta = np.random.randn(2, 1)  # [[b0], [b1]] 초깃값 - 난수 사용\n",
        "print(theta)\n",
        "\n",
        "for epoch in range(n_iterations):\n",
        "    gradient = (2/m) * X_b.T @ (X_b @ theta - y)\n",
        "    theta = theta - eta * gradient\n",
        "\n",
        "print(theta)"
      ],
      "execution_count": 55,
      "outputs": [
        {
          "output_type": "stream",
          "text": [
            "[[ 1.62434536]\n",
            " [-0.61175641]]\n",
            "[[5.23773096]\n",
            " [1.92374144]]\n"
          ],
          "name": "stdout"
        }
      ]
    },
    {
      "cell_type": "code",
      "metadata": {
        "id": "QcT6ZsbaytWY",
        "outputId": "0bf07807-5c99-4eb7-c00d-531abcfdda1e",
        "colab": {
          "base_uri": "https://localhost:8080/",
          "height": 265
        }
      },
      "source": [
        "y_pred = X_b @ theta\n",
        "\n",
        "plt.scatter(X, y)\n",
        "plt.plot(X, y_pred, 'r-')\n",
        "plt.grid()"
      ],
      "execution_count": 60,
      "outputs": [
        {
          "output_type": "display_data",
          "data": {
            "image/png": "[encoded data removed]",
            "text/plain": [
              "<Figure size 432x288 with 1 Axes>"
            ]
          },
          "metadata": {
            "tags": [],
            "needs_background": "light"
          }
        }
      ]
    },
    {
      "cell_type": "code",
      "metadata": {
        "id": "eCPOrwLtvx2A"
      },
      "source": [
        "from sklearn.linear_model import SGDRegressor"
      ],
      "execution_count": 56,
      "outputs": []
    },
    {
      "cell_type": "code",
      "metadata": {
        "id": "ZxD8wfamv49T",
        "outputId": "84c9efe3-a791-428f-a293-31fc348a0649",
        "colab": {
          "base_uri": "https://localhost:8080/",
          "height": 121
        }
      },
      "source": [
        "sgd_reg = SGDRegressor(eta0=0.1)\n",
        "sgd_reg.fit(X, y.ravel())\n",
        "# fit: MSE를 최소화하는 절편 b0와 계수 b1을 찾음."
      ],
      "execution_count": 61,
      "outputs": [
        {
          "output_type": "execute_result",
          "data": {
            "text/plain": [
              "SGDRegressor(alpha=0.0001, average=False, early_stopping=False, epsilon=0.1,\n",
              "             eta0=0.1, fit_intercept=True, l1_ratio=0.15,\n",
              "             learning_rate='invscaling', loss='squared_loss', max_iter=1000,\n",
              "             n_iter_no_change=5, penalty='l2', power_t=0.25, random_state=None,\n",
              "             shuffle=True, tol=0.001, validation_fraction=0.1, verbose=0,\n",
              "             warm_start=False)"
            ]
          },
          "metadata": {
            "tags": []
          },
          "execution_count": 61
        }
      ]
    },
    {
      "cell_type": "code",
      "metadata": {
        "id": "7z6OWPm4wi5W",
        "outputId": "1c8eeef3-b115-4be1-ad3c-080a385aae48",
        "colab": {
          "base_uri": "https://localhost:8080/",
          "height": 35
        }
      },
      "source": [
        "sgd_reg.intercept_, sgd_reg.coef_\n",
        "# predict: y = intercept_ + coef_ * x"
      ],
      "execution_count": 62,
      "outputs": [
        {
          "output_type": "execute_result",
          "data": {
            "text/plain": [
              "(array([4.94745821]), array([2.1425144]))"
            ]
          },
          "metadata": {
            "tags": []
          },
          "execution_count": 62
        }
      ]
    }
  ]
}