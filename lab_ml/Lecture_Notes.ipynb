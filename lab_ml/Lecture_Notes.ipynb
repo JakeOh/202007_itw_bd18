{
  "nbformat": 4,
  "nbformat_minor": 0,
  "metadata": {
    "colab": {
      "name": "Lecture Notes.ipynb",
      "provenance": [],
      "authorship_tag": "ABX9TyPj14T7uusIYRSAuxLKqVQ4",
      "include_colab_link": true
    },
    "kernelspec": {
      "name": "python3",
      "display_name": "Python 3"
    }
  },
  "cells": [
    {
      "cell_type": "markdown",
      "metadata": {
        "id": "view-in-github",
        "colab_type": "text"
      },
      "source": [
        "<a href=\"https://colab.research.google.com/github/JakeOh/202007_itw_bd18/blob/master/lab_ml/Lecture_Notes.ipynb\" target=\"_parent\"><img src=\"https://colab.research.google.com/assets/colab-badge.svg\" alt=\"Open In Colab\"/></a>"
      ]
    },
    {
      "cell_type": "markdown",
      "metadata": {
        "id": "qh_SvZgzlrZN"
      },
      "source": [
        "* [Chapter 1 한눈에 보는 머신러닝](https://docs.google.com/presentation/d/1oR23G3Oc6HKf2qlRreVVeiNl37XYnVbN2DwYx3K2R6A/edit?usp=sharing)\n",
        "* [Chapter 4 모델 훈련](https://docs.google.com/presentation/d/1VrFKA1ExK3PJRod0zVM7Ml-OJNO940Do7sVztEjK1EI/edit?usp=sharing)\n",
        "* [Chapter 5 서포트 벡터 머신](https://docs.google.com/presentation/d/1TODOYGYrXjgrz3QW-bN0WGNuPQHQo-k0OspLg1_l_sA/edit?usp=sharing)\n",
        "* [Chapter 7 앙상블 학습과 랜덤 포레스트](https://docs.google.com/presentation/d/1cW6a43iVIbz_oGNxTbihAd8IcKyvd-UCu6ce4XHochI/edit?usp=sharing)"
      ]
    }
  ]
}