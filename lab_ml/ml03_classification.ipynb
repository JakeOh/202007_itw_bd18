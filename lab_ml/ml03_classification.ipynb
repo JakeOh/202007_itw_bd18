{
  "nbformat": 4,
  "nbformat_minor": 0,
  "metadata": {
    "colab": {
      "name": "ml03_classification.ipynb",
      "provenance": [],
      "collapsed_sections": [],
      "mount_file_id": "1zjT7i4txR1WU3kUBYBuiQgHUFAO7cujo",
      "authorship_tag": "ABX9TyPtBNECjoJGeGIkweFbceer",
      "include_colab_link": true
    },
    "kernelspec": {
      "name": "python3",
      "display_name": "Python 3"
    }
  },
  "cells": [
    {
      "cell_type": "markdown",
      "metadata": {
        "id": "view-in-github",
        "colab_type": "text"
      },
      "source": [
        "<a href=\"https://colab.research.google.com/github/JakeOh/202007_itw_bd18/blob/master/lab_ml/ml03_classification.ipynb\" target=\"_parent\"><img src=\"https://colab.research.google.com/assets/colab-badge.svg\" alt=\"Open In Colab\"/></a>"
      ]
    },
    {
      "cell_type": "code",
      "metadata": {
        "id": "LUGXfOpjE60n"
      },
      "source": [
        "import numpy as np\n",
        "import pandas as pd\n",
        "import matplotlib.pyplot as plt\n",
        "import pickle"
      ],
      "execution_count": 1,
      "outputs": []
    },
    {
      "cell_type": "code",
      "metadata": {
        "id": "4JpsK3_sFWGn",
        "outputId": "190e5a78-cc6f-4d4f-f576-d94649eba8ab",
        "colab": {
          "base_uri": "https://localhost:8080/",
          "height": 184
        }
      },
      "source": [
        "file_path = '/content/drive/My Drive/Colab Notebooks/lab_ml/mnist.pickle'\n",
        "with open(file_path, mode='rb') as f:\n",
        "    mnist = pickle.load(f)\n",
        "\n",
        "mnist['DESCR']"
      ],
      "execution_count": 2,
      "outputs": [
        {
          "output_type": "execute_result",
          "data": {
            "application/vnd.google.colaboratory.intrinsic+json": {
              "type": "string"
            },
            "text/plain": [
              "\"**Author**: Yann LeCun, Corinna Cortes, Christopher J.C. Burges  \\n**Source**: [MNIST Website](http://yann.lecun.com/exdb/mnist/) - Date unknown  \\n**Please cite**:  \\n\\nThe MNIST database of handwritten digits with 784 features, raw data available at: http://yann.lecun.com/exdb/mnist/. It can be split in a training set of the first 60,000 examples, and a test set of 10,000 examples  \\n\\nIt is a subset of a larger set available from NIST. The digits have been size-normalized and centered in a fixed-size image. It is a good database for people who want to try learning techniques and pattern recognition methods on real-world data while spending minimal efforts on preprocessing and formatting. The original black and white (bilevel) images from NIST were size normalized to fit in a 20x20 pixel box while preserving their aspect ratio. The resulting images contain grey levels as a result of the anti-aliasing technique used by the normalization algorithm. the images were centered in a 28x28 image by computing the center of mass of the pixels, and translating the image so as to position this point at the center of the 28x28 field.  \\n\\nWith some classification methods (particularly template-based methods, such as SVM and K-nearest neighbors), the error rate improves when the digits are centered by bounding box rather than center of mass. If you do this kind of pre-processing, you should report it in your publications. The MNIST database was constructed from NIST's NIST originally designated SD-3 as their training set and SD-1 as their test set. However, SD-3 is much cleaner and easier to recognize than SD-1. The reason for this can be found on the fact that SD-3 was collected among Census Bureau employees, while SD-1 was collected among high-school students. Drawing sensible conclusions from learning experiments requires that the result be independent of the choice of training set and test among the complete set of samples. Therefore it was necessary to build a new database by mixing NIST's datasets.  \\n\\nThe MNIST training set is composed of 30,000 patterns from SD-3 and 30,000 patterns from SD-1. Our test set was composed of 5,000 patterns from SD-3 and 5,000 patterns from SD-1. The 60,000 pattern training set contained examples from approximately 250 writers. We made sure that the sets of writers of the training set and test set were disjoint. SD-1 contains 58,527 digit images written by 500 different writers. In contrast to SD-3, where blocks of data from each writer appeared in sequence, the data in SD-1 is scrambled. Writer identities for SD-1 is available and we used this information to unscramble the writers. We then split SD-1 in two: characters written by the first 250 writers went into our new training set. The remaining 250 writers were placed in our test set. Thus we had two sets with nearly 30,000 examples each. The new training set was completed with enough examples from SD-3, starting at pattern # 0, to make a full set of 60,000 training patterns. Similarly, the new test set was completed with SD-3 examples starting at pattern # 35,000 to make a full set with 60,000 test patterns. Only a subset of 10,000 test images (5,000 from SD-1 and 5,000 from SD-3) is available on this site. The full 60,000 sample training set is available.\\n\\nDownloaded from openml.org.\""
            ]
          },
          "metadata": {
            "tags": []
          },
          "execution_count": 2
        }
      ]
    },
    {
      "cell_type": "code",
      "metadata": {
        "id": "hcRJeLz-F0rY",
        "outputId": "be1fd1f6-0779-459b-8e23-0ea15aa8e6de",
        "colab": {
          "base_uri": "https://localhost:8080/",
          "height": 38
        }
      },
      "source": [
        "# 데이터, 레이블 분리\n",
        "X, y = mnist['data'], mnist['target'].astype(np.int16)\n",
        "X.shape, y.shape"
      ],
      "execution_count": 6,
      "outputs": [
        {
          "output_type": "execute_result",
          "data": {
            "text/plain": [
              "((70000, 784), (70000,))"
            ]
          },
          "metadata": {
            "tags": []
          },
          "execution_count": 6
        }
      ]
    },
    {
      "cell_type": "code",
      "metadata": {
        "id": "4_yWg08bGAzV",
        "outputId": "ff1d5402-5b97-4485-947c-014b88d9a0b0",
        "colab": {
          "base_uri": "https://localhost:8080/",
          "height": 38
        }
      },
      "source": [
        "# 훈련 셋, 테스트 셋 분리\n",
        "num_of_train = 60_000\n",
        "X_train, y_train = X[:num_of_train], y[:num_of_train]\n",
        "X_test, y_test = X[num_of_train:], y[num_of_train:]\n",
        "X_train.shape, y_train.shape"
      ],
      "execution_count": 7,
      "outputs": [
        {
          "output_type": "execute_result",
          "data": {
            "text/plain": [
              "((60000, 784), (60000,))"
            ]
          },
          "metadata": {
            "tags": []
          },
          "execution_count": 7
        }
      ]
    },
    {
      "cell_type": "markdown",
      "metadata": {
        "id": "NFFkxAC7IkTR"
      },
      "source": [
        "* 다중 클래스 분류\n",
        "    * 단일 레이블(label) 다중 클래스(class) 분류\n",
        "        * 예: mnist 숫자 분류, iris 품종 분류\n",
        "    * 다중 레이블(label) 다중 클래스(class) 분류\n",
        "        * 예: 사진 분류(이름 & 태그)"
      ]
    },
    {
      "cell_type": "code",
      "metadata": {
        "id": "86MJdfTEGsvC"
      },
      "source": [
        "# 다중 클래스 분류(Multiclass Classification) 모델 선택\n",
        "from sklearn.linear_model import SGDClassifier"
      ],
      "execution_count": 8,
      "outputs": []
    },
    {
      "cell_type": "code",
      "metadata": {
        "id": "yYduJ-oSJalf"
      },
      "source": [
        "# 모델 생성\n",
        "sgd_clf = SGDClassifier(random_state=1)"
      ],
      "execution_count": 9,
      "outputs": []
    },
    {
      "cell_type": "code",
      "metadata": {
        "id": "2eqiWphRJhce",
        "outputId": "5f8a967f-3e5f-4951-96b8-026c3e92d6fb",
        "colab": {
          "base_uri": "https://localhost:8080/",
          "height": 142
        }
      },
      "source": [
        "# 모델 훈련\n",
        "sgd_clf.fit(X=X_train, y=y_train)"
      ],
      "execution_count": 11,
      "outputs": [
        {
          "output_type": "execute_result",
          "data": {
            "text/plain": [
              "SGDClassifier(alpha=0.0001, average=False, class_weight=None,\n",
              "              early_stopping=False, epsilon=0.1, eta0=0.0, fit_intercept=True,\n",
              "              l1_ratio=0.15, learning_rate='optimal', loss='hinge',\n",
              "              max_iter=1000, n_iter_no_change=5, n_jobs=None, penalty='l2',\n",
              "              power_t=0.5, random_state=1, shuffle=True, tol=0.001,\n",
              "              validation_fraction=0.1, verbose=0, warm_start=False)"
            ]
          },
          "metadata": {
            "tags": []
          },
          "execution_count": 11
        }
      ]
    },
    {
      "cell_type": "code",
      "metadata": {
        "id": "VDJZYDuIJlwY",
        "outputId": "04c2e556-784d-48bf-d6fa-dbbb82a7c5a5",
        "colab": {
          "base_uri": "https://localhost:8080/",
          "height": 38
        }
      },
      "source": [
        "predictions = sgd_clf.predict(X=X_train)\n",
        "predictions"
      ],
      "execution_count": 12,
      "outputs": [
        {
          "output_type": "execute_result",
          "data": {
            "text/plain": [
              "array([3, 0, 4, ..., 5, 6, 8], dtype=int16)"
            ]
          },
          "metadata": {
            "tags": []
          },
          "execution_count": 12
        }
      ]
    },
    {
      "cell_type": "code",
      "metadata": {
        "id": "8vdbe2cLKvWy",
        "outputId": "8ad4ecda-7a49-4690-b007-27d29172f06e",
        "colab": {
          "base_uri": "https://localhost:8080/",
          "height": 38
        }
      },
      "source": [
        "y_train"
      ],
      "execution_count": 13,
      "outputs": [
        {
          "output_type": "execute_result",
          "data": {
            "text/plain": [
              "array([5, 0, 4, ..., 5, 6, 8], dtype=int16)"
            ]
          },
          "metadata": {
            "tags": []
          },
          "execution_count": 13
        }
      ]
    },
    {
      "cell_type": "code",
      "metadata": {
        "id": "yWEkw7PyLhP5",
        "outputId": "22ae1c84-de99-43c2-c4ef-4e24acf99ccd",
        "colab": {
          "base_uri": "https://localhost:8080/",
          "height": 287
        }
      },
      "source": [
        "# 다중 클래스 분류에서 예측값을 반환하는 점수:\n",
        "conf_scores = sgd_clf.decision_function(X=X_train)\n",
        "conf_scores  #> 2차원 배열"
      ],
      "execution_count": 14,
      "outputs": [
        {
          "output_type": "execute_result",
          "data": {
            "text/plain": [
              "array([[-24670.54831945, -24956.18602024,  -8946.54366192, ...,\n",
              "        -21540.55134475, -12611.04215094,  -8413.53889667],\n",
              "       [ 35115.54260117, -29238.15978494, -10522.21560933, ...,\n",
              "        -20088.61022822,  -8671.69431041,  -8280.94497265],\n",
              "       [-44963.27137232, -19436.94360558,  -4521.12867711, ...,\n",
              "         -8694.04566573, -11086.08921073,  -9950.6497012 ],\n",
              "       ...,\n",
              "       [-27527.03192197,  -8896.09595732, -13969.34592318, ...,\n",
              "        -28910.63557095,  -4096.07930681, -14406.76402143],\n",
              "       [-24472.13816489, -15909.53454174,  -7950.52483362, ...,\n",
              "        -20823.11099216, -14185.0520895 , -11458.78080004],\n",
              "       [ -7079.58427496, -27307.02283194, -11328.34979779, ...,\n",
              "        -18458.33310161,   2158.50975994,   -216.52178007]])"
            ]
          },
          "metadata": {
            "tags": []
          },
          "execution_count": 14
        }
      ]
    },
    {
      "cell_type": "code",
      "metadata": {
        "id": "qbPrhVEsL5WR",
        "outputId": "48a6cd78-66a5-443b-e9ca-9a9e0f2f4e84",
        "colab": {
          "base_uri": "https://localhost:8080/",
          "height": 38
        }
      },
      "source": [
        "conf_scores.shape  #> (60_000, 10)"
      ],
      "execution_count": 15,
      "outputs": [
        {
          "output_type": "execute_result",
          "data": {
            "text/plain": [
              "(60000, 10)"
            ]
          },
          "metadata": {
            "tags": []
          },
          "execution_count": 15
        }
      ]
    },
    {
      "cell_type": "code",
      "metadata": {
        "id": "D0t-l0oXMieA",
        "outputId": "a62188d3-dc70-4463-afa3-d65cf7657d06",
        "colab": {
          "base_uri": "https://localhost:8080/",
          "height": 38
        }
      },
      "source": [
        "# 첫번째 훈련 샘플의 점수들 중에서 최댓값의 위치\n",
        "np.argmax(conf_scores[0])"
      ],
      "execution_count": 18,
      "outputs": [
        {
          "output_type": "execute_result",
          "data": {
            "text/plain": [
              "3"
            ]
          },
          "metadata": {
            "tags": []
          },
          "execution_count": 18
        }
      ]
    },
    {
      "cell_type": "code",
      "metadata": {
        "id": "P6YhFxKtPj0B",
        "outputId": "dbebed39-ecc1-4479-99dc-3e813eedca7e",
        "colab": {
          "base_uri": "https://localhost:8080/",
          "height": 38
        }
      },
      "source": [
        "conf_scores[0, 3], conf_scores[0, 5]"
      ],
      "execution_count": 20,
      "outputs": [
        {
          "output_type": "execute_result",
          "data": {
            "text/plain": [
              "(891.7245890640206, 767.8679943592588)"
            ]
          },
          "metadata": {
            "tags": []
          },
          "execution_count": 20
        }
      ]
    },
    {
      "cell_type": "code",
      "metadata": {
        "id": "U1aH2vQhQIik",
        "outputId": "8b1fc0bc-704d-4dda-c67c-7472f7cd1ab8",
        "colab": {
          "base_uri": "https://localhost:8080/",
          "height": 38
        }
      },
      "source": [
        "# 모델 평가 지표 - 정확도\n",
        "from sklearn.metrics import accuracy_score\n",
        "\n",
        "accuracy_score(y_true=y_train, y_pred=predictions)"
      ],
      "execution_count": 22,
      "outputs": [
        {
          "output_type": "execute_result",
          "data": {
            "text/plain": [
              "0.8826833333333334"
            ]
          },
          "metadata": {
            "tags": []
          },
          "execution_count": 22
        }
      ]
    },
    {
      "cell_type": "code",
      "metadata": {
        "id": "pqjmELmFQrGW",
        "outputId": "058c2943-db18-4d48-f6d2-3f5246536e1a",
        "colab": {
          "base_uri": "https://localhost:8080/",
          "height": 225
        }
      },
      "source": [
        "# 오차(혼동) 행렬\n",
        "from sklearn.metrics import confusion_matrix\n",
        "\n",
        "conf_mat = confusion_matrix(y_true=y_train, y_pred=predictions)\n",
        "conf_mat"
      ],
      "execution_count": 25,
      "outputs": [
        {
          "output_type": "execute_result",
          "data": {
            "text/plain": [
              "array([[5736,    1,   48,    8,   22,   15,   50,    4,   14,   25],\n",
              "       [   2, 6590,   51,    9,   17,    8,   27,    3,   22,   13],\n",
              "       [  28,   36, 5531,   48,   90,   17,   91,   19,   64,   34],\n",
              "       [  67,   36,  365, 5048,   58,  290,   46,   22,   58,  141],\n",
              "       [   1,   28,   28,    1, 5649,    5,   43,    4,    6,   77],\n",
              "       [ 101,   20,   97,  168,  266, 4367,  141,   25,   82,  154],\n",
              "       [  41,    3,   51,    1,   51,   42, 5711,    0,   12,    6],\n",
              "       [  16,   34,  107,   78,  160,    9,    7, 5525,    9,  320],\n",
              "       [  53,  155,  423,  125,  322,  212,   82,   16, 3999,  464],\n",
              "       [  18,   36,   20,   94,  796,   20,    3,  151,    6, 4805]])"
            ]
          },
          "metadata": {
            "tags": []
          },
          "execution_count": 25
        }
      ]
    },
    {
      "cell_type": "code",
      "metadata": {
        "id": "AoSBOEpRTFGo"
      },
      "source": [
        "# Cross Validation(교차 검증)\n",
        "from sklearn.model_selection import cross_val_predict"
      ],
      "execution_count": 26,
      "outputs": []
    },
    {
      "cell_type": "code",
      "metadata": {
        "id": "U6beMUdiTjB_",
        "outputId": "1067daa2-a9b6-4977-95c6-86ea880d00c1",
        "colab": {
          "base_uri": "https://localhost:8080/",
          "height": 38
        }
      },
      "source": [
        "cv_predictions = cross_val_predict(estimator=SGDClassifier(random_state=1),\n",
        "                                   X=X_train,\n",
        "                                   y=y_train,\n",
        "                                   cv=3,\n",
        "                                   method='predict')\n",
        "# method='predict': 예측값\n",
        "# method='decision_function': 예측 점수(confidence scores)\n",
        "cv_predictions"
      ],
      "execution_count": 27,
      "outputs": [
        {
          "output_type": "execute_result",
          "data": {
            "text/plain": [
              "array([5, 0, 4, ..., 5, 6, 9], dtype=int16)"
            ]
          },
          "metadata": {
            "tags": []
          },
          "execution_count": 27
        }
      ]
    },
    {
      "cell_type": "code",
      "metadata": {
        "id": "iiQEKHBUV1pf",
        "outputId": "e62f862e-56bc-4984-bb4d-c7fe86b702de",
        "colab": {
          "base_uri": "https://localhost:8080/",
          "height": 38
        }
      },
      "source": [
        "# 교차 검증에서의 정확도\n",
        "accuracy_score(y_true=y_train, y_pred=cv_predictions)"
      ],
      "execution_count": 28,
      "outputs": [
        {
          "output_type": "execute_result",
          "data": {
            "text/plain": [
              "0.8683"
            ]
          },
          "metadata": {
            "tags": []
          },
          "execution_count": 28
        }
      ]
    },
    {
      "cell_type": "code",
      "metadata": {
        "id": "GNkJJwjKWUZ9",
        "outputId": "712230ce-cdea-451b-9464-9c48dddfaa8b",
        "colab": {
          "base_uri": "https://localhost:8080/",
          "height": 225
        }
      },
      "source": [
        "# 교차 검증에서의 confusion matrix\n",
        "conf_mat = confusion_matrix(y_true=y_train, y_pred=cv_predictions)\n",
        "conf_mat"
      ],
      "execution_count": 29,
      "outputs": [
        {
          "output_type": "execute_result",
          "data": {
            "text/plain": [
              "array([[5748,    1,   38,   11,    6,   32,   18,    5,   53,   11],\n",
              "       [   2, 6438,   51,   39,    7,   47,    7,   13,  117,   21],\n",
              "       [  77,   70, 5126,  108,   57,   70,   71,   65,  288,   26],\n",
              "       [  66,   24,  218, 4917,   10,  481,   10,   56,  246,  103],\n",
              "       [  39,   30,   36,   15, 5149,   93,   31,   27,  128,  294],\n",
              "       [  88,   16,   65,  127,   45, 4633,   54,   20,  269,  104],\n",
              "       [  92,   27,  151,    9,   45,  226, 5230,    1,  135,    2],\n",
              "       [  43,   17,   65,   39,   75,   32,    2, 5547,   58,  387],\n",
              "       [  74,  122,  128,  231,   52,  606,   36,   37, 4381,  184],\n",
              "       [  62,   28,   23,   86,  241,  167,    0,  270,  143, 4929]])"
            ]
          },
          "metadata": {
            "tags": []
          },
          "execution_count": 29
        }
      ]
    },
    {
      "cell_type": "code",
      "metadata": {
        "id": "SY7Hof7zW7X5",
        "outputId": "cad2ebd6-514f-4e12-e9bf-e58629993b59",
        "colab": {
          "base_uri": "https://localhost:8080/",
          "height": 296
        }
      },
      "source": [
        "# confusion matrix 시각화\n",
        "plt.matshow(conf_mat, cmap=plt.cm.gray)\n",
        "# cmap=plt.cm.binary: 최솟값(흰색) ~ 최댓값(검은색)\n",
        "# cmap=plt.cm.gray: 최솟값(검은색) ~ 최댓값(흰색)"
      ],
      "execution_count": 32,
      "outputs": [
        {
          "output_type": "execute_result",
          "data": {
            "text/plain": [
              "<matplotlib.image.AxesImage at 0x7fb061735ba8>"
            ]
          },
          "metadata": {
            "tags": []
          },
          "execution_count": 32
        },
        {
          "output_type": "display_data",
          "data": {
            "image/png": "[encoded data removed]",
            "text/plain": [
              "<Figure size 288x288 with 1 Axes>"
            ]
          },
          "metadata": {
            "tags": [],
            "needs_background": "light"
          }
        }
      ]
    },
    {
      "cell_type": "code",
      "metadata": {
        "id": "bTMVWNnuY6su",
        "outputId": "5668325e-707a-42d1-a7f8-183f3ce0de1b",
        "colab": {
          "base_uri": "https://localhost:8080/",
          "height": 204
        }
      },
      "source": [
        "# 클래스(0, 1, 2, ..., 9)마다 샘플들의 개수가 균일하지 않기 때문에,\n",
        "# confusion matrix의 수치보다는 각 클래스에서의 비율로 분석을 하는 게 더 낫지 않을까?\n",
        "A = np.random.randint(0, 10, size=(3, 4))\n",
        "print(A)\n",
        "# sum_row = np.sum(A, axis=1).reshape((3,1))\n",
        "sum_row = np.sum(A, axis=1, keepdims=True)\n",
        "print(sum_row)\n",
        "print(A / sum_row)"
      ],
      "execution_count": 37,
      "outputs": [
        {
          "output_type": "stream",
          "text": [
            "[[4 3 6 7]\n",
            " [9 8 3 0]\n",
            " [7 6 4 6]]\n",
            "[[20]\n",
            " [20]\n",
            " [23]]\n",
            "[[0.2        0.15       0.3        0.35      ]\n",
            " [0.45       0.4        0.15       0.        ]\n",
            " [0.30434783 0.26086957 0.17391304 0.26086957]]\n"
          ],
          "name": "stdout"
        }
      ]
    },
    {
      "cell_type": "code",
      "metadata": {
        "id": "n5J34PRBbWlI",
        "outputId": "dfb5eb5f-451b-47c3-df70-36ff97bd200e",
        "colab": {
          "base_uri": "https://localhost:8080/",
          "height": 641
        }
      },
      "source": [
        "# 각 클래스의 샘플 갯수로 각 셀의 숫자들은 나눈 행렬.\n",
        "norm_conf_matrix = conf_mat / np.sum(conf_mat, axis=1, keepdims=True)\n",
        "norm_conf_matrix"
      ],
      "execution_count": 38,
      "outputs": [
        {
          "output_type": "execute_result",
          "data": {
            "text/plain": [
              "array([[9.70454162e-01, 1.68833361e-04, 6.41566774e-03, 1.85716698e-03,\n",
              "        1.01300017e-03, 5.40266757e-03, 3.03900051e-03, 8.44166807e-04,\n",
              "        8.94816816e-03, 1.85716698e-03],\n",
              "       [2.96647879e-04, 9.54909522e-01, 7.56452091e-03, 5.78463364e-03,\n",
              "        1.03826758e-03, 6.97122516e-03, 1.03826758e-03, 1.92821121e-03,\n",
              "        1.73539009e-02, 3.11480273e-03],\n",
              "       [1.29237999e-02, 1.17489090e-02, 8.60355824e-01, 1.81268882e-02,\n",
              "        9.56696878e-03, 1.17489090e-02, 1.19167506e-02, 1.09097012e-02,\n",
              "        4.83383686e-02, 4.36388050e-03],\n",
              "       [1.07649649e-02, 3.91453270e-03, 3.55570054e-02, 8.01989887e-01,\n",
              "        1.63105529e-03, 7.84537596e-02, 1.63105529e-03, 9.13390964e-03,\n",
              "        4.01239602e-02, 1.67998695e-02],\n",
              "       [6.67579596e-03, 5.13522766e-03, 6.16227319e-03, 2.56761383e-03,\n",
              "        8.81376241e-01, 1.59192058e-02, 5.30640192e-03, 4.62170490e-03,\n",
              "        2.19103047e-02, 5.03252311e-02],\n",
              "       [1.62331673e-02, 2.95148497e-03, 1.19904077e-02, 2.34274119e-02,\n",
              "        8.30105147e-03, 8.54639365e-01, 9.96126176e-03, 3.68935621e-03,\n",
              "        4.96218410e-02, 1.91846523e-02],\n",
              "       [1.55457925e-02, 4.56235215e-03, 2.55153768e-02, 1.52078405e-03,\n",
              "        7.60392024e-03, 3.81885772e-02, 8.83744508e-01, 1.68976005e-04,\n",
              "        2.28117607e-02, 3.37952011e-04],\n",
              "       [6.86352753e-03, 2.71348763e-03, 1.03750998e-02, 6.22505986e-03,\n",
              "        1.19712690e-02, 5.10774142e-03, 3.19233839e-04, 8.85395052e-01,\n",
              "        9.25778132e-03, 6.17717478e-02],\n",
              "       [1.26474107e-02, 2.08511366e-02, 2.18766023e-02, 3.94804307e-02,\n",
              "        8.88736968e-03, 1.03572039e-01, 6.15279439e-03, 6.32370535e-03,\n",
              "        7.48760896e-01, 3.14476158e-02],\n",
              "       [1.04219197e-02, 4.70667339e-03, 3.86619600e-03, 1.44562111e-02,\n",
              "        4.05110103e-02, 2.80719449e-02, 0.00000000e+00, 4.53857791e-02,\n",
              "        2.40376534e-02, 8.28542612e-01]])"
            ]
          },
          "metadata": {
            "tags": []
          },
          "execution_count": 38
        }
      ]
    },
    {
      "cell_type": "code",
      "metadata": {
        "id": "zLS0CnFuciIc",
        "outputId": "37bdf3de-a6ec-4dc0-b70e-494b3cbe5763",
        "colab": {
          "base_uri": "https://localhost:8080/",
          "height": 296
        }
      },
      "source": [
        "plt.matshow(norm_conf_matrix, cmap=plt.cm.gray)"
      ],
      "execution_count": 40,
      "outputs": [
        {
          "output_type": "execute_result",
          "data": {
            "text/plain": [
              "<matplotlib.image.AxesImage at 0x7fb06162f828>"
            ]
          },
          "metadata": {
            "tags": []
          },
          "execution_count": 40
        },
        {
          "output_type": "display_data",
          "data": {
            "image/png": "[encoded data removed]",
            "text/plain": [
              "<Figure size 288x288 with 1 Axes>"
            ]
          },
          "metadata": {
            "tags": [],
            "needs_background": "light"
          }
        }
      ]
    },
    {
      "cell_type": "code",
      "metadata": {
        "id": "k0ert49uep3-",
        "outputId": "ca743e8e-b3b2-4580-baf3-8e8c22666d7e",
        "colab": {
          "base_uri": "https://localhost:8080/",
          "height": 296
        }
      },
      "source": [
        "# 대각선의 값들(정답률, TPR)이 너무 커서 다른 셀들이 너무 어둡게 보임.\n",
        "# 오차 분석에서 대각선은 관심이 없는 부분 -> 대각선을 0으로 채워서 검은색으로 표현\n",
        "# -> 다른 셀들은 상대적으로 밝게 보임.\n",
        "np.fill_diagonal(norm_conf_matrix, val=0)\n",
        "plt.matshow(norm_conf_matrix, cmap=plt.cm.gray)"
      ],
      "execution_count": 41,
      "outputs": [
        {
          "output_type": "execute_result",
          "data": {
            "text/plain": [
              "<matplotlib.image.AxesImage at 0x7fb06160de48>"
            ]
          },
          "metadata": {
            "tags": []
          },
          "execution_count": 41
        },
        {
          "output_type": "display_data",
          "data": {
            "image/png": "[encoded data removed]",
            "text/plain": [
              "<Figure size 288x288 with 1 Axes>"
            ]
          },
          "metadata": {
            "tags": [],
            "needs_background": "light"
          }
        }
      ]
    },
    {
      "cell_type": "code",
      "metadata": {
        "id": "ZX1uc9YqdBJO"
      },
      "source": [
        ""
      ],
      "execution_count": null,
      "outputs": []
    },
    {
      "cell_type": "markdown",
      "metadata": {
        "id": "sltcYsdxdBbW"
      },
      "source": [
        "* sklearn.neighbors.KNeighborsClassifier 클래스 사용\n",
        "* GridSearchCV에서 weights 파라미터와 n_neighbors 파라미터 조합을 실험\n",
        "* 훈련 셋에서 정확도(accuracy)가 97% 이상이 되는 kNN 모델을 찾음.\n",
        "* 최적 모델에서 테스트 셋에서의 정확도를 계산."
      ]
    }
  ]
}