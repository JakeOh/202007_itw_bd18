{
  "nbformat": 4,
  "nbformat_minor": 0,
  "metadata": {
    "colab": {
      "name": "ml07_svm_classification.ipynb",
      "provenance": [],
      "collapsed_sections": [],
      "authorship_tag": "ABX9TyOgnofQNhFRvZqm/7AN3MKp",
      "include_colab_link": true
    },
    "kernelspec": {
      "name": "python3",
      "display_name": "Python 3"
    }
  },
  "cells": [
    {
      "cell_type": "markdown",
      "metadata": {
        "id": "view-in-github",
        "colab_type": "text"
      },
      "source": [
        "<a href=\"https://colab.research.google.com/github/JakeOh/202007_itw_bd18/blob/master/lab_ml/ml07_svm_classification.ipynb\" target=\"_parent\"><img src=\"https://colab.research.google.com/assets/colab-badge.svg\" alt=\"Open In Colab\"/></a>"
      ]
    },
    {
      "cell_type": "code",
      "metadata": {
        "id": "o6FMJg8a8IuI"
      },
      "source": [
        "import numpy as np\n",
        "import matplotlib.pyplot as plt\n",
        "\n",
        "from sklearn.datasets import load_iris\n",
        "from sklearn.svm import LinearSVC  # 선형 SVM을 사용한 분류"
      ],
      "execution_count": 1,
      "outputs": []
    },
    {
      "cell_type": "code",
      "metadata": {
        "id": "Qj8FX5Zo8yx_"
      },
      "source": [
        "iris = load_iris()\n",
        "X, y = iris['data'], iris['target']"
      ],
      "execution_count": 24,
      "outputs": []
    },
    {
      "cell_type": "code",
      "metadata": {
        "id": "nrt14W7M88Z3",
        "outputId": "5f24b0da-c904-4196-cf79-4f38693278ba",
        "colab": {
          "base_uri": "https://localhost:8080/"
        }
      },
      "source": [
        "# 특성들(features) 중에서 꽃잎 길이, 너비만 선택\n",
        "X = X[:, 2:]\n",
        "X[:5]"
      ],
      "execution_count": 25,
      "outputs": [
        {
          "output_type": "execute_result",
          "data": {
            "text/plain": [
              "array([[1.4, 0.2],\n",
              "       [1.4, 0.2],\n",
              "       [1.3, 0.2],\n",
              "       [1.5, 0.2],\n",
              "       [1.4, 0.2]])"
            ]
          },
          "metadata": {
            "tags": []
          },
          "execution_count": 25
        }
      ]
    },
    {
      "cell_type": "code",
      "metadata": {
        "id": "pVslCS7u9rCX",
        "outputId": "cfde0a5c-01a3-4f4d-bd4b-34a9c2c109ef",
        "colab": {
          "base_uri": "https://localhost:8080/"
        }
      },
      "source": [
        "# 2진 분류(virginica vs not-virginica)\n",
        "y = (y == 2).astype(np.int16)\n",
        "y[:5], y[-5:]"
      ],
      "execution_count": 26,
      "outputs": [
        {
          "output_type": "execute_result",
          "data": {
            "text/plain": [
              "(array([0, 0, 0, 0, 0], dtype=int16), array([1, 1, 1, 1, 1], dtype=int16))"
            ]
          },
          "metadata": {
            "tags": []
          },
          "execution_count": 26
        }
      ]
    },
    {
      "cell_type": "code",
      "metadata": {
        "id": "snMjY1Lb9cWn",
        "outputId": "f03272cf-be84-453a-d05c-64190e5ef910",
        "colab": {
          "base_uri": "https://localhost:8080/",
          "height": 300
        }
      },
      "source": [
        "# 샘플들을 2차원 평면(x: petal length, y: petal width, color: 품종)에 시각화\n",
        "plt.scatter(X[y == 1, 0], X[y == 1, 1], label='virginica')      # X[:50, 0]\n",
        "plt.scatter(X[y == 0, 0], X[y == 0, 1], label='not virginica')  # X[50:, 0]\n",
        "\n",
        "plt.legend()\n",
        "plt.grid()\n",
        "plt.xlabel('petal length')\n",
        "plt.ylabel('petal width')"
      ],
      "execution_count": 27,
      "outputs": [
        {
          "output_type": "execute_result",
          "data": {
            "text/plain": [
              "Text(0, 0.5, 'petal width')"
            ]
          },
          "metadata": {
            "tags": []
          },
          "execution_count": 27
        },
        {
          "output_type": "display_data",
          "data": {
            "image/png": "[encoded data removed]",
            "text/plain": [
              "<Figure size 432x288 with 1 Axes>"
            ]
          },
          "metadata": {
            "tags": [],
            "needs_background": "light"
          }
        }
      ]
    },
    {
      "cell_type": "code",
      "metadata": {
        "id": "Eqqp0UF0_SzB",
        "outputId": "822bb712-9021-4a53-f736-c8f4ac8c7c88",
        "colab": {
          "base_uri": "https://localhost:8080/"
        }
      },
      "source": [
        "# 모델 생성\n",
        "svc = LinearSVC(random_state=1, C=1e3)\n",
        "# 모델 훈련\n",
        "svc.fit(X, y)"
      ],
      "execution_count": 28,
      "outputs": [
        {
          "output_type": "stream",
          "text": [
            "/usr/local/lib/python3.6/dist-packages/sklearn/svm/_base.py:947: ConvergenceWarning: Liblinear failed to converge, increase the number of iterations.\n",
            "  \"the number of iterations.\", ConvergenceWarning)\n"
          ],
          "name": "stderr"
        },
        {
          "output_type": "execute_result",
          "data": {
            "text/plain": [
              "LinearSVC(C=1000.0, class_weight=None, dual=True, fit_intercept=True,\n",
              "          intercept_scaling=1, loss='squared_hinge', max_iter=1000,\n",
              "          multi_class='ovr', penalty='l2', random_state=1, tol=0.0001,\n",
              "          verbose=0)"
            ]
          },
          "metadata": {
            "tags": []
          },
          "execution_count": 28
        }
      ]
    },
    {
      "cell_type": "code",
      "metadata": {
        "id": "vlg7TkLxAjBw",
        "outputId": "d2cc2caa-025d-4aa6-c3c6-11a5576c6d55",
        "colab": {
          "base_uri": "https://localhost:8080/"
        }
      },
      "source": [
        "b0, (b1, b2) = svc.intercept_[0], svc.coef_[0]\n",
        "b0, b1, b2  # b0 + b1 * x1 + b2 * x2 = 0: 결정 경계 직선(평면)의 방정식"
      ],
      "execution_count": 29,
      "outputs": [
        {
          "output_type": "execute_result",
          "data": {
            "text/plain": [
              "(-11.042323015598502, 1.4941447587355887, 3.0322307819039334)"
            ]
          },
          "metadata": {
            "tags": []
          },
          "execution_count": 29
        }
      ]
    },
    {
      "cell_type": "code",
      "metadata": {
        "id": "_MUKjOnfBxIQ"
      },
      "source": [
        "def plot_decision_boundary(model, x_min, x_max):\n",
        "    # 결정 경계면을 그리기 위한 x 좌표\n",
        "    x_pts = np.linspace(x_min, x_max, 50)\n",
        "    # 모델에서 찾은 평면의 방정식\n",
        "    b0, (b1, b2) = model.intercept_[0], model.coef_[0]\n",
        "    y_pts = (-1/b2) * (b0 + b1 * x_pts)\n",
        "    plt.plot(x_pts, y_pts, 'r-')  # 결정 경계면(decision boundary)\n",
        "    plt.plot(x_pts, y_pts + (1/b2), 'k-')  # SV가 놓여 있는 평면\n",
        "    plt.plot(x_pts, y_pts - (1/b2), 'k-')  # SV가 놓여 있는 평면\n",
        "\n",
        "    # 샘플들 시각화\n",
        "    plt.scatter(X[y == 1, 0], X[y == 1, 1], label='virginica')      # X[:50, 0]\n",
        "    plt.scatter(X[y == 0, 0], X[y == 0, 1], label='not virginica')  # X[50:, 0]\n",
        "\n",
        "    plt.legend()\n",
        "    plt.grid()\n",
        "    plt.xlabel('petal length')\n",
        "    plt.ylabel('petal width')"
      ],
      "execution_count": 34,
      "outputs": []
    },
    {
      "cell_type": "code",
      "metadata": {
        "id": "XUA9UqTUKJAH",
        "outputId": "5cf073c9-2686-4a80-d29a-b0f6044ec467",
        "colab": {
          "base_uri": "https://localhost:8080/",
          "height": 279
        }
      },
      "source": [
        "plot_decision_boundary(svc, x_min=3, x_max=6)"
      ],
      "execution_count": 35,
      "outputs": [
        {
          "output_type": "display_data",
          "data": {
            "image/png": "[encoded data removed]",
            "text/plain": [
              "<Figure size 432x288 with 1 Axes>"
            ]
          },
          "metadata": {
            "tags": [],
            "needs_background": "light"
          }
        }
      ]
    },
    {
      "cell_type": "markdown",
      "metadata": {
        "id": "RklHUTlMKpKu"
      },
      "source": [
        "* 규제와 결정 경계면 관계\n",
        "  * `C = 1 / alpha`\n",
        "  * C가 크면, alpha가 작아짐 -> 규제가 작아짐 -> 훈련 셋에 더 많이 fitting: overfitting 가능성 커짐.\n",
        "  * C가 작으면, alpha는 커짐 -> 규제가 커짐 -> 훈련 셋의 오차(손실/비용)가 커짐: 모델은 훈련되지 않은 셋에 더 잘 일반화될 수 있음."
      ]
    },
    {
      "cell_type": "code",
      "metadata": {
        "id": "oS563hflMERG",
        "outputId": "c6cc3fdd-035a-4504-fa95-a4268dae15de",
        "colab": {
          "base_uri": "https://localhost:8080/",
          "height": 279
        }
      },
      "source": [
        "svc2 = LinearSVC(C=1.0, random_state=1)\n",
        "svc2.fit(X, y)\n",
        "plot_decision_boundary(svc2, x_min=3, x_max=7)"
      ],
      "execution_count": 38,
      "outputs": [
        {
          "output_type": "display_data",
          "data": {
            "image/png": "[encoded data removed]",
            "text/plain": [
              "<Figure size 432x288 with 1 Axes>"
            ]
          },
          "metadata": {
            "tags": [],
            "needs_background": "light"
          }
        }
      ]
    },
    {
      "cell_type": "markdown",
      "metadata": {
        "id": "iPmHr4zcRb2w"
      },
      "source": [
        "* iris 데이터 셋을 사용, multi-class 분류.\n",
        "* 테스트 셋은 전체 샘플 크기의 20%를 사용. 계층적 분리(stratified split)을 사용.\n",
        "* LinearSVC, 특성 스케일링(표준화)를 사용한 LinearSVC, 특성 스케일링을 사용한 SVC(kernel='linear'), 특성 스케일링을 사용한 SGDClassifier를 비교하세요.\n",
        "  * 훈련 셋의 classification report, 테스트 셋의 classification report"
      ]
    },
    {
      "cell_type": "code",
      "metadata": {
        "id": "ZU7pf1yYWkfV"
      },
      "source": [
        "from sklearn.model_selection import train_test_split\n",
        "from sklearn.pipeline import Pipeline\n",
        "from sklearn.metrics import confusion_matrix, classification_report"
      ],
      "execution_count": 42,
      "outputs": []
    },
    {
      "cell_type": "code",
      "metadata": {
        "id": "gyqs3JsuWQwu"
      },
      "source": [
        "def train_test_report(X, y, classifier, scaler=None):\n",
        "    # 데이터(X)와 레이블(y)을 훈련 셋과 테스트 셋으로 계층적 분리.\n",
        "    X_train, X_test, y_train, y_test = \\\n",
        "        train_test_split(X, y, test_size=0.2, stratify=y, random_state=1)\n",
        "    # 모델 생성\n",
        "    if scaler: # 특성 변환기가 있는 경우\n",
        "        model = Pipeline([('scaler', scaler),\n",
        "                          ('clf', classifier)])\n",
        "    else:  # scaler가 없는 경우\n",
        "        model = classifier\n",
        "\n",
        "    # 모델 훈련(훈련 셋에 모델을 fitting)\n",
        "    model.fit(X_train, y_train)\n",
        "\n",
        "    # 훈련 셋 평가 리포트\n",
        "    sets = [('Train Set', X_train, y_train),\n",
        "            ('Test Set', X_test, y_test)]\n",
        "    for title, X, y in sets:\n",
        "        print(f'===== {title} =====')\n",
        "        y_preds = model.predict(X)\n",
        "        conf_mat = confusion_matrix(y, y_preds)\n",
        "        print(conf_mat)\n",
        "        report = classification_report(y, y_preds)\n",
        "        print(report)"
      ],
      "execution_count": 46,
      "outputs": []
    },
    {
      "cell_type": "code",
      "metadata": {
        "id": "k1xV5McoYgrL"
      },
      "source": [
        "X, y = load_iris(return_X_y=True)"
      ],
      "execution_count": 44,
      "outputs": []
    },
    {
      "cell_type": "code",
      "metadata": {
        "id": "jAgQ75rsYXTa",
        "outputId": "1a72d7ac-ed13-4883-8a96-0adc7719486b",
        "colab": {
          "base_uri": "https://localhost:8080/"
        }
      },
      "source": [
        "lin_svc = LinearSVC(random_state=1)\n",
        "train_test_report(X, y, lin_svc)"
      ],
      "execution_count": 47,
      "outputs": [
        {
          "output_type": "stream",
          "text": [
            "===== Train Set =====\n",
            "[[40  0  0]\n",
            " [ 0 38  2]\n",
            " [ 0  1 39]]\n",
            "              precision    recall  f1-score   support\n",
            "\n",
            "           0       1.00      1.00      1.00        40\n",
            "           1       0.97      0.95      0.96        40\n",
            "           2       0.95      0.97      0.96        40\n",
            "\n",
            "    accuracy                           0.97       120\n",
            "   macro avg       0.98      0.97      0.97       120\n",
            "weighted avg       0.98      0.97      0.97       120\n",
            "\n",
            "===== Test Set =====\n",
            "[[10  0  0]\n",
            " [ 0 10  0]\n",
            " [ 0  0 10]]\n",
            "              precision    recall  f1-score   support\n",
            "\n",
            "           0       1.00      1.00      1.00        10\n",
            "           1       1.00      1.00      1.00        10\n",
            "           2       1.00      1.00      1.00        10\n",
            "\n",
            "    accuracy                           1.00        30\n",
            "   macro avg       1.00      1.00      1.00        30\n",
            "weighted avg       1.00      1.00      1.00        30\n",
            "\n"
          ],
          "name": "stdout"
        },
        {
          "output_type": "stream",
          "text": [
            "/usr/local/lib/python3.6/dist-packages/sklearn/svm/_base.py:947: ConvergenceWarning: Liblinear failed to converge, increase the number of iterations.\n",
            "  \"the number of iterations.\", ConvergenceWarning)\n"
          ],
          "name": "stderr"
        }
      ]
    },
    {
      "cell_type": "code",
      "metadata": {
        "id": "Ju4TU0RcZFal"
      },
      "source": [
        "from sklearn.preprocessing import StandardScaler"
      ],
      "execution_count": 48,
      "outputs": []
    },
    {
      "cell_type": "code",
      "metadata": {
        "id": "XAB8op1YYoWz",
        "outputId": "11631888-7050-4e23-e476-6326ba7fba70",
        "colab": {
          "base_uri": "https://localhost:8080/"
        }
      },
      "source": [
        "lin_svc = ndom_state=1)\n",
        "std_scaler = StandardScaler()\n",
        "train_test_report(X, yLinearSVC(ra, lin_svc, std_scaler)"
      ],
      "execution_count": 49,
      "outputs": [
        {
          "output_type": "stream",
          "text": [
            "===== Train Set =====\n",
            "[[40  0  0]\n",
            " [ 0 37  3]\n",
            " [ 0  3 37]]\n",
            "              precision    recall  f1-score   support\n",
            "\n",
            "           0       1.00      1.00      1.00        40\n",
            "           1       0.93      0.93      0.93        40\n",
            "           2       0.93      0.93      0.93        40\n",
            "\n",
            "    accuracy                           0.95       120\n",
            "   macro avg       0.95      0.95      0.95       120\n",
            "weighted avg       0.95      0.95      0.95       120\n",
            "\n",
            "===== Test Set =====\n",
            "[[10  0  0]\n",
            " [ 0  9  1]\n",
            " [ 0  1  9]]\n",
            "              precision    recall  f1-score   support\n",
            "\n",
            "           0       1.00      1.00      1.00        10\n",
            "           1       0.90      0.90      0.90        10\n",
            "           2       0.90      0.90      0.90        10\n",
            "\n",
            "    accuracy                           0.93        30\n",
            "   macro avg       0.93      0.93      0.93        30\n",
            "weighted avg       0.93      0.93      0.93        30\n",
            "\n"
          ],
          "name": "stdout"
        }
      ]
    },
    {
      "cell_type": "code",
      "metadata": {
        "id": "3RysWQupZd9l"
      },
      "source": [
        "from sklearn.svm import SVC"
      ],
      "execution_count": 50,
      "outputs": []
    },
    {
      "cell_type": "code",
      "metadata": {
        "id": "UUIhcNEAZVlc",
        "outputId": "e8df710e-7d5a-4742-80dd-05b84736689b",
        "colab": {
          "base_uri": "https://localhost:8080/"
        }
      },
      "source": [
        "svc_clf = SVC(kernel='linear', random_state=1)\n",
        "train_test_report(X, y, svc_clf, std_scaler)"
      ],
      "execution_count": 51,
      "outputs": [
        {
          "output_type": "stream",
          "text": [
            "===== Train Set =====\n",
            "[[40  0  0]\n",
            " [ 0 37  3]\n",
            " [ 0  1 39]]\n",
            "              precision    recall  f1-score   support\n",
            "\n",
            "           0       1.00      1.00      1.00        40\n",
            "           1       0.97      0.93      0.95        40\n",
            "           2       0.93      0.97      0.95        40\n",
            "\n",
            "    accuracy                           0.97       120\n",
            "   macro avg       0.97      0.97      0.97       120\n",
            "weighted avg       0.97      0.97      0.97       120\n",
            "\n",
            "===== Test Set =====\n",
            "[[10  0  0]\n",
            " [ 0 10  0]\n",
            " [ 0  1  9]]\n",
            "              precision    recall  f1-score   support\n",
            "\n",
            "           0       1.00      1.00      1.00        10\n",
            "           1       0.91      1.00      0.95        10\n",
            "           2       1.00      0.90      0.95        10\n",
            "\n",
            "    accuracy                           0.97        30\n",
            "   macro avg       0.97      0.97      0.97        30\n",
            "weighted avg       0.97      0.97      0.97        30\n",
            "\n"
          ],
          "name": "stdout"
        }
      ]
    },
    {
      "cell_type": "code",
      "metadata": {
        "id": "8tr5QBJOZxWz"
      },
      "source": [
        "from sklearn.linear_model import SGDClassifier"
      ],
      "execution_count": 52,
      "outputs": []
    },
    {
      "cell_type": "code",
      "metadata": {
        "id": "CLT58GEsZu2c",
        "outputId": "3e7d7bd7-c832-4345-ef6c-3fc863d67921",
        "colab": {
          "base_uri": "https://localhost:8080/"
        }
      },
      "source": [
        "sgd_clf = SGDClassifier(random_state=1)\n",
        "train_test_report(X, y, sgd_clf, std_scaler)"
      ],
      "execution_count": 53,
      "outputs": [
        {
          "output_type": "stream",
          "text": [
            "===== Train Set =====\n",
            "[[39  1  0]\n",
            " [ 0 37  3]\n",
            " [ 0  6 34]]\n",
            "              precision    recall  f1-score   support\n",
            "\n",
            "           0       1.00      0.97      0.99        40\n",
            "           1       0.84      0.93      0.88        40\n",
            "           2       0.92      0.85      0.88        40\n",
            "\n",
            "    accuracy                           0.92       120\n",
            "   macro avg       0.92      0.92      0.92       120\n",
            "weighted avg       0.92      0.92      0.92       120\n",
            "\n",
            "===== Test Set =====\n",
            "[[10  0  0]\n",
            " [ 0  9  1]\n",
            " [ 0  2  8]]\n",
            "              precision    recall  f1-score   support\n",
            "\n",
            "           0       1.00      1.00      1.00        10\n",
            "           1       0.82      0.90      0.86        10\n",
            "           2       0.89      0.80      0.84        10\n",
            "\n",
            "    accuracy                           0.90        30\n",
            "   macro avg       0.90      0.90      0.90        30\n",
            "weighted avg       0.90      0.90      0.90        30\n",
            "\n"
          ],
          "name": "stdout"
        }
      ]
    }
  ]
}