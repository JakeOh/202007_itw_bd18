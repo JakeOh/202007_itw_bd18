{
  "nbformat": 4,
  "nbformat_minor": 0,
  "metadata": {
    "colab": {
      "name": "ml02_classification.ipynb",
      "provenance": [],
      "collapsed_sections": [],
      "mount_file_id": "1W3N5u5ye0Uz-QZBk5b7mNNMU-vjafXWJ",
      "authorship_tag": "ABX9TyM1OahSSy6Okgf90vsgh/kP",
      "include_colab_link": true
    },
    "kernelspec": {
      "name": "python3",
      "display_name": "Python 3"
    }
  },
  "cells": [
    {
      "cell_type": "markdown",
      "metadata": {
        "id": "view-in-github",
        "colab_type": "text"
      },
      "source": [
        "<a href=\"https://colab.research.google.com/github/JakeOh/202007_itw_bd18/blob/master/lab_ml/ml02_classification.ipynb\" target=\"_parent\"><img src=\"https://colab.research.google.com/assets/colab-badge.svg\" alt=\"Open In Colab\"/></a>"
      ]
    },
    {
      "cell_type": "markdown",
      "metadata": {
        "id": "w1Z2-8qYdu11"
      },
      "source": [
        "# MNIST(Modified National Institute of Science and Technology) 데이터셋\n",
        "* 손글씨 숫자(0, 1, 2, ..., 9) 데이터\n",
        "* 분류 알고리즘을 테스트할 때 가장 많이 사용되는 데이터 셋\n",
        "* 데이터 셋을 다운로드 후 구글 드라이브에 pickle 형태로 저장 (구글 드라이브 마운트 필요)"
      ]
    },
    {
      "cell_type": "code",
      "metadata": {
        "id": "UM71I5EDdegT"
      },
      "source": [
        "import numpy as np\n",
        "import pandas as pd\n",
        "import matplotlib.pyplot as plt\n",
        "import seaborn as sns"
      ],
      "execution_count": 1,
      "outputs": []
    },
    {
      "cell_type": "code",
      "metadata": {
        "id": "4a3FaSiSfg_b"
      },
      "source": [
        "# MNIST 데이터 셋 다운로드(scikit-learn의 MNIST 예제 데이터 다운로드)\n",
        "from sklearn.datasets import fetch_openml\n",
        "\n",
        "mnist = fetch_openml('mnist_784')"
      ],
      "execution_count": 4,
      "outputs": []
    },
    {
      "cell_type": "code",
      "metadata": {
        "id": "vaW8YgCJg8r1",
        "outputId": "edb7c465-fb7c-4d50-8d6f-808ba2f99680",
        "colab": {
          "base_uri": "https://localhost:8080/",
          "height": 38
        }
      },
      "source": [
        "mnist.keys()  # dict의 key들의 리스트 (mnist 데이터 셋은 dict 형태의 데이터)"
      ],
      "execution_count": 6,
      "outputs": [
        {
          "output_type": "execute_result",
          "data": {
            "text/plain": [
              "dict_keys(['data', 'target', 'frame', 'feature_names', 'target_names', 'DESCR', 'details', 'categories', 'url'])"
            ]
          },
          "metadata": {
            "tags": []
          },
          "execution_count": 6
        }
      ]
    },
    {
      "cell_type": "code",
      "metadata": {
        "id": "ljNuq-INhfxc",
        "outputId": "0ac5b9de-b0ce-4b04-aa2f-e7ba7b835935",
        "colab": {
          "base_uri": "https://localhost:8080/",
          "height": 184
        }
      },
      "source": [
        "mnist['DESCR']  # describe, description"
      ],
      "execution_count": 7,
      "outputs": [
        {
          "output_type": "execute_result",
          "data": {
            "application/vnd.google.colaboratory.intrinsic+json": {
              "type": "string"
            },
            "text/plain": [
              "\"**Author**: Yann LeCun, Corinna Cortes, Christopher J.C. Burges  \\n**Source**: [MNIST Website](http://yann.lecun.com/exdb/mnist/) - Date unknown  \\n**Please cite**:  \\n\\nThe MNIST database of handwritten digits with 784 features, raw data available at: http://yann.lecun.com/exdb/mnist/. It can be split in a training set of the first 60,000 examples, and a test set of 10,000 examples  \\n\\nIt is a subset of a larger set available from NIST. The digits have been size-normalized and centered in a fixed-size image. It is a good database for people who want to try learning techniques and pattern recognition methods on real-world data while spending minimal efforts on preprocessing and formatting. The original black and white (bilevel) images from NIST were size normalized to fit in a 20x20 pixel box while preserving their aspect ratio. The resulting images contain grey levels as a result of the anti-aliasing technique used by the normalization algorithm. the images were centered in a 28x28 image by computing the center of mass of the pixels, and translating the image so as to position this point at the center of the 28x28 field.  \\n\\nWith some classification methods (particularly template-based methods, such as SVM and K-nearest neighbors), the error rate improves when the digits are centered by bounding box rather than center of mass. If you do this kind of pre-processing, you should report it in your publications. The MNIST database was constructed from NIST's NIST originally designated SD-3 as their training set and SD-1 as their test set. However, SD-3 is much cleaner and easier to recognize than SD-1. The reason for this can be found on the fact that SD-3 was collected among Census Bureau employees, while SD-1 was collected among high-school students. Drawing sensible conclusions from learning experiments requires that the result be independent of the choice of training set and test among the complete set of samples. Therefore it was necessary to build a new database by mixing NIST's datasets.  \\n\\nThe MNIST training set is composed of 30,000 patterns from SD-3 and 30,000 patterns from SD-1. Our test set was composed of 5,000 patterns from SD-3 and 5,000 patterns from SD-1. The 60,000 pattern training set contained examples from approximately 250 writers. We made sure that the sets of writers of the training set and test set were disjoint. SD-1 contains 58,527 digit images written by 500 different writers. In contrast to SD-3, where blocks of data from each writer appeared in sequence, the data in SD-1 is scrambled. Writer identities for SD-1 is available and we used this information to unscramble the writers. We then split SD-1 in two: characters written by the first 250 writers went into our new training set. The remaining 250 writers were placed in our test set. Thus we had two sets with nearly 30,000 examples each. The new training set was completed with enough examples from SD-3, starting at pattern # 0, to make a full set of 60,000 training patterns. Similarly, the new test set was completed with SD-3 examples starting at pattern # 35,000 to make a full set with 60,000 test patterns. Only a subset of 10,000 test images (5,000 from SD-1 and 5,000 from SD-3) is available on this site. The full 60,000 sample training set is available.\\n\\nDownloaded from openml.org.\""
            ]
          },
          "metadata": {
            "tags": []
          },
          "execution_count": 7
        }
      ]
    },
    {
      "cell_type": "code",
      "metadata": {
        "id": "1tkc3WUginvb"
      },
      "source": [
        "X, y = mnist['data'], mnist['target']  # numpy.ndarray"
      ],
      "execution_count": 9,
      "outputs": []
    },
    {
      "cell_type": "code",
      "metadata": {
        "id": "o9qWC0AxjAUy",
        "outputId": "aef79d04-f202-476c-9066-3dce23940d7e",
        "colab": {
          "base_uri": "https://localhost:8080/",
          "height": 38
        }
      },
      "source": [
        "X.shape  # 784(28x28) pixel 이미지 70,000개 데이터"
      ],
      "execution_count": 10,
      "outputs": [
        {
          "output_type": "execute_result",
          "data": {
            "text/plain": [
              "(70000, 784)"
            ]
          },
          "metadata": {
            "tags": []
          },
          "execution_count": 10
        }
      ]
    },
    {
      "cell_type": "code",
      "metadata": {
        "id": "6bfLtB3GjiTa",
        "outputId": "c1f20c13-c640-4b37-bc46-4b336b9123f2",
        "colab": {
          "base_uri": "https://localhost:8080/",
          "height": 1000
        }
      },
      "source": [
        "X[0]  # 첫번째 이미지 샘플 픽셀 데이터(각 픽셀에는 0 ~ 255까지의 숫자들이 저장)"
      ],
      "execution_count": 11,
      "outputs": [
        {
          "output_type": "execute_result",
          "data": {
            "text/plain": [
              "array([  0.,   0.,   0.,   0.,   0.,   0.,   0.,   0.,   0.,   0.,   0.,\n",
              "         0.,   0.,   0.,   0.,   0.,   0.,   0.,   0.,   0.,   0.,   0.,\n",
              "         0.,   0.,   0.,   0.,   0.,   0.,   0.,   0.,   0.,   0.,   0.,\n",
              "         0.,   0.,   0.,   0.,   0.,   0.,   0.,   0.,   0.,   0.,   0.,\n",
              "         0.,   0.,   0.,   0.,   0.,   0.,   0.,   0.,   0.,   0.,   0.,\n",
              "         0.,   0.,   0.,   0.,   0.,   0.,   0.,   0.,   0.,   0.,   0.,\n",
              "         0.,   0.,   0.,   0.,   0.,   0.,   0.,   0.,   0.,   0.,   0.,\n",
              "         0.,   0.,   0.,   0.,   0.,   0.,   0.,   0.,   0.,   0.,   0.,\n",
              "         0.,   0.,   0.,   0.,   0.,   0.,   0.,   0.,   0.,   0.,   0.,\n",
              "         0.,   0.,   0.,   0.,   0.,   0.,   0.,   0.,   0.,   0.,   0.,\n",
              "         0.,   0.,   0.,   0.,   0.,   0.,   0.,   0.,   0.,   0.,   0.,\n",
              "         0.,   0.,   0.,   0.,   0.,   0.,   0.,   0.,   0.,   0.,   0.,\n",
              "         0.,   0.,   0.,   0.,   0.,   0.,   0.,   0.,   0.,   0.,   0.,\n",
              "         0.,   0.,   0.,   0.,   0.,   0.,   0.,   0.,   0.,   3.,  18.,\n",
              "        18.,  18., 126., 136., 175.,  26., 166., 255., 247., 127.,   0.,\n",
              "         0.,   0.,   0.,   0.,   0.,   0.,   0.,   0.,   0.,   0.,   0.,\n",
              "        30.,  36.,  94., 154., 170., 253., 253., 253., 253., 253., 225.,\n",
              "       172., 253., 242., 195.,  64.,   0.,   0.,   0.,   0.,   0.,   0.,\n",
              "         0.,   0.,   0.,   0.,   0.,  49., 238., 253., 253., 253., 253.,\n",
              "       253., 253., 253., 253., 251.,  93.,  82.,  82.,  56.,  39.,   0.,\n",
              "         0.,   0.,   0.,   0.,   0.,   0.,   0.,   0.,   0.,   0.,   0.,\n",
              "        18., 219., 253., 253., 253., 253., 253., 198., 182., 247., 241.,\n",
              "         0.,   0.,   0.,   0.,   0.,   0.,   0.,   0.,   0.,   0.,   0.,\n",
              "         0.,   0.,   0.,   0.,   0.,   0.,   0.,  80., 156., 107., 253.,\n",
              "       253., 205.,  11.,   0.,  43., 154.,   0.,   0.,   0.,   0.,   0.,\n",
              "         0.,   0.,   0.,   0.,   0.,   0.,   0.,   0.,   0.,   0.,   0.,\n",
              "         0.,   0.,   0.,  14.,   1., 154., 253.,  90.,   0.,   0.,   0.,\n",
              "         0.,   0.,   0.,   0.,   0.,   0.,   0.,   0.,   0.,   0.,   0.,\n",
              "         0.,   0.,   0.,   0.,   0.,   0.,   0.,   0.,   0.,   0.,   0.,\n",
              "       139., 253., 190.,   2.,   0.,   0.,   0.,   0.,   0.,   0.,   0.,\n",
              "         0.,   0.,   0.,   0.,   0.,   0.,   0.,   0.,   0.,   0.,   0.,\n",
              "         0.,   0.,   0.,   0.,   0.,   0.,  11., 190., 253.,  70.,   0.,\n",
              "         0.,   0.,   0.,   0.,   0.,   0.,   0.,   0.,   0.,   0.,   0.,\n",
              "         0.,   0.,   0.,   0.,   0.,   0.,   0.,   0.,   0.,   0.,   0.,\n",
              "         0.,   0.,  35., 241., 225., 160., 108.,   1.,   0.,   0.,   0.,\n",
              "         0.,   0.,   0.,   0.,   0.,   0.,   0.,   0.,   0.,   0.,   0.,\n",
              "         0.,   0.,   0.,   0.,   0.,   0.,   0.,   0.,   0.,  81., 240.,\n",
              "       253., 253., 119.,  25.,   0.,   0.,   0.,   0.,   0.,   0.,   0.,\n",
              "         0.,   0.,   0.,   0.,   0.,   0.,   0.,   0.,   0.,   0.,   0.,\n",
              "         0.,   0.,   0.,   0.,   0.,  45., 186., 253., 253., 150.,  27.,\n",
              "         0.,   0.,   0.,   0.,   0.,   0.,   0.,   0.,   0.,   0.,   0.,\n",
              "         0.,   0.,   0.,   0.,   0.,   0.,   0.,   0.,   0.,   0.,   0.,\n",
              "         0.,  16.,  93., 252., 253., 187.,   0.,   0.,   0.,   0.,   0.,\n",
              "         0.,   0.,   0.,   0.,   0.,   0.,   0.,   0.,   0.,   0.,   0.,\n",
              "         0.,   0.,   0.,   0.,   0.,   0.,   0.,   0.,   0., 249., 253.,\n",
              "       249.,  64.,   0.,   0.,   0.,   0.,   0.,   0.,   0.,   0.,   0.,\n",
              "         0.,   0.,   0.,   0.,   0.,   0.,   0.,   0.,   0.,   0.,   0.,\n",
              "         0.,  46., 130., 183., 253., 253., 207.,   2.,   0.,   0.,   0.,\n",
              "         0.,   0.,   0.,   0.,   0.,   0.,   0.,   0.,   0.,   0.,   0.,\n",
              "         0.,   0.,   0.,   0.,   0.,  39., 148., 229., 253., 253., 253.,\n",
              "       250., 182.,   0.,   0.,   0.,   0.,   0.,   0.,   0.,   0.,   0.,\n",
              "         0.,   0.,   0.,   0.,   0.,   0.,   0.,   0.,   0.,  24., 114.,\n",
              "       221., 253., 253., 253., 253., 201.,  78.,   0.,   0.,   0.,   0.,\n",
              "         0.,   0.,   0.,   0.,   0.,   0.,   0.,   0.,   0.,   0.,   0.,\n",
              "         0.,   0.,  23.,  66., 213., 253., 253., 253., 253., 198.,  81.,\n",
              "         2.,   0.,   0.,   0.,   0.,   0.,   0.,   0.,   0.,   0.,   0.,\n",
              "         0.,   0.,   0.,   0.,   0.,   0.,  18., 171., 219., 253., 253.,\n",
              "       253., 253., 195.,  80.,   9.,   0.,   0.,   0.,   0.,   0.,   0.,\n",
              "         0.,   0.,   0.,   0.,   0.,   0.,   0.,   0.,   0.,   0.,  55.,\n",
              "       172., 226., 253., 253., 253., 253., 244., 133.,  11.,   0.,   0.,\n",
              "         0.,   0.,   0.,   0.,   0.,   0.,   0.,   0.,   0.,   0.,   0.,\n",
              "         0.,   0.,   0.,   0.,   0., 136., 253., 253., 253., 212., 135.,\n",
              "       132.,  16.,   0.,   0.,   0.,   0.,   0.,   0.,   0.,   0.,   0.,\n",
              "         0.,   0.,   0.,   0.,   0.,   0.,   0.,   0.,   0.,   0.,   0.,\n",
              "         0.,   0.,   0.,   0.,   0.,   0.,   0.,   0.,   0.,   0.,   0.,\n",
              "         0.,   0.,   0.,   0.,   0.,   0.,   0.,   0.,   0.,   0.,   0.,\n",
              "         0.,   0.,   0.,   0.,   0.,   0.,   0.,   0.,   0.,   0.,   0.,\n",
              "         0.,   0.,   0.,   0.,   0.,   0.,   0.,   0.,   0.,   0.,   0.,\n",
              "         0.,   0.,   0.,   0.,   0.,   0.,   0.,   0.,   0.,   0.,   0.,\n",
              "         0.,   0.,   0.,   0.,   0.,   0.,   0.,   0.,   0.,   0.,   0.,\n",
              "         0.,   0.,   0.,   0.,   0.,   0.,   0.,   0.,   0.,   0.,   0.,\n",
              "         0.,   0.,   0.])"
            ]
          },
          "metadata": {
            "tags": []
          },
          "execution_count": 11
        }
      ]
    },
    {
      "cell_type": "code",
      "metadata": {
        "id": "Scb6_aUeknVb",
        "outputId": "f67f3fc6-c5d2-487b-f1c2-ab1beb6c34b2",
        "colab": {
          "base_uri": "https://localhost:8080/",
          "height": 38
        }
      },
      "source": [
        "y.shape"
      ],
      "execution_count": 12,
      "outputs": [
        {
          "output_type": "execute_result",
          "data": {
            "text/plain": [
              "(70000,)"
            ]
          },
          "metadata": {
            "tags": []
          },
          "execution_count": 12
        }
      ]
    },
    {
      "cell_type": "code",
      "metadata": {
        "id": "qAKYi17zkxzR",
        "outputId": "7d2e5fe4-4c62-436b-b5ab-f0250f4d8982",
        "colab": {
          "base_uri": "https://localhost:8080/",
          "height": 38
        }
      },
      "source": [
        "y[0]  #> 이미지의 레이블"
      ],
      "execution_count": 13,
      "outputs": [
        {
          "output_type": "execute_result",
          "data": {
            "application/vnd.google.colaboratory.intrinsic+json": {
              "type": "string"
            },
            "text/plain": [
              "'5'"
            ]
          },
          "metadata": {
            "tags": []
          },
          "execution_count": 13
        }
      ]
    },
    {
      "cell_type": "code",
      "metadata": {
        "id": "ZyffRT2sk9wC",
        "outputId": "c3812124-e939-42df-b0ca-6ddf05488e3a",
        "colab": {
          "base_uri": "https://localhost:8080/",
          "height": 38
        }
      },
      "source": [
        "y.dtype  # 문자열(str)"
      ],
      "execution_count": 14,
      "outputs": [
        {
          "output_type": "execute_result",
          "data": {
            "text/plain": [
              "dtype('O')"
            ]
          },
          "metadata": {
            "tags": []
          },
          "execution_count": 14
        }
      ]
    },
    {
      "cell_type": "code",
      "metadata": {
        "id": "ZH1grH70lh1b"
      },
      "source": [
        "# pickle 형태로 mnist 데이터 셋을 구글 드라이브에 저장.\n",
        "import os\n",
        "import pickle  # Python 기본 모듈 중 하나. 바이너리 데이터를 저장/복원."
      ],
      "execution_count": 2,
      "outputs": []
    },
    {
      "cell_type": "code",
      "metadata": {
        "id": "7d4spyxGq_Ni",
        "outputId": "a1c4d6b0-2347-4902-bb74-b556e35532a0",
        "colab": {
          "base_uri": "https://localhost:8080/",
          "height": 38
        }
      },
      "source": [
        "dir_path = '/content/drive/My Drive/Colab Notebooks/lab_ml'\n",
        "file_path = os.path.join(dir_path, 'mnist.pickle')\n",
        "print(file_path)"
      ],
      "execution_count": 3,
      "outputs": [
        {
          "output_type": "stream",
          "text": [
            "/content/drive/My Drive/Colab Notebooks/lab_ml/mnist.pickle\n"
          ],
          "name": "stdout"
        }
      ]
    },
    {
      "cell_type": "code",
      "metadata": {
        "id": "M3u5rnRjq-_k"
      },
      "source": [
        "with open(file_path, mode='wb') as f:  # 파일을 바이너리(b) 쓰기(w) 모드로 오픈.\n",
        "    pickle.dump(mnist, f)  # mnist 데이터를 파일 f에 씀."
      ],
      "execution_count": 24,
      "outputs": []
    },
    {
      "cell_type": "code",
      "metadata": {
        "id": "8FDKPv1onB7E",
        "outputId": "3b9bd3ab-559e-4358-9c31-51f86e80a7fe",
        "colab": {
          "base_uri": "https://localhost:8080/",
          "height": 38
        }
      },
      "source": [
        "# pickle 형태로 저장된 데이터를 읽음.\n",
        "with open(file_path, mode='rb') as f:\n",
        "    mnist = pickle.load(f)\n",
        "\n",
        "mnist['data'].shape, mnist['target'].shape"
      ],
      "execution_count": 4,
      "outputs": [
        {
          "output_type": "execute_result",
          "data": {
            "text/plain": [
              "((70000, 784), (70000,))"
            ]
          },
          "metadata": {
            "tags": []
          },
          "execution_count": 4
        }
      ]
    },
    {
      "cell_type": "code",
      "metadata": {
        "id": "WzGkfcrVrwOk"
      },
      "source": [
        "X, y = mnist['data'], mnist['target'].astype(np.int16)  # 레이블을 숫자 타입으로 변환."
      ],
      "execution_count": 5,
      "outputs": []
    },
    {
      "cell_type": "code",
      "metadata": {
        "id": "UR2N3rwEr0FZ",
        "outputId": "c191d033-2ffe-46fc-a7e4-213e69f19d89",
        "colab": {
          "base_uri": "https://localhost:8080/",
          "height": 248
        }
      },
      "source": [
        "# 이미지 샘플을 그래프 출력\n",
        "img = X[0].reshape((28, 28))  # X[0]: (784,) 1차원 배열 -> img: (28, 28) 2차원 배열\n",
        "plt.imshow(img, cmap=plt.cm.binary)  # binary color map: 0-white, 255-black\n",
        "plt.axis('off')  # 좌표축 제거\n",
        "plt.show()"
      ],
      "execution_count": 35,
      "outputs": [
        {
          "output_type": "display_data",
          "data": {
            "image/png": "[encoded data removed]",
            "text/plain": [
              "<Figure size 432x288 with 1 Axes>"
            ]
          },
          "metadata": {
            "tags": [],
            "needs_background": "light"
          }
        }
      ]
    },
    {
      "cell_type": "code",
      "metadata": {
        "id": "E5xeQTYtt1us",
        "outputId": "3fa0918e-e9a3-4b89-a432-bfd480d680df",
        "colab": {
          "base_uri": "https://localhost:8080/",
          "height": 38
        }
      },
      "source": [
        "y[0]"
      ],
      "execution_count": 36,
      "outputs": [
        {
          "output_type": "execute_result",
          "data": {
            "text/plain": [
              "5"
            ]
          },
          "metadata": {
            "tags": []
          },
          "execution_count": 36
        }
      ]
    },
    {
      "cell_type": "code",
      "metadata": {
        "id": "5tIgG_ZGumPq"
      },
      "source": [
        "def plot_digit(data):\n",
        "    \"\"\"data: (784,) shape의 1차원 ndarray.\n",
        "    28x28 이미지로 변환 후 화면에 출력.\"\"\"\n",
        "    img = data.reshape((28, 28))\n",
        "    plt.imshow(img, cmap=plt.cm.binary)\n",
        "    plt.axis('off')"
      ],
      "execution_count": 6,
      "outputs": []
    },
    {
      "cell_type": "code",
      "metadata": {
        "id": "hBOvRDfFvMUL",
        "outputId": "7f58cd50-1ab2-445d-b472-7847b36aac6c",
        "colab": {
          "base_uri": "https://localhost:8080/",
          "height": 1000
        }
      },
      "source": [
        "for data in X[:5]:\n",
        "    plot_digit(data)\n",
        "    plt.show()"
      ],
      "execution_count": 7,
      "outputs": [
        {
          "output_type": "display_data",
          "data": {
            "image/png": "[encoded data removed]",
            "text/plain": [
              "<Figure size 432x288 with 1 Axes>"
            ]
          },
          "metadata": {
            "tags": [],
            "needs_background": "light"
          }
        },
        {
          "output_type": "display_data",
          "data": {
            "image/png": "[encoded data removed]",
            "text/plain": [
              "<Figure size 432x288 with 1 Axes>"
            ]
          },
          "metadata": {
            "tags": [],
            "needs_background": "light"
          }
        },
        {
          "output_type": "display_data",
          "data": {
            "image/png": "[encoded data removed]",
            "text/plain": [
              "<Figure size 432x288 with 1 Axes>"
            ]
          },
          "metadata": {
            "tags": [],
            "needs_background": "light"
          }
        },
        {
          "output_type": "display_data",
          "data": {
            "image/png": "[encoded data removed]",
            "text/plain": [
              "<Figure size 432x288 with 1 Axes>"
            ]
          },
          "metadata": {
            "tags": [],
            "needs_background": "light"
          }
        },
        {
          "output_type": "display_data",
          "data": {
            "image/png": "[encoded data removed]",
            "text/plain": [
              "<Figure size 432x288 with 1 Axes>"
            ]
          },
          "metadata": {
            "tags": [],
            "needs_background": "light"
          }
        }
      ]
    },
    {
      "cell_type": "code",
      "metadata": {
        "id": "lRudLAWVvhjh",
        "outputId": "8f3e6698-8976-45b9-9c59-c2fba0e913ce",
        "colab": {
          "base_uri": "https://localhost:8080/",
          "height": 121
        }
      },
      "source": [
        "for label in y[:5]:\n",
        "    print(label)"
      ],
      "execution_count": 8,
      "outputs": [
        {
          "output_type": "stream",
          "text": [
            "5\n",
            "0\n",
            "4\n",
            "1\n",
            "9\n"
          ],
          "name": "stdout"
        }
      ]
    },
    {
      "cell_type": "code",
      "metadata": {
        "id": "EXm1cPU6wCu6",
        "outputId": "5f39b49f-26e5-44c6-c938-533d77035ccb",
        "colab": {
          "base_uri": "https://localhost:8080/",
          "height": 248
        }
      },
      "source": [
        "plot_digit(X[11])"
      ],
      "execution_count": 41,
      "outputs": [
        {
          "output_type": "display_data",
          "data": {
            "image/png": "[encoded data removed]",
            "text/plain": [
              "<Figure size 432x288 with 1 Axes>"
            ]
          },
          "metadata": {
            "tags": [],
            "needs_background": "light"
          }
        }
      ]
    },
    {
      "cell_type": "code",
      "metadata": {
        "id": "uCzpSOrPwQsJ",
        "outputId": "bca14713-c2b9-43e7-cc5d-6fc685f2e942",
        "colab": {
          "base_uri": "https://localhost:8080/",
          "height": 38
        }
      },
      "source": [
        "y[11]"
      ],
      "execution_count": 42,
      "outputs": [
        {
          "output_type": "execute_result",
          "data": {
            "text/plain": [
              "5"
            ]
          },
          "metadata": {
            "tags": []
          },
          "execution_count": 42
        }
      ]
    },
    {
      "cell_type": "markdown",
      "metadata": {
        "id": "XZ4JgcDjxD7_"
      },
      "source": [
        "# 데이터 셋을 Train/Test 분리"
      ]
    },
    {
      "cell_type": "code",
      "metadata": {
        "id": "DMvXUh0pwi-L",
        "outputId": "57ca9dc1-d40f-4e9a-f70b-5b6065ccff8f",
        "colab": {
          "base_uri": "https://localhost:8080/",
          "height": 58
        }
      },
      "source": [
        "y[:10], y[-10:]"
      ],
      "execution_count": 44,
      "outputs": [
        {
          "output_type": "execute_result",
          "data": {
            "text/plain": [
              "(array([5, 0, 4, 1, 9, 2, 1, 3, 1, 4], dtype=int16),\n",
              " array([7, 8, 9, 0, 1, 2, 3, 4, 5, 6], dtype=int16))"
            ]
          },
          "metadata": {
            "tags": []
          },
          "execution_count": 44
        }
      ]
    },
    {
      "cell_type": "code",
      "metadata": {
        "id": "o05CAvJAxiUb"
      },
      "source": [
        "# from sklearn.model_selection import train_test_split\n",
        "\n",
        "n = 60_000  # 훈련 셋의 샘플 개수(테스트 셋의 샘플 개수 = 10_000)\n",
        "X_train, y_train = X[:n], y[:n]  # 훈련 셋, 훈련 레이블\n",
        "X_test, y_test = X[n:], y[n:]  # 테스트 셋, 테스트 레이블"
      ],
      "execution_count": 9,
      "outputs": []
    },
    {
      "cell_type": "code",
      "metadata": {
        "id": "-D8dIo3lyCtg",
        "outputId": "e18a1f67-28e8-4668-d339-520ccae47dcf",
        "colab": {
          "base_uri": "https://localhost:8080/",
          "height": 38
        }
      },
      "source": [
        "X_train.shape, y_train.shape, X_test.shape, y_test.shape"
      ],
      "execution_count": 10,
      "outputs": [
        {
          "output_type": "execute_result",
          "data": {
            "text/plain": [
              "((60000, 784), (60000,), (10000, 784), (10000,))"
            ]
          },
          "metadata": {
            "tags": []
          },
          "execution_count": 10
        }
      ]
    },
    {
      "cell_type": "markdown",
      "metadata": {
        "id": "ETiEzy_OzUyV"
      },
      "source": [
        "# 이진 분류기(Binary Classifier)"
      ]
    },
    {
      "cell_type": "code",
      "metadata": {
        "id": "h08G4gOMzZCA",
        "outputId": "c80d3f5b-a7cc-47ea-b1ef-6e24589fc2ad",
        "colab": {
          "base_uri": "https://localhost:8080/",
          "height": 38
        }
      },
      "source": [
        "# 숫자 이미지 샘플이 5인지 아닌지를 분류하는 이진 분류기\n",
        "# -> 레이블을 True, False로 변경.\n",
        "y_train_5 = (y_train == 5)\n",
        "y_train_5"
      ],
      "execution_count": 14,
      "outputs": [
        {
          "output_type": "execute_result",
          "data": {
            "text/plain": [
              "array([ True, False, False, ...,  True, False, False])"
            ]
          },
          "metadata": {
            "tags": []
          },
          "execution_count": 14
        }
      ]
    },
    {
      "cell_type": "code",
      "metadata": {
        "id": "_ugU1w8O5MGp"
      },
      "source": [
        "# 머신 러닝 모델(알고리즘) 선택\n",
        "from sklearn.linear_model import SGDClassifier"
      ],
      "execution_count": 11,
      "outputs": []
    },
    {
      "cell_type": "code",
      "metadata": {
        "id": "vw9KnXET5yAy"
      },
      "source": [
        "# 모델 생성\n",
        "sgd_clf = SGDClassifier(random_state=1)"
      ],
      "execution_count": 12,
      "outputs": []
    },
    {
      "cell_type": "code",
      "metadata": {
        "id": "DQ2XmzQ96GFE",
        "outputId": "d8b4b09e-3de4-4be2-8aa6-725784f4a9d4",
        "colab": {
          "base_uri": "https://localhost:8080/",
          "height": 142
        }
      },
      "source": [
        "# 모델 훈련\n",
        "sgd_clf.fit(X=X_train, y=y_train_5)"
      ],
      "execution_count": 15,
      "outputs": [
        {
          "output_type": "execute_result",
          "data": {
            "text/plain": [
              "SGDClassifier(alpha=0.0001, average=False, class_weight=None,\n",
              "              early_stopping=False, epsilon=0.1, eta0=0.0, fit_intercept=True,\n",
              "              l1_ratio=0.15, learning_rate='optimal', loss='hinge',\n",
              "              max_iter=1000, n_iter_no_change=5, n_jobs=None, penalty='l2',\n",
              "              power_t=0.5, random_state=1, shuffle=True, tol=0.001,\n",
              "              validation_fraction=0.1, verbose=0, warm_start=False)"
            ]
          },
          "metadata": {
            "tags": []
          },
          "execution_count": 15
        }
      ]
    },
    {
      "cell_type": "code",
      "metadata": {
        "id": "J8XUiG5w6Whf",
        "outputId": "f4d90e4d-d19b-4c85-c6e4-dbc5a61eb3fc",
        "colab": {
          "base_uri": "https://localhost:8080/",
          "height": 38
        }
      },
      "source": [
        "# 예측\n",
        "y_pred_5 = sgd_clf.predict(X=X_train)\n",
        "y_pred_5"
      ],
      "execution_count": 16,
      "outputs": [
        {
          "output_type": "execute_result",
          "data": {
            "text/plain": [
              "array([ True, False, False, ...,  True,  True, False])"
            ]
          },
          "metadata": {
            "tags": []
          },
          "execution_count": 16
        }
      ]
    },
    {
      "cell_type": "code",
      "metadata": {
        "id": "B9acmKWs7eCj",
        "outputId": "423a798c-15bb-48f0-c240-2ff9fb7d5845",
        "colab": {
          "base_uri": "https://localhost:8080/",
          "height": 38
        }
      },
      "source": [
        "# 평가(evalation) <- 평가 지표(metric)\n",
        "# 정확도(accuracy): 전체 샘플들 중을 정확하게 분류한 비율.\n",
        "accuracy = np.mean(y_train_5 == y_pred_5)  # 실제값 == 예측값\n",
        "accuracy"
      ],
      "execution_count": 17,
      "outputs": [
        {
          "output_type": "execute_result",
          "data": {
            "text/plain": [
              "0.9685333333333334"
            ]
          },
          "metadata": {
            "tags": []
          },
          "execution_count": 17
        }
      ]
    },
    {
      "cell_type": "code",
      "metadata": {
        "id": "KU1C7rrd_nQg"
      },
      "source": [
        "# confusion matrix(혼동 행렬, 오차 행렬)\n",
        "from sklearn.metrics import confusion_matrix"
      ],
      "execution_count": 18,
      "outputs": []
    },
    {
      "cell_type": "code",
      "metadata": {
        "id": "KDFNjW_Y_27O",
        "outputId": "db222cb7-77e6-4ee2-9672-8dabe5c4b102",
        "colab": {
          "base_uri": "https://localhost:8080/",
          "height": 58
        }
      },
      "source": [
        "conf_mat = confusion_matrix(y_true=y_train_5, y_pred=y_pred_5)\n",
        "conf_mat"
      ],
      "execution_count": 19,
      "outputs": [
        {
          "output_type": "execute_result",
          "data": {
            "text/plain": [
              "array([[53381,  1198],\n",
              "       [  690,  4731]])"
            ]
          },
          "metadata": {
            "tags": []
          },
          "execution_count": 19
        }
      ]
    },
    {
      "cell_type": "code",
      "metadata": {
        "id": "yyx5dV4LBjzT"
      },
      "source": [
        "tn, fp = conf_mat[0, 0], conf_mat[0, 1]  # True Negative(진음성), False Positvie(가양성)\n",
        "fn, tp = conf_mat[1, 0], conf_mat[1, 1]  # False Negative(가음성), True Positive(진양성)"
      ],
      "execution_count": 24,
      "outputs": []
    },
    {
      "cell_type": "code",
      "metadata": {
        "id": "e6bH_1A1CT2_",
        "outputId": "da7c4e2f-7e1c-4b9b-9bd2-fb8041bc4f97",
        "colab": {
          "base_uri": "https://localhost:8080/",
          "height": 38
        }
      },
      "source": [
        "# 정확도(accuracy): 샘플들을 정확하게 분류한 비율.\n",
        "accuracy = (tn + tp) / (tn + fp + fn + tp)\n",
        "accuracy"
      ],
      "execution_count": 25,
      "outputs": [
        {
          "output_type": "execute_result",
          "data": {
            "text/plain": [
              "0.9685333333333334"
            ]
          },
          "metadata": {
            "tags": []
          },
          "execution_count": 25
        }
      ]
    },
    {
      "cell_type": "code",
      "metadata": {
        "id": "vpXk5jNVGF0c",
        "outputId": "fe0baccc-9a16-47e2-b8ef-529671fe77c7",
        "colab": {
          "base_uri": "https://localhost:8080/",
          "height": 38
        }
      },
      "source": [
        "# 정밀도(precision): 양성 예측의 정확도.\n",
        "# 양성이라고 예측한 샘플들 중에서 정확하게 맞춘 비율.\n",
        "precision = tp / (tp + fp)\n",
        "precision"
      ],
      "execution_count": 70,
      "outputs": [
        {
          "output_type": "execute_result",
          "data": {
            "text/plain": [
              "0.7979423174228369"
            ]
          },
          "metadata": {
            "tags": []
          },
          "execution_count": 70
        }
      ]
    },
    {
      "cell_type": "code",
      "metadata": {
        "id": "_i34rxbgHfAH",
        "outputId": "d614d60a-087a-493a-b7b3-a2933d9623f2",
        "colab": {
          "base_uri": "https://localhost:8080/",
          "height": 38
        }
      },
      "source": [
        "# 재현율(recall): 실제 양성 샘플들 중에서 정확하게 맞춘 비율.\n",
        "recall = tp / (tp + fn)\n",
        "recall"
      ],
      "execution_count": 71,
      "outputs": [
        {
          "output_type": "execute_result",
          "data": {
            "text/plain": [
              "0.8727172108467073"
            ]
          },
          "metadata": {
            "tags": []
          },
          "execution_count": 71
        }
      ]
    },
    {
      "cell_type": "markdown",
      "metadata": {
        "id": "b7H7V92sIAPz"
      },
      "source": [
        "* 정밀도/재현율 트레이드오프(precsion/recall trade-off):\n",
        "일반적으로, 정밀도가 높아지면 재현율이 낮아지고, 반대로 정밀도가 낮아지면 재현율이 높아짐.\n",
        "* 재현율(recall) = 민감도(sensitivity) = TPR(True Positivt Rate)"
      ]
    },
    {
      "cell_type": "code",
      "metadata": {
        "id": "HMwEVEv-IFXa",
        "outputId": "2a18d116-c58b-4a70-c155-11ba95fc74f1",
        "colab": {
          "base_uri": "https://localhost:8080/",
          "height": 38
        }
      },
      "source": [
        "# F1-score: 정밀도와 재현율의 조화 평균\n",
        "f1 = 2 / (1/precision + 1/recall)\n",
        "f1"
      ],
      "execution_count": 72,
      "outputs": [
        {
          "output_type": "execute_result",
          "data": {
            "text/plain": [
              "0.8336563876651982"
            ]
          },
          "metadata": {
            "tags": []
          },
          "execution_count": 72
        }
      ]
    },
    {
      "cell_type": "code",
      "metadata": {
        "id": "KmmYkOnKLRwu",
        "outputId": "d56ff35b-3d43-4768-a58b-3fe728720ef8",
        "colab": {
          "base_uri": "https://localhost:8080/",
          "height": 38
        }
      },
      "source": [
        "from sklearn.metrics import accuracy_score\n",
        "\n",
        "accuracy_score(y_true=y_train_5, y_pred=y_pred_5)"
      ],
      "execution_count": 26,
      "outputs": [
        {
          "output_type": "execute_result",
          "data": {
            "text/plain": [
              "0.9685333333333334"
            ]
          },
          "metadata": {
            "tags": []
          },
          "execution_count": 26
        }
      ]
    },
    {
      "cell_type": "code",
      "metadata": {
        "id": "tJ-8H_DoLpw8",
        "outputId": "fe88243a-e650-47e8-971c-1ab9d243cc67",
        "colab": {
          "base_uri": "https://localhost:8080/",
          "height": 38
        }
      },
      "source": [
        "from sklearn.metrics import precision_score\n",
        "\n",
        "precision_score(y_true=y_train_5, y_pred=y_pred_5)"
      ],
      "execution_count": 27,
      "outputs": [
        {
          "output_type": "execute_result",
          "data": {
            "text/plain": [
              "0.7979423174228369"
            ]
          },
          "metadata": {
            "tags": []
          },
          "execution_count": 27
        }
      ]
    },
    {
      "cell_type": "code",
      "metadata": {
        "id": "zHbRHYaGL8-l",
        "outputId": "34bd6f67-4c92-4916-98f8-517358cae2e2",
        "colab": {
          "base_uri": "https://localhost:8080/",
          "height": 38
        }
      },
      "source": [
        "from sklearn.metrics import recall_score\n",
        "\n",
        "recall_score(y_true=y_train_5, y_pred=y_pred_5)"
      ],
      "execution_count": 28,
      "outputs": [
        {
          "output_type": "execute_result",
          "data": {
            "text/plain": [
              "0.8727172108467073"
            ]
          },
          "metadata": {
            "tags": []
          },
          "execution_count": 28
        }
      ]
    },
    {
      "cell_type": "code",
      "metadata": {
        "id": "4zVZJBrVMPP4",
        "outputId": "3ebc5e29-9dea-41e2-eaad-86f99567ef9f",
        "colab": {
          "base_uri": "https://localhost:8080/",
          "height": 38
        }
      },
      "source": [
        "from sklearn.metrics import f1_score\n",
        "\n",
        "f1_score(y_true=y_train_5, y_pred=y_pred_5)"
      ],
      "execution_count": 29,
      "outputs": [
        {
          "output_type": "execute_result",
          "data": {
            "text/plain": [
              "0.8336563876651982"
            ]
          },
          "metadata": {
            "tags": []
          },
          "execution_count": 29
        }
      ]
    },
    {
      "cell_type": "markdown",
      "metadata": {
        "id": "j9yVWDS92xaW"
      },
      "source": [
        "## 교차 검증(Cross Validation)"
      ]
    },
    {
      "cell_type": "code",
      "metadata": {
        "id": "9Zg8-lCs206D"
      },
      "source": [
        "# 검증 점수(-MSE, accuracy)를 리턴.\n",
        "from sklearn.model_selection import cross_val_score"
      ],
      "execution_count": 30,
      "outputs": []
    },
    {
      "cell_type": "code",
      "metadata": {
        "id": "RviYVQD429oq",
        "outputId": "522339e2-ae7e-4459-d10e-7616eff8853b",
        "colab": {
          "base_uri": "https://localhost:8080/",
          "height": 38
        }
      },
      "source": [
        "cv_scores = cross_val_score(estimator=SGDClassifier(random_state=1),\n",
        "                            X=X_train,\n",
        "                            y=y_train_5,\n",
        "                            scoring='accuracy',\n",
        "                            cv=3)\n",
        "cv_scores  # 정확도(accuracy)"
      ],
      "execution_count": 35,
      "outputs": [
        {
          "output_type": "execute_result",
          "data": {
            "text/plain": [
              "array([0.95785, 0.9667 , 0.9608 ])"
            ]
          },
          "metadata": {
            "tags": []
          },
          "execution_count": 35
        }
      ]
    },
    {
      "cell_type": "code",
      "metadata": {
        "id": "1XyewFFX8SI5"
      },
      "source": [
        "# 각 샘플들의 예측 값 또는 예측 값을 결정할 수 있는 점수/확률을 리턴.\n",
        "from sklearn.model_selection import cross_val_predict"
      ],
      "execution_count": 32,
      "outputs": []
    },
    {
      "cell_type": "code",
      "metadata": {
        "id": "KX63pGC24nSO",
        "outputId": "2aaf143f-0053-42d1-e03e-186e3a8b2aee",
        "colab": {
          "base_uri": "https://localhost:8080/",
          "height": 38
        }
      },
      "source": [
        "# 각 샘플들의 예측 값 - method='predict' (기본값)\n",
        "cv_preds = cross_val_predict(estimator=SGDClassifier(random_state=1),\n",
        "                             X=X_train,\n",
        "                             y=y_train_5,\n",
        "                             cv=3,\n",
        "                             method='predict')\n",
        "cv_preds"
      ],
      "execution_count": 43,
      "outputs": [
        {
          "output_type": "execute_result",
          "data": {
            "text/plain": [
              "array([ True, False, False, ...,  True, False, False])"
            ]
          },
          "metadata": {
            "tags": []
          },
          "execution_count": 43
        }
      ]
    },
    {
      "cell_type": "code",
      "metadata": {
        "id": "oIvTb3GN93zK",
        "outputId": "0ae80a52-5c2c-40c4-87bc-7209f7545bea",
        "colab": {
          "base_uri": "https://localhost:8080/",
          "height": 58
        }
      },
      "source": [
        "# 각 샘플들의 예측 값을 결정할 수 있는 점수 - method='decision_function'\n",
        "cv_scores = cross_val_predict(estimator=SGDClassifier(random_state=1),\n",
        "                              X=X_train,\n",
        "                              y=y_train_5,\n",
        "                              cv=3,\n",
        "                              method='decision_function')\n",
        "cv_scores\n",
        "# 임계값(threshold): 결정 함수의 점수들을 Positive/Negative로 구분할 값.\n",
        "# 임계값을 크게 하면, 정밀도(precision)이 높아지고 재현율(recall)이 낮아짐.\n",
        "# 임계값을 작게 하면, 정밀도가 낮아지고 재현율이 높아짐."
      ],
      "execution_count": 54,
      "outputs": [
        {
          "output_type": "execute_result",
          "data": {
            "text/plain": [
              "array([  8536.87948485,  -9930.42427547, -34430.63925683, ...,\n",
              "         6041.93526298,  -4785.17366605,  -8938.21271251])"
            ]
          },
          "metadata": {
            "tags": []
          },
          "execution_count": 54
        }
      ]
    },
    {
      "cell_type": "markdown",
      "metadata": {
        "id": "4XV-kgc5B1_F"
      },
      "source": [
        "## PR Curve(정밀도(precision) vs 재현율(recall) 곡선)"
      ]
    },
    {
      "cell_type": "code",
      "metadata": {
        "id": "tRRSGgqTCAjQ"
      },
      "source": [
        "from sklearn.metrics import precision_recall_curve"
      ],
      "execution_count": 36,
      "outputs": []
    },
    {
      "cell_type": "code",
      "metadata": {
        "id": "thgztXT8CUAK",
        "outputId": "b0cf476c-8744-469d-eca6-e7d108c1faa4",
        "colab": {
          "base_uri": "https://localhost:8080/",
          "height": 38
        }
      },
      "source": [
        "precisions, recalls, thresholds = precision_recall_curve(y_true=y_train_5,\n",
        "                                                         probas_pred=cv_scores)\n",
        "precisions.shape, recalls.shape, thresholds.shape"
      ],
      "execution_count": 55,
      "outputs": [
        {
          "output_type": "execute_result",
          "data": {
            "text/plain": [
              "((59586,), (59586,), (59585,))"
            ]
          },
          "metadata": {
            "tags": []
          },
          "execution_count": 55
        }
      ]
    },
    {
      "cell_type": "code",
      "metadata": {
        "id": "eQwEkt6RELYN"
      },
      "source": [
        "def plot_precision_recall_vs_threshold(precisions, recalls, thresholds):\n",
        "    plt.plot(thresholds, precisions[:-1], 'b--', label='Precision')\n",
        "    plt.plot(thresholds, recalls[:-1], 'g-', label='Recall')\n",
        "    plt.grid(True)\n",
        "    plt.xlabel('Threshold')\n",
        "    plt.title('Precsion/Recall Trade-off')\n",
        "    plt.legend()"
      ],
      "execution_count": 50,
      "outputs": []
    },
    {
      "cell_type": "code",
      "metadata": {
        "id": "Ir4YCufIEt4X",
        "outputId": "71cffeb2-3990-42f3-c341-ee959282ab2b",
        "colab": {
          "base_uri": "https://localhost:8080/",
          "height": 295
        }
      },
      "source": [
        "plot_precision_recall_vs_threshold(precisions, recalls, thresholds)\n",
        "# 정밀도/재현율 트레이드오프 그래프"
      ],
      "execution_count": 56,
      "outputs": [
        {
          "output_type": "display_data",
          "data": {
            "image/png": "[encoded data removed]",
            "text/plain": [
              "<Figure size 432x288 with 1 Axes>"
            ]
          },
          "metadata": {
            "tags": [],
            "needs_background": "light"
          }
        }
      ]
    },
    {
      "cell_type": "code",
      "metadata": {
        "id": "7RhhU2qJGOCC"
      },
      "source": [
        "def plot_precision_vs_recall(precisions, recalls):\n",
        "    plt.plot(recalls, precisions, 'b-')\n",
        "    plt.grid(True)\n",
        "    plt.title('Precision vs Recall Curve')\n",
        "    plt.xlabel('Recall')\n",
        "    plt.ylabel('Precsion')"
      ],
      "execution_count": 52,
      "outputs": []
    },
    {
      "cell_type": "code",
      "metadata": {
        "id": "ldq5Qt6-HFPq",
        "outputId": "a9f0235c-8113-479d-d0fb-37f18122663b",
        "colab": {
          "base_uri": "https://localhost:8080/",
          "height": 295
        }
      },
      "source": [
        "plot_precision_vs_recall(precisions, recalls)"
      ],
      "execution_count": 57,
      "outputs": [
        {
          "output_type": "display_data",
          "data": {
            "image/png": "[encoded data removed]",
            "text/plain": [
              "<Figure size 432x288 with 1 Axes>"
            ]
          },
          "metadata": {
            "tags": [],
            "needs_background": "light"
          }
        }
      ]
    },
    {
      "cell_type": "markdown",
      "metadata": {
        "id": "cSzgXYmFnbO2"
      },
      "source": [
        "## ROC(Receiver Operating Characteristic) Curve\n",
        "* FPR(False Positive Rate, 가양성 비율)에 대한 TPR(True Positive Rate, 진양성 비율=재현율=민감도) 곡선\n",
        "* TPR = TP / (FN + TP): 실제 양성 샘플들 중에서 양성을 정확히 맞춘 비율(정답률).\n",
        "* TNR = TN / (TN + FP): 실제 음성 샘플들 중에서 음성을 정확히 맞춘 비율(정답률).\n",
        "* FPR = FP / (TN + FP): 실제 음성 샘플들 중에서 오답률.\n",
        "* TNR + FPR = 1 => FPR = 1 - TNR"
      ]
    },
    {
      "cell_type": "code",
      "metadata": {
        "id": "7JRdxakhHKEo"
      },
      "source": [
        "from sklearn.metrics import roc_curve"
      ],
      "execution_count": 58,
      "outputs": []
    },
    {
      "cell_type": "code",
      "metadata": {
        "id": "X5fRGnYHq41P",
        "outputId": "f13ce24e-bdad-4d52-84ff-afae82a8c017",
        "colab": {
          "base_uri": "https://localhost:8080/",
          "height": 38
        }
      },
      "source": [
        "fpr, tpr, thresholds = roc_curve(y_true=y_train_5,\n",
        "                                 y_score=cv_scores)\n",
        "fpr.shape, tpr.shape, thresholds.shape"
      ],
      "execution_count": 59,
      "outputs": [
        {
          "output_type": "execute_result",
          "data": {
            "text/plain": [
              "((3498,), (3498,), (3498,))"
            ]
          },
          "metadata": {
            "tags": []
          },
          "execution_count": 59
        }
      ]
    },
    {
      "cell_type": "code",
      "metadata": {
        "id": "dOVjzNlsr6pI"
      },
      "source": [
        "def plot_roc_curve(fpr, tpr):\n",
        "    plt.plot(fpr, tpr, 'b-', linewidth=2)\n",
        "    plt.title('ROC Curve')\n",
        "    plt.xlabel('FPR = 1 - TNR')\n",
        "    plt.ylabel('TPR, Recall, Sensitivity')\n",
        "    plt.grid(True)"
      ],
      "execution_count": 62,
      "outputs": []
    },
    {
      "cell_type": "code",
      "metadata": {
        "id": "JL8SzubGsmc8",
        "outputId": "c7e40cd4-648e-463e-cd4a-bc6588ed489e",
        "colab": {
          "base_uri": "https://localhost:8080/",
          "height": 295
        }
      },
      "source": [
        "plot_roc_curve(fpr, tpr)\n",
        "#> 양성 샘플의 정답률(TPR)이 증가하면(재현율이 증가하면), FPR이 증가. \n",
        "#  즉, TNR(음성 샘플의 정답률)이 감소.\n",
        "# 재현율(민감도)와 음성 샘플 정답률은 서로 Trade-off 관계."
      ],
      "execution_count": 63,
      "outputs": [
        {
          "output_type": "display_data",
          "data": {
            "image/png": "[encoded data removed]",
            "text/plain": [
              "<Figure size 432x288 with 1 Axes>"
            ]
          },
          "metadata": {
            "tags": [],
            "needs_background": "light"
          }
        }
      ]
    },
    {
      "cell_type": "code",
      "metadata": {
        "id": "9KgocBvQuH6J"
      },
      "source": [
        "# AUC(Area Under the Curve): ROC 곡선의 아래쪽 넓이.\n",
        "# 좋은 분류 모델(알고리즘)은 AUC가 1에 가까운 모델.\n",
        "from sklearn.metrics import roc_auc_score"
      ],
      "execution_count": 65,
      "outputs": []
    },
    {
      "cell_type": "code",
      "metadata": {
        "id": "cc5lzAkfuz17",
        "outputId": "8b5edd7f-99ba-473d-856a-f85a95d41e30",
        "colab": {
          "base_uri": "https://localhost:8080/",
          "height": 38
        }
      },
      "source": [
        "auc = roc_auc_score(y_true=y_train_5, y_score=cv_scores)\n",
        "auc"
      ],
      "execution_count": 66,
      "outputs": [
        {
          "output_type": "execute_result",
          "data": {
            "text/plain": [
              "0.962647024223004"
            ]
          },
          "metadata": {
            "tags": []
          },
          "execution_count": 66
        }
      ]
    },
    {
      "cell_type": "markdown",
      "metadata": {
        "id": "vhHnWphAv9iz"
      },
      "source": [
        "* PR 곡선 vs ROC 곡선 선택?\n",
        "    * 양성 클래스가 드물때 -> PR 곡선으로 모델 평가\n",
        "    * FN(가음성)보다 FP(가양성)이 중요할 때 -> PR 곡선으로 모델 평가\n",
        "    * 그 이외에는 일반적으로 ROC 곡선으로 모델 평가\n",
        "* 5와 5가 아닌 숫자를 분류하는 이진 분류 문제는 양성 클래스가 매우 적은 샘플.\n",
        "* ROC 곡선은 성능이 좋은 것처럼 보이지만, PR은 개선 여부가 더 있는 것처럼 보임.\n"
      ]
    },
    {
      "cell_type": "code",
      "metadata": {
        "id": "9YOw0L4Ox8gr"
      },
      "source": [
        "from sklearn.ensemble import RandomForestClassifier"
      ],
      "execution_count": 67,
      "outputs": []
    },
    {
      "cell_type": "markdown",
      "metadata": {
        "id": "fpOEpjZ4362c"
      },
      "source": [
        "* RandomForestClassifier 모델 생성\n",
        "* 모델 훈련(fit) - 이진 분류(binary classification)\n",
        "* 훈련된 모델로 예측(predict)\n",
        "* 평가 지표: 정확도, 정밀도, 재현율\n",
        "* 교차 검증(Cross Validation)을 사용해서 ROC 곡선 그리기\n",
        "* 교차 검증(Cross Validation)을 사용해서 PR 곡선 그리기\n",
        "    * 힌트: method='predict_proba'"
      ]
    },
    {
      "cell_type": "code",
      "metadata": {
        "id": "hsAgf6EB33sC"
      },
      "source": [
        "forest_clf = RandomForestClassifier(random_state=1)"
      ],
      "execution_count": 68,
      "outputs": []
    },
    {
      "cell_type": "code",
      "metadata": {
        "id": "CYt8o7RT8-b7",
        "outputId": "08f8fc02-1030-411f-fb6e-f5e2d44eb5ec",
        "colab": {
          "base_uri": "https://localhost:8080/",
          "height": 162
        }
      },
      "source": [
        "cv_probs = cross_val_predict(estimator=forest_clf,\n",
        "                             X=X_train,\n",
        "                             y=y_train_5,\n",
        "                             cv=3,\n",
        "                             method='predict_proba')\n",
        "cv_probs  # [[5가 아닐(False)확률, 5일(True) 확률]]"
      ],
      "execution_count": 69,
      "outputs": [
        {
          "output_type": "execute_result",
          "data": {
            "text/plain": [
              "array([[0.07, 0.93],\n",
              "       [0.98, 0.02],\n",
              "       [0.96, 0.04],\n",
              "       ...,\n",
              "       [0.  , 1.  ],\n",
              "       [0.92, 0.08],\n",
              "       [0.94, 0.06]])"
            ]
          },
          "metadata": {
            "tags": []
          },
          "execution_count": 69
        }
      ]
    },
    {
      "cell_type": "code",
      "metadata": {
        "id": "ITlNtBDG9NTq"
      },
      "source": [
        ""
      ],
      "execution_count": null,
      "outputs": []
    }
  ]
}