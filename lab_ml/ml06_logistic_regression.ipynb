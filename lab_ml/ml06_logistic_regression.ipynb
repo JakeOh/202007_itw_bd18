{
  "nbformat": 4,
  "nbformat_minor": 0,
  "metadata": {
    "colab": {
      "name": "ml06_logistic_regression.ipynb",
      "provenance": [],
      "collapsed_sections": [],
      "authorship_tag": "ABX9TyOMYaBhYNexM9NGnDy8iuKb",
      "include_colab_link": true
    },
    "kernelspec": {
      "name": "python3",
      "display_name": "Python 3"
    }
  },
  "cells": [
    {
      "cell_type": "markdown",
      "metadata": {
        "id": "view-in-github",
        "colab_type": "text"
      },
      "source": [
        "<a href=\"https://colab.research.google.com/github/JakeOh/202007_itw_bd18/blob/master/lab_ml/ml06_logistic_regression.ipynb\" target=\"_parent\"><img src=\"https://colab.research.google.com/assets/colab-badge.svg\" alt=\"Open In Colab\"/></a>"
      ]
    },
    {
      "cell_type": "code",
      "metadata": {
        "id": "YyJb0AQj5Rmu"
      },
      "source": [
        "import numpy as np\n",
        "import matplotlib.pyplot as plt"
      ],
      "execution_count": 1,
      "outputs": []
    },
    {
      "cell_type": "markdown",
      "metadata": {
        "id": "A1Y4xy765Lx8"
      },
      "source": [
        "# Sigmoid 함수"
      ]
    },
    {
      "cell_type": "code",
      "metadata": {
        "id": "lFo-dgGB45Mp"
      },
      "source": [
        "def sigmoid(x):\n",
        "    return 1 / (1 + np.exp(-x))"
      ],
      "execution_count": 2,
      "outputs": []
    },
    {
      "cell_type": "code",
      "metadata": {
        "id": "FF6E16qK6K7f",
        "outputId": "863e30da-a3e3-4fb9-e95b-a07559213a55",
        "colab": {
          "base_uri": "https://localhost:8080/",
          "height": 265
        }
      },
      "source": [
        "x = np.linspace(start=-10, stop=10, num=1_000)  # -10 ~ 10 구간을 동일한 간격으로 1,000개로 나눔.\n",
        "y = sigmoid(x)\n",
        "\n",
        "plt.plot(x, y)\n",
        "plt.grid()"
      ],
      "execution_count": null,
      "outputs": [
        {
          "output_type": "display_data",
          "data": {
            "image/png": "[encoded data removed]",
            "text/plain": [
              "<Figure size 432x288 with 1 Axes>"
            ]
          },
          "metadata": {
            "tags": [],
            "needs_background": "light"
          }
        }
      ]
    },
    {
      "cell_type": "code",
      "metadata": {
        "id": "EcjI04mNFO8A",
        "outputId": "269dab09-925c-43b2-eaa9-b0f4da27a045",
        "colab": {
          "base_uri": "https://localhost:8080/",
          "height": 298
        }
      },
      "source": [
        "# log 함수 그래프\n",
        "p = np.linspace(start=0.0001, stop=0.9999, num=100)\n",
        "y = - np.log(p)  # 양성 샘플의 비용 함수\n",
        "y2 = - np.log(1 - p)  # 음성 샘플의 비용 함수\n",
        "plt.plot(p, y, label='positive loss')\n",
        "plt.plot(p, y2, label='negative loss')\n",
        "plt.grid()\n",
        "plt.xlabel('p')\n",
        "plt.legend()"
      ],
      "execution_count": null,
      "outputs": [
        {
          "output_type": "execute_result",
          "data": {
            "text/plain": [
              "<matplotlib.legend.Legend at 0x7fd7d2d3df98>"
            ]
          },
          "metadata": {
            "tags": []
          },
          "execution_count": 4
        },
        {
          "output_type": "display_data",
          "data": {
            "image/png": "[encoded data removed]",
            "text/plain": [
              "<Figure size 432x288 with 1 Axes>"
            ]
          },
          "metadata": {
            "tags": [],
            "needs_background": "light"
          }
        }
      ]
    },
    {
      "cell_type": "code",
      "metadata": {
        "id": "p_-Q4NCBNXZg"
      },
      "source": [
        "from sklearn.datasets import load_iris"
      ],
      "execution_count": 11,
      "outputs": []
    },
    {
      "cell_type": "code",
      "metadata": {
        "id": "cVbMCimDNeRq",
        "outputId": "7cfed314-57ec-4273-eb3a-d7fff47cacfa",
        "colab": {
          "base_uri": "https://localhost:8080/"
        }
      },
      "source": [
        "iris = load_iris()\n",
        "iris.keys()"
      ],
      "execution_count": 12,
      "outputs": [
        {
          "output_type": "execute_result",
          "data": {
            "text/plain": [
              "dict_keys(['data', 'target', 'target_names', 'DESCR', 'feature_names', 'filename'])"
            ]
          },
          "metadata": {
            "tags": []
          },
          "execution_count": 12
        }
      ]
    },
    {
      "cell_type": "code",
      "metadata": {
        "id": "gOM5irhtNwpX",
        "outputId": "a7005b41-207a-4fce-cd39-aa75ce13bcd2",
        "colab": {
          "base_uri": "https://localhost:8080/"
        }
      },
      "source": [
        "X, y = iris['data'], iris['target']\n",
        "X.shape, y.shape"
      ],
      "execution_count": 13,
      "outputs": [
        {
          "output_type": "execute_result",
          "data": {
            "text/plain": [
              "((150, 4), (150,))"
            ]
          },
          "metadata": {
            "tags": []
          },
          "execution_count": 13
        }
      ]
    },
    {
      "cell_type": "code",
      "metadata": {
        "id": "JApv3MFTO_5h",
        "outputId": "613c369a-8140-4d2c-d908-547bc54ec7c8",
        "colab": {
          "base_uri": "https://localhost:8080/"
        }
      },
      "source": [
        "iris['feature_names']"
      ],
      "execution_count": 14,
      "outputs": [
        {
          "output_type": "execute_result",
          "data": {
            "text/plain": [
              "['sepal length (cm)',\n",
              " 'sepal width (cm)',\n",
              " 'petal length (cm)',\n",
              " 'petal width (cm)']"
            ]
          },
          "metadata": {
            "tags": []
          },
          "execution_count": 14
        }
      ]
    },
    {
      "cell_type": "code",
      "metadata": {
        "id": "BwGeInJJONgn",
        "outputId": "083e866e-7419-4fce-d7f6-e6e1c0ead52e",
        "colab": {
          "base_uri": "https://localhost:8080/"
        }
      },
      "source": [
        "X, y = load_iris(return_X_y=True)\n",
        "X.shape, y.shape"
      ],
      "execution_count": 15,
      "outputs": [
        {
          "output_type": "execute_result",
          "data": {
            "text/plain": [
              "((150, 4), (150,))"
            ]
          },
          "metadata": {
            "tags": []
          },
          "execution_count": 15
        }
      ]
    },
    {
      "cell_type": "code",
      "metadata": {
        "id": "uDUJkCfQO2qF",
        "outputId": "3211fbf4-b21e-47ae-d500-37c8c4ea45c1",
        "colab": {
          "base_uri": "https://localhost:8080/"
        }
      },
      "source": [
        "# 꽃잎 길이(petal length)로 품종이 virginica인지 아닌지를 분류\n",
        "X = X[:, 2:3]  # petal length 변수(특성/컬럼)만 선택, 컬럼 벡터(2d array)로 생성.\n",
        "X[:5]"
      ],
      "execution_count": 16,
      "outputs": [
        {
          "output_type": "execute_result",
          "data": {
            "text/plain": [
              "array([[1.4],\n",
              "       [1.4],\n",
              "       [1.3],\n",
              "       [1.5],\n",
              "       [1.4]])"
            ]
          },
          "metadata": {
            "tags": []
          },
          "execution_count": 16
        }
      ]
    },
    {
      "cell_type": "code",
      "metadata": {
        "id": "Ao24QtP9QHC-",
        "outputId": "06a28773-77d0-4573-b7a5-988535370053",
        "colab": {
          "base_uri": "https://localhost:8080/"
        }
      },
      "source": [
        "y = (y == 2).astype(np.int16)  # 품종이 virginica이면 1, 그렇지 않으면 0\n",
        "y[:5], y[-5:]"
      ],
      "execution_count": 17,
      "outputs": [
        {
          "output_type": "execute_result",
          "data": {
            "text/plain": [
              "(array([0, 0, 0, 0, 0], dtype=int16), array([1, 1, 1, 1, 1], dtype=int16))"
            ]
          },
          "metadata": {
            "tags": []
          },
          "execution_count": 17
        }
      ]
    },
    {
      "cell_type": "code",
      "metadata": {
        "id": "7E6aE1soQr8h",
        "outputId": "ee8aa874-10c8-47f3-f115-a1c59d9554a1",
        "colab": {
          "base_uri": "https://localhost:8080/",
          "height": 265
        }
      },
      "source": [
        "plt.scatter(X, y)\n",
        "plt.grid()"
      ],
      "execution_count": 18,
      "outputs": [
        {
          "output_type": "display_data",
          "data": {
            "image/png": "[encoded data removed]",
            "text/plain": [
              "<Figure size 432x288 with 1 Axes>"
            ]
          },
          "metadata": {
            "tags": [],
            "needs_background": "light"
          }
        }
      ]
    },
    {
      "cell_type": "code",
      "metadata": {
        "id": "zBUMDhAkRVVt"
      },
      "source": [
        "from sklearn.linear_model import LogisticRegression"
      ],
      "execution_count": 19,
      "outputs": []
    },
    {
      "cell_type": "code",
      "metadata": {
        "id": "52qkjZAoRn0s"
      },
      "source": [
        "# 모델 생성\n",
        "log_reg = LogisticRegression(random_state=1)"
      ],
      "execution_count": 20,
      "outputs": []
    },
    {
      "cell_type": "code",
      "metadata": {
        "id": "psn7iahpTXmB",
        "outputId": "e057545e-562d-4dce-c9cc-35e8b8826ffa",
        "colab": {
          "base_uri": "https://localhost:8080/"
        }
      },
      "source": [
        "# 모델 훈련\n",
        "log_reg.fit(X, y)"
      ],
      "execution_count": 21,
      "outputs": [
        {
          "output_type": "execute_result",
          "data": {
            "text/plain": [
              "LogisticRegression(C=1.0, class_weight=None, dual=False, fit_intercept=True,\n",
              "                   intercept_scaling=1, l1_ratio=None, max_iter=100,\n",
              "                   multi_class='auto', n_jobs=None, penalty='l2',\n",
              "                   random_state=1, solver='lbfgs', tol=0.0001, verbose=0,\n",
              "                   warm_start=False)"
            ]
          },
          "metadata": {
            "tags": []
          },
          "execution_count": 21
        }
      ]
    },
    {
      "cell_type": "code",
      "metadata": {
        "id": "jAwlBTZxTxE-",
        "outputId": "c11e296e-cbc9-4bce-db9f-ec22eb02ec6b",
        "colab": {
          "base_uri": "https://localhost:8080/"
        }
      },
      "source": [
        "intercept, coef = log_reg.intercept_, log_reg.coef_\n",
        "#> intercept(절편): 1d array, coefficients(계수): 2d array\n",
        "intercept, coef"
      ],
      "execution_count": 23,
      "outputs": [
        {
          "output_type": "execute_result",
          "data": {
            "text/plain": [
              "(array([-17.51059761]), array([[3.59114121]]))"
            ]
          },
          "metadata": {
            "tags": []
          },
          "execution_count": 23
        }
      ]
    },
    {
      "cell_type": "code",
      "metadata": {
        "id": "m6AwvNxlU1mV",
        "outputId": "8f940a31-25d8-439c-c858-6d0497742e20",
        "colab": {
          "base_uri": "https://localhost:8080/"
        }
      },
      "source": [
        "sample1, sample2 = X[0], X[-1]\n",
        "sample1, sample2"
      ],
      "execution_count": 24,
      "outputs": [
        {
          "output_type": "execute_result",
          "data": {
            "text/plain": [
              "(array([1.4]), array([5.1]))"
            ]
          },
          "metadata": {
            "tags": []
          },
          "execution_count": 24
        }
      ]
    },
    {
      "cell_type": "code",
      "metadata": {
        "id": "XlzjuED5VGX-",
        "outputId": "8459bd5a-b238-44ad-f673-6d131c836464",
        "colab": {
          "base_uri": "https://localhost:8080/"
        }
      },
      "source": [
        "lin_eq1 = intercept + coef[0, 0] * sample1[0]  # y = b0 + b1 * x\n",
        "p = sigmoid(lin_eq1)\n",
        "p  # 양성이 될 확률이 거의 0에 가깝다 => virginica X"
      ],
      "execution_count": 25,
      "outputs": [
        {
          "output_type": "execute_result",
          "data": {
            "text/plain": [
              "array([3.79053376e-06])"
            ]
          },
          "metadata": {
            "tags": []
          },
          "execution_count": 25
        }
      ]
    },
    {
      "cell_type": "code",
      "metadata": {
        "id": "OIQ7HVTaV1M0",
        "outputId": "edd45141-0d77-494e-9ad6-d1638b7316d9",
        "colab": {
          "base_uri": "https://localhost:8080/"
        }
      },
      "source": [
        "lin_eq2 = intercept + coef[0, 0] * sample2[0]  # y = b0 + b1 * x\n",
        "p = sigmoid(lin_eq2)\n",
        "p  # 양성이 될 확률이 69% => virginica"
      ],
      "execution_count": 26,
      "outputs": [
        {
          "output_type": "execute_result",
          "data": {
            "text/plain": [
              "array([0.690877])"
            ]
          },
          "metadata": {
            "tags": []
          },
          "execution_count": 26
        }
      ]
    },
    {
      "cell_type": "code",
      "metadata": {
        "id": "9wbnazkhZcti",
        "outputId": "0bab00f8-6c0d-40d0-bba6-ab1ac97902e3",
        "colab": {
          "base_uri": "https://localhost:8080/"
        }
      },
      "source": [
        "# 훈련이 끝난 모델에서 예측 확률을 계산\n",
        "y_pred_prob = log_reg.predict_proba(X)\n",
        "y_pred_prob[0], y_pred_prob[-1]  #> [target=0일 확률, target=1일 확률]"
      ],
      "execution_count": 28,
      "outputs": [
        {
          "output_type": "execute_result",
          "data": {
            "text/plain": [
              "(array([9.99996209e-01, 3.79053376e-06]), array([0.309123, 0.690877]))"
            ]
          },
          "metadata": {
            "tags": []
          },
          "execution_count": 28
        }
      ]
    },
    {
      "cell_type": "code",
      "metadata": {
        "id": "RRPX6jI-acqv"
      },
      "source": [
        "# 훈련이 끝난 모델에서 예측값(0, 1)을 계산.\n",
        "y_pred = log_reg.predict(X)"
      ],
      "execution_count": 29,
      "outputs": []
    },
    {
      "cell_type": "code",
      "metadata": {
        "id": "B29sFWTNalVm",
        "outputId": "54f9fbf6-b82f-4304-8a8f-567ec6e7e440",
        "colab": {
          "base_uri": "https://localhost:8080/",
          "height": 36
        }
      },
      "source": [
        "np.mean(y == y_pred)"
      ],
      "execution_count": null,
      "outputs": [
        {
          "output_type": "execute_result",
          "data": {
            "text/plain": [
              "0.9533333333333334"
            ]
          },
          "metadata": {
            "tags": []
          },
          "execution_count": 28
        }
      ]
    },
    {
      "cell_type": "code",
      "metadata": {
        "id": "zUbfDX1Baz-d",
        "outputId": "d06a0a85-061e-4913-8be3-311d5cf9036d",
        "colab": {
          "base_uri": "https://localhost:8080/"
        }
      },
      "source": [
        "# 모델 평가.\n",
        "from sklearn.metrics import accuracy_score, precision_score, recall_score\n",
        "accuracy_score(y_true=y, y_pred=y_pred)"
      ],
      "execution_count": 30,
      "outputs": [
        {
          "output_type": "execute_result",
          "data": {
            "text/plain": [
              "0.9533333333333334"
            ]
          },
          "metadata": {
            "tags": []
          },
          "execution_count": 30
        }
      ]
    },
    {
      "cell_type": "code",
      "metadata": {
        "id": "Z_URKk-ebLzn",
        "outputId": "6b3ba25b-3fc7-4559-c856-8d1e55fe11fb",
        "colab": {
          "base_uri": "https://localhost:8080/"
        }
      },
      "source": [
        "precision_score(y, y_pred)"
      ],
      "execution_count": 31,
      "outputs": [
        {
          "output_type": "execute_result",
          "data": {
            "text/plain": [
              "0.9215686274509803"
            ]
          },
          "metadata": {
            "tags": []
          },
          "execution_count": 31
        }
      ]
    },
    {
      "cell_type": "code",
      "metadata": {
        "id": "8Sp0WiWQbQ8l",
        "outputId": "5ea9f72e-90e3-43df-a74f-ad0cec4dcac3",
        "colab": {
          "base_uri": "https://localhost:8080/"
        }
      },
      "source": [
        "recall_score(y, y_pred)"
      ],
      "execution_count": 32,
      "outputs": [
        {
          "output_type": "execute_result",
          "data": {
            "text/plain": [
              "0.94"
            ]
          },
          "metadata": {
            "tags": []
          },
          "execution_count": 32
        }
      ]
    },
    {
      "cell_type": "code",
      "metadata": {
        "id": "XJNVkBPmbXt2",
        "outputId": "31853dfd-1a8d-48f2-8028-95f10cf180fa",
        "colab": {
          "base_uri": "https://localhost:8080/"
        }
      },
      "source": [
        "from sklearn.metrics import confusion_matrix\n",
        "confusion_matrix(y, y_pred)"
      ],
      "execution_count": 33,
      "outputs": [
        {
          "output_type": "execute_result",
          "data": {
            "text/plain": [
              "array([[96,  4],\n",
              "       [ 3, 47]])"
            ]
          },
          "metadata": {
            "tags": []
          },
          "execution_count": 33
        }
      ]
    },
    {
      "cell_type": "code",
      "metadata": {
        "id": "huiMIGBj3E7b",
        "outputId": "c9456629-cf34-4808-cadd-8125e56dfbe4",
        "colab": {
          "base_uri": "https://localhost:8080/"
        }
      },
      "source": [
        "from sklearn.metrics import classification_report\n",
        "report = classification_report(y, y_pred)\n",
        "print(report)"
      ],
      "execution_count": 34,
      "outputs": [
        {
          "output_type": "stream",
          "text": [
            "              precision    recall  f1-score   support\n",
            "\n",
            "           0       0.97      0.96      0.96       100\n",
            "           1       0.92      0.94      0.93        50\n",
            "\n",
            "    accuracy                           0.95       150\n",
            "   macro avg       0.95      0.95      0.95       150\n",
            "weighted avg       0.95      0.95      0.95       150\n",
            "\n"
          ],
          "name": "stdout"
        }
      ]
    },
    {
      "cell_type": "code",
      "metadata": {
        "id": "7Jg1oxiHb8Oe",
        "outputId": "a7e06696-b2d4-435f-b8f8-2269a088e58f",
        "colab": {
          "base_uri": "https://localhost:8080/",
          "height": 265
        }
      },
      "source": [
        "plt.scatter(X, y)  # 샘플 데이터\n",
        "\n",
        "# 가상의 테스트 데이터\n",
        "X_test = np.linspace(start=1, stop=7, num=100).reshape((100, 1))\n",
        "y_test_pred = log_reg.predict_proba(X_test)\n",
        "plt.plot(X_test, y_test_pred[:, 1], 'r-', label='Virginica')\n",
        "plt.plot(X_test, y_test_pred[:, 0], 'g--', label='Not Virginica')\n",
        "\n",
        "# 양성(virginica)일 확률이 0.5인 지점\n",
        "x = np.min(X_test[y_test_pred[:, 1] >= 0.5])\n",
        "plt.vlines(x, ymin=0, ymax=1, linestyles='solid')  \n",
        "# 결정 경계(decision boundary): 양성/음성을 분류하는 경계\n",
        "\n",
        "plt.legend()\n",
        "plt.grid()"
      ],
      "execution_count": 41,
      "outputs": [
        {
          "output_type": "display_data",
          "data": {
            "image/png": "[encoded data removed]",
            "text/plain": [
              "<Figure size 432x288 with 1 Axes>"
            ]
          },
          "metadata": {
            "tags": [],
            "needs_background": "light"
          }
        }
      ]
    },
    {
      "cell_type": "markdown",
      "metadata": {
        "id": "HnvBIGj25WJX"
      },
      "source": [
        "* iris 데이터 셋에서 꽃잎(petal) 길이, 너비 특성만 선택\n",
        "* 2진 분류(virginica / virginica 아님 ) - Logistic Regression 이용\n",
        "* 모델 훈련, 예측, 평가(report 출력)\n",
        "* 시각화: x축(petal length), y축(petal width), 결정 경계(intercept_, coef_)"
      ]
    },
    {
      "cell_type": "code",
      "metadata": {
        "id": "QF2xWmwg5Uej",
        "outputId": "3819c5aa-775a-4b75-9bb9-6abc73836146",
        "colab": {
          "base_uri": "https://localhost:8080/"
        }
      },
      "source": [
        "iris = load_iris()\n",
        "X, y = iris['data'], iris['target']\n",
        "X.shape, y.shape"
      ],
      "execution_count": 48,
      "outputs": [
        {
          "output_type": "execute_result",
          "data": {
            "text/plain": [
              "((150, 4), (150,))"
            ]
          },
          "metadata": {
            "tags": []
          },
          "execution_count": 48
        }
      ]
    },
    {
      "cell_type": "code",
      "metadata": {
        "id": "TiA1_8YM7CeM",
        "outputId": "1767a85a-ef31-4d3a-9025-d416ba5e8b4d",
        "colab": {
          "base_uri": "https://localhost:8080/"
        }
      },
      "source": [
        "iris['feature_names'], iris['target_names']"
      ],
      "execution_count": 44,
      "outputs": [
        {
          "output_type": "execute_result",
          "data": {
            "text/plain": [
              "(['sepal length (cm)',\n",
              "  'sepal width (cm)',\n",
              "  'petal length (cm)',\n",
              "  'petal width (cm)'],\n",
              " array(['setosa', 'versicolor', 'virginica'], dtype='<U10'))"
            ]
          },
          "metadata": {
            "tags": []
          },
          "execution_count": 44
        }
      ]
    },
    {
      "cell_type": "code",
      "metadata": {
        "id": "BgU6EEB76_kI",
        "outputId": "c0a17bc8-74e8-4327-a62f-ceb90cce2e5a",
        "colab": {
          "base_uri": "https://localhost:8080/"
        }
      },
      "source": [
        "X = X[:, 2:]\n",
        "y = (y == 2).astype(np.int16)\n",
        "X.shape, y.shape"
      ],
      "execution_count": 49,
      "outputs": [
        {
          "output_type": "execute_result",
          "data": {
            "text/plain": [
              "((150, 2), (150,))"
            ]
          },
          "metadata": {
            "tags": []
          },
          "execution_count": 49
        }
      ]
    },
    {
      "cell_type": "code",
      "metadata": {
        "id": "7G_ZbbdS64WA",
        "outputId": "0ce2a93d-7cca-4378-df4f-262787cbadee",
        "colab": {
          "base_uri": "https://localhost:8080/"
        }
      },
      "source": [
        "log_reg = LogisticRegression(random_state=1)\n",
        "log_reg.fit(X, y)"
      ],
      "execution_count": 50,
      "outputs": [
        {
          "output_type": "execute_result",
          "data": {
            "text/plain": [
              "LogisticRegression(C=1.0, class_weight=None, dual=False, fit_intercept=True,\n",
              "                   intercept_scaling=1, l1_ratio=None, max_iter=100,\n",
              "                   multi_class='auto', n_jobs=None, penalty='l2',\n",
              "                   random_state=1, solver='lbfgs', tol=0.0001, verbose=0,\n",
              "                   warm_start=False)"
            ]
          },
          "metadata": {
            "tags": []
          },
          "execution_count": 50
        }
      ]
    },
    {
      "cell_type": "code",
      "metadata": {
        "id": "F4E6S0dH7iUr"
      },
      "source": [
        "y_pred = log_reg.predict(X)"
      ],
      "execution_count": 51,
      "outputs": []
    },
    {
      "cell_type": "code",
      "metadata": {
        "id": "KEKZbiPL7orn",
        "outputId": "61a7efa7-63fd-4497-a34a-6be53e39d4ef",
        "colab": {
          "base_uri": "https://localhost:8080/"
        }
      },
      "source": [
        "report = classification_report(y, y_pred)\n",
        "print(report)"
      ],
      "execution_count": 54,
      "outputs": [
        {
          "output_type": "stream",
          "text": [
            "              precision    recall  f1-score   support\n",
            "\n",
            "           0       0.98      0.97      0.97       100\n",
            "           1       0.94      0.96      0.95        50\n",
            "\n",
            "    accuracy                           0.97       150\n",
            "   macro avg       0.96      0.96      0.96       150\n",
            "weighted avg       0.97      0.97      0.97       150\n",
            "\n"
          ],
          "name": "stdout"
        }
      ]
    },
    {
      "cell_type": "code",
      "metadata": {
        "id": "ZWkMNsGM8WiS"
      },
      "source": [
        "b0, (b1, b2) = log_reg.intercept_, log_reg.coef_[0]\n",
        "x = np.linspace(4, 6, 50)\n",
        "y = (-1/b2) * (b0 + b1 * x)"
      ],
      "execution_count": 64,
      "outputs": []
    },
    {
      "cell_type": "code",
      "metadata": {
        "id": "pIrZhHL575So",
        "outputId": "ca672c43-7fee-4221-fe28-184401023029",
        "colab": {
          "base_uri": "https://localhost:8080/",
          "height": 300
        }
      },
      "source": [
        "plt.scatter(X[:100, 0], X[:100, 1], label='Not Virginica')\n",
        "plt.scatter(X[100:, 0], X[100:, 1], label='Virginica')\n",
        "\n",
        "plt.plot(x, y, 'r-')\n",
        "\n",
        "plt.grid()\n",
        "plt.legend()\n",
        "plt.xlabel('petal length')\n",
        "plt.ylabel('petal width')"
      ],
      "execution_count": 65,
      "outputs": [
        {
          "output_type": "execute_result",
          "data": {
            "text/plain": [
              "Text(0, 0.5, 'petal width')"
            ]
          },
          "metadata": {
            "tags": []
          },
          "execution_count": 65
        },
        {
          "output_type": "display_data",
          "data": {
            "image/png": "[encoded data removed]",
            "text/plain": [
              "<Figure size 432x288 with 1 Axes>"
            ]
          },
          "metadata": {
            "tags": [],
            "needs_background": "light"
          }
        }
      ]
    },
    {
      "cell_type": "code",
      "metadata": {
        "id": "JtymMRvLD6TJ"
      },
      "source": [
        "# iris 데이터에서 petal width만 선택, Softmax Regression 수행\n",
        "iris = load_iris()\n",
        "X, y = iris['data'], iris['target']"
      ],
      "execution_count": 66,
      "outputs": []
    },
    {
      "cell_type": "code",
      "metadata": {
        "id": "dbtq8ZqGERtl",
        "outputId": "1b460b23-8304-4ccb-b0d2-ac8d7de1abfe",
        "colab": {
          "base_uri": "https://localhost:8080/"
        }
      },
      "source": [
        "X[:5]"
      ],
      "execution_count": 67,
      "outputs": [
        {
          "output_type": "execute_result",
          "data": {
            "text/plain": [
              "array([[5.1, 3.5, 1.4, 0.2],\n",
              "       [4.9, 3. , 1.4, 0.2],\n",
              "       [4.7, 3.2, 1.3, 0.2],\n",
              "       [4.6, 3.1, 1.5, 0.2],\n",
              "       [5. , 3.6, 1.4, 0.2]])"
            ]
          },
          "metadata": {
            "tags": []
          },
          "execution_count": 67
        }
      ]
    },
    {
      "cell_type": "code",
      "metadata": {
        "id": "dEa6Ri_kEWje",
        "outputId": "c8cbb7d6-15b9-488d-f277-949bea9deaeb",
        "colab": {
          "base_uri": "https://localhost:8080/"
        }
      },
      "source": [
        "iris['feature_names']"
      ],
      "execution_count": 68,
      "outputs": [
        {
          "output_type": "execute_result",
          "data": {
            "text/plain": [
              "['sepal length (cm)',\n",
              " 'sepal width (cm)',\n",
              " 'petal length (cm)',\n",
              " 'petal width (cm)']"
            ]
          },
          "metadata": {
            "tags": []
          },
          "execution_count": 68
        }
      ]
    },
    {
      "cell_type": "code",
      "metadata": {
        "id": "EEVeVmurETTe",
        "outputId": "d143dcc8-2854-4c88-a8a3-75576c72160c",
        "colab": {
          "base_uri": "https://localhost:8080/"
        }
      },
      "source": [
        "y"
      ],
      "execution_count": 69,
      "outputs": [
        {
          "output_type": "execute_result",
          "data": {
            "text/plain": [
              "array([0, 0, 0, 0, 0, 0, 0, 0, 0, 0, 0, 0, 0, 0, 0, 0, 0, 0, 0, 0, 0, 0,\n",
              "       0, 0, 0, 0, 0, 0, 0, 0, 0, 0, 0, 0, 0, 0, 0, 0, 0, 0, 0, 0, 0, 0,\n",
              "       0, 0, 0, 0, 0, 0, 1, 1, 1, 1, 1, 1, 1, 1, 1, 1, 1, 1, 1, 1, 1, 1,\n",
              "       1, 1, 1, 1, 1, 1, 1, 1, 1, 1, 1, 1, 1, 1, 1, 1, 1, 1, 1, 1, 1, 1,\n",
              "       1, 1, 1, 1, 1, 1, 1, 1, 1, 1, 1, 1, 2, 2, 2, 2, 2, 2, 2, 2, 2, 2,\n",
              "       2, 2, 2, 2, 2, 2, 2, 2, 2, 2, 2, 2, 2, 2, 2, 2, 2, 2, 2, 2, 2, 2,\n",
              "       2, 2, 2, 2, 2, 2, 2, 2, 2, 2, 2, 2, 2, 2, 2, 2, 2, 2])"
            ]
          },
          "metadata": {
            "tags": []
          },
          "execution_count": 69
        }
      ]
    },
    {
      "cell_type": "code",
      "metadata": {
        "id": "dXmnxNxtErwQ",
        "outputId": "6d9ae9a8-9eb4-46da-c87b-df850d2658d7",
        "colab": {
          "base_uri": "https://localhost:8080/"
        }
      },
      "source": [
        "iris['target_names']"
      ],
      "execution_count": 70,
      "outputs": [
        {
          "output_type": "execute_result",
          "data": {
            "text/plain": [
              "array(['setosa', 'versicolor', 'virginica'], dtype='<U10')"
            ]
          },
          "metadata": {
            "tags": []
          },
          "execution_count": 70
        }
      ]
    },
    {
      "cell_type": "code",
      "metadata": {
        "id": "s84UwWWUE0nn",
        "outputId": "36c31644-180c-4f44-a3ba-54cccab1eea3",
        "colab": {
          "base_uri": "https://localhost:8080/"
        }
      },
      "source": [
        "X = X[:, 3:]\n",
        "X[:5]"
      ],
      "execution_count": 71,
      "outputs": [
        {
          "output_type": "execute_result",
          "data": {
            "text/plain": [
              "array([[0.2],\n",
              "       [0.2],\n",
              "       [0.2],\n",
              "       [0.2],\n",
              "       [0.2]])"
            ]
          },
          "metadata": {
            "tags": []
          },
          "execution_count": 71
        }
      ]
    },
    {
      "cell_type": "code",
      "metadata": {
        "id": "PnGRb28tFCQv"
      },
      "source": [
        "log_reg = LogisticRegression(multi_class='multinomial', random_state=1)\n",
        "# 파라미터 multi_class='multinomial'을 지정하면 Softmax Regression\n",
        "# (주의) multi_class='multinomial' 지정한 경우에는 solver='liblinear'는 사용할 수 없음!"
      ],
      "execution_count": 72,
      "outputs": []
    },
    {
      "cell_type": "code",
      "metadata": {
        "id": "QGgYAUGaG8hU",
        "outputId": "e9969370-40f1-4df0-e934-5054847deee9",
        "colab": {
          "base_uri": "https://localhost:8080/"
        }
      },
      "source": [
        "log_reg.fit(X, y)  # 모델 훈련."
      ],
      "execution_count": 73,
      "outputs": [
        {
          "output_type": "execute_result",
          "data": {
            "text/plain": [
              "LogisticRegression(C=1.0, class_weight=None, dual=False, fit_intercept=True,\n",
              "                   intercept_scaling=1, l1_ratio=None, max_iter=100,\n",
              "                   multi_class='multinomial', n_jobs=None, penalty='l2',\n",
              "                   random_state=1, solver='lbfgs', tol=0.0001, verbose=0,\n",
              "                   warm_start=False)"
            ]
          },
          "metadata": {
            "tags": []
          },
          "execution_count": 73
        }
      ]
    },
    {
      "cell_type": "code",
      "metadata": {
        "id": "Lv-N0dWbHAyo"
      },
      "source": [
        "bias, weights = log_reg.intercept_, log_reg.coef_"
      ],
      "execution_count": 74,
      "outputs": []
    },
    {
      "cell_type": "code",
      "metadata": {
        "id": "Vb_KWq3GHdFy",
        "outputId": "8ba9ebe1-9cf7-4431-b7af-03ea43920959",
        "colab": {
          "base_uri": "https://localhost:8080/"
        }
      },
      "source": [
        "bias"
      ],
      "execution_count": 75,
      "outputs": [
        {
          "output_type": "execute_result",
          "data": {
            "text/plain": [
              "array([ 4.5519361,  1.1522765, -5.7042126])"
            ]
          },
          "metadata": {
            "tags": []
          },
          "execution_count": 75
        }
      ]
    },
    {
      "cell_type": "code",
      "metadata": {
        "id": "VQFeE3J-Hdn-",
        "outputId": "e6cdeed3-e6da-42e9-df80-aa76329ea1c2",
        "colab": {
          "base_uri": "https://localhost:8080/"
        }
      },
      "source": [
        "weights"
      ],
      "execution_count": 76,
      "outputs": [
        {
          "output_type": "execute_result",
          "data": {
            "text/plain": [
              "array([[-4.29549978],\n",
              "       [ 0.06766414],\n",
              "       [ 4.22783565]])"
            ]
          },
          "metadata": {
            "tags": []
          },
          "execution_count": 76
        }
      ]
    },
    {
      "cell_type": "code",
      "metadata": {
        "id": "vbLp8y1CH-Qi",
        "outputId": "dadd010c-d19a-4038-913c-2012fea497f7",
        "colab": {
          "base_uri": "https://localhost:8080/"
        }
      },
      "source": [
        "y_pred_probs = log_reg.predict_proba(X)\n",
        "y_pred_probs[:5]"
      ],
      "execution_count": 78,
      "outputs": [
        {
          "output_type": "execute_result",
          "data": {
            "text/plain": [
              "array([[9.25849225e-01, 7.39718471e-02, 1.78928280e-04],\n",
              "       [9.25849225e-01, 7.39718471e-02, 1.78928280e-04],\n",
              "       [9.25849225e-01, 7.39718471e-02, 1.78928280e-04],\n",
              "       [9.25849225e-01, 7.39718471e-02, 1.78928280e-04],\n",
              "       [9.25849225e-01, 7.39718471e-02, 1.78928280e-04]])"
            ]
          },
          "metadata": {
            "tags": []
          },
          "execution_count": 78
        }
      ]
    },
    {
      "cell_type": "code",
      "metadata": {
        "id": "NIHg8uf8Hehe",
        "outputId": "6c88fd26-76a9-495f-eaee-5137f6b5387a",
        "colab": {
          "base_uri": "https://localhost:8080/"
        }
      },
      "source": [
        "y_pred_probs[-5:]"
      ],
      "execution_count": 79,
      "outputs": [
        {
          "output_type": "execute_result",
          "data": {
            "text/plain": [
              "array([[8.17452760e-05, 6.22694012e-02, 9.37648854e-01],\n",
              "       [1.94837696e-03, 2.59134839e-01, 7.38916784e-01],\n",
              "       [9.12301260e-04, 1.87707184e-01, 8.11380514e-01],\n",
              "       [8.17452760e-05, 6.22694012e-02, 9.37648854e-01],\n",
              "       [4.02104866e-03, 3.45702362e-01, 6.50276589e-01]])"
            ]
          },
          "metadata": {
            "tags": []
          },
          "execution_count": 79
        }
      ]
    },
    {
      "cell_type": "code",
      "metadata": {
        "id": "u5lIabeXJNol",
        "outputId": "bbc7aadc-3d9c-4abf-8797-af8a88d373d2",
        "colab": {
          "base_uri": "https://localhost:8080/"
        }
      },
      "source": [
        "y_preds = log_reg.predict(X)\n",
        "y_preds"
      ],
      "execution_count": 80,
      "outputs": [
        {
          "output_type": "execute_result",
          "data": {
            "text/plain": [
              "array([0, 0, 0, 0, 0, 0, 0, 0, 0, 0, 0, 0, 0, 0, 0, 0, 0, 0, 0, 0, 0, 0,\n",
              "       0, 0, 0, 0, 0, 0, 0, 0, 0, 0, 0, 0, 0, 0, 0, 0, 0, 0, 0, 0, 0, 0,\n",
              "       0, 0, 0, 0, 0, 0, 1, 1, 1, 1, 1, 1, 1, 1, 1, 1, 1, 1, 1, 1, 1, 1,\n",
              "       1, 1, 1, 1, 2, 1, 1, 1, 1, 1, 1, 2, 1, 1, 1, 1, 1, 1, 1, 1, 1, 1,\n",
              "       1, 1, 1, 1, 1, 1, 1, 1, 1, 1, 1, 1, 2, 2, 2, 2, 2, 2, 2, 2, 2, 2,\n",
              "       2, 2, 2, 2, 2, 2, 2, 2, 2, 1, 2, 2, 2, 2, 2, 2, 2, 2, 2, 1, 2, 2,\n",
              "       2, 1, 1, 2, 2, 2, 2, 2, 2, 2, 2, 2, 2, 2, 2, 2, 2, 2])"
            ]
          },
          "metadata": {
            "tags": []
          },
          "execution_count": 80
        }
      ]
    },
    {
      "cell_type": "code",
      "metadata": {
        "id": "PwiyzTfeJeze",
        "outputId": "b15b5f93-6381-4079-b672-6fac19793635",
        "colab": {
          "base_uri": "https://localhost:8080/"
        }
      },
      "source": [
        "confusion_matrix(y, y_preds)"
      ],
      "execution_count": 81,
      "outputs": [
        {
          "output_type": "execute_result",
          "data": {
            "text/plain": [
              "array([[50,  0,  0],\n",
              "       [ 0, 48,  2],\n",
              "       [ 0,  4, 46]])"
            ]
          },
          "metadata": {
            "tags": []
          },
          "execution_count": 81
        }
      ]
    },
    {
      "cell_type": "code",
      "metadata": {
        "id": "_ZE_b9L3JzR_",
        "outputId": "2ff2f4d8-c09c-4454-83e7-d2d9f22af0ef",
        "colab": {
          "base_uri": "https://localhost:8080/"
        }
      },
      "source": [
        "report = classification_report(y, y_preds, target_names=iris['target_names'])\n",
        "print(report)"
      ],
      "execution_count": 83,
      "outputs": [
        {
          "output_type": "stream",
          "text": [
            "              precision    recall  f1-score   support\n",
            "\n",
            "      setosa       1.00      1.00      1.00        50\n",
            "  versicolor       0.92      0.96      0.94        50\n",
            "   virginica       0.96      0.92      0.94        50\n",
            "\n",
            "    accuracy                           0.96       150\n",
            "   macro avg       0.96      0.96      0.96       150\n",
            "weighted avg       0.96      0.96      0.96       150\n",
            "\n"
          ],
          "name": "stdout"
        }
      ]
    },
    {
      "cell_type": "markdown",
      "metadata": {
        "id": "ndAZUcBgNdVC"
      },
      "source": [
        "* Softmax Regression에서 확률 계산과 예측값 계산."
      ]
    },
    {
      "cell_type": "code",
      "metadata": {
        "id": "BjBkPhG8Niaz",
        "outputId": "f1577b5e-5c60-4caf-e7d7-0606a81936c4",
        "colab": {
          "base_uri": "https://localhost:8080/"
        }
      },
      "source": [
        "bias, weights = log_reg.intercept_, log_reg.coef_\n",
        "bias\n",
        "# bias의 shape: (k,) k는 클래스의 개수"
      ],
      "execution_count": 84,
      "outputs": [
        {
          "output_type": "execute_result",
          "data": {
            "text/plain": [
              "array([ 4.5519361,  1.1522765, -5.7042126])"
            ]
          },
          "metadata": {
            "tags": []
          },
          "execution_count": 84
        }
      ]
    },
    {
      "cell_type": "code",
      "metadata": {
        "id": "1lAAbD-0Oouv",
        "outputId": "74581057-6a58-4099-91e0-826e6d43b75b",
        "colab": {
          "base_uri": "https://localhost:8080/"
        }
      },
      "source": [
        "weights\n",
        "# weights의 shape: (k, n) k는 클래스의 개수, n은 특성의 개수"
      ],
      "execution_count": 85,
      "outputs": [
        {
          "output_type": "execute_result",
          "data": {
            "text/plain": [
              "array([[-4.29549978],\n",
              "       [ 0.06766414],\n",
              "       [ 4.22783565]])"
            ]
          },
          "metadata": {
            "tags": []
          },
          "execution_count": 85
        }
      ]
    },
    {
      "cell_type": "code",
      "metadata": {
        "id": "s1HvcBOAOrkH",
        "outputId": "d0502e8b-0582-4114-d528-1868918ba0bf",
        "colab": {
          "base_uri": "https://localhost:8080/"
        }
      },
      "source": [
        "sample = X[0]\n",
        "sample"
      ],
      "execution_count": 86,
      "outputs": [
        {
          "output_type": "execute_result",
          "data": {
            "text/plain": [
              "array([0.2])"
            ]
          },
          "metadata": {
            "tags": []
          },
          "execution_count": 86
        }
      ]
    },
    {
      "cell_type": "code",
      "metadata": {
        "id": "SYK0W3NPO6Iu",
        "outputId": "f181e556-1151-409e-cecb-8b5e1fb47cee",
        "colab": {
          "base_uri": "https://localhost:8080/"
        }
      },
      "source": [
        "# sample이 setosa가 될 확률을 계산하기 위한 점수\n",
        "score_0 = np.exp(bias[0] + weights[0, 0] * X[0, 0])\n",
        "# sample이 versicolor가 될 확률을 계산하기 위한 점수\n",
        "score_1 = np.exp(bias[1] + weights[1, 0] * X[0, 0])\n",
        "# sample이 virginica가 될 확률을 계산하기 위한 점수\n",
        "score_2 = np.exp(bias[2] + weights[2, 0] * X[0, 0])\n",
        "\n",
        "score_sum = score_0 + score_1 + score_2\n",
        "\n",
        "# 각 클래스에 속할 확률\n",
        "p_0 = score_0 / score_sum\n",
        "p_1 = score_1 / score_sum\n",
        "p_2 = score_2 / score_sum\n",
        "\n",
        "p_0, p_1, p_2"
      ],
      "execution_count": 89,
      "outputs": [
        {
          "output_type": "execute_result",
          "data": {
            "text/plain": [
              "(0.9258492246144512, 0.07397184710559866, 0.0001789282799502253)"
            ]
          },
          "metadata": {
            "tags": []
          },
          "execution_count": 89
        }
      ]
    },
    {
      "cell_type": "code",
      "metadata": {
        "id": "eCr1Hqb5SOpr",
        "outputId": "7bb3666d-e90d-48b0-8223-2a8e30f9e009",
        "colab": {
          "base_uri": "https://localhost:8080/"
        }
      },
      "source": [
        "y_pred_probs[0]"
      ],
      "execution_count": 90,
      "outputs": [
        {
          "output_type": "execute_result",
          "data": {
            "text/plain": [
              "array([9.25849225e-01, 7.39718471e-02, 1.78928280e-04])"
            ]
          },
          "metadata": {
            "tags": []
          },
          "execution_count": 90
        }
      ]
    },
    {
      "cell_type": "code",
      "metadata": {
        "id": "wOSHPqG1T_ce"
      },
      "source": [
        "def softmax_probabilities(X, bias, weights):\n",
        "    \"\"\"X shape: (m, n), bias shape: (k,), weights: (k, n)\n",
        "    m: 샘플 개수, n: 특성 개수, k: 클래스 개수\n",
        "    \"\"\"\n",
        "    theta = np.c_[bias.reshape((-1, 1)), weights]  # (k, n+1) shape\n",
        "    X_b = np.c_[np.ones((len(X), 1)), X]  # (m, n+1) shape\n",
        "    score = np.exp(X_b @ theta.T)  # (m, n+1) @ (n+1, k) = (m, k) shape\n",
        "    score_sum = np.sum(score, axis=1, keepdims=True)\n",
        "    return score / score_sum"
      ],
      "execution_count": 91,
      "outputs": []
    },
    {
      "cell_type": "code",
      "metadata": {
        "id": "m2uSeq_fWTd0",
        "outputId": "ebfa5d3d-1cdf-4b66-cb36-7adbda722a34",
        "colab": {
          "base_uri": "https://localhost:8080/"
        }
      },
      "source": [
        "probabilitis = softmax_probabilities(X, bias, weights)\n",
        "probabilitis[:5]"
      ],
      "execution_count": 92,
      "outputs": [
        {
          "output_type": "execute_result",
          "data": {
            "text/plain": [
              "array([[9.25849225e-01, 7.39718471e-02, 1.78928280e-04],\n",
              "       [9.25849225e-01, 7.39718471e-02, 1.78928280e-04],\n",
              "       [9.25849225e-01, 7.39718471e-02, 1.78928280e-04],\n",
              "       [9.25849225e-01, 7.39718471e-02, 1.78928280e-04],\n",
              "       [9.25849225e-01, 7.39718471e-02, 1.78928280e-04]])"
            ]
          },
          "metadata": {
            "tags": []
          },
          "execution_count": 92
        }
      ]
    },
    {
      "cell_type": "code",
      "metadata": {
        "id": "GBs27fo5W1SP",
        "outputId": "6606950a-f887-43de-9e6b-9264917277f2",
        "colab": {
          "base_uri": "https://localhost:8080/"
        }
      },
      "source": [
        "probabilitis[-5:]"
      ],
      "execution_count": 93,
      "outputs": [
        {
          "output_type": "execute_result",
          "data": {
            "text/plain": [
              "array([[8.17452760e-05, 6.22694012e-02, 9.37648854e-01],\n",
              "       [1.94837696e-03, 2.59134839e-01, 7.38916784e-01],\n",
              "       [9.12301260e-04, 1.87707184e-01, 8.11380514e-01],\n",
              "       [8.17452760e-05, 6.22694012e-02, 9.37648854e-01],\n",
              "       [4.02104866e-03, 3.45702362e-01, 6.50276589e-01]])"
            ]
          },
          "metadata": {
            "tags": []
          },
          "execution_count": 93
        }
      ]
    },
    {
      "cell_type": "code",
      "metadata": {
        "id": "EbQJtkFBXQL2"
      },
      "source": [
        "def softmax_predictions(X, bias, weights):\n",
        "    probabilitis = softmax_probabilities(X, bias, weights)\n",
        "    return np.argmax(probabilitis, axis=1)"
      ],
      "execution_count": 94,
      "outputs": []
    },
    {
      "cell_type": "code",
      "metadata": {
        "id": "r2zpy_4DXeUD",
        "outputId": "ff79bd45-4d7e-4c5e-c680-444e25010267",
        "colab": {
          "base_uri": "https://localhost:8080/"
        }
      },
      "source": [
        "softmax_predictions(X, bias, weights)"
      ],
      "execution_count": 95,
      "outputs": [
        {
          "output_type": "execute_result",
          "data": {
            "text/plain": [
              "array([0, 0, 0, 0, 0, 0, 0, 0, 0, 0, 0, 0, 0, 0, 0, 0, 0, 0, 0, 0, 0, 0,\n",
              "       0, 0, 0, 0, 0, 0, 0, 0, 0, 0, 0, 0, 0, 0, 0, 0, 0, 0, 0, 0, 0, 0,\n",
              "       0, 0, 0, 0, 0, 0, 1, 1, 1, 1, 1, 1, 1, 1, 1, 1, 1, 1, 1, 1, 1, 1,\n",
              "       1, 1, 1, 1, 2, 1, 1, 1, 1, 1, 1, 2, 1, 1, 1, 1, 1, 1, 1, 1, 1, 1,\n",
              "       1, 1, 1, 1, 1, 1, 1, 1, 1, 1, 1, 1, 2, 2, 2, 2, 2, 2, 2, 2, 2, 2,\n",
              "       2, 2, 2, 2, 2, 2, 2, 2, 2, 1, 2, 2, 2, 2, 2, 2, 2, 2, 2, 1, 2, 2,\n",
              "       2, 1, 1, 2, 2, 2, 2, 2, 2, 2, 2, 2, 2, 2, 2, 2, 2, 2])"
            ]
          },
          "metadata": {
            "tags": []
          },
          "execution_count": 95
        }
      ]
    },
    {
      "cell_type": "markdown",
      "metadata": {
        "id": "oNmjZ-eYrcLL"
      },
      "source": [
        "* iris 전체 샘플을 LogisticRegression(multi_class='mulitinomial') 모델로 훈련\n",
        "* 분류 리포트 출력\n",
        "* 모델의 intercept_, coef_ 확인"
      ]
    },
    {
      "cell_type": "code",
      "metadata": {
        "id": "Fs_j_w31smGt"
      },
      "source": [
        "X, y = iris['data'], iris['target']"
      ],
      "execution_count": 96,
      "outputs": []
    },
    {
      "cell_type": "code",
      "metadata": {
        "id": "6VRe-DgmqHvm",
        "outputId": "9933f00c-ab35-43a1-98c7-6965164a4b05",
        "colab": {
          "base_uri": "https://localhost:8080/"
        }
      },
      "source": [
        "# 모델 생성\n",
        "log_reg = LogisticRegression(multi_class='multinomial', max_iter=1e3,\n",
        "                             random_state=1)\n",
        "# 모델 훈련\n",
        "log_reg.fit(X, y)"
      ],
      "execution_count": 98,
      "outputs": [
        {
          "output_type": "execute_result",
          "data": {
            "text/plain": [
              "LogisticRegression(C=1.0, class_weight=None, dual=False, fit_intercept=True,\n",
              "                   intercept_scaling=1, l1_ratio=None, max_iter=1000.0,\n",
              "                   multi_class='multinomial', n_jobs=None, penalty='l2',\n",
              "                   random_state=1, solver='lbfgs', tol=0.0001, verbose=0,\n",
              "                   warm_start=False)"
            ]
          },
          "metadata": {
            "tags": []
          },
          "execution_count": 98
        }
      ]
    },
    {
      "cell_type": "code",
      "metadata": {
        "id": "4E_fAGOgXh8E",
        "outputId": "ca81ae56-a189-4c53-b622-8ad32d24f4a8",
        "colab": {
          "base_uri": "https://localhost:8080/"
        }
      },
      "source": [
        "# 훈련된 모델에서 훈련 셋의 예측값을 계산\n",
        "y_preds = log_reg.predict(X)\n",
        "# 훈련된 모델 평가.\n",
        "report = classification_report(y, y_preds, target_names=iris['target_names'])\n",
        "print(report)"
      ],
      "execution_count": 100,
      "outputs": [
        {
          "output_type": "stream",
          "text": [
            "              precision    recall  f1-score   support\n",
            "\n",
            "      setosa       1.00      1.00      1.00        50\n",
            "  versicolor       0.98      0.94      0.96        50\n",
            "   virginica       0.94      0.98      0.96        50\n",
            "\n",
            "    accuracy                           0.97       150\n",
            "   macro avg       0.97      0.97      0.97       150\n",
            "weighted avg       0.97      0.97      0.97       150\n",
            "\n"
          ],
          "name": "stdout"
        }
      ]
    },
    {
      "cell_type": "code",
      "metadata": {
        "id": "VW3cVf34upVE",
        "outputId": "fc70cf2f-a7b0-4390-9e4c-e96fcf74ffd0",
        "colab": {
          "base_uri": "https://localhost:8080/"
        }
      },
      "source": [
        "confusion_matrix(y, y_preds)"
      ],
      "execution_count": 101,
      "outputs": [
        {
          "output_type": "execute_result",
          "data": {
            "text/plain": [
              "array([[50,  0,  0],\n",
              "       [ 0, 47,  3],\n",
              "       [ 0,  1, 49]])"
            ]
          },
          "metadata": {
            "tags": []
          },
          "execution_count": 101
        }
      ]
    },
    {
      "cell_type": "code",
      "metadata": {
        "id": "g8cTlR8yu0La",
        "outputId": "737f6925-0efc-41b7-bf5b-974f393f37b3",
        "colab": {
          "base_uri": "https://localhost:8080/"
        }
      },
      "source": [
        "bias = log_reg.intercept_\n",
        "bias  # (k,) 1d array: k-클래스 개수"
      ],
      "execution_count": 102,
      "outputs": [
        {
          "output_type": "execute_result",
          "data": {
            "text/plain": [
              "array([  9.84902418,   2.23817992, -12.0872041 ])"
            ]
          },
          "metadata": {
            "tags": []
          },
          "execution_count": 102
        }
      ]
    },
    {
      "cell_type": "code",
      "metadata": {
        "id": "lVQ-vtQUu5p6",
        "outputId": "0ffa1591-d537-424c-cf50-41eefe84e355",
        "colab": {
          "base_uri": "https://localhost:8080/"
        }
      },
      "source": [
        "weights = log_reg.coef_\n",
        "weights  # (k, n) 2d array: k-클래스 개수, n-특성 개수"
      ],
      "execution_count": 103,
      "outputs": [
        {
          "output_type": "execute_result",
          "data": {
            "text/plain": [
              "array([[-0.42316549,  0.96688516, -2.51669376, -1.08078412],\n",
              "       [ 0.53431322, -0.32159716, -0.20666272, -0.94355211],\n",
              "       [-0.11114773, -0.645288  ,  2.72335648,  2.02433623]])"
            ]
          },
          "metadata": {
            "tags": []
          },
          "execution_count": 103
        }
      ]
    },
    {
      "cell_type": "code",
      "metadata": {
        "id": "iJP2nhtTu9cq",
        "outputId": "3dea8139-7239-4ae5-fe03-1adb5bb99b52",
        "colab": {
          "base_uri": "https://localhost:8080/"
        }
      },
      "source": [
        "soft_preds = softmax_predictions(X, bias, weights)\n",
        "rand_index = np.random.randint(0, 150, 10)\n",
        "print('index:', rand_index)\n",
        "print('fn:', soft_preds[rand_index])\n",
        "print('model', y_preds[rand_index])"
      ],
      "execution_count": 106,
      "outputs": [
        {
          "output_type": "stream",
          "text": [
            "index: [127 111 143 130  77   9  92 119  40   2]\n",
            "fn: [2 2 2 2 2 0 1 2 0 0]\n",
            "model [2 2 2 2 2 0 1 2 0 0]\n"
          ],
          "name": "stdout"
        }
      ]
    }
  ]
}